{
  "cells": [
    {
      "cell_type": "code",
      "execution_count": null,
      "metadata": {
        "id": "SfQcB12yaYZt"
      },
      "outputs": [],
      "source": [
        "!chmod 600 /root/.kaggle/kaggle.json"
      ]
    },
    {
      "cell_type": "code",
      "execution_count": null,
      "metadata": {
        "colab": {
          "base_uri": "https://localhost:8080/"
        },
        "id": "0tIzo-q-atn9",
        "outputId": "81e50648-14d2-4815-d500-ade4458df554"
      },
      "outputs": [
        {
          "output_type": "stream",
          "name": "stdout",
          "text": [
            "Downloading brain-tumor-mri-dataset.zip to /content\n",
            " 98% 146M/149M [00:04<00:00, 41.9MB/s]\n",
            "100% 149M/149M [00:04<00:00, 37.2MB/s]\n"
          ]
        }
      ],
      "source": [
        "!kaggle datasets download -d 'masoudnickparvar/brain-tumor-mri-dataset'"
      ]
    },
    {
      "cell_type": "code",
      "execution_count": null,
      "metadata": {
        "colab": {
          "base_uri": "https://localhost:8080/"
        },
        "id": "fFXRwx77awRY",
        "outputId": "1210d3c1-3e15-407d-9c71-5244139917fb"
      },
      "outputs": [
        {
          "output_type": "stream",
          "name": "stdout",
          "text": [
            "\u001b[1;30;43mStreaming output truncated to the last 5000 lines.\u001b[0m\n",
            "  inflating: Training/glioma/Tr-gl_0712.jpg  \n",
            "  inflating: Training/glioma/Tr-gl_0713.jpg  \n",
            "  inflating: Training/glioma/Tr-gl_0714.jpg  \n",
            "  inflating: Training/glioma/Tr-gl_0715.jpg  \n",
            "  inflating: Training/glioma/Tr-gl_0716.jpg  \n",
            "  inflating: Training/glioma/Tr-gl_0717.jpg  \n",
            "  inflating: Training/glioma/Tr-gl_0718.jpg  \n",
            "  inflating: Training/glioma/Tr-gl_0719.jpg  \n",
            "  inflating: Training/glioma/Tr-gl_0720.jpg  \n",
            "  inflating: Training/glioma/Tr-gl_0721.jpg  \n",
            "  inflating: Training/glioma/Tr-gl_0722.jpg  \n",
            "  inflating: Training/glioma/Tr-gl_0723.jpg  \n",
            "  inflating: Training/glioma/Tr-gl_0724.jpg  \n",
            "  inflating: Training/glioma/Tr-gl_0725.jpg  \n",
            "  inflating: Training/glioma/Tr-gl_0726.jpg  \n",
            "  inflating: Training/glioma/Tr-gl_0727.jpg  \n",
            "  inflating: Training/glioma/Tr-gl_0728.jpg  \n",
            "  inflating: Training/glioma/Tr-gl_0729.jpg  \n",
            "  inflating: Training/glioma/Tr-gl_0730.jpg  \n",
            "  inflating: Training/glioma/Tr-gl_0731.jpg  \n",
            "  inflating: Training/glioma/Tr-gl_0732.jpg  \n",
            "  inflating: Training/glioma/Tr-gl_0733.jpg  \n",
            "  inflating: Training/glioma/Tr-gl_0734.jpg  \n",
            "  inflating: Training/glioma/Tr-gl_0735.jpg  \n",
            "  inflating: Training/glioma/Tr-gl_0736.jpg  \n",
            "  inflating: Training/glioma/Tr-gl_0737.jpg  \n",
            "  inflating: Training/glioma/Tr-gl_0738.jpg  \n",
            "  inflating: Training/glioma/Tr-gl_0739.jpg  \n",
            "  inflating: Training/glioma/Tr-gl_0740.jpg  \n",
            "  inflating: Training/glioma/Tr-gl_0741.jpg  \n",
            "  inflating: Training/glioma/Tr-gl_0742.jpg  \n",
            "  inflating: Training/glioma/Tr-gl_0743.jpg  \n",
            "  inflating: Training/glioma/Tr-gl_0744.jpg  \n",
            "  inflating: Training/glioma/Tr-gl_0745.jpg  \n",
            "  inflating: Training/glioma/Tr-gl_0746.jpg  \n",
            "  inflating: Training/glioma/Tr-gl_0747.jpg  \n",
            "  inflating: Training/glioma/Tr-gl_0748.jpg  \n",
            "  inflating: Training/glioma/Tr-gl_0749.jpg  \n",
            "  inflating: Training/glioma/Tr-gl_0750.jpg  \n",
            "  inflating: Training/glioma/Tr-gl_0751.jpg  \n",
            "  inflating: Training/glioma/Tr-gl_0752.jpg  \n",
            "  inflating: Training/glioma/Tr-gl_0753.jpg  \n",
            "  inflating: Training/glioma/Tr-gl_0754.jpg  \n",
            "  inflating: Training/glioma/Tr-gl_0755.jpg  \n",
            "  inflating: Training/glioma/Tr-gl_0756.jpg  \n",
            "  inflating: Training/glioma/Tr-gl_0757.jpg  \n",
            "  inflating: Training/glioma/Tr-gl_0758.jpg  \n",
            "  inflating: Training/glioma/Tr-gl_0759.jpg  \n",
            "  inflating: Training/glioma/Tr-gl_0760.jpg  \n",
            "  inflating: Training/glioma/Tr-gl_0761.jpg  \n",
            "  inflating: Training/glioma/Tr-gl_0762.jpg  \n",
            "  inflating: Training/glioma/Tr-gl_0763.jpg  \n",
            "  inflating: Training/glioma/Tr-gl_0764.jpg  \n",
            "  inflating: Training/glioma/Tr-gl_0765.jpg  \n",
            "  inflating: Training/glioma/Tr-gl_0766.jpg  \n",
            "  inflating: Training/glioma/Tr-gl_0767.jpg  \n",
            "  inflating: Training/glioma/Tr-gl_0768.jpg  \n",
            "  inflating: Training/glioma/Tr-gl_0769.jpg  \n",
            "  inflating: Training/glioma/Tr-gl_0770.jpg  \n",
            "  inflating: Training/glioma/Tr-gl_0771.jpg  \n",
            "  inflating: Training/glioma/Tr-gl_0772.jpg  \n",
            "  inflating: Training/glioma/Tr-gl_0773.jpg  \n",
            "  inflating: Training/glioma/Tr-gl_0774.jpg  \n",
            "  inflating: Training/glioma/Tr-gl_0775.jpg  \n",
            "  inflating: Training/glioma/Tr-gl_0776.jpg  \n",
            "  inflating: Training/glioma/Tr-gl_0777.jpg  \n",
            "  inflating: Training/glioma/Tr-gl_0778.jpg  \n",
            "  inflating: Training/glioma/Tr-gl_0779.jpg  \n",
            "  inflating: Training/glioma/Tr-gl_0780.jpg  \n",
            "  inflating: Training/glioma/Tr-gl_0781.jpg  \n",
            "  inflating: Training/glioma/Tr-gl_0782.jpg  \n",
            "  inflating: Training/glioma/Tr-gl_0783.jpg  \n",
            "  inflating: Training/glioma/Tr-gl_0784.jpg  \n",
            "  inflating: Training/glioma/Tr-gl_0785.jpg  \n",
            "  inflating: Training/glioma/Tr-gl_0786.jpg  \n",
            "  inflating: Training/glioma/Tr-gl_0787.jpg  \n",
            "  inflating: Training/glioma/Tr-gl_0788.jpg  \n",
            "  inflating: Training/glioma/Tr-gl_0789.jpg  \n",
            "  inflating: Training/glioma/Tr-gl_0790.jpg  \n",
            "  inflating: Training/glioma/Tr-gl_0791.jpg  \n",
            "  inflating: Training/glioma/Tr-gl_0792.jpg  \n",
            "  inflating: Training/glioma/Tr-gl_0793.jpg  \n",
            "  inflating: Training/glioma/Tr-gl_0794.jpg  \n",
            "  inflating: Training/glioma/Tr-gl_0795.jpg  \n",
            "  inflating: Training/glioma/Tr-gl_0796.jpg  \n",
            "  inflating: Training/glioma/Tr-gl_0797.jpg  \n",
            "  inflating: Training/glioma/Tr-gl_0798.jpg  \n",
            "  inflating: Training/glioma/Tr-gl_0799.jpg  \n",
            "  inflating: Training/glioma/Tr-gl_0800.jpg  \n",
            "  inflating: Training/glioma/Tr-gl_0801.jpg  \n",
            "  inflating: Training/glioma/Tr-gl_0802.jpg  \n",
            "  inflating: Training/glioma/Tr-gl_0803.jpg  \n",
            "  inflating: Training/glioma/Tr-gl_0804.jpg  \n",
            "  inflating: Training/glioma/Tr-gl_0805.jpg  \n",
            "  inflating: Training/glioma/Tr-gl_0806.jpg  \n",
            "  inflating: Training/glioma/Tr-gl_0807.jpg  \n",
            "  inflating: Training/glioma/Tr-gl_0808.jpg  \n",
            "  inflating: Training/glioma/Tr-gl_0809.jpg  \n",
            "  inflating: Training/glioma/Tr-gl_0810.jpg  \n",
            "  inflating: Training/glioma/Tr-gl_0811.jpg  \n",
            "  inflating: Training/glioma/Tr-gl_0812.jpg  \n",
            "  inflating: Training/glioma/Tr-gl_0813.jpg  \n",
            "  inflating: Training/glioma/Tr-gl_0814.jpg  \n",
            "  inflating: Training/glioma/Tr-gl_0815.jpg  \n",
            "  inflating: Training/glioma/Tr-gl_0816.jpg  \n",
            "  inflating: Training/glioma/Tr-gl_0817.jpg  \n",
            "  inflating: Training/glioma/Tr-gl_0818.jpg  \n",
            "  inflating: Training/glioma/Tr-gl_0819.jpg  \n",
            "  inflating: Training/glioma/Tr-gl_0820.jpg  \n",
            "  inflating: Training/glioma/Tr-gl_0821.jpg  \n",
            "  inflating: Training/glioma/Tr-gl_0822.jpg  \n",
            "  inflating: Training/glioma/Tr-gl_0823.jpg  \n",
            "  inflating: Training/glioma/Tr-gl_0824.jpg  \n",
            "  inflating: Training/glioma/Tr-gl_0825.jpg  \n",
            "  inflating: Training/glioma/Tr-gl_0826.jpg  \n",
            "  inflating: Training/glioma/Tr-gl_0827.jpg  \n",
            "  inflating: Training/glioma/Tr-gl_0828.jpg  \n",
            "  inflating: Training/glioma/Tr-gl_0829.jpg  \n",
            "  inflating: Training/glioma/Tr-gl_0830.jpg  \n",
            "  inflating: Training/glioma/Tr-gl_0831.jpg  \n",
            "  inflating: Training/glioma/Tr-gl_0832.jpg  \n",
            "  inflating: Training/glioma/Tr-gl_0833.jpg  \n",
            "  inflating: Training/glioma/Tr-gl_0834.jpg  \n",
            "  inflating: Training/glioma/Tr-gl_0835.jpg  \n",
            "  inflating: Training/glioma/Tr-gl_0836.jpg  \n",
            "  inflating: Training/glioma/Tr-gl_0837.jpg  \n",
            "  inflating: Training/glioma/Tr-gl_0838.jpg  \n",
            "  inflating: Training/glioma/Tr-gl_0839.jpg  \n",
            "  inflating: Training/glioma/Tr-gl_0840.jpg  \n",
            "  inflating: Training/glioma/Tr-gl_0841.jpg  \n",
            "  inflating: Training/glioma/Tr-gl_0842.jpg  \n",
            "  inflating: Training/glioma/Tr-gl_0843.jpg  \n",
            "  inflating: Training/glioma/Tr-gl_0844.jpg  \n",
            "  inflating: Training/glioma/Tr-gl_0845.jpg  \n",
            "  inflating: Training/glioma/Tr-gl_0846.jpg  \n",
            "  inflating: Training/glioma/Tr-gl_0847.jpg  \n",
            "  inflating: Training/glioma/Tr-gl_0848.jpg  \n",
            "  inflating: Training/glioma/Tr-gl_0849.jpg  \n",
            "  inflating: Training/glioma/Tr-gl_0850.jpg  \n",
            "  inflating: Training/glioma/Tr-gl_0851.jpg  \n",
            "  inflating: Training/glioma/Tr-gl_0852.jpg  \n",
            "  inflating: Training/glioma/Tr-gl_0853.jpg  \n",
            "  inflating: Training/glioma/Tr-gl_0854.jpg  \n",
            "  inflating: Training/glioma/Tr-gl_0855.jpg  \n",
            "  inflating: Training/glioma/Tr-gl_0856.jpg  \n",
            "  inflating: Training/glioma/Tr-gl_0857.jpg  \n",
            "  inflating: Training/glioma/Tr-gl_0858.jpg  \n",
            "  inflating: Training/glioma/Tr-gl_0859.jpg  \n",
            "  inflating: Training/glioma/Tr-gl_0860.jpg  \n",
            "  inflating: Training/glioma/Tr-gl_0861.jpg  \n",
            "  inflating: Training/glioma/Tr-gl_0862.jpg  \n",
            "  inflating: Training/glioma/Tr-gl_0863.jpg  \n",
            "  inflating: Training/glioma/Tr-gl_0864.jpg  \n",
            "  inflating: Training/glioma/Tr-gl_0865.jpg  \n",
            "  inflating: Training/glioma/Tr-gl_0866.jpg  \n",
            "  inflating: Training/glioma/Tr-gl_0867.jpg  \n",
            "  inflating: Training/glioma/Tr-gl_0868.jpg  \n",
            "  inflating: Training/glioma/Tr-gl_0869.jpg  \n",
            "  inflating: Training/glioma/Tr-gl_0870.jpg  \n",
            "  inflating: Training/glioma/Tr-gl_0871.jpg  \n",
            "  inflating: Training/glioma/Tr-gl_0872.jpg  \n",
            "  inflating: Training/glioma/Tr-gl_0873.jpg  \n",
            "  inflating: Training/glioma/Tr-gl_0874.jpg  \n",
            "  inflating: Training/glioma/Tr-gl_0875.jpg  \n",
            "  inflating: Training/glioma/Tr-gl_0876.jpg  \n",
            "  inflating: Training/glioma/Tr-gl_0877.jpg  \n",
            "  inflating: Training/glioma/Tr-gl_0878.jpg  \n",
            "  inflating: Training/glioma/Tr-gl_0879.jpg  \n",
            "  inflating: Training/glioma/Tr-gl_0880.jpg  \n",
            "  inflating: Training/glioma/Tr-gl_0881.jpg  \n",
            "  inflating: Training/glioma/Tr-gl_0882.jpg  \n",
            "  inflating: Training/glioma/Tr-gl_0883.jpg  \n",
            "  inflating: Training/glioma/Tr-gl_0884.jpg  \n",
            "  inflating: Training/glioma/Tr-gl_0885.jpg  \n",
            "  inflating: Training/glioma/Tr-gl_0886.jpg  \n",
            "  inflating: Training/glioma/Tr-gl_0887.jpg  \n",
            "  inflating: Training/glioma/Tr-gl_0888.jpg  \n",
            "  inflating: Training/glioma/Tr-gl_0889.jpg  \n",
            "  inflating: Training/glioma/Tr-gl_0890.jpg  \n",
            "  inflating: Training/glioma/Tr-gl_0891.jpg  \n",
            "  inflating: Training/glioma/Tr-gl_0892.jpg  \n",
            "  inflating: Training/glioma/Tr-gl_0893.jpg  \n",
            "  inflating: Training/glioma/Tr-gl_0894.jpg  \n",
            "  inflating: Training/glioma/Tr-gl_0895.jpg  \n",
            "  inflating: Training/glioma/Tr-gl_0896.jpg  \n",
            "  inflating: Training/glioma/Tr-gl_0897.jpg  \n",
            "  inflating: Training/glioma/Tr-gl_0898.jpg  \n",
            "  inflating: Training/glioma/Tr-gl_0899.jpg  \n",
            "  inflating: Training/glioma/Tr-gl_0900.jpg  \n",
            "  inflating: Training/glioma/Tr-gl_0901.jpg  \n",
            "  inflating: Training/glioma/Tr-gl_0902.jpg  \n",
            "  inflating: Training/glioma/Tr-gl_0903.jpg  \n",
            "  inflating: Training/glioma/Tr-gl_0904.jpg  \n",
            "  inflating: Training/glioma/Tr-gl_0905.jpg  \n",
            "  inflating: Training/glioma/Tr-gl_0906.jpg  \n",
            "  inflating: Training/glioma/Tr-gl_0907.jpg  \n",
            "  inflating: Training/glioma/Tr-gl_0908.jpg  \n",
            "  inflating: Training/glioma/Tr-gl_0909.jpg  \n",
            "  inflating: Training/glioma/Tr-gl_0910.jpg  \n",
            "  inflating: Training/glioma/Tr-gl_0911.jpg  \n",
            "  inflating: Training/glioma/Tr-gl_0912.jpg  \n",
            "  inflating: Training/glioma/Tr-gl_0913.jpg  \n",
            "  inflating: Training/glioma/Tr-gl_0914.jpg  \n",
            "  inflating: Training/glioma/Tr-gl_0915.jpg  \n",
            "  inflating: Training/glioma/Tr-gl_0916.jpg  \n",
            "  inflating: Training/glioma/Tr-gl_0917.jpg  \n",
            "  inflating: Training/glioma/Tr-gl_0918.jpg  \n",
            "  inflating: Training/glioma/Tr-gl_0919.jpg  \n",
            "  inflating: Training/glioma/Tr-gl_0920.jpg  \n",
            "  inflating: Training/glioma/Tr-gl_0921.jpg  \n",
            "  inflating: Training/glioma/Tr-gl_0922.jpg  \n",
            "  inflating: Training/glioma/Tr-gl_0923.jpg  \n",
            "  inflating: Training/glioma/Tr-gl_0924.jpg  \n",
            "  inflating: Training/glioma/Tr-gl_0925.jpg  \n",
            "  inflating: Training/glioma/Tr-gl_0926.jpg  \n",
            "  inflating: Training/glioma/Tr-gl_0927.jpg  \n",
            "  inflating: Training/glioma/Tr-gl_0928.jpg  \n",
            "  inflating: Training/glioma/Tr-gl_0929.jpg  \n",
            "  inflating: Training/glioma/Tr-gl_0930.jpg  \n",
            "  inflating: Training/glioma/Tr-gl_0931.jpg  \n",
            "  inflating: Training/glioma/Tr-gl_0932.jpg  \n",
            "  inflating: Training/glioma/Tr-gl_0933.jpg  \n",
            "  inflating: Training/glioma/Tr-gl_0934.jpg  \n",
            "  inflating: Training/glioma/Tr-gl_0935.jpg  \n",
            "  inflating: Training/glioma/Tr-gl_0936.jpg  \n",
            "  inflating: Training/glioma/Tr-gl_0937.jpg  \n",
            "  inflating: Training/glioma/Tr-gl_0938.jpg  \n",
            "  inflating: Training/glioma/Tr-gl_0939.jpg  \n",
            "  inflating: Training/glioma/Tr-gl_0940.jpg  \n",
            "  inflating: Training/glioma/Tr-gl_0941.jpg  \n",
            "  inflating: Training/glioma/Tr-gl_0942.jpg  \n",
            "  inflating: Training/glioma/Tr-gl_0943.jpg  \n",
            "  inflating: Training/glioma/Tr-gl_0944.jpg  \n",
            "  inflating: Training/glioma/Tr-gl_0945.jpg  \n",
            "  inflating: Training/glioma/Tr-gl_0946.jpg  \n",
            "  inflating: Training/glioma/Tr-gl_0947.jpg  \n",
            "  inflating: Training/glioma/Tr-gl_0948.jpg  \n",
            "  inflating: Training/glioma/Tr-gl_0949.jpg  \n",
            "  inflating: Training/glioma/Tr-gl_0950.jpg  \n",
            "  inflating: Training/glioma/Tr-gl_0951.jpg  \n",
            "  inflating: Training/glioma/Tr-gl_0952.jpg  \n",
            "  inflating: Training/glioma/Tr-gl_0953.jpg  \n",
            "  inflating: Training/glioma/Tr-gl_0954.jpg  \n",
            "  inflating: Training/glioma/Tr-gl_0955.jpg  \n",
            "  inflating: Training/glioma/Tr-gl_0956.jpg  \n",
            "  inflating: Training/glioma/Tr-gl_0957.jpg  \n",
            "  inflating: Training/glioma/Tr-gl_0958.jpg  \n",
            "  inflating: Training/glioma/Tr-gl_0959.jpg  \n",
            "  inflating: Training/glioma/Tr-gl_0960.jpg  \n",
            "  inflating: Training/glioma/Tr-gl_0961.jpg  \n",
            "  inflating: Training/glioma/Tr-gl_0962.jpg  \n",
            "  inflating: Training/glioma/Tr-gl_0963.jpg  \n",
            "  inflating: Training/glioma/Tr-gl_0964.jpg  \n",
            "  inflating: Training/glioma/Tr-gl_0965.jpg  \n",
            "  inflating: Training/glioma/Tr-gl_0966.jpg  \n",
            "  inflating: Training/glioma/Tr-gl_0967.jpg  \n",
            "  inflating: Training/glioma/Tr-gl_0968.jpg  \n",
            "  inflating: Training/glioma/Tr-gl_0969.jpg  \n",
            "  inflating: Training/glioma/Tr-gl_0970.jpg  \n",
            "  inflating: Training/glioma/Tr-gl_0971.jpg  \n",
            "  inflating: Training/glioma/Tr-gl_0972.jpg  \n",
            "  inflating: Training/glioma/Tr-gl_0973.jpg  \n",
            "  inflating: Training/glioma/Tr-gl_0974.jpg  \n",
            "  inflating: Training/glioma/Tr-gl_0975.jpg  \n",
            "  inflating: Training/glioma/Tr-gl_0976.jpg  \n",
            "  inflating: Training/glioma/Tr-gl_0977.jpg  \n",
            "  inflating: Training/glioma/Tr-gl_0978.jpg  \n",
            "  inflating: Training/glioma/Tr-gl_0979.jpg  \n",
            "  inflating: Training/glioma/Tr-gl_0980.jpg  \n",
            "  inflating: Training/glioma/Tr-gl_0981.jpg  \n",
            "  inflating: Training/glioma/Tr-gl_0982.jpg  \n",
            "  inflating: Training/glioma/Tr-gl_0983.jpg  \n",
            "  inflating: Training/glioma/Tr-gl_0984.jpg  \n",
            "  inflating: Training/glioma/Tr-gl_0985.jpg  \n",
            "  inflating: Training/glioma/Tr-gl_0986.jpg  \n",
            "  inflating: Training/glioma/Tr-gl_0987.jpg  \n",
            "  inflating: Training/glioma/Tr-gl_0988.jpg  \n",
            "  inflating: Training/glioma/Tr-gl_0989.jpg  \n",
            "  inflating: Training/glioma/Tr-gl_0990.jpg  \n",
            "  inflating: Training/glioma/Tr-gl_0991.jpg  \n",
            "  inflating: Training/glioma/Tr-gl_0992.jpg  \n",
            "  inflating: Training/glioma/Tr-gl_0993.jpg  \n",
            "  inflating: Training/glioma/Tr-gl_0994.jpg  \n",
            "  inflating: Training/glioma/Tr-gl_0995.jpg  \n",
            "  inflating: Training/glioma/Tr-gl_0996.jpg  \n",
            "  inflating: Training/glioma/Tr-gl_0997.jpg  \n",
            "  inflating: Training/glioma/Tr-gl_0998.jpg  \n",
            "  inflating: Training/glioma/Tr-gl_0999.jpg  \n",
            "  inflating: Training/glioma/Tr-gl_1000.jpg  \n",
            "  inflating: Training/glioma/Tr-gl_1001.jpg  \n",
            "  inflating: Training/glioma/Tr-gl_1002.jpg  \n",
            "  inflating: Training/glioma/Tr-gl_1003.jpg  \n",
            "  inflating: Training/glioma/Tr-gl_1004.jpg  \n",
            "  inflating: Training/glioma/Tr-gl_1005.jpg  \n",
            "  inflating: Training/glioma/Tr-gl_1006.jpg  \n",
            "  inflating: Training/glioma/Tr-gl_1007.jpg  \n",
            "  inflating: Training/glioma/Tr-gl_1008.jpg  \n",
            "  inflating: Training/glioma/Tr-gl_1009.jpg  \n",
            "  inflating: Training/glioma/Tr-gl_1010.jpg  \n",
            "  inflating: Training/glioma/Tr-gl_1011.jpg  \n",
            "  inflating: Training/glioma/Tr-gl_1012.jpg  \n",
            "  inflating: Training/glioma/Tr-gl_1013.jpg  \n",
            "  inflating: Training/glioma/Tr-gl_1014.jpg  \n",
            "  inflating: Training/glioma/Tr-gl_1015.jpg  \n",
            "  inflating: Training/glioma/Tr-gl_1016.jpg  \n",
            "  inflating: Training/glioma/Tr-gl_1017.jpg  \n",
            "  inflating: Training/glioma/Tr-gl_1018.jpg  \n",
            "  inflating: Training/glioma/Tr-gl_1019.jpg  \n",
            "  inflating: Training/glioma/Tr-gl_1020.jpg  \n",
            "  inflating: Training/glioma/Tr-gl_1021.jpg  \n",
            "  inflating: Training/glioma/Tr-gl_1022.jpg  \n",
            "  inflating: Training/glioma/Tr-gl_1023.jpg  \n",
            "  inflating: Training/glioma/Tr-gl_1024.jpg  \n",
            "  inflating: Training/glioma/Tr-gl_1025.jpg  \n",
            "  inflating: Training/glioma/Tr-gl_1026.jpg  \n",
            "  inflating: Training/glioma/Tr-gl_1027.jpg  \n",
            "  inflating: Training/glioma/Tr-gl_1028.jpg  \n",
            "  inflating: Training/glioma/Tr-gl_1029.jpg  \n",
            "  inflating: Training/glioma/Tr-gl_1030.jpg  \n",
            "  inflating: Training/glioma/Tr-gl_1031.jpg  \n",
            "  inflating: Training/glioma/Tr-gl_1032.jpg  \n",
            "  inflating: Training/glioma/Tr-gl_1033.jpg  \n",
            "  inflating: Training/glioma/Tr-gl_1034.jpg  \n",
            "  inflating: Training/glioma/Tr-gl_1035.jpg  \n",
            "  inflating: Training/glioma/Tr-gl_1036.jpg  \n",
            "  inflating: Training/glioma/Tr-gl_1037.jpg  \n",
            "  inflating: Training/glioma/Tr-gl_1038.jpg  \n",
            "  inflating: Training/glioma/Tr-gl_1039.jpg  \n",
            "  inflating: Training/glioma/Tr-gl_1040.jpg  \n",
            "  inflating: Training/glioma/Tr-gl_1041.jpg  \n",
            "  inflating: Training/glioma/Tr-gl_1042.jpg  \n",
            "  inflating: Training/glioma/Tr-gl_1043.jpg  \n",
            "  inflating: Training/glioma/Tr-gl_1044.jpg  \n",
            "  inflating: Training/glioma/Tr-gl_1045.jpg  \n",
            "  inflating: Training/glioma/Tr-gl_1046.jpg  \n",
            "  inflating: Training/glioma/Tr-gl_1047.jpg  \n",
            "  inflating: Training/glioma/Tr-gl_1048.jpg  \n",
            "  inflating: Training/glioma/Tr-gl_1049.jpg  \n",
            "  inflating: Training/glioma/Tr-gl_1050.jpg  \n",
            "  inflating: Training/glioma/Tr-gl_1051.jpg  \n",
            "  inflating: Training/glioma/Tr-gl_1052.jpg  \n",
            "  inflating: Training/glioma/Tr-gl_1053.jpg  \n",
            "  inflating: Training/glioma/Tr-gl_1054.jpg  \n",
            "  inflating: Training/glioma/Tr-gl_1055.jpg  \n",
            "  inflating: Training/glioma/Tr-gl_1056.jpg  \n",
            "  inflating: Training/glioma/Tr-gl_1057.jpg  \n",
            "  inflating: Training/glioma/Tr-gl_1058.jpg  \n",
            "  inflating: Training/glioma/Tr-gl_1059.jpg  \n",
            "  inflating: Training/glioma/Tr-gl_1060.jpg  \n",
            "  inflating: Training/glioma/Tr-gl_1061.jpg  \n",
            "  inflating: Training/glioma/Tr-gl_1062.jpg  \n",
            "  inflating: Training/glioma/Tr-gl_1063.jpg  \n",
            "  inflating: Training/glioma/Tr-gl_1064.jpg  \n",
            "  inflating: Training/glioma/Tr-gl_1065.jpg  \n",
            "  inflating: Training/glioma/Tr-gl_1066.jpg  \n",
            "  inflating: Training/glioma/Tr-gl_1067.jpg  \n",
            "  inflating: Training/glioma/Tr-gl_1068.jpg  \n",
            "  inflating: Training/glioma/Tr-gl_1069.jpg  \n",
            "  inflating: Training/glioma/Tr-gl_1070.jpg  \n",
            "  inflating: Training/glioma/Tr-gl_1071.jpg  \n",
            "  inflating: Training/glioma/Tr-gl_1072.jpg  \n",
            "  inflating: Training/glioma/Tr-gl_1073.jpg  \n",
            "  inflating: Training/glioma/Tr-gl_1074.jpg  \n",
            "  inflating: Training/glioma/Tr-gl_1075.jpg  \n",
            "  inflating: Training/glioma/Tr-gl_1076.jpg  \n",
            "  inflating: Training/glioma/Tr-gl_1077.jpg  \n",
            "  inflating: Training/glioma/Tr-gl_1078.jpg  \n",
            "  inflating: Training/glioma/Tr-gl_1079.jpg  \n",
            "  inflating: Training/glioma/Tr-gl_1080.jpg  \n",
            "  inflating: Training/glioma/Tr-gl_1081.jpg  \n",
            "  inflating: Training/glioma/Tr-gl_1082.jpg  \n",
            "  inflating: Training/glioma/Tr-gl_1083.jpg  \n",
            "  inflating: Training/glioma/Tr-gl_1084.jpg  \n",
            "  inflating: Training/glioma/Tr-gl_1085.jpg  \n",
            "  inflating: Training/glioma/Tr-gl_1086.jpg  \n",
            "  inflating: Training/glioma/Tr-gl_1087.jpg  \n",
            "  inflating: Training/glioma/Tr-gl_1088.jpg  \n",
            "  inflating: Training/glioma/Tr-gl_1089.jpg  \n",
            "  inflating: Training/glioma/Tr-gl_1090.jpg  \n",
            "  inflating: Training/glioma/Tr-gl_1091.jpg  \n",
            "  inflating: Training/glioma/Tr-gl_1092.jpg  \n",
            "  inflating: Training/glioma/Tr-gl_1093.jpg  \n",
            "  inflating: Training/glioma/Tr-gl_1094.jpg  \n",
            "  inflating: Training/glioma/Tr-gl_1095.jpg  \n",
            "  inflating: Training/glioma/Tr-gl_1096.jpg  \n",
            "  inflating: Training/glioma/Tr-gl_1097.jpg  \n",
            "  inflating: Training/glioma/Tr-gl_1098.jpg  \n",
            "  inflating: Training/glioma/Tr-gl_1099.jpg  \n",
            "  inflating: Training/glioma/Tr-gl_1100.jpg  \n",
            "  inflating: Training/glioma/Tr-gl_1101.jpg  \n",
            "  inflating: Training/glioma/Tr-gl_1102.jpg  \n",
            "  inflating: Training/glioma/Tr-gl_1103.jpg  \n",
            "  inflating: Training/glioma/Tr-gl_1104.jpg  \n",
            "  inflating: Training/glioma/Tr-gl_1105.jpg  \n",
            "  inflating: Training/glioma/Tr-gl_1106.jpg  \n",
            "  inflating: Training/glioma/Tr-gl_1107.jpg  \n",
            "  inflating: Training/glioma/Tr-gl_1108.jpg  \n",
            "  inflating: Training/glioma/Tr-gl_1109.jpg  \n",
            "  inflating: Training/glioma/Tr-gl_1110.jpg  \n",
            "  inflating: Training/glioma/Tr-gl_1111.jpg  \n",
            "  inflating: Training/glioma/Tr-gl_1112.jpg  \n",
            "  inflating: Training/glioma/Tr-gl_1113.jpg  \n",
            "  inflating: Training/glioma/Tr-gl_1114.jpg  \n",
            "  inflating: Training/glioma/Tr-gl_1115.jpg  \n",
            "  inflating: Training/glioma/Tr-gl_1116.jpg  \n",
            "  inflating: Training/glioma/Tr-gl_1117.jpg  \n",
            "  inflating: Training/glioma/Tr-gl_1118.jpg  \n",
            "  inflating: Training/glioma/Tr-gl_1119.jpg  \n",
            "  inflating: Training/glioma/Tr-gl_1120.jpg  \n",
            "  inflating: Training/glioma/Tr-gl_1121.jpg  \n",
            "  inflating: Training/glioma/Tr-gl_1122.jpg  \n",
            "  inflating: Training/glioma/Tr-gl_1123.jpg  \n",
            "  inflating: Training/glioma/Tr-gl_1124.jpg  \n",
            "  inflating: Training/glioma/Tr-gl_1125.jpg  \n",
            "  inflating: Training/glioma/Tr-gl_1126.jpg  \n",
            "  inflating: Training/glioma/Tr-gl_1127.jpg  \n",
            "  inflating: Training/glioma/Tr-gl_1128.jpg  \n",
            "  inflating: Training/glioma/Tr-gl_1129.jpg  \n",
            "  inflating: Training/glioma/Tr-gl_1130.jpg  \n",
            "  inflating: Training/glioma/Tr-gl_1131.jpg  \n",
            "  inflating: Training/glioma/Tr-gl_1132.jpg  \n",
            "  inflating: Training/glioma/Tr-gl_1133.jpg  \n",
            "  inflating: Training/glioma/Tr-gl_1134.jpg  \n",
            "  inflating: Training/glioma/Tr-gl_1135.jpg  \n",
            "  inflating: Training/glioma/Tr-gl_1136.jpg  \n",
            "  inflating: Training/glioma/Tr-gl_1137.jpg  \n",
            "  inflating: Training/glioma/Tr-gl_1138.jpg  \n",
            "  inflating: Training/glioma/Tr-gl_1139.jpg  \n",
            "  inflating: Training/glioma/Tr-gl_1140.jpg  \n",
            "  inflating: Training/glioma/Tr-gl_1141.jpg  \n",
            "  inflating: Training/glioma/Tr-gl_1142.jpg  \n",
            "  inflating: Training/glioma/Tr-gl_1143.jpg  \n",
            "  inflating: Training/glioma/Tr-gl_1144.jpg  \n",
            "  inflating: Training/glioma/Tr-gl_1145.jpg  \n",
            "  inflating: Training/glioma/Tr-gl_1146.jpg  \n",
            "  inflating: Training/glioma/Tr-gl_1147.jpg  \n",
            "  inflating: Training/glioma/Tr-gl_1148.jpg  \n",
            "  inflating: Training/glioma/Tr-gl_1149.jpg  \n",
            "  inflating: Training/glioma/Tr-gl_1150.jpg  \n",
            "  inflating: Training/glioma/Tr-gl_1151.jpg  \n",
            "  inflating: Training/glioma/Tr-gl_1152.jpg  \n",
            "  inflating: Training/glioma/Tr-gl_1153.jpg  \n",
            "  inflating: Training/glioma/Tr-gl_1154.jpg  \n",
            "  inflating: Training/glioma/Tr-gl_1155.jpg  \n",
            "  inflating: Training/glioma/Tr-gl_1156.jpg  \n",
            "  inflating: Training/glioma/Tr-gl_1157.jpg  \n",
            "  inflating: Training/glioma/Tr-gl_1158.jpg  \n",
            "  inflating: Training/glioma/Tr-gl_1159.jpg  \n",
            "  inflating: Training/glioma/Tr-gl_1160.jpg  \n",
            "  inflating: Training/glioma/Tr-gl_1161.jpg  \n",
            "  inflating: Training/glioma/Tr-gl_1162.jpg  \n",
            "  inflating: Training/glioma/Tr-gl_1163.jpg  \n",
            "  inflating: Training/glioma/Tr-gl_1164.jpg  \n",
            "  inflating: Training/glioma/Tr-gl_1165.jpg  \n",
            "  inflating: Training/glioma/Tr-gl_1166.jpg  \n",
            "  inflating: Training/glioma/Tr-gl_1167.jpg  \n",
            "  inflating: Training/glioma/Tr-gl_1168.jpg  \n",
            "  inflating: Training/glioma/Tr-gl_1169.jpg  \n",
            "  inflating: Training/glioma/Tr-gl_1170.jpg  \n",
            "  inflating: Training/glioma/Tr-gl_1171.jpg  \n",
            "  inflating: Training/glioma/Tr-gl_1172.jpg  \n",
            "  inflating: Training/glioma/Tr-gl_1173.jpg  \n",
            "  inflating: Training/glioma/Tr-gl_1174.jpg  \n",
            "  inflating: Training/glioma/Tr-gl_1175.jpg  \n",
            "  inflating: Training/glioma/Tr-gl_1176.jpg  \n",
            "  inflating: Training/glioma/Tr-gl_1177.jpg  \n",
            "  inflating: Training/glioma/Tr-gl_1178.jpg  \n",
            "  inflating: Training/glioma/Tr-gl_1179.jpg  \n",
            "  inflating: Training/glioma/Tr-gl_1180.jpg  \n",
            "  inflating: Training/glioma/Tr-gl_1181.jpg  \n",
            "  inflating: Training/glioma/Tr-gl_1182.jpg  \n",
            "  inflating: Training/glioma/Tr-gl_1183.jpg  \n",
            "  inflating: Training/glioma/Tr-gl_1184.jpg  \n",
            "  inflating: Training/glioma/Tr-gl_1185.jpg  \n",
            "  inflating: Training/glioma/Tr-gl_1186.jpg  \n",
            "  inflating: Training/glioma/Tr-gl_1187.jpg  \n",
            "  inflating: Training/glioma/Tr-gl_1188.jpg  \n",
            "  inflating: Training/glioma/Tr-gl_1189.jpg  \n",
            "  inflating: Training/glioma/Tr-gl_1190.jpg  \n",
            "  inflating: Training/glioma/Tr-gl_1191.jpg  \n",
            "  inflating: Training/glioma/Tr-gl_1192.jpg  \n",
            "  inflating: Training/glioma/Tr-gl_1193.jpg  \n",
            "  inflating: Training/glioma/Tr-gl_1194.jpg  \n",
            "  inflating: Training/glioma/Tr-gl_1195.jpg  \n",
            "  inflating: Training/glioma/Tr-gl_1196.jpg  \n",
            "  inflating: Training/glioma/Tr-gl_1197.jpg  \n",
            "  inflating: Training/glioma/Tr-gl_1198.jpg  \n",
            "  inflating: Training/glioma/Tr-gl_1199.jpg  \n",
            "  inflating: Training/glioma/Tr-gl_1200.jpg  \n",
            "  inflating: Training/glioma/Tr-gl_1201.jpg  \n",
            "  inflating: Training/glioma/Tr-gl_1202.jpg  \n",
            "  inflating: Training/glioma/Tr-gl_1203.jpg  \n",
            "  inflating: Training/glioma/Tr-gl_1204.jpg  \n",
            "  inflating: Training/glioma/Tr-gl_1205.jpg  \n",
            "  inflating: Training/glioma/Tr-gl_1206.jpg  \n",
            "  inflating: Training/glioma/Tr-gl_1207.jpg  \n",
            "  inflating: Training/glioma/Tr-gl_1208.jpg  \n",
            "  inflating: Training/glioma/Tr-gl_1209.jpg  \n",
            "  inflating: Training/glioma/Tr-gl_1210.jpg  \n",
            "  inflating: Training/glioma/Tr-gl_1211.jpg  \n",
            "  inflating: Training/glioma/Tr-gl_1212.jpg  \n",
            "  inflating: Training/glioma/Tr-gl_1213.jpg  \n",
            "  inflating: Training/glioma/Tr-gl_1214.jpg  \n",
            "  inflating: Training/glioma/Tr-gl_1215.jpg  \n",
            "  inflating: Training/glioma/Tr-gl_1216.jpg  \n",
            "  inflating: Training/glioma/Tr-gl_1217.jpg  \n",
            "  inflating: Training/glioma/Tr-gl_1218.jpg  \n",
            "  inflating: Training/glioma/Tr-gl_1219.jpg  \n",
            "  inflating: Training/glioma/Tr-gl_1220.jpg  \n",
            "  inflating: Training/glioma/Tr-gl_1221.jpg  \n",
            "  inflating: Training/glioma/Tr-gl_1222.jpg  \n",
            "  inflating: Training/glioma/Tr-gl_1223.jpg  \n",
            "  inflating: Training/glioma/Tr-gl_1224.jpg  \n",
            "  inflating: Training/glioma/Tr-gl_1225.jpg  \n",
            "  inflating: Training/glioma/Tr-gl_1226.jpg  \n",
            "  inflating: Training/glioma/Tr-gl_1227.jpg  \n",
            "  inflating: Training/glioma/Tr-gl_1228.jpg  \n",
            "  inflating: Training/glioma/Tr-gl_1229.jpg  \n",
            "  inflating: Training/glioma/Tr-gl_1230.jpg  \n",
            "  inflating: Training/glioma/Tr-gl_1231.jpg  \n",
            "  inflating: Training/glioma/Tr-gl_1232.jpg  \n",
            "  inflating: Training/glioma/Tr-gl_1233.jpg  \n",
            "  inflating: Training/glioma/Tr-gl_1234.jpg  \n",
            "  inflating: Training/glioma/Tr-gl_1235.jpg  \n",
            "  inflating: Training/glioma/Tr-gl_1236.jpg  \n",
            "  inflating: Training/glioma/Tr-gl_1237.jpg  \n",
            "  inflating: Training/glioma/Tr-gl_1238.jpg  \n",
            "  inflating: Training/glioma/Tr-gl_1239.jpg  \n",
            "  inflating: Training/glioma/Tr-gl_1240.jpg  \n",
            "  inflating: Training/glioma/Tr-gl_1241.jpg  \n",
            "  inflating: Training/glioma/Tr-gl_1242.jpg  \n",
            "  inflating: Training/glioma/Tr-gl_1243.jpg  \n",
            "  inflating: Training/glioma/Tr-gl_1244.jpg  \n",
            "  inflating: Training/glioma/Tr-gl_1245.jpg  \n",
            "  inflating: Training/glioma/Tr-gl_1246.jpg  \n",
            "  inflating: Training/glioma/Tr-gl_1247.jpg  \n",
            "  inflating: Training/glioma/Tr-gl_1248.jpg  \n",
            "  inflating: Training/glioma/Tr-gl_1249.jpg  \n",
            "  inflating: Training/glioma/Tr-gl_1250.jpg  \n",
            "  inflating: Training/glioma/Tr-gl_1251.jpg  \n",
            "  inflating: Training/glioma/Tr-gl_1252.jpg  \n",
            "  inflating: Training/glioma/Tr-gl_1253.jpg  \n",
            "  inflating: Training/glioma/Tr-gl_1254.jpg  \n",
            "  inflating: Training/glioma/Tr-gl_1255.jpg  \n",
            "  inflating: Training/glioma/Tr-gl_1256.jpg  \n",
            "  inflating: Training/glioma/Tr-gl_1257.jpg  \n",
            "  inflating: Training/glioma/Tr-gl_1258.jpg  \n",
            "  inflating: Training/glioma/Tr-gl_1259.jpg  \n",
            "  inflating: Training/glioma/Tr-gl_1260.jpg  \n",
            "  inflating: Training/glioma/Tr-gl_1261.jpg  \n",
            "  inflating: Training/glioma/Tr-gl_1262.jpg  \n",
            "  inflating: Training/glioma/Tr-gl_1263.jpg  \n",
            "  inflating: Training/glioma/Tr-gl_1264.jpg  \n",
            "  inflating: Training/glioma/Tr-gl_1265.jpg  \n",
            "  inflating: Training/glioma/Tr-gl_1266.jpg  \n",
            "  inflating: Training/glioma/Tr-gl_1267.jpg  \n",
            "  inflating: Training/glioma/Tr-gl_1268.jpg  \n",
            "  inflating: Training/glioma/Tr-gl_1269.jpg  \n",
            "  inflating: Training/glioma/Tr-gl_1270.jpg  \n",
            "  inflating: Training/glioma/Tr-gl_1271.jpg  \n",
            "  inflating: Training/glioma/Tr-gl_1272.jpg  \n",
            "  inflating: Training/glioma/Tr-gl_1273.jpg  \n",
            "  inflating: Training/glioma/Tr-gl_1274.jpg  \n",
            "  inflating: Training/glioma/Tr-gl_1275.jpg  \n",
            "  inflating: Training/glioma/Tr-gl_1276.jpg  \n",
            "  inflating: Training/glioma/Tr-gl_1277.jpg  \n",
            "  inflating: Training/glioma/Tr-gl_1278.jpg  \n",
            "  inflating: Training/glioma/Tr-gl_1279.jpg  \n",
            "  inflating: Training/glioma/Tr-gl_1280.jpg  \n",
            "  inflating: Training/glioma/Tr-gl_1281.jpg  \n",
            "  inflating: Training/glioma/Tr-gl_1282.jpg  \n",
            "  inflating: Training/glioma/Tr-gl_1283.jpg  \n",
            "  inflating: Training/glioma/Tr-gl_1284.jpg  \n",
            "  inflating: Training/glioma/Tr-gl_1285.jpg  \n",
            "  inflating: Training/glioma/Tr-gl_1286.jpg  \n",
            "  inflating: Training/glioma/Tr-gl_1287.jpg  \n",
            "  inflating: Training/glioma/Tr-gl_1288.jpg  \n",
            "  inflating: Training/glioma/Tr-gl_1289.jpg  \n",
            "  inflating: Training/glioma/Tr-gl_1290.jpg  \n",
            "  inflating: Training/glioma/Tr-gl_1291.jpg  \n",
            "  inflating: Training/glioma/Tr-gl_1292.jpg  \n",
            "  inflating: Training/glioma/Tr-gl_1293.jpg  \n",
            "  inflating: Training/glioma/Tr-gl_1294.jpg  \n",
            "  inflating: Training/glioma/Tr-gl_1295.jpg  \n",
            "  inflating: Training/glioma/Tr-gl_1296.jpg  \n",
            "  inflating: Training/glioma/Tr-gl_1297.jpg  \n",
            "  inflating: Training/glioma/Tr-gl_1298.jpg  \n",
            "  inflating: Training/glioma/Tr-gl_1299.jpg  \n",
            "  inflating: Training/glioma/Tr-gl_1300.jpg  \n",
            "  inflating: Training/glioma/Tr-gl_1301.jpg  \n",
            "  inflating: Training/glioma/Tr-gl_1302.jpg  \n",
            "  inflating: Training/glioma/Tr-gl_1303.jpg  \n",
            "  inflating: Training/glioma/Tr-gl_1304.jpg  \n",
            "  inflating: Training/glioma/Tr-gl_1305.jpg  \n",
            "  inflating: Training/glioma/Tr-gl_1306.jpg  \n",
            "  inflating: Training/glioma/Tr-gl_1307.jpg  \n",
            "  inflating: Training/glioma/Tr-gl_1308.jpg  \n",
            "  inflating: Training/glioma/Tr-gl_1309.jpg  \n",
            "  inflating: Training/glioma/Tr-gl_1310.jpg  \n",
            "  inflating: Training/glioma/Tr-gl_1311.jpg  \n",
            "  inflating: Training/glioma/Tr-gl_1312.jpg  \n",
            "  inflating: Training/glioma/Tr-gl_1313.jpg  \n",
            "  inflating: Training/glioma/Tr-gl_1314.jpg  \n",
            "  inflating: Training/glioma/Tr-gl_1315.jpg  \n",
            "  inflating: Training/glioma/Tr-gl_1316.jpg  \n",
            "  inflating: Training/glioma/Tr-gl_1317.jpg  \n",
            "  inflating: Training/glioma/Tr-gl_1318.jpg  \n",
            "  inflating: Training/glioma/Tr-gl_1319.jpg  \n",
            "  inflating: Training/glioma/Tr-gl_1320.jpg  \n",
            "  inflating: Training/meningioma/Tr-meTr_0000.jpg  \n",
            "  inflating: Training/meningioma/Tr-meTr_0001.jpg  \n",
            "  inflating: Training/meningioma/Tr-meTr_0002.jpg  \n",
            "  inflating: Training/meningioma/Tr-meTr_0003.jpg  \n",
            "  inflating: Training/meningioma/Tr-meTr_0004.jpg  \n",
            "  inflating: Training/meningioma/Tr-meTr_0005.jpg  \n",
            "  inflating: Training/meningioma/Tr-meTr_0006.jpg  \n",
            "  inflating: Training/meningioma/Tr-meTr_0007.jpg  \n",
            "  inflating: Training/meningioma/Tr-meTr_0008.jpg  \n",
            "  inflating: Training/meningioma/Tr-meTr_0009.jpg  \n",
            "  inflating: Training/meningioma/Tr-me_0010.jpg  \n",
            "  inflating: Training/meningioma/Tr-me_0011.jpg  \n",
            "  inflating: Training/meningioma/Tr-me_0012.jpg  \n",
            "  inflating: Training/meningioma/Tr-me_0013.jpg  \n",
            "  inflating: Training/meningioma/Tr-me_0014.jpg  \n",
            "  inflating: Training/meningioma/Tr-me_0015.jpg  \n",
            "  inflating: Training/meningioma/Tr-me_0016.jpg  \n",
            "  inflating: Training/meningioma/Tr-me_0017.jpg  \n",
            "  inflating: Training/meningioma/Tr-me_0018.jpg  \n",
            "  inflating: Training/meningioma/Tr-me_0019.jpg  \n",
            "  inflating: Training/meningioma/Tr-me_0020.jpg  \n",
            "  inflating: Training/meningioma/Tr-me_0021.jpg  \n",
            "  inflating: Training/meningioma/Tr-me_0022.jpg  \n",
            "  inflating: Training/meningioma/Tr-me_0023.jpg  \n",
            "  inflating: Training/meningioma/Tr-me_0024.jpg  \n",
            "  inflating: Training/meningioma/Tr-me_0025.jpg  \n",
            "  inflating: Training/meningioma/Tr-me_0026.jpg  \n",
            "  inflating: Training/meningioma/Tr-me_0027.jpg  \n",
            "  inflating: Training/meningioma/Tr-me_0028.jpg  \n",
            "  inflating: Training/meningioma/Tr-me_0029.jpg  \n",
            "  inflating: Training/meningioma/Tr-me_0030.jpg  \n",
            "  inflating: Training/meningioma/Tr-me_0031.jpg  \n",
            "  inflating: Training/meningioma/Tr-me_0032.jpg  \n",
            "  inflating: Training/meningioma/Tr-me_0033.jpg  \n",
            "  inflating: Training/meningioma/Tr-me_0034.jpg  \n",
            "  inflating: Training/meningioma/Tr-me_0035.jpg  \n",
            "  inflating: Training/meningioma/Tr-me_0036.jpg  \n",
            "  inflating: Training/meningioma/Tr-me_0037.jpg  \n",
            "  inflating: Training/meningioma/Tr-me_0038.jpg  \n",
            "  inflating: Training/meningioma/Tr-me_0039.jpg  \n",
            "  inflating: Training/meningioma/Tr-me_0040.jpg  \n",
            "  inflating: Training/meningioma/Tr-me_0041.jpg  \n",
            "  inflating: Training/meningioma/Tr-me_0042.jpg  \n",
            "  inflating: Training/meningioma/Tr-me_0043.jpg  \n",
            "  inflating: Training/meningioma/Tr-me_0044.jpg  \n",
            "  inflating: Training/meningioma/Tr-me_0045.jpg  \n",
            "  inflating: Training/meningioma/Tr-me_0046.jpg  \n",
            "  inflating: Training/meningioma/Tr-me_0047.jpg  \n",
            "  inflating: Training/meningioma/Tr-me_0048.jpg  \n",
            "  inflating: Training/meningioma/Tr-me_0049.jpg  \n",
            "  inflating: Training/meningioma/Tr-me_0050.jpg  \n",
            "  inflating: Training/meningioma/Tr-me_0051.jpg  \n",
            "  inflating: Training/meningioma/Tr-me_0052.jpg  \n",
            "  inflating: Training/meningioma/Tr-me_0053.jpg  \n",
            "  inflating: Training/meningioma/Tr-me_0054.jpg  \n",
            "  inflating: Training/meningioma/Tr-me_0055.jpg  \n",
            "  inflating: Training/meningioma/Tr-me_0056.jpg  \n",
            "  inflating: Training/meningioma/Tr-me_0057.jpg  \n",
            "  inflating: Training/meningioma/Tr-me_0058.jpg  \n",
            "  inflating: Training/meningioma/Tr-me_0059.jpg  \n",
            "  inflating: Training/meningioma/Tr-me_0060.jpg  \n",
            "  inflating: Training/meningioma/Tr-me_0061.jpg  \n",
            "  inflating: Training/meningioma/Tr-me_0062.jpg  \n",
            "  inflating: Training/meningioma/Tr-me_0063.jpg  \n",
            "  inflating: Training/meningioma/Tr-me_0064.jpg  \n",
            "  inflating: Training/meningioma/Tr-me_0065.jpg  \n",
            "  inflating: Training/meningioma/Tr-me_0066.jpg  \n",
            "  inflating: Training/meningioma/Tr-me_0067.jpg  \n",
            "  inflating: Training/meningioma/Tr-me_0068.jpg  \n",
            "  inflating: Training/meningioma/Tr-me_0069.jpg  \n",
            "  inflating: Training/meningioma/Tr-me_0070.jpg  \n",
            "  inflating: Training/meningioma/Tr-me_0071.jpg  \n",
            "  inflating: Training/meningioma/Tr-me_0072.jpg  \n",
            "  inflating: Training/meningioma/Tr-me_0073.jpg  \n",
            "  inflating: Training/meningioma/Tr-me_0074.jpg  \n",
            "  inflating: Training/meningioma/Tr-me_0075.jpg  \n",
            "  inflating: Training/meningioma/Tr-me_0076.jpg  \n",
            "  inflating: Training/meningioma/Tr-me_0077.jpg  \n",
            "  inflating: Training/meningioma/Tr-me_0078.jpg  \n",
            "  inflating: Training/meningioma/Tr-me_0079.jpg  \n",
            "  inflating: Training/meningioma/Tr-me_0080.jpg  \n",
            "  inflating: Training/meningioma/Tr-me_0081.jpg  \n",
            "  inflating: Training/meningioma/Tr-me_0082.jpg  \n",
            "  inflating: Training/meningioma/Tr-me_0083.jpg  \n",
            "  inflating: Training/meningioma/Tr-me_0084.jpg  \n",
            "  inflating: Training/meningioma/Tr-me_0085.jpg  \n",
            "  inflating: Training/meningioma/Tr-me_0086.jpg  \n",
            "  inflating: Training/meningioma/Tr-me_0087.jpg  \n",
            "  inflating: Training/meningioma/Tr-me_0088.jpg  \n",
            "  inflating: Training/meningioma/Tr-me_0089.jpg  \n",
            "  inflating: Training/meningioma/Tr-me_0090.jpg  \n",
            "  inflating: Training/meningioma/Tr-me_0091.jpg  \n",
            "  inflating: Training/meningioma/Tr-me_0092.jpg  \n",
            "  inflating: Training/meningioma/Tr-me_0093.jpg  \n",
            "  inflating: Training/meningioma/Tr-me_0094.jpg  \n",
            "  inflating: Training/meningioma/Tr-me_0095.jpg  \n",
            "  inflating: Training/meningioma/Tr-me_0096.jpg  \n",
            "  inflating: Training/meningioma/Tr-me_0097.jpg  \n",
            "  inflating: Training/meningioma/Tr-me_0098.jpg  \n",
            "  inflating: Training/meningioma/Tr-me_0099.jpg  \n",
            "  inflating: Training/meningioma/Tr-me_0100.jpg  \n",
            "  inflating: Training/meningioma/Tr-me_0101.jpg  \n",
            "  inflating: Training/meningioma/Tr-me_0102.jpg  \n",
            "  inflating: Training/meningioma/Tr-me_0103.jpg  \n",
            "  inflating: Training/meningioma/Tr-me_0104.jpg  \n",
            "  inflating: Training/meningioma/Tr-me_0105.jpg  \n",
            "  inflating: Training/meningioma/Tr-me_0106.jpg  \n",
            "  inflating: Training/meningioma/Tr-me_0107.jpg  \n",
            "  inflating: Training/meningioma/Tr-me_0108.jpg  \n",
            "  inflating: Training/meningioma/Tr-me_0109.jpg  \n",
            "  inflating: Training/meningioma/Tr-me_0110.jpg  \n",
            "  inflating: Training/meningioma/Tr-me_0111.jpg  \n",
            "  inflating: Training/meningioma/Tr-me_0112.jpg  \n",
            "  inflating: Training/meningioma/Tr-me_0113.jpg  \n",
            "  inflating: Training/meningioma/Tr-me_0114.jpg  \n",
            "  inflating: Training/meningioma/Tr-me_0115.jpg  \n",
            "  inflating: Training/meningioma/Tr-me_0116.jpg  \n",
            "  inflating: Training/meningioma/Tr-me_0117.jpg  \n",
            "  inflating: Training/meningioma/Tr-me_0118.jpg  \n",
            "  inflating: Training/meningioma/Tr-me_0119.jpg  \n",
            "  inflating: Training/meningioma/Tr-me_0120.jpg  \n",
            "  inflating: Training/meningioma/Tr-me_0121.jpg  \n",
            "  inflating: Training/meningioma/Tr-me_0122.jpg  \n",
            "  inflating: Training/meningioma/Tr-me_0123.jpg  \n",
            "  inflating: Training/meningioma/Tr-me_0124.jpg  \n",
            "  inflating: Training/meningioma/Tr-me_0125.jpg  \n",
            "  inflating: Training/meningioma/Tr-me_0126.jpg  \n",
            "  inflating: Training/meningioma/Tr-me_0127.jpg  \n",
            "  inflating: Training/meningioma/Tr-me_0128.jpg  \n",
            "  inflating: Training/meningioma/Tr-me_0129.jpg  \n",
            "  inflating: Training/meningioma/Tr-me_0130.jpg  \n",
            "  inflating: Training/meningioma/Tr-me_0131.jpg  \n",
            "  inflating: Training/meningioma/Tr-me_0132.jpg  \n",
            "  inflating: Training/meningioma/Tr-me_0133.jpg  \n",
            "  inflating: Training/meningioma/Tr-me_0134.jpg  \n",
            "  inflating: Training/meningioma/Tr-me_0135.jpg  \n",
            "  inflating: Training/meningioma/Tr-me_0136.jpg  \n",
            "  inflating: Training/meningioma/Tr-me_0137.jpg  \n",
            "  inflating: Training/meningioma/Tr-me_0138.jpg  \n",
            "  inflating: Training/meningioma/Tr-me_0139.jpg  \n",
            "  inflating: Training/meningioma/Tr-me_0140.jpg  \n",
            "  inflating: Training/meningioma/Tr-me_0141.jpg  \n",
            "  inflating: Training/meningioma/Tr-me_0142.jpg  \n",
            "  inflating: Training/meningioma/Tr-me_0143.jpg  \n",
            "  inflating: Training/meningioma/Tr-me_0144.jpg  \n",
            "  inflating: Training/meningioma/Tr-me_0145.jpg  \n",
            "  inflating: Training/meningioma/Tr-me_0146.jpg  \n",
            "  inflating: Training/meningioma/Tr-me_0147.jpg  \n",
            "  inflating: Training/meningioma/Tr-me_0148.jpg  \n",
            "  inflating: Training/meningioma/Tr-me_0149.jpg  \n",
            "  inflating: Training/meningioma/Tr-me_0150.jpg  \n",
            "  inflating: Training/meningioma/Tr-me_0151.jpg  \n",
            "  inflating: Training/meningioma/Tr-me_0152.jpg  \n",
            "  inflating: Training/meningioma/Tr-me_0153.jpg  \n",
            "  inflating: Training/meningioma/Tr-me_0154.jpg  \n",
            "  inflating: Training/meningioma/Tr-me_0155.jpg  \n",
            "  inflating: Training/meningioma/Tr-me_0156.jpg  \n",
            "  inflating: Training/meningioma/Tr-me_0157.jpg  \n",
            "  inflating: Training/meningioma/Tr-me_0158.jpg  \n",
            "  inflating: Training/meningioma/Tr-me_0159.jpg  \n",
            "  inflating: Training/meningioma/Tr-me_0160.jpg  \n",
            "  inflating: Training/meningioma/Tr-me_0161.jpg  \n",
            "  inflating: Training/meningioma/Tr-me_0162.jpg  \n",
            "  inflating: Training/meningioma/Tr-me_0163.jpg  \n",
            "  inflating: Training/meningioma/Tr-me_0164.jpg  \n",
            "  inflating: Training/meningioma/Tr-me_0165.jpg  \n",
            "  inflating: Training/meningioma/Tr-me_0166.jpg  \n",
            "  inflating: Training/meningioma/Tr-me_0167.jpg  \n",
            "  inflating: Training/meningioma/Tr-me_0168.jpg  \n",
            "  inflating: Training/meningioma/Tr-me_0169.jpg  \n",
            "  inflating: Training/meningioma/Tr-me_0170.jpg  \n",
            "  inflating: Training/meningioma/Tr-me_0171.jpg  \n",
            "  inflating: Training/meningioma/Tr-me_0172.jpg  \n",
            "  inflating: Training/meningioma/Tr-me_0173.jpg  \n",
            "  inflating: Training/meningioma/Tr-me_0174.jpg  \n",
            "  inflating: Training/meningioma/Tr-me_0175.jpg  \n",
            "  inflating: Training/meningioma/Tr-me_0176.jpg  \n",
            "  inflating: Training/meningioma/Tr-me_0177.jpg  \n",
            "  inflating: Training/meningioma/Tr-me_0178.jpg  \n",
            "  inflating: Training/meningioma/Tr-me_0179.jpg  \n",
            "  inflating: Training/meningioma/Tr-me_0180.jpg  \n",
            "  inflating: Training/meningioma/Tr-me_0181.jpg  \n",
            "  inflating: Training/meningioma/Tr-me_0182.jpg  \n",
            "  inflating: Training/meningioma/Tr-me_0183.jpg  \n",
            "  inflating: Training/meningioma/Tr-me_0184.jpg  \n",
            "  inflating: Training/meningioma/Tr-me_0185.jpg  \n",
            "  inflating: Training/meningioma/Tr-me_0186.jpg  \n",
            "  inflating: Training/meningioma/Tr-me_0187.jpg  \n",
            "  inflating: Training/meningioma/Tr-me_0188.jpg  \n",
            "  inflating: Training/meningioma/Tr-me_0189.jpg  \n",
            "  inflating: Training/meningioma/Tr-me_0190.jpg  \n",
            "  inflating: Training/meningioma/Tr-me_0191.jpg  \n",
            "  inflating: Training/meningioma/Tr-me_0192.jpg  \n",
            "  inflating: Training/meningioma/Tr-me_0193.jpg  \n",
            "  inflating: Training/meningioma/Tr-me_0194.jpg  \n",
            "  inflating: Training/meningioma/Tr-me_0195.jpg  \n",
            "  inflating: Training/meningioma/Tr-me_0196.jpg  \n",
            "  inflating: Training/meningioma/Tr-me_0197.jpg  \n",
            "  inflating: Training/meningioma/Tr-me_0198.jpg  \n",
            "  inflating: Training/meningioma/Tr-me_0199.jpg  \n",
            "  inflating: Training/meningioma/Tr-me_0200.jpg  \n",
            "  inflating: Training/meningioma/Tr-me_0201.jpg  \n",
            "  inflating: Training/meningioma/Tr-me_0202.jpg  \n",
            "  inflating: Training/meningioma/Tr-me_0203.jpg  \n",
            "  inflating: Training/meningioma/Tr-me_0204.jpg  \n",
            "  inflating: Training/meningioma/Tr-me_0205.jpg  \n",
            "  inflating: Training/meningioma/Tr-me_0206.jpg  \n",
            "  inflating: Training/meningioma/Tr-me_0207.jpg  \n",
            "  inflating: Training/meningioma/Tr-me_0208.jpg  \n",
            "  inflating: Training/meningioma/Tr-me_0209.jpg  \n",
            "  inflating: Training/meningioma/Tr-me_0210.jpg  \n",
            "  inflating: Training/meningioma/Tr-me_0211.jpg  \n",
            "  inflating: Training/meningioma/Tr-me_0212.jpg  \n",
            "  inflating: Training/meningioma/Tr-me_0213.jpg  \n",
            "  inflating: Training/meningioma/Tr-me_0214.jpg  \n",
            "  inflating: Training/meningioma/Tr-me_0215.jpg  \n",
            "  inflating: Training/meningioma/Tr-me_0216.jpg  \n",
            "  inflating: Training/meningioma/Tr-me_0217.jpg  \n",
            "  inflating: Training/meningioma/Tr-me_0218.jpg  \n",
            "  inflating: Training/meningioma/Tr-me_0219.jpg  \n",
            "  inflating: Training/meningioma/Tr-me_0220.jpg  \n",
            "  inflating: Training/meningioma/Tr-me_0221.jpg  \n",
            "  inflating: Training/meningioma/Tr-me_0222.jpg  \n",
            "  inflating: Training/meningioma/Tr-me_0223.jpg  \n",
            "  inflating: Training/meningioma/Tr-me_0224.jpg  \n",
            "  inflating: Training/meningioma/Tr-me_0225.jpg  \n",
            "  inflating: Training/meningioma/Tr-me_0226.jpg  \n",
            "  inflating: Training/meningioma/Tr-me_0227.jpg  \n",
            "  inflating: Training/meningioma/Tr-me_0228.jpg  \n",
            "  inflating: Training/meningioma/Tr-me_0229.jpg  \n",
            "  inflating: Training/meningioma/Tr-me_0230.jpg  \n",
            "  inflating: Training/meningioma/Tr-me_0231.jpg  \n",
            "  inflating: Training/meningioma/Tr-me_0232.jpg  \n",
            "  inflating: Training/meningioma/Tr-me_0233.jpg  \n",
            "  inflating: Training/meningioma/Tr-me_0234.jpg  \n",
            "  inflating: Training/meningioma/Tr-me_0235.jpg  \n",
            "  inflating: Training/meningioma/Tr-me_0236.jpg  \n",
            "  inflating: Training/meningioma/Tr-me_0237.jpg  \n",
            "  inflating: Training/meningioma/Tr-me_0238.jpg  \n",
            "  inflating: Training/meningioma/Tr-me_0239.jpg  \n",
            "  inflating: Training/meningioma/Tr-me_0240.jpg  \n",
            "  inflating: Training/meningioma/Tr-me_0241.jpg  \n",
            "  inflating: Training/meningioma/Tr-me_0242.jpg  \n",
            "  inflating: Training/meningioma/Tr-me_0243.jpg  \n",
            "  inflating: Training/meningioma/Tr-me_0244.jpg  \n",
            "  inflating: Training/meningioma/Tr-me_0245.jpg  \n",
            "  inflating: Training/meningioma/Tr-me_0246.jpg  \n",
            "  inflating: Training/meningioma/Tr-me_0247.jpg  \n",
            "  inflating: Training/meningioma/Tr-me_0248.jpg  \n",
            "  inflating: Training/meningioma/Tr-me_0249.jpg  \n",
            "  inflating: Training/meningioma/Tr-me_0250.jpg  \n",
            "  inflating: Training/meningioma/Tr-me_0251.jpg  \n",
            "  inflating: Training/meningioma/Tr-me_0252.jpg  \n",
            "  inflating: Training/meningioma/Tr-me_0253.jpg  \n",
            "  inflating: Training/meningioma/Tr-me_0254.jpg  \n",
            "  inflating: Training/meningioma/Tr-me_0255.jpg  \n",
            "  inflating: Training/meningioma/Tr-me_0256.jpg  \n",
            "  inflating: Training/meningioma/Tr-me_0257.jpg  \n",
            "  inflating: Training/meningioma/Tr-me_0258.jpg  \n",
            "  inflating: Training/meningioma/Tr-me_0259.jpg  \n",
            "  inflating: Training/meningioma/Tr-me_0260.jpg  \n",
            "  inflating: Training/meningioma/Tr-me_0261.jpg  \n",
            "  inflating: Training/meningioma/Tr-me_0262.jpg  \n",
            "  inflating: Training/meningioma/Tr-me_0263.jpg  \n",
            "  inflating: Training/meningioma/Tr-me_0264.jpg  \n",
            "  inflating: Training/meningioma/Tr-me_0265.jpg  \n",
            "  inflating: Training/meningioma/Tr-me_0266.jpg  \n",
            "  inflating: Training/meningioma/Tr-me_0267.jpg  \n",
            "  inflating: Training/meningioma/Tr-me_0268.jpg  \n",
            "  inflating: Training/meningioma/Tr-me_0269.jpg  \n",
            "  inflating: Training/meningioma/Tr-me_0270.jpg  \n",
            "  inflating: Training/meningioma/Tr-me_0271.jpg  \n",
            "  inflating: Training/meningioma/Tr-me_0272.jpg  \n",
            "  inflating: Training/meningioma/Tr-me_0273.jpg  \n",
            "  inflating: Training/meningioma/Tr-me_0274.jpg  \n",
            "  inflating: Training/meningioma/Tr-me_0275.jpg  \n",
            "  inflating: Training/meningioma/Tr-me_0276.jpg  \n",
            "  inflating: Training/meningioma/Tr-me_0277.jpg  \n",
            "  inflating: Training/meningioma/Tr-me_0278.jpg  \n",
            "  inflating: Training/meningioma/Tr-me_0279.jpg  \n",
            "  inflating: Training/meningioma/Tr-me_0280.jpg  \n",
            "  inflating: Training/meningioma/Tr-me_0281.jpg  \n",
            "  inflating: Training/meningioma/Tr-me_0282.jpg  \n",
            "  inflating: Training/meningioma/Tr-me_0283.jpg  \n",
            "  inflating: Training/meningioma/Tr-me_0284.jpg  \n",
            "  inflating: Training/meningioma/Tr-me_0285.jpg  \n",
            "  inflating: Training/meningioma/Tr-me_0286.jpg  \n",
            "  inflating: Training/meningioma/Tr-me_0287.jpg  \n",
            "  inflating: Training/meningioma/Tr-me_0288.jpg  \n",
            "  inflating: Training/meningioma/Tr-me_0289.jpg  \n",
            "  inflating: Training/meningioma/Tr-me_0290.jpg  \n",
            "  inflating: Training/meningioma/Tr-me_0291.jpg  \n",
            "  inflating: Training/meningioma/Tr-me_0292.jpg  \n",
            "  inflating: Training/meningioma/Tr-me_0293.jpg  \n",
            "  inflating: Training/meningioma/Tr-me_0294.jpg  \n",
            "  inflating: Training/meningioma/Tr-me_0295.jpg  \n",
            "  inflating: Training/meningioma/Tr-me_0296.jpg  \n",
            "  inflating: Training/meningioma/Tr-me_0297.jpg  \n",
            "  inflating: Training/meningioma/Tr-me_0298.jpg  \n",
            "  inflating: Training/meningioma/Tr-me_0299.jpg  \n",
            "  inflating: Training/meningioma/Tr-me_0300.jpg  \n",
            "  inflating: Training/meningioma/Tr-me_0301.jpg  \n",
            "  inflating: Training/meningioma/Tr-me_0302.jpg  \n",
            "  inflating: Training/meningioma/Tr-me_0303.jpg  \n",
            "  inflating: Training/meningioma/Tr-me_0304.jpg  \n",
            "  inflating: Training/meningioma/Tr-me_0305.jpg  \n",
            "  inflating: Training/meningioma/Tr-me_0306.jpg  \n",
            "  inflating: Training/meningioma/Tr-me_0307.jpg  \n",
            "  inflating: Training/meningioma/Tr-me_0308.jpg  \n",
            "  inflating: Training/meningioma/Tr-me_0309.jpg  \n",
            "  inflating: Training/meningioma/Tr-me_0310.jpg  \n",
            "  inflating: Training/meningioma/Tr-me_0311.jpg  \n",
            "  inflating: Training/meningioma/Tr-me_0312.jpg  \n",
            "  inflating: Training/meningioma/Tr-me_0313.jpg  \n",
            "  inflating: Training/meningioma/Tr-me_0314.jpg  \n",
            "  inflating: Training/meningioma/Tr-me_0315.jpg  \n",
            "  inflating: Training/meningioma/Tr-me_0316.jpg  \n",
            "  inflating: Training/meningioma/Tr-me_0317.jpg  \n",
            "  inflating: Training/meningioma/Tr-me_0318.jpg  \n",
            "  inflating: Training/meningioma/Tr-me_0319.jpg  \n",
            "  inflating: Training/meningioma/Tr-me_0320.jpg  \n",
            "  inflating: Training/meningioma/Tr-me_0321.jpg  \n",
            "  inflating: Training/meningioma/Tr-me_0322.jpg  \n",
            "  inflating: Training/meningioma/Tr-me_0323.jpg  \n",
            "  inflating: Training/meningioma/Tr-me_0324.jpg  \n",
            "  inflating: Training/meningioma/Tr-me_0325.jpg  \n",
            "  inflating: Training/meningioma/Tr-me_0326.jpg  \n",
            "  inflating: Training/meningioma/Tr-me_0327.jpg  \n",
            "  inflating: Training/meningioma/Tr-me_0328.jpg  \n",
            "  inflating: Training/meningioma/Tr-me_0329.jpg  \n",
            "  inflating: Training/meningioma/Tr-me_0330.jpg  \n",
            "  inflating: Training/meningioma/Tr-me_0331.jpg  \n",
            "  inflating: Training/meningioma/Tr-me_0332.jpg  \n",
            "  inflating: Training/meningioma/Tr-me_0333.jpg  \n",
            "  inflating: Training/meningioma/Tr-me_0334.jpg  \n",
            "  inflating: Training/meningioma/Tr-me_0335.jpg  \n",
            "  inflating: Training/meningioma/Tr-me_0336.jpg  \n",
            "  inflating: Training/meningioma/Tr-me_0337.jpg  \n",
            "  inflating: Training/meningioma/Tr-me_0338.jpg  \n",
            "  inflating: Training/meningioma/Tr-me_0339.jpg  \n",
            "  inflating: Training/meningioma/Tr-me_0340.jpg  \n",
            "  inflating: Training/meningioma/Tr-me_0341.jpg  \n",
            "  inflating: Training/meningioma/Tr-me_0342.jpg  \n",
            "  inflating: Training/meningioma/Tr-me_0343.jpg  \n",
            "  inflating: Training/meningioma/Tr-me_0344.jpg  \n",
            "  inflating: Training/meningioma/Tr-me_0345.jpg  \n",
            "  inflating: Training/meningioma/Tr-me_0346.jpg  \n",
            "  inflating: Training/meningioma/Tr-me_0347.jpg  \n",
            "  inflating: Training/meningioma/Tr-me_0348.jpg  \n",
            "  inflating: Training/meningioma/Tr-me_0349.jpg  \n",
            "  inflating: Training/meningioma/Tr-me_0350.jpg  \n",
            "  inflating: Training/meningioma/Tr-me_0351.jpg  \n",
            "  inflating: Training/meningioma/Tr-me_0352.jpg  \n",
            "  inflating: Training/meningioma/Tr-me_0353.jpg  \n",
            "  inflating: Training/meningioma/Tr-me_0354.jpg  \n",
            "  inflating: Training/meningioma/Tr-me_0355.jpg  \n",
            "  inflating: Training/meningioma/Tr-me_0356.jpg  \n",
            "  inflating: Training/meningioma/Tr-me_0357.jpg  \n",
            "  inflating: Training/meningioma/Tr-me_0358.jpg  \n",
            "  inflating: Training/meningioma/Tr-me_0359.jpg  \n",
            "  inflating: Training/meningioma/Tr-me_0360.jpg  \n",
            "  inflating: Training/meningioma/Tr-me_0361.jpg  \n",
            "  inflating: Training/meningioma/Tr-me_0362.jpg  \n",
            "  inflating: Training/meningioma/Tr-me_0363.jpg  \n",
            "  inflating: Training/meningioma/Tr-me_0364.jpg  \n",
            "  inflating: Training/meningioma/Tr-me_0365.jpg  \n",
            "  inflating: Training/meningioma/Tr-me_0366.jpg  \n",
            "  inflating: Training/meningioma/Tr-me_0367.jpg  \n",
            "  inflating: Training/meningioma/Tr-me_0368.jpg  \n",
            "  inflating: Training/meningioma/Tr-me_0369.jpg  \n",
            "  inflating: Training/meningioma/Tr-me_0370.jpg  \n",
            "  inflating: Training/meningioma/Tr-me_0371.jpg  \n",
            "  inflating: Training/meningioma/Tr-me_0372.jpg  \n",
            "  inflating: Training/meningioma/Tr-me_0373.jpg  \n",
            "  inflating: Training/meningioma/Tr-me_0374.jpg  \n",
            "  inflating: Training/meningioma/Tr-me_0375.jpg  \n",
            "  inflating: Training/meningioma/Tr-me_0376.jpg  \n",
            "  inflating: Training/meningioma/Tr-me_0377.jpg  \n",
            "  inflating: Training/meningioma/Tr-me_0378.jpg  \n",
            "  inflating: Training/meningioma/Tr-me_0379.jpg  \n",
            "  inflating: Training/meningioma/Tr-me_0380.jpg  \n",
            "  inflating: Training/meningioma/Tr-me_0381.jpg  \n",
            "  inflating: Training/meningioma/Tr-me_0382.jpg  \n",
            "  inflating: Training/meningioma/Tr-me_0383.jpg  \n",
            "  inflating: Training/meningioma/Tr-me_0384.jpg  \n",
            "  inflating: Training/meningioma/Tr-me_0385.jpg  \n",
            "  inflating: Training/meningioma/Tr-me_0386.jpg  \n",
            "  inflating: Training/meningioma/Tr-me_0387.jpg  \n",
            "  inflating: Training/meningioma/Tr-me_0388.jpg  \n",
            "  inflating: Training/meningioma/Tr-me_0389.jpg  \n",
            "  inflating: Training/meningioma/Tr-me_0390.jpg  \n",
            "  inflating: Training/meningioma/Tr-me_0391.jpg  \n",
            "  inflating: Training/meningioma/Tr-me_0392.jpg  \n",
            "  inflating: Training/meningioma/Tr-me_0393.jpg  \n",
            "  inflating: Training/meningioma/Tr-me_0394.jpg  \n",
            "  inflating: Training/meningioma/Tr-me_0395.jpg  \n",
            "  inflating: Training/meningioma/Tr-me_0396.jpg  \n",
            "  inflating: Training/meningioma/Tr-me_0397.jpg  \n",
            "  inflating: Training/meningioma/Tr-me_0398.jpg  \n",
            "  inflating: Training/meningioma/Tr-me_0399.jpg  \n",
            "  inflating: Training/meningioma/Tr-me_0400.jpg  \n",
            "  inflating: Training/meningioma/Tr-me_0401.jpg  \n",
            "  inflating: Training/meningioma/Tr-me_0402.jpg  \n",
            "  inflating: Training/meningioma/Tr-me_0403.jpg  \n",
            "  inflating: Training/meningioma/Tr-me_0404.jpg  \n",
            "  inflating: Training/meningioma/Tr-me_0405.jpg  \n",
            "  inflating: Training/meningioma/Tr-me_0406.jpg  \n",
            "  inflating: Training/meningioma/Tr-me_0407.jpg  \n",
            "  inflating: Training/meningioma/Tr-me_0408.jpg  \n",
            "  inflating: Training/meningioma/Tr-me_0409.jpg  \n",
            "  inflating: Training/meningioma/Tr-me_0410.jpg  \n",
            "  inflating: Training/meningioma/Tr-me_0411.jpg  \n",
            "  inflating: Training/meningioma/Tr-me_0412.jpg  \n",
            "  inflating: Training/meningioma/Tr-me_0413.jpg  \n",
            "  inflating: Training/meningioma/Tr-me_0414.jpg  \n",
            "  inflating: Training/meningioma/Tr-me_0415.jpg  \n",
            "  inflating: Training/meningioma/Tr-me_0416.jpg  \n",
            "  inflating: Training/meningioma/Tr-me_0417.jpg  \n",
            "  inflating: Training/meningioma/Tr-me_0418.jpg  \n",
            "  inflating: Training/meningioma/Tr-me_0419.jpg  \n",
            "  inflating: Training/meningioma/Tr-me_0420.jpg  \n",
            "  inflating: Training/meningioma/Tr-me_0421.jpg  \n",
            "  inflating: Training/meningioma/Tr-me_0422.jpg  \n",
            "  inflating: Training/meningioma/Tr-me_0423.jpg  \n",
            "  inflating: Training/meningioma/Tr-me_0424.jpg  \n",
            "  inflating: Training/meningioma/Tr-me_0425.jpg  \n",
            "  inflating: Training/meningioma/Tr-me_0426.jpg  \n",
            "  inflating: Training/meningioma/Tr-me_0427.jpg  \n",
            "  inflating: Training/meningioma/Tr-me_0428.jpg  \n",
            "  inflating: Training/meningioma/Tr-me_0429.jpg  \n",
            "  inflating: Training/meningioma/Tr-me_0430.jpg  \n",
            "  inflating: Training/meningioma/Tr-me_0431.jpg  \n",
            "  inflating: Training/meningioma/Tr-me_0432.jpg  \n",
            "  inflating: Training/meningioma/Tr-me_0433.jpg  \n",
            "  inflating: Training/meningioma/Tr-me_0434.jpg  \n",
            "  inflating: Training/meningioma/Tr-me_0435.jpg  \n",
            "  inflating: Training/meningioma/Tr-me_0436.jpg  \n",
            "  inflating: Training/meningioma/Tr-me_0437.jpg  \n",
            "  inflating: Training/meningioma/Tr-me_0438.jpg  \n",
            "  inflating: Training/meningioma/Tr-me_0439.jpg  \n",
            "  inflating: Training/meningioma/Tr-me_0440.jpg  \n",
            "  inflating: Training/meningioma/Tr-me_0441.jpg  \n",
            "  inflating: Training/meningioma/Tr-me_0442.jpg  \n",
            "  inflating: Training/meningioma/Tr-me_0443.jpg  \n",
            "  inflating: Training/meningioma/Tr-me_0444.jpg  \n",
            "  inflating: Training/meningioma/Tr-me_0445.jpg  \n",
            "  inflating: Training/meningioma/Tr-me_0446.jpg  \n",
            "  inflating: Training/meningioma/Tr-me_0447.jpg  \n",
            "  inflating: Training/meningioma/Tr-me_0448.jpg  \n",
            "  inflating: Training/meningioma/Tr-me_0449.jpg  \n",
            "  inflating: Training/meningioma/Tr-me_0450.jpg  \n",
            "  inflating: Training/meningioma/Tr-me_0451.jpg  \n",
            "  inflating: Training/meningioma/Tr-me_0452.jpg  \n",
            "  inflating: Training/meningioma/Tr-me_0453.jpg  \n",
            "  inflating: Training/meningioma/Tr-me_0454.jpg  \n",
            "  inflating: Training/meningioma/Tr-me_0455.jpg  \n",
            "  inflating: Training/meningioma/Tr-me_0456.jpg  \n",
            "  inflating: Training/meningioma/Tr-me_0457.jpg  \n",
            "  inflating: Training/meningioma/Tr-me_0458.jpg  \n",
            "  inflating: Training/meningioma/Tr-me_0459.jpg  \n",
            "  inflating: Training/meningioma/Tr-me_0460.jpg  \n",
            "  inflating: Training/meningioma/Tr-me_0461.jpg  \n",
            "  inflating: Training/meningioma/Tr-me_0462.jpg  \n",
            "  inflating: Training/meningioma/Tr-me_0463.jpg  \n",
            "  inflating: Training/meningioma/Tr-me_0464.jpg  \n",
            "  inflating: Training/meningioma/Tr-me_0465.jpg  \n",
            "  inflating: Training/meningioma/Tr-me_0466.jpg  \n",
            "  inflating: Training/meningioma/Tr-me_0467.jpg  \n",
            "  inflating: Training/meningioma/Tr-me_0468.jpg  \n",
            "  inflating: Training/meningioma/Tr-me_0469.jpg  \n",
            "  inflating: Training/meningioma/Tr-me_0470.jpg  \n",
            "  inflating: Training/meningioma/Tr-me_0471.jpg  \n",
            "  inflating: Training/meningioma/Tr-me_0472.jpg  \n",
            "  inflating: Training/meningioma/Tr-me_0473.jpg  \n",
            "  inflating: Training/meningioma/Tr-me_0474.jpg  \n",
            "  inflating: Training/meningioma/Tr-me_0475.jpg  \n",
            "  inflating: Training/meningioma/Tr-me_0476.jpg  \n",
            "  inflating: Training/meningioma/Tr-me_0477.jpg  \n",
            "  inflating: Training/meningioma/Tr-me_0478.jpg  \n",
            "  inflating: Training/meningioma/Tr-me_0479.jpg  \n",
            "  inflating: Training/meningioma/Tr-me_0480.jpg  \n",
            "  inflating: Training/meningioma/Tr-me_0481.jpg  \n",
            "  inflating: Training/meningioma/Tr-me_0482.jpg  \n",
            "  inflating: Training/meningioma/Tr-me_0483.jpg  \n",
            "  inflating: Training/meningioma/Tr-me_0484.jpg  \n",
            "  inflating: Training/meningioma/Tr-me_0485.jpg  \n",
            "  inflating: Training/meningioma/Tr-me_0486.jpg  \n",
            "  inflating: Training/meningioma/Tr-me_0487.jpg  \n",
            "  inflating: Training/meningioma/Tr-me_0488.jpg  \n",
            "  inflating: Training/meningioma/Tr-me_0489.jpg  \n",
            "  inflating: Training/meningioma/Tr-me_0490.jpg  \n",
            "  inflating: Training/meningioma/Tr-me_0491.jpg  \n",
            "  inflating: Training/meningioma/Tr-me_0492.jpg  \n",
            "  inflating: Training/meningioma/Tr-me_0493.jpg  \n",
            "  inflating: Training/meningioma/Tr-me_0494.jpg  \n",
            "  inflating: Training/meningioma/Tr-me_0495.jpg  \n",
            "  inflating: Training/meningioma/Tr-me_0496.jpg  \n",
            "  inflating: Training/meningioma/Tr-me_0497.jpg  \n",
            "  inflating: Training/meningioma/Tr-me_0498.jpg  \n",
            "  inflating: Training/meningioma/Tr-me_0499.jpg  \n",
            "  inflating: Training/meningioma/Tr-me_0500.jpg  \n",
            "  inflating: Training/meningioma/Tr-me_0501.jpg  \n",
            "  inflating: Training/meningioma/Tr-me_0502.jpg  \n",
            "  inflating: Training/meningioma/Tr-me_0503.jpg  \n",
            "  inflating: Training/meningioma/Tr-me_0504.jpg  \n",
            "  inflating: Training/meningioma/Tr-me_0505.jpg  \n",
            "  inflating: Training/meningioma/Tr-me_0506.jpg  \n",
            "  inflating: Training/meningioma/Tr-me_0507.jpg  \n",
            "  inflating: Training/meningioma/Tr-me_0508.jpg  \n",
            "  inflating: Training/meningioma/Tr-me_0509.jpg  \n",
            "  inflating: Training/meningioma/Tr-me_0510.jpg  \n",
            "  inflating: Training/meningioma/Tr-me_0511.jpg  \n",
            "  inflating: Training/meningioma/Tr-me_0512.jpg  \n",
            "  inflating: Training/meningioma/Tr-me_0513.jpg  \n",
            "  inflating: Training/meningioma/Tr-me_0514.jpg  \n",
            "  inflating: Training/meningioma/Tr-me_0515.jpg  \n",
            "  inflating: Training/meningioma/Tr-me_0516.jpg  \n",
            "  inflating: Training/meningioma/Tr-me_0517.jpg  \n",
            "  inflating: Training/meningioma/Tr-me_0518.jpg  \n",
            "  inflating: Training/meningioma/Tr-me_0519.jpg  \n",
            "  inflating: Training/meningioma/Tr-me_0520.jpg  \n",
            "  inflating: Training/meningioma/Tr-me_0521.jpg  \n",
            "  inflating: Training/meningioma/Tr-me_0522.jpg  \n",
            "  inflating: Training/meningioma/Tr-me_0523.jpg  \n",
            "  inflating: Training/meningioma/Tr-me_0524.jpg  \n",
            "  inflating: Training/meningioma/Tr-me_0525.jpg  \n",
            "  inflating: Training/meningioma/Tr-me_0526.jpg  \n",
            "  inflating: Training/meningioma/Tr-me_0527.jpg  \n",
            "  inflating: Training/meningioma/Tr-me_0528.jpg  \n",
            "  inflating: Training/meningioma/Tr-me_0529.jpg  \n",
            "  inflating: Training/meningioma/Tr-me_0530.jpg  \n",
            "  inflating: Training/meningioma/Tr-me_0531.jpg  \n",
            "  inflating: Training/meningioma/Tr-me_0532.jpg  \n",
            "  inflating: Training/meningioma/Tr-me_0533.jpg  \n",
            "  inflating: Training/meningioma/Tr-me_0534.jpg  \n",
            "  inflating: Training/meningioma/Tr-me_0535.jpg  \n",
            "  inflating: Training/meningioma/Tr-me_0536.jpg  \n",
            "  inflating: Training/meningioma/Tr-me_0537.jpg  \n",
            "  inflating: Training/meningioma/Tr-me_0538.jpg  \n",
            "  inflating: Training/meningioma/Tr-me_0539.jpg  \n",
            "  inflating: Training/meningioma/Tr-me_0540.jpg  \n",
            "  inflating: Training/meningioma/Tr-me_0541.jpg  \n",
            "  inflating: Training/meningioma/Tr-me_0542.jpg  \n",
            "  inflating: Training/meningioma/Tr-me_0543.jpg  \n",
            "  inflating: Training/meningioma/Tr-me_0544.jpg  \n",
            "  inflating: Training/meningioma/Tr-me_0545.jpg  \n",
            "  inflating: Training/meningioma/Tr-me_0546.jpg  \n",
            "  inflating: Training/meningioma/Tr-me_0547.jpg  \n",
            "  inflating: Training/meningioma/Tr-me_0548.jpg  \n",
            "  inflating: Training/meningioma/Tr-me_0549.jpg  \n",
            "  inflating: Training/meningioma/Tr-me_0550.jpg  \n",
            "  inflating: Training/meningioma/Tr-me_0551.jpg  \n",
            "  inflating: Training/meningioma/Tr-me_0552.jpg  \n",
            "  inflating: Training/meningioma/Tr-me_0553.jpg  \n",
            "  inflating: Training/meningioma/Tr-me_0554.jpg  \n",
            "  inflating: Training/meningioma/Tr-me_0555.jpg  \n",
            "  inflating: Training/meningioma/Tr-me_0556.jpg  \n",
            "  inflating: Training/meningioma/Tr-me_0557.jpg  \n",
            "  inflating: Training/meningioma/Tr-me_0558.jpg  \n",
            "  inflating: Training/meningioma/Tr-me_0559.jpg  \n",
            "  inflating: Training/meningioma/Tr-me_0560.jpg  \n",
            "  inflating: Training/meningioma/Tr-me_0561.jpg  \n",
            "  inflating: Training/meningioma/Tr-me_0562.jpg  \n",
            "  inflating: Training/meningioma/Tr-me_0563.jpg  \n",
            "  inflating: Training/meningioma/Tr-me_0564.jpg  \n",
            "  inflating: Training/meningioma/Tr-me_0565.jpg  \n",
            "  inflating: Training/meningioma/Tr-me_0566.jpg  \n",
            "  inflating: Training/meningioma/Tr-me_0567.jpg  \n",
            "  inflating: Training/meningioma/Tr-me_0568.jpg  \n",
            "  inflating: Training/meningioma/Tr-me_0569.jpg  \n",
            "  inflating: Training/meningioma/Tr-me_0570.jpg  \n",
            "  inflating: Training/meningioma/Tr-me_0571.jpg  \n",
            "  inflating: Training/meningioma/Tr-me_0572.jpg  \n",
            "  inflating: Training/meningioma/Tr-me_0573.jpg  \n",
            "  inflating: Training/meningioma/Tr-me_0574.jpg  \n",
            "  inflating: Training/meningioma/Tr-me_0575.jpg  \n",
            "  inflating: Training/meningioma/Tr-me_0576.jpg  \n",
            "  inflating: Training/meningioma/Tr-me_0577.jpg  \n",
            "  inflating: Training/meningioma/Tr-me_0578.jpg  \n",
            "  inflating: Training/meningioma/Tr-me_0579.jpg  \n",
            "  inflating: Training/meningioma/Tr-me_0580.jpg  \n",
            "  inflating: Training/meningioma/Tr-me_0581.jpg  \n",
            "  inflating: Training/meningioma/Tr-me_0582.jpg  \n",
            "  inflating: Training/meningioma/Tr-me_0583.jpg  \n",
            "  inflating: Training/meningioma/Tr-me_0584.jpg  \n",
            "  inflating: Training/meningioma/Tr-me_0585.jpg  \n",
            "  inflating: Training/meningioma/Tr-me_0586.jpg  \n",
            "  inflating: Training/meningioma/Tr-me_0587.jpg  \n",
            "  inflating: Training/meningioma/Tr-me_0588.jpg  \n",
            "  inflating: Training/meningioma/Tr-me_0589.jpg  \n",
            "  inflating: Training/meningioma/Tr-me_0590.jpg  \n",
            "  inflating: Training/meningioma/Tr-me_0591.jpg  \n",
            "  inflating: Training/meningioma/Tr-me_0592.jpg  \n",
            "  inflating: Training/meningioma/Tr-me_0593.jpg  \n",
            "  inflating: Training/meningioma/Tr-me_0594.jpg  \n",
            "  inflating: Training/meningioma/Tr-me_0595.jpg  \n",
            "  inflating: Training/meningioma/Tr-me_0596.jpg  \n",
            "  inflating: Training/meningioma/Tr-me_0597.jpg  \n",
            "  inflating: Training/meningioma/Tr-me_0598.jpg  \n",
            "  inflating: Training/meningioma/Tr-me_0599.jpg  \n",
            "  inflating: Training/meningioma/Tr-me_0600.jpg  \n",
            "  inflating: Training/meningioma/Tr-me_0601.jpg  \n",
            "  inflating: Training/meningioma/Tr-me_0602.jpg  \n",
            "  inflating: Training/meningioma/Tr-me_0603.jpg  \n",
            "  inflating: Training/meningioma/Tr-me_0604.jpg  \n",
            "  inflating: Training/meningioma/Tr-me_0605.jpg  \n",
            "  inflating: Training/meningioma/Tr-me_0606.jpg  \n",
            "  inflating: Training/meningioma/Tr-me_0607.jpg  \n",
            "  inflating: Training/meningioma/Tr-me_0608.jpg  \n",
            "  inflating: Training/meningioma/Tr-me_0609.jpg  \n",
            "  inflating: Training/meningioma/Tr-me_0610.jpg  \n",
            "  inflating: Training/meningioma/Tr-me_0611.jpg  \n",
            "  inflating: Training/meningioma/Tr-me_0612.jpg  \n",
            "  inflating: Training/meningioma/Tr-me_0613.jpg  \n",
            "  inflating: Training/meningioma/Tr-me_0614.jpg  \n",
            "  inflating: Training/meningioma/Tr-me_0615.jpg  \n",
            "  inflating: Training/meningioma/Tr-me_0616.jpg  \n",
            "  inflating: Training/meningioma/Tr-me_0617.jpg  \n",
            "  inflating: Training/meningioma/Tr-me_0618.jpg  \n",
            "  inflating: Training/meningioma/Tr-me_0619.jpg  \n",
            "  inflating: Training/meningioma/Tr-me_0620.jpg  \n",
            "  inflating: Training/meningioma/Tr-me_0621.jpg  \n",
            "  inflating: Training/meningioma/Tr-me_0622.jpg  \n",
            "  inflating: Training/meningioma/Tr-me_0623.jpg  \n",
            "  inflating: Training/meningioma/Tr-me_0624.jpg  \n",
            "  inflating: Training/meningioma/Tr-me_0625.jpg  \n",
            "  inflating: Training/meningioma/Tr-me_0626.jpg  \n",
            "  inflating: Training/meningioma/Tr-me_0627.jpg  \n",
            "  inflating: Training/meningioma/Tr-me_0628.jpg  \n",
            "  inflating: Training/meningioma/Tr-me_0629.jpg  \n",
            "  inflating: Training/meningioma/Tr-me_0630.jpg  \n",
            "  inflating: Training/meningioma/Tr-me_0631.jpg  \n",
            "  inflating: Training/meningioma/Tr-me_0632.jpg  \n",
            "  inflating: Training/meningioma/Tr-me_0633.jpg  \n",
            "  inflating: Training/meningioma/Tr-me_0634.jpg  \n",
            "  inflating: Training/meningioma/Tr-me_0635.jpg  \n",
            "  inflating: Training/meningioma/Tr-me_0636.jpg  \n",
            "  inflating: Training/meningioma/Tr-me_0637.jpg  \n",
            "  inflating: Training/meningioma/Tr-me_0638.jpg  \n",
            "  inflating: Training/meningioma/Tr-me_0639.jpg  \n",
            "  inflating: Training/meningioma/Tr-me_0640.jpg  \n",
            "  inflating: Training/meningioma/Tr-me_0641.jpg  \n",
            "  inflating: Training/meningioma/Tr-me_0642.jpg  \n",
            "  inflating: Training/meningioma/Tr-me_0643.jpg  \n",
            "  inflating: Training/meningioma/Tr-me_0644.jpg  \n",
            "  inflating: Training/meningioma/Tr-me_0645.jpg  \n",
            "  inflating: Training/meningioma/Tr-me_0646.jpg  \n",
            "  inflating: Training/meningioma/Tr-me_0647.jpg  \n",
            "  inflating: Training/meningioma/Tr-me_0648.jpg  \n",
            "  inflating: Training/meningioma/Tr-me_0649.jpg  \n",
            "  inflating: Training/meningioma/Tr-me_0650.jpg  \n",
            "  inflating: Training/meningioma/Tr-me_0651.jpg  \n",
            "  inflating: Training/meningioma/Tr-me_0652.jpg  \n",
            "  inflating: Training/meningioma/Tr-me_0653.jpg  \n",
            "  inflating: Training/meningioma/Tr-me_0654.jpg  \n",
            "  inflating: Training/meningioma/Tr-me_0655.jpg  \n",
            "  inflating: Training/meningioma/Tr-me_0656.jpg  \n",
            "  inflating: Training/meningioma/Tr-me_0657.jpg  \n",
            "  inflating: Training/meningioma/Tr-me_0658.jpg  \n",
            "  inflating: Training/meningioma/Tr-me_0659.jpg  \n",
            "  inflating: Training/meningioma/Tr-me_0660.jpg  \n",
            "  inflating: Training/meningioma/Tr-me_0661.jpg  \n",
            "  inflating: Training/meningioma/Tr-me_0662.jpg  \n",
            "  inflating: Training/meningioma/Tr-me_0663.jpg  \n",
            "  inflating: Training/meningioma/Tr-me_0664.jpg  \n",
            "  inflating: Training/meningioma/Tr-me_0665.jpg  \n",
            "  inflating: Training/meningioma/Tr-me_0666.jpg  \n",
            "  inflating: Training/meningioma/Tr-me_0667.jpg  \n",
            "  inflating: Training/meningioma/Tr-me_0668.jpg  \n",
            "  inflating: Training/meningioma/Tr-me_0669.jpg  \n",
            "  inflating: Training/meningioma/Tr-me_0670.jpg  \n",
            "  inflating: Training/meningioma/Tr-me_0671.jpg  \n",
            "  inflating: Training/meningioma/Tr-me_0672.jpg  \n",
            "  inflating: Training/meningioma/Tr-me_0673.jpg  \n",
            "  inflating: Training/meningioma/Tr-me_0674.jpg  \n",
            "  inflating: Training/meningioma/Tr-me_0675.jpg  \n",
            "  inflating: Training/meningioma/Tr-me_0676.jpg  \n",
            "  inflating: Training/meningioma/Tr-me_0677.jpg  \n",
            "  inflating: Training/meningioma/Tr-me_0678.jpg  \n",
            "  inflating: Training/meningioma/Tr-me_0679.jpg  \n",
            "  inflating: Training/meningioma/Tr-me_0680.jpg  \n",
            "  inflating: Training/meningioma/Tr-me_0681.jpg  \n",
            "  inflating: Training/meningioma/Tr-me_0682.jpg  \n",
            "  inflating: Training/meningioma/Tr-me_0683.jpg  \n",
            "  inflating: Training/meningioma/Tr-me_0684.jpg  \n",
            "  inflating: Training/meningioma/Tr-me_0685.jpg  \n",
            "  inflating: Training/meningioma/Tr-me_0686.jpg  \n",
            "  inflating: Training/meningioma/Tr-me_0687.jpg  \n",
            "  inflating: Training/meningioma/Tr-me_0688.jpg  \n",
            "  inflating: Training/meningioma/Tr-me_0689.jpg  \n",
            "  inflating: Training/meningioma/Tr-me_0690.jpg  \n",
            "  inflating: Training/meningioma/Tr-me_0691.jpg  \n",
            "  inflating: Training/meningioma/Tr-me_0692.jpg  \n",
            "  inflating: Training/meningioma/Tr-me_0693.jpg  \n",
            "  inflating: Training/meningioma/Tr-me_0694.jpg  \n",
            "  inflating: Training/meningioma/Tr-me_0695.jpg  \n",
            "  inflating: Training/meningioma/Tr-me_0696.jpg  \n",
            "  inflating: Training/meningioma/Tr-me_0697.jpg  \n",
            "  inflating: Training/meningioma/Tr-me_0698.jpg  \n",
            "  inflating: Training/meningioma/Tr-me_0699.jpg  \n",
            "  inflating: Training/meningioma/Tr-me_0700.jpg  \n",
            "  inflating: Training/meningioma/Tr-me_0701.jpg  \n",
            "  inflating: Training/meningioma/Tr-me_0702.jpg  \n",
            "  inflating: Training/meningioma/Tr-me_0703.jpg  \n",
            "  inflating: Training/meningioma/Tr-me_0704.jpg  \n",
            "  inflating: Training/meningioma/Tr-me_0705.jpg  \n",
            "  inflating: Training/meningioma/Tr-me_0706.jpg  \n",
            "  inflating: Training/meningioma/Tr-me_0707.jpg  \n",
            "  inflating: Training/meningioma/Tr-me_0708.jpg  \n",
            "  inflating: Training/meningioma/Tr-me_0709.jpg  \n",
            "  inflating: Training/meningioma/Tr-me_0710.jpg  \n",
            "  inflating: Training/meningioma/Tr-me_0711.jpg  \n",
            "  inflating: Training/meningioma/Tr-me_0712.jpg  \n",
            "  inflating: Training/meningioma/Tr-me_0713.jpg  \n",
            "  inflating: Training/meningioma/Tr-me_0714.jpg  \n",
            "  inflating: Training/meningioma/Tr-me_0715.jpg  \n",
            "  inflating: Training/meningioma/Tr-me_0716.jpg  \n",
            "  inflating: Training/meningioma/Tr-me_0717.jpg  \n",
            "  inflating: Training/meningioma/Tr-me_0718.jpg  \n",
            "  inflating: Training/meningioma/Tr-me_0719.jpg  \n",
            "  inflating: Training/meningioma/Tr-me_0720.jpg  \n",
            "  inflating: Training/meningioma/Tr-me_0721.jpg  \n",
            "  inflating: Training/meningioma/Tr-me_0722.jpg  \n",
            "  inflating: Training/meningioma/Tr-me_0723.jpg  \n",
            "  inflating: Training/meningioma/Tr-me_0724.jpg  \n",
            "  inflating: Training/meningioma/Tr-me_0725.jpg  \n",
            "  inflating: Training/meningioma/Tr-me_0726.jpg  \n",
            "  inflating: Training/meningioma/Tr-me_0727.jpg  \n",
            "  inflating: Training/meningioma/Tr-me_0728.jpg  \n",
            "  inflating: Training/meningioma/Tr-me_0729.jpg  \n",
            "  inflating: Training/meningioma/Tr-me_0730.jpg  \n",
            "  inflating: Training/meningioma/Tr-me_0731.jpg  \n",
            "  inflating: Training/meningioma/Tr-me_0732.jpg  \n",
            "  inflating: Training/meningioma/Tr-me_0733.jpg  \n",
            "  inflating: Training/meningioma/Tr-me_0734.jpg  \n",
            "  inflating: Training/meningioma/Tr-me_0735.jpg  \n",
            "  inflating: Training/meningioma/Tr-me_0736.jpg  \n",
            "  inflating: Training/meningioma/Tr-me_0737.jpg  \n",
            "  inflating: Training/meningioma/Tr-me_0738.jpg  \n",
            "  inflating: Training/meningioma/Tr-me_0739.jpg  \n",
            "  inflating: Training/meningioma/Tr-me_0740.jpg  \n",
            "  inflating: Training/meningioma/Tr-me_0741.jpg  \n",
            "  inflating: Training/meningioma/Tr-me_0742.jpg  \n",
            "  inflating: Training/meningioma/Tr-me_0743.jpg  \n",
            "  inflating: Training/meningioma/Tr-me_0744.jpg  \n",
            "  inflating: Training/meningioma/Tr-me_0745.jpg  \n",
            "  inflating: Training/meningioma/Tr-me_0746.jpg  \n",
            "  inflating: Training/meningioma/Tr-me_0747.jpg  \n",
            "  inflating: Training/meningioma/Tr-me_0748.jpg  \n",
            "  inflating: Training/meningioma/Tr-me_0749.jpg  \n",
            "  inflating: Training/meningioma/Tr-me_0750.jpg  \n",
            "  inflating: Training/meningioma/Tr-me_0751.jpg  \n",
            "  inflating: Training/meningioma/Tr-me_0752.jpg  \n",
            "  inflating: Training/meningioma/Tr-me_0753.jpg  \n",
            "  inflating: Training/meningioma/Tr-me_0754.jpg  \n",
            "  inflating: Training/meningioma/Tr-me_0755.jpg  \n",
            "  inflating: Training/meningioma/Tr-me_0756.jpg  \n",
            "  inflating: Training/meningioma/Tr-me_0757.jpg  \n",
            "  inflating: Training/meningioma/Tr-me_0758.jpg  \n",
            "  inflating: Training/meningioma/Tr-me_0759.jpg  \n",
            "  inflating: Training/meningioma/Tr-me_0760.jpg  \n",
            "  inflating: Training/meningioma/Tr-me_0761.jpg  \n",
            "  inflating: Training/meningioma/Tr-me_0762.jpg  \n",
            "  inflating: Training/meningioma/Tr-me_0763.jpg  \n",
            "  inflating: Training/meningioma/Tr-me_0764.jpg  \n",
            "  inflating: Training/meningioma/Tr-me_0765.jpg  \n",
            "  inflating: Training/meningioma/Tr-me_0766.jpg  \n",
            "  inflating: Training/meningioma/Tr-me_0767.jpg  \n",
            "  inflating: Training/meningioma/Tr-me_0768.jpg  \n",
            "  inflating: Training/meningioma/Tr-me_0769.jpg  \n",
            "  inflating: Training/meningioma/Tr-me_0770.jpg  \n",
            "  inflating: Training/meningioma/Tr-me_0771.jpg  \n",
            "  inflating: Training/meningioma/Tr-me_0772.jpg  \n",
            "  inflating: Training/meningioma/Tr-me_0773.jpg  \n",
            "  inflating: Training/meningioma/Tr-me_0774.jpg  \n",
            "  inflating: Training/meningioma/Tr-me_0775.jpg  \n",
            "  inflating: Training/meningioma/Tr-me_0776.jpg  \n",
            "  inflating: Training/meningioma/Tr-me_0777.jpg  \n",
            "  inflating: Training/meningioma/Tr-me_0778.jpg  \n",
            "  inflating: Training/meningioma/Tr-me_0779.jpg  \n",
            "  inflating: Training/meningioma/Tr-me_0780.jpg  \n",
            "  inflating: Training/meningioma/Tr-me_0781.jpg  \n",
            "  inflating: Training/meningioma/Tr-me_0782.jpg  \n",
            "  inflating: Training/meningioma/Tr-me_0783.jpg  \n",
            "  inflating: Training/meningioma/Tr-me_0784.jpg  \n",
            "  inflating: Training/meningioma/Tr-me_0785.jpg  \n",
            "  inflating: Training/meningioma/Tr-me_0786.jpg  \n",
            "  inflating: Training/meningioma/Tr-me_0787.jpg  \n",
            "  inflating: Training/meningioma/Tr-me_0788.jpg  \n",
            "  inflating: Training/meningioma/Tr-me_0789.jpg  \n",
            "  inflating: Training/meningioma/Tr-me_0790.jpg  \n",
            "  inflating: Training/meningioma/Tr-me_0791.jpg  \n",
            "  inflating: Training/meningioma/Tr-me_0792.jpg  \n",
            "  inflating: Training/meningioma/Tr-me_0793.jpg  \n",
            "  inflating: Training/meningioma/Tr-me_0794.jpg  \n",
            "  inflating: Training/meningioma/Tr-me_0795.jpg  \n",
            "  inflating: Training/meningioma/Tr-me_0796.jpg  \n",
            "  inflating: Training/meningioma/Tr-me_0797.jpg  \n",
            "  inflating: Training/meningioma/Tr-me_0798.jpg  \n",
            "  inflating: Training/meningioma/Tr-me_0799.jpg  \n",
            "  inflating: Training/meningioma/Tr-me_0800.jpg  \n",
            "  inflating: Training/meningioma/Tr-me_0801.jpg  \n",
            "  inflating: Training/meningioma/Tr-me_0802.jpg  \n",
            "  inflating: Training/meningioma/Tr-me_0803.jpg  \n",
            "  inflating: Training/meningioma/Tr-me_0804.jpg  \n",
            "  inflating: Training/meningioma/Tr-me_0805.jpg  \n",
            "  inflating: Training/meningioma/Tr-me_0806.jpg  \n",
            "  inflating: Training/meningioma/Tr-me_0807.jpg  \n",
            "  inflating: Training/meningioma/Tr-me_0808.jpg  \n",
            "  inflating: Training/meningioma/Tr-me_0809.jpg  \n",
            "  inflating: Training/meningioma/Tr-me_0810.jpg  \n",
            "  inflating: Training/meningioma/Tr-me_0811.jpg  \n",
            "  inflating: Training/meningioma/Tr-me_0812.jpg  \n",
            "  inflating: Training/meningioma/Tr-me_0813.jpg  \n",
            "  inflating: Training/meningioma/Tr-me_0814.jpg  \n",
            "  inflating: Training/meningioma/Tr-me_0815.jpg  \n",
            "  inflating: Training/meningioma/Tr-me_0816.jpg  \n",
            "  inflating: Training/meningioma/Tr-me_0817.jpg  \n",
            "  inflating: Training/meningioma/Tr-me_0818.jpg  \n",
            "  inflating: Training/meningioma/Tr-me_0819.jpg  \n",
            "  inflating: Training/meningioma/Tr-me_0820.jpg  \n",
            "  inflating: Training/meningioma/Tr-me_0821.jpg  \n",
            "  inflating: Training/meningioma/Tr-me_0822.jpg  \n",
            "  inflating: Training/meningioma/Tr-me_0823.jpg  \n",
            "  inflating: Training/meningioma/Tr-me_0824.jpg  \n",
            "  inflating: Training/meningioma/Tr-me_0825.jpg  \n",
            "  inflating: Training/meningioma/Tr-me_0826.jpg  \n",
            "  inflating: Training/meningioma/Tr-me_0827.jpg  \n",
            "  inflating: Training/meningioma/Tr-me_0828.jpg  \n",
            "  inflating: Training/meningioma/Tr-me_0829.jpg  \n",
            "  inflating: Training/meningioma/Tr-me_0830.jpg  \n",
            "  inflating: Training/meningioma/Tr-me_0831.jpg  \n",
            "  inflating: Training/meningioma/Tr-me_0832.jpg  \n",
            "  inflating: Training/meningioma/Tr-me_0833.jpg  \n",
            "  inflating: Training/meningioma/Tr-me_0834.jpg  \n",
            "  inflating: Training/meningioma/Tr-me_0835.jpg  \n",
            "  inflating: Training/meningioma/Tr-me_0836.jpg  \n",
            "  inflating: Training/meningioma/Tr-me_0837.jpg  \n",
            "  inflating: Training/meningioma/Tr-me_0838.jpg  \n",
            "  inflating: Training/meningioma/Tr-me_0839.jpg  \n",
            "  inflating: Training/meningioma/Tr-me_0840.jpg  \n",
            "  inflating: Training/meningioma/Tr-me_0841.jpg  \n",
            "  inflating: Training/meningioma/Tr-me_0842.jpg  \n",
            "  inflating: Training/meningioma/Tr-me_0843.jpg  \n",
            "  inflating: Training/meningioma/Tr-me_0844.jpg  \n",
            "  inflating: Training/meningioma/Tr-me_0845.jpg  \n",
            "  inflating: Training/meningioma/Tr-me_0846.jpg  \n",
            "  inflating: Training/meningioma/Tr-me_0847.jpg  \n",
            "  inflating: Training/meningioma/Tr-me_0848.jpg  \n",
            "  inflating: Training/meningioma/Tr-me_0849.jpg  \n",
            "  inflating: Training/meningioma/Tr-me_0850.jpg  \n",
            "  inflating: Training/meningioma/Tr-me_0851.jpg  \n",
            "  inflating: Training/meningioma/Tr-me_0852.jpg  \n",
            "  inflating: Training/meningioma/Tr-me_0853.jpg  \n",
            "  inflating: Training/meningioma/Tr-me_0854.jpg  \n",
            "  inflating: Training/meningioma/Tr-me_0855.jpg  \n",
            "  inflating: Training/meningioma/Tr-me_0856.jpg  \n",
            "  inflating: Training/meningioma/Tr-me_0857.jpg  \n",
            "  inflating: Training/meningioma/Tr-me_0858.jpg  \n",
            "  inflating: Training/meningioma/Tr-me_0859.jpg  \n",
            "  inflating: Training/meningioma/Tr-me_0860.jpg  \n",
            "  inflating: Training/meningioma/Tr-me_0861.jpg  \n",
            "  inflating: Training/meningioma/Tr-me_0862.jpg  \n",
            "  inflating: Training/meningioma/Tr-me_0863.jpg  \n",
            "  inflating: Training/meningioma/Tr-me_0864.jpg  \n",
            "  inflating: Training/meningioma/Tr-me_0865.jpg  \n",
            "  inflating: Training/meningioma/Tr-me_0866.jpg  \n",
            "  inflating: Training/meningioma/Tr-me_0867.jpg  \n",
            "  inflating: Training/meningioma/Tr-me_0868.jpg  \n",
            "  inflating: Training/meningioma/Tr-me_0869.jpg  \n",
            "  inflating: Training/meningioma/Tr-me_0870.jpg  \n",
            "  inflating: Training/meningioma/Tr-me_0871.jpg  \n",
            "  inflating: Training/meningioma/Tr-me_0872.jpg  \n",
            "  inflating: Training/meningioma/Tr-me_0873.jpg  \n",
            "  inflating: Training/meningioma/Tr-me_0874.jpg  \n",
            "  inflating: Training/meningioma/Tr-me_0875.jpg  \n",
            "  inflating: Training/meningioma/Tr-me_0876.jpg  \n",
            "  inflating: Training/meningioma/Tr-me_0877.jpg  \n",
            "  inflating: Training/meningioma/Tr-me_0878.jpg  \n",
            "  inflating: Training/meningioma/Tr-me_0879.jpg  \n",
            "  inflating: Training/meningioma/Tr-me_0880.jpg  \n",
            "  inflating: Training/meningioma/Tr-me_0881.jpg  \n",
            "  inflating: Training/meningioma/Tr-me_0882.jpg  \n",
            "  inflating: Training/meningioma/Tr-me_0883.jpg  \n",
            "  inflating: Training/meningioma/Tr-me_0884.jpg  \n",
            "  inflating: Training/meningioma/Tr-me_0885.jpg  \n",
            "  inflating: Training/meningioma/Tr-me_0886.jpg  \n",
            "  inflating: Training/meningioma/Tr-me_0887.jpg  \n",
            "  inflating: Training/meningioma/Tr-me_0888.jpg  \n",
            "  inflating: Training/meningioma/Tr-me_0889.jpg  \n",
            "  inflating: Training/meningioma/Tr-me_0890.jpg  \n",
            "  inflating: Training/meningioma/Tr-me_0891.jpg  \n",
            "  inflating: Training/meningioma/Tr-me_0892.jpg  \n",
            "  inflating: Training/meningioma/Tr-me_0893.jpg  \n",
            "  inflating: Training/meningioma/Tr-me_0894.jpg  \n",
            "  inflating: Training/meningioma/Tr-me_0895.jpg  \n",
            "  inflating: Training/meningioma/Tr-me_0896.jpg  \n",
            "  inflating: Training/meningioma/Tr-me_0897.jpg  \n",
            "  inflating: Training/meningioma/Tr-me_0898.jpg  \n",
            "  inflating: Training/meningioma/Tr-me_0899.jpg  \n",
            "  inflating: Training/meningioma/Tr-me_0900.jpg  \n",
            "  inflating: Training/meningioma/Tr-me_0901.jpg  \n",
            "  inflating: Training/meningioma/Tr-me_0902.jpg  \n",
            "  inflating: Training/meningioma/Tr-me_0903.jpg  \n",
            "  inflating: Training/meningioma/Tr-me_0904.jpg  \n",
            "  inflating: Training/meningioma/Tr-me_0905.jpg  \n",
            "  inflating: Training/meningioma/Tr-me_0906.jpg  \n",
            "  inflating: Training/meningioma/Tr-me_0907.jpg  \n",
            "  inflating: Training/meningioma/Tr-me_0908.jpg  \n",
            "  inflating: Training/meningioma/Tr-me_0909.jpg  \n",
            "  inflating: Training/meningioma/Tr-me_0910.jpg  \n",
            "  inflating: Training/meningioma/Tr-me_0911.jpg  \n",
            "  inflating: Training/meningioma/Tr-me_0912.jpg  \n",
            "  inflating: Training/meningioma/Tr-me_0913.jpg  \n",
            "  inflating: Training/meningioma/Tr-me_0914.jpg  \n",
            "  inflating: Training/meningioma/Tr-me_0915.jpg  \n",
            "  inflating: Training/meningioma/Tr-me_0916.jpg  \n",
            "  inflating: Training/meningioma/Tr-me_0917.jpg  \n",
            "  inflating: Training/meningioma/Tr-me_0918.jpg  \n",
            "  inflating: Training/meningioma/Tr-me_0919.jpg  \n",
            "  inflating: Training/meningioma/Tr-me_0920.jpg  \n",
            "  inflating: Training/meningioma/Tr-me_0921.jpg  \n",
            "  inflating: Training/meningioma/Tr-me_0922.jpg  \n",
            "  inflating: Training/meningioma/Tr-me_0923.jpg  \n",
            "  inflating: Training/meningioma/Tr-me_0924.jpg  \n",
            "  inflating: Training/meningioma/Tr-me_0925.jpg  \n",
            "  inflating: Training/meningioma/Tr-me_0926.jpg  \n",
            "  inflating: Training/meningioma/Tr-me_0927.jpg  \n",
            "  inflating: Training/meningioma/Tr-me_0928.jpg  \n",
            "  inflating: Training/meningioma/Tr-me_0929.jpg  \n",
            "  inflating: Training/meningioma/Tr-me_0930.jpg  \n",
            "  inflating: Training/meningioma/Tr-me_0931.jpg  \n",
            "  inflating: Training/meningioma/Tr-me_0932.jpg  \n",
            "  inflating: Training/meningioma/Tr-me_0933.jpg  \n",
            "  inflating: Training/meningioma/Tr-me_0934.jpg  \n",
            "  inflating: Training/meningioma/Tr-me_0935.jpg  \n",
            "  inflating: Training/meningioma/Tr-me_0936.jpg  \n",
            "  inflating: Training/meningioma/Tr-me_0937.jpg  \n",
            "  inflating: Training/meningioma/Tr-me_0938.jpg  \n",
            "  inflating: Training/meningioma/Tr-me_0939.jpg  \n",
            "  inflating: Training/meningioma/Tr-me_0940.jpg  \n",
            "  inflating: Training/meningioma/Tr-me_0941.jpg  \n",
            "  inflating: Training/meningioma/Tr-me_0942.jpg  \n",
            "  inflating: Training/meningioma/Tr-me_0943.jpg  \n",
            "  inflating: Training/meningioma/Tr-me_0944.jpg  \n",
            "  inflating: Training/meningioma/Tr-me_0945.jpg  \n",
            "  inflating: Training/meningioma/Tr-me_0946.jpg  \n",
            "  inflating: Training/meningioma/Tr-me_0947.jpg  \n",
            "  inflating: Training/meningioma/Tr-me_0948.jpg  \n",
            "  inflating: Training/meningioma/Tr-me_0949.jpg  \n",
            "  inflating: Training/meningioma/Tr-me_0950.jpg  \n",
            "  inflating: Training/meningioma/Tr-me_0951.jpg  \n",
            "  inflating: Training/meningioma/Tr-me_0952.jpg  \n",
            "  inflating: Training/meningioma/Tr-me_0953.jpg  \n",
            "  inflating: Training/meningioma/Tr-me_0954.jpg  \n",
            "  inflating: Training/meningioma/Tr-me_0955.jpg  \n",
            "  inflating: Training/meningioma/Tr-me_0956.jpg  \n",
            "  inflating: Training/meningioma/Tr-me_0957.jpg  \n",
            "  inflating: Training/meningioma/Tr-me_0958.jpg  \n",
            "  inflating: Training/meningioma/Tr-me_0959.jpg  \n",
            "  inflating: Training/meningioma/Tr-me_0960.jpg  \n",
            "  inflating: Training/meningioma/Tr-me_0961.jpg  \n",
            "  inflating: Training/meningioma/Tr-me_0962.jpg  \n",
            "  inflating: Training/meningioma/Tr-me_0963.jpg  \n",
            "  inflating: Training/meningioma/Tr-me_0964.jpg  \n",
            "  inflating: Training/meningioma/Tr-me_0965.jpg  \n",
            "  inflating: Training/meningioma/Tr-me_0966.jpg  \n",
            "  inflating: Training/meningioma/Tr-me_0967.jpg  \n",
            "  inflating: Training/meningioma/Tr-me_0968.jpg  \n",
            "  inflating: Training/meningioma/Tr-me_0969.jpg  \n",
            "  inflating: Training/meningioma/Tr-me_0970.jpg  \n",
            "  inflating: Training/meningioma/Tr-me_0971.jpg  \n",
            "  inflating: Training/meningioma/Tr-me_0972.jpg  \n",
            "  inflating: Training/meningioma/Tr-me_0973.jpg  \n",
            "  inflating: Training/meningioma/Tr-me_0974.jpg  \n",
            "  inflating: Training/meningioma/Tr-me_0975.jpg  \n",
            "  inflating: Training/meningioma/Tr-me_0976.jpg  \n",
            "  inflating: Training/meningioma/Tr-me_0977.jpg  \n",
            "  inflating: Training/meningioma/Tr-me_0978.jpg  \n",
            "  inflating: Training/meningioma/Tr-me_0979.jpg  \n",
            "  inflating: Training/meningioma/Tr-me_0980.jpg  \n",
            "  inflating: Training/meningioma/Tr-me_0981.jpg  \n",
            "  inflating: Training/meningioma/Tr-me_0982.jpg  \n",
            "  inflating: Training/meningioma/Tr-me_0983.jpg  \n",
            "  inflating: Training/meningioma/Tr-me_0984.jpg  \n",
            "  inflating: Training/meningioma/Tr-me_0985.jpg  \n",
            "  inflating: Training/meningioma/Tr-me_0986.jpg  \n",
            "  inflating: Training/meningioma/Tr-me_0987.jpg  \n",
            "  inflating: Training/meningioma/Tr-me_0988.jpg  \n",
            "  inflating: Training/meningioma/Tr-me_0989.jpg  \n",
            "  inflating: Training/meningioma/Tr-me_0990.jpg  \n",
            "  inflating: Training/meningioma/Tr-me_0991.jpg  \n",
            "  inflating: Training/meningioma/Tr-me_0992.jpg  \n",
            "  inflating: Training/meningioma/Tr-me_0993.jpg  \n",
            "  inflating: Training/meningioma/Tr-me_0994.jpg  \n",
            "  inflating: Training/meningioma/Tr-me_0995.jpg  \n",
            "  inflating: Training/meningioma/Tr-me_0996.jpg  \n",
            "  inflating: Training/meningioma/Tr-me_0997.jpg  \n",
            "  inflating: Training/meningioma/Tr-me_0998.jpg  \n",
            "  inflating: Training/meningioma/Tr-me_0999.jpg  \n",
            "  inflating: Training/meningioma/Tr-me_1000.jpg  \n",
            "  inflating: Training/meningioma/Tr-me_1001.jpg  \n",
            "  inflating: Training/meningioma/Tr-me_1002.jpg  \n",
            "  inflating: Training/meningioma/Tr-me_1003.jpg  \n",
            "  inflating: Training/meningioma/Tr-me_1004.jpg  \n",
            "  inflating: Training/meningioma/Tr-me_1005.jpg  \n",
            "  inflating: Training/meningioma/Tr-me_1006.jpg  \n",
            "  inflating: Training/meningioma/Tr-me_1007.jpg  \n",
            "  inflating: Training/meningioma/Tr-me_1008.jpg  \n",
            "  inflating: Training/meningioma/Tr-me_1009.jpg  \n",
            "  inflating: Training/meningioma/Tr-me_1010.jpg  \n",
            "  inflating: Training/meningioma/Tr-me_1011.jpg  \n",
            "  inflating: Training/meningioma/Tr-me_1012.jpg  \n",
            "  inflating: Training/meningioma/Tr-me_1013.jpg  \n",
            "  inflating: Training/meningioma/Tr-me_1014.jpg  \n",
            "  inflating: Training/meningioma/Tr-me_1015.jpg  \n",
            "  inflating: Training/meningioma/Tr-me_1016.jpg  \n",
            "  inflating: Training/meningioma/Tr-me_1017.jpg  \n",
            "  inflating: Training/meningioma/Tr-me_1018.jpg  \n",
            "  inflating: Training/meningioma/Tr-me_1019.jpg  \n",
            "  inflating: Training/meningioma/Tr-me_1020.jpg  \n",
            "  inflating: Training/meningioma/Tr-me_1021.jpg  \n",
            "  inflating: Training/meningioma/Tr-me_1022.jpg  \n",
            "  inflating: Training/meningioma/Tr-me_1023.jpg  \n",
            "  inflating: Training/meningioma/Tr-me_1024.jpg  \n",
            "  inflating: Training/meningioma/Tr-me_1025.jpg  \n",
            "  inflating: Training/meningioma/Tr-me_1026.jpg  \n",
            "  inflating: Training/meningioma/Tr-me_1027.jpg  \n",
            "  inflating: Training/meningioma/Tr-me_1028.jpg  \n",
            "  inflating: Training/meningioma/Tr-me_1029.jpg  \n",
            "  inflating: Training/meningioma/Tr-me_1030.jpg  \n",
            "  inflating: Training/meningioma/Tr-me_1031.jpg  \n",
            "  inflating: Training/meningioma/Tr-me_1032.jpg  \n",
            "  inflating: Training/meningioma/Tr-me_1033.jpg  \n",
            "  inflating: Training/meningioma/Tr-me_1034.jpg  \n",
            "  inflating: Training/meningioma/Tr-me_1035.jpg  \n",
            "  inflating: Training/meningioma/Tr-me_1036.jpg  \n",
            "  inflating: Training/meningioma/Tr-me_1037.jpg  \n",
            "  inflating: Training/meningioma/Tr-me_1038.jpg  \n",
            "  inflating: Training/meningioma/Tr-me_1039.jpg  \n",
            "  inflating: Training/meningioma/Tr-me_1040.jpg  \n",
            "  inflating: Training/meningioma/Tr-me_1041.jpg  \n",
            "  inflating: Training/meningioma/Tr-me_1042.jpg  \n",
            "  inflating: Training/meningioma/Tr-me_1043.jpg  \n",
            "  inflating: Training/meningioma/Tr-me_1044.jpg  \n",
            "  inflating: Training/meningioma/Tr-me_1045.jpg  \n",
            "  inflating: Training/meningioma/Tr-me_1046.jpg  \n",
            "  inflating: Training/meningioma/Tr-me_1047.jpg  \n",
            "  inflating: Training/meningioma/Tr-me_1048.jpg  \n",
            "  inflating: Training/meningioma/Tr-me_1049.jpg  \n",
            "  inflating: Training/meningioma/Tr-me_1050.jpg  \n",
            "  inflating: Training/meningioma/Tr-me_1051.jpg  \n",
            "  inflating: Training/meningioma/Tr-me_1052.jpg  \n",
            "  inflating: Training/meningioma/Tr-me_1053.jpg  \n",
            "  inflating: Training/meningioma/Tr-me_1054.jpg  \n",
            "  inflating: Training/meningioma/Tr-me_1055.jpg  \n",
            "  inflating: Training/meningioma/Tr-me_1056.jpg  \n",
            "  inflating: Training/meningioma/Tr-me_1057.jpg  \n",
            "  inflating: Training/meningioma/Tr-me_1058.jpg  \n",
            "  inflating: Training/meningioma/Tr-me_1059.jpg  \n",
            "  inflating: Training/meningioma/Tr-me_1060.jpg  \n",
            "  inflating: Training/meningioma/Tr-me_1061.jpg  \n",
            "  inflating: Training/meningioma/Tr-me_1062.jpg  \n",
            "  inflating: Training/meningioma/Tr-me_1063.jpg  \n",
            "  inflating: Training/meningioma/Tr-me_1064.jpg  \n",
            "  inflating: Training/meningioma/Tr-me_1065.jpg  \n",
            "  inflating: Training/meningioma/Tr-me_1066.jpg  \n",
            "  inflating: Training/meningioma/Tr-me_1067.jpg  \n",
            "  inflating: Training/meningioma/Tr-me_1068.jpg  \n",
            "  inflating: Training/meningioma/Tr-me_1069.jpg  \n",
            "  inflating: Training/meningioma/Tr-me_1070.jpg  \n",
            "  inflating: Training/meningioma/Tr-me_1071.jpg  \n",
            "  inflating: Training/meningioma/Tr-me_1072.jpg  \n",
            "  inflating: Training/meningioma/Tr-me_1073.jpg  \n",
            "  inflating: Training/meningioma/Tr-me_1074.jpg  \n",
            "  inflating: Training/meningioma/Tr-me_1075.jpg  \n",
            "  inflating: Training/meningioma/Tr-me_1076.jpg  \n",
            "  inflating: Training/meningioma/Tr-me_1077.jpg  \n",
            "  inflating: Training/meningioma/Tr-me_1078.jpg  \n",
            "  inflating: Training/meningioma/Tr-me_1079.jpg  \n",
            "  inflating: Training/meningioma/Tr-me_1080.jpg  \n",
            "  inflating: Training/meningioma/Tr-me_1081.jpg  \n",
            "  inflating: Training/meningioma/Tr-me_1082.jpg  \n",
            "  inflating: Training/meningioma/Tr-me_1083.jpg  \n",
            "  inflating: Training/meningioma/Tr-me_1084.jpg  \n",
            "  inflating: Training/meningioma/Tr-me_1085.jpg  \n",
            "  inflating: Training/meningioma/Tr-me_1086.jpg  \n",
            "  inflating: Training/meningioma/Tr-me_1087.jpg  \n",
            "  inflating: Training/meningioma/Tr-me_1088.jpg  \n",
            "  inflating: Training/meningioma/Tr-me_1089.jpg  \n",
            "  inflating: Training/meningioma/Tr-me_1090.jpg  \n",
            "  inflating: Training/meningioma/Tr-me_1091.jpg  \n",
            "  inflating: Training/meningioma/Tr-me_1092.jpg  \n",
            "  inflating: Training/meningioma/Tr-me_1093.jpg  \n",
            "  inflating: Training/meningioma/Tr-me_1094.jpg  \n",
            "  inflating: Training/meningioma/Tr-me_1095.jpg  \n",
            "  inflating: Training/meningioma/Tr-me_1096.jpg  \n",
            "  inflating: Training/meningioma/Tr-me_1097.jpg  \n",
            "  inflating: Training/meningioma/Tr-me_1098.jpg  \n",
            "  inflating: Training/meningioma/Tr-me_1099.jpg  \n",
            "  inflating: Training/meningioma/Tr-me_1100.jpg  \n",
            "  inflating: Training/meningioma/Tr-me_1101.jpg  \n",
            "  inflating: Training/meningioma/Tr-me_1102.jpg  \n",
            "  inflating: Training/meningioma/Tr-me_1103.jpg  \n",
            "  inflating: Training/meningioma/Tr-me_1104.jpg  \n",
            "  inflating: Training/meningioma/Tr-me_1105.jpg  \n",
            "  inflating: Training/meningioma/Tr-me_1106.jpg  \n",
            "  inflating: Training/meningioma/Tr-me_1107.jpg  \n",
            "  inflating: Training/meningioma/Tr-me_1108.jpg  \n",
            "  inflating: Training/meningioma/Tr-me_1109.jpg  \n",
            "  inflating: Training/meningioma/Tr-me_1110.jpg  \n",
            "  inflating: Training/meningioma/Tr-me_1111.jpg  \n",
            "  inflating: Training/meningioma/Tr-me_1112.jpg  \n",
            "  inflating: Training/meningioma/Tr-me_1113.jpg  \n",
            "  inflating: Training/meningioma/Tr-me_1114.jpg  \n",
            "  inflating: Training/meningioma/Tr-me_1115.jpg  \n",
            "  inflating: Training/meningioma/Tr-me_1116.jpg  \n",
            "  inflating: Training/meningioma/Tr-me_1117.jpg  \n",
            "  inflating: Training/meningioma/Tr-me_1118.jpg  \n",
            "  inflating: Training/meningioma/Tr-me_1119.jpg  \n",
            "  inflating: Training/meningioma/Tr-me_1120.jpg  \n",
            "  inflating: Training/meningioma/Tr-me_1121.jpg  \n",
            "  inflating: Training/meningioma/Tr-me_1122.jpg  \n",
            "  inflating: Training/meningioma/Tr-me_1123.jpg  \n",
            "  inflating: Training/meningioma/Tr-me_1124.jpg  \n",
            "  inflating: Training/meningioma/Tr-me_1125.jpg  \n",
            "  inflating: Training/meningioma/Tr-me_1126.jpg  \n",
            "  inflating: Training/meningioma/Tr-me_1127.jpg  \n",
            "  inflating: Training/meningioma/Tr-me_1128.jpg  \n",
            "  inflating: Training/meningioma/Tr-me_1129.jpg  \n",
            "  inflating: Training/meningioma/Tr-me_1130.jpg  \n",
            "  inflating: Training/meningioma/Tr-me_1131.jpg  \n",
            "  inflating: Training/meningioma/Tr-me_1132.jpg  \n",
            "  inflating: Training/meningioma/Tr-me_1133.jpg  \n",
            "  inflating: Training/meningioma/Tr-me_1134.jpg  \n",
            "  inflating: Training/meningioma/Tr-me_1135.jpg  \n",
            "  inflating: Training/meningioma/Tr-me_1136.jpg  \n",
            "  inflating: Training/meningioma/Tr-me_1137.jpg  \n",
            "  inflating: Training/meningioma/Tr-me_1138.jpg  \n",
            "  inflating: Training/meningioma/Tr-me_1139.jpg  \n",
            "  inflating: Training/meningioma/Tr-me_1140.jpg  \n",
            "  inflating: Training/meningioma/Tr-me_1141.jpg  \n",
            "  inflating: Training/meningioma/Tr-me_1142.jpg  \n",
            "  inflating: Training/meningioma/Tr-me_1143.jpg  \n",
            "  inflating: Training/meningioma/Tr-me_1144.jpg  \n",
            "  inflating: Training/meningioma/Tr-me_1145.jpg  \n",
            "  inflating: Training/meningioma/Tr-me_1146.jpg  \n",
            "  inflating: Training/meningioma/Tr-me_1147.jpg  \n",
            "  inflating: Training/meningioma/Tr-me_1148.jpg  \n",
            "  inflating: Training/meningioma/Tr-me_1149.jpg  \n",
            "  inflating: Training/meningioma/Tr-me_1150.jpg  \n",
            "  inflating: Training/meningioma/Tr-me_1151.jpg  \n",
            "  inflating: Training/meningioma/Tr-me_1152.jpg  \n",
            "  inflating: Training/meningioma/Tr-me_1153.jpg  \n",
            "  inflating: Training/meningioma/Tr-me_1154.jpg  \n",
            "  inflating: Training/meningioma/Tr-me_1155.jpg  \n",
            "  inflating: Training/meningioma/Tr-me_1156.jpg  \n",
            "  inflating: Training/meningioma/Tr-me_1157.jpg  \n",
            "  inflating: Training/meningioma/Tr-me_1158.jpg  \n",
            "  inflating: Training/meningioma/Tr-me_1159.jpg  \n",
            "  inflating: Training/meningioma/Tr-me_1160.jpg  \n",
            "  inflating: Training/meningioma/Tr-me_1161.jpg  \n",
            "  inflating: Training/meningioma/Tr-me_1162.jpg  \n",
            "  inflating: Training/meningioma/Tr-me_1163.jpg  \n",
            "  inflating: Training/meningioma/Tr-me_1164.jpg  \n",
            "  inflating: Training/meningioma/Tr-me_1165.jpg  \n",
            "  inflating: Training/meningioma/Tr-me_1166.jpg  \n",
            "  inflating: Training/meningioma/Tr-me_1167.jpg  \n",
            "  inflating: Training/meningioma/Tr-me_1168.jpg  \n",
            "  inflating: Training/meningioma/Tr-me_1169.jpg  \n",
            "  inflating: Training/meningioma/Tr-me_1170.jpg  \n",
            "  inflating: Training/meningioma/Tr-me_1171.jpg  \n",
            "  inflating: Training/meningioma/Tr-me_1172.jpg  \n",
            "  inflating: Training/meningioma/Tr-me_1173.jpg  \n",
            "  inflating: Training/meningioma/Tr-me_1174.jpg  \n",
            "  inflating: Training/meningioma/Tr-me_1175.jpg  \n",
            "  inflating: Training/meningioma/Tr-me_1176.jpg  \n",
            "  inflating: Training/meningioma/Tr-me_1177.jpg  \n",
            "  inflating: Training/meningioma/Tr-me_1178.jpg  \n",
            "  inflating: Training/meningioma/Tr-me_1179.jpg  \n",
            "  inflating: Training/meningioma/Tr-me_1180.jpg  \n",
            "  inflating: Training/meningioma/Tr-me_1181.jpg  \n",
            "  inflating: Training/meningioma/Tr-me_1182.jpg  \n",
            "  inflating: Training/meningioma/Tr-me_1183.jpg  \n",
            "  inflating: Training/meningioma/Tr-me_1184.jpg  \n",
            "  inflating: Training/meningioma/Tr-me_1185.jpg  \n",
            "  inflating: Training/meningioma/Tr-me_1186.jpg  \n",
            "  inflating: Training/meningioma/Tr-me_1187.jpg  \n",
            "  inflating: Training/meningioma/Tr-me_1188.jpg  \n",
            "  inflating: Training/meningioma/Tr-me_1189.jpg  \n",
            "  inflating: Training/meningioma/Tr-me_1190.jpg  \n",
            "  inflating: Training/meningioma/Tr-me_1191.jpg  \n",
            "  inflating: Training/meningioma/Tr-me_1192.jpg  \n",
            "  inflating: Training/meningioma/Tr-me_1193.jpg  \n",
            "  inflating: Training/meningioma/Tr-me_1194.jpg  \n",
            "  inflating: Training/meningioma/Tr-me_1195.jpg  \n",
            "  inflating: Training/meningioma/Tr-me_1196.jpg  \n",
            "  inflating: Training/meningioma/Tr-me_1197.jpg  \n",
            "  inflating: Training/meningioma/Tr-me_1198.jpg  \n",
            "  inflating: Training/meningioma/Tr-me_1199.jpg  \n",
            "  inflating: Training/meningioma/Tr-me_1200.jpg  \n",
            "  inflating: Training/meningioma/Tr-me_1201.jpg  \n",
            "  inflating: Training/meningioma/Tr-me_1202.jpg  \n",
            "  inflating: Training/meningioma/Tr-me_1203.jpg  \n",
            "  inflating: Training/meningioma/Tr-me_1204.jpg  \n",
            "  inflating: Training/meningioma/Tr-me_1205.jpg  \n",
            "  inflating: Training/meningioma/Tr-me_1206.jpg  \n",
            "  inflating: Training/meningioma/Tr-me_1207.jpg  \n",
            "  inflating: Training/meningioma/Tr-me_1208.jpg  \n",
            "  inflating: Training/meningioma/Tr-me_1209.jpg  \n",
            "  inflating: Training/meningioma/Tr-me_1210.jpg  \n",
            "  inflating: Training/meningioma/Tr-me_1211.jpg  \n",
            "  inflating: Training/meningioma/Tr-me_1212.jpg  \n",
            "  inflating: Training/meningioma/Tr-me_1213.jpg  \n",
            "  inflating: Training/meningioma/Tr-me_1214.jpg  \n",
            "  inflating: Training/meningioma/Tr-me_1215.jpg  \n",
            "  inflating: Training/meningioma/Tr-me_1216.jpg  \n",
            "  inflating: Training/meningioma/Tr-me_1217.jpg  \n",
            "  inflating: Training/meningioma/Tr-me_1218.jpg  \n",
            "  inflating: Training/meningioma/Tr-me_1219.jpg  \n",
            "  inflating: Training/meningioma/Tr-me_1220.jpg  \n",
            "  inflating: Training/meningioma/Tr-me_1221.jpg  \n",
            "  inflating: Training/meningioma/Tr-me_1222.jpg  \n",
            "  inflating: Training/meningioma/Tr-me_1223.jpg  \n",
            "  inflating: Training/meningioma/Tr-me_1224.jpg  \n",
            "  inflating: Training/meningioma/Tr-me_1225.jpg  \n",
            "  inflating: Training/meningioma/Tr-me_1226.jpg  \n",
            "  inflating: Training/meningioma/Tr-me_1227.jpg  \n",
            "  inflating: Training/meningioma/Tr-me_1228.jpg  \n",
            "  inflating: Training/meningioma/Tr-me_1229.jpg  \n",
            "  inflating: Training/meningioma/Tr-me_1230.jpg  \n",
            "  inflating: Training/meningioma/Tr-me_1231.jpg  \n",
            "  inflating: Training/meningioma/Tr-me_1232.jpg  \n",
            "  inflating: Training/meningioma/Tr-me_1233.jpg  \n",
            "  inflating: Training/meningioma/Tr-me_1234.jpg  \n",
            "  inflating: Training/meningioma/Tr-me_1235.jpg  \n",
            "  inflating: Training/meningioma/Tr-me_1236.jpg  \n",
            "  inflating: Training/meningioma/Tr-me_1237.jpg  \n",
            "  inflating: Training/meningioma/Tr-me_1238.jpg  \n",
            "  inflating: Training/meningioma/Tr-me_1239.jpg  \n",
            "  inflating: Training/meningioma/Tr-me_1240.jpg  \n",
            "  inflating: Training/meningioma/Tr-me_1241.jpg  \n",
            "  inflating: Training/meningioma/Tr-me_1242.jpg  \n",
            "  inflating: Training/meningioma/Tr-me_1243.jpg  \n",
            "  inflating: Training/meningioma/Tr-me_1244.jpg  \n",
            "  inflating: Training/meningioma/Tr-me_1245.jpg  \n",
            "  inflating: Training/meningioma/Tr-me_1246.jpg  \n",
            "  inflating: Training/meningioma/Tr-me_1247.jpg  \n",
            "  inflating: Training/meningioma/Tr-me_1248.jpg  \n",
            "  inflating: Training/meningioma/Tr-me_1249.jpg  \n",
            "  inflating: Training/meningioma/Tr-me_1250.jpg  \n",
            "  inflating: Training/meningioma/Tr-me_1251.jpg  \n",
            "  inflating: Training/meningioma/Tr-me_1252.jpg  \n",
            "  inflating: Training/meningioma/Tr-me_1253.jpg  \n",
            "  inflating: Training/meningioma/Tr-me_1254.jpg  \n",
            "  inflating: Training/meningioma/Tr-me_1255.jpg  \n",
            "  inflating: Training/meningioma/Tr-me_1256.jpg  \n",
            "  inflating: Training/meningioma/Tr-me_1257.jpg  \n",
            "  inflating: Training/meningioma/Tr-me_1258.jpg  \n",
            "  inflating: Training/meningioma/Tr-me_1259.jpg  \n",
            "  inflating: Training/meningioma/Tr-me_1260.jpg  \n",
            "  inflating: Training/meningioma/Tr-me_1261.jpg  \n",
            "  inflating: Training/meningioma/Tr-me_1262.jpg  \n",
            "  inflating: Training/meningioma/Tr-me_1263.jpg  \n",
            "  inflating: Training/meningioma/Tr-me_1264.jpg  \n",
            "  inflating: Training/meningioma/Tr-me_1265.jpg  \n",
            "  inflating: Training/meningioma/Tr-me_1266.jpg  \n",
            "  inflating: Training/meningioma/Tr-me_1267.jpg  \n",
            "  inflating: Training/meningioma/Tr-me_1268.jpg  \n",
            "  inflating: Training/meningioma/Tr-me_1269.jpg  \n",
            "  inflating: Training/meningioma/Tr-me_1270.jpg  \n",
            "  inflating: Training/meningioma/Tr-me_1271.jpg  \n",
            "  inflating: Training/meningioma/Tr-me_1272.jpg  \n",
            "  inflating: Training/meningioma/Tr-me_1273.jpg  \n",
            "  inflating: Training/meningioma/Tr-me_1274.jpg  \n",
            "  inflating: Training/meningioma/Tr-me_1275.jpg  \n",
            "  inflating: Training/meningioma/Tr-me_1276.jpg  \n",
            "  inflating: Training/meningioma/Tr-me_1277.jpg  \n",
            "  inflating: Training/meningioma/Tr-me_1278.jpg  \n",
            "  inflating: Training/meningioma/Tr-me_1279.jpg  \n",
            "  inflating: Training/meningioma/Tr-me_1280.jpg  \n",
            "  inflating: Training/meningioma/Tr-me_1281.jpg  \n",
            "  inflating: Training/meningioma/Tr-me_1282.jpg  \n",
            "  inflating: Training/meningioma/Tr-me_1283.jpg  \n",
            "  inflating: Training/meningioma/Tr-me_1284.jpg  \n",
            "  inflating: Training/meningioma/Tr-me_1285.jpg  \n",
            "  inflating: Training/meningioma/Tr-me_1286.jpg  \n",
            "  inflating: Training/meningioma/Tr-me_1287.jpg  \n",
            "  inflating: Training/meningioma/Tr-me_1288.jpg  \n",
            "  inflating: Training/meningioma/Tr-me_1289.jpg  \n",
            "  inflating: Training/meningioma/Tr-me_1290.jpg  \n",
            "  inflating: Training/meningioma/Tr-me_1291.jpg  \n",
            "  inflating: Training/meningioma/Tr-me_1292.jpg  \n",
            "  inflating: Training/meningioma/Tr-me_1293.jpg  \n",
            "  inflating: Training/meningioma/Tr-me_1294.jpg  \n",
            "  inflating: Training/meningioma/Tr-me_1295.jpg  \n",
            "  inflating: Training/meningioma/Tr-me_1296.jpg  \n",
            "  inflating: Training/meningioma/Tr-me_1297.jpg  \n",
            "  inflating: Training/meningioma/Tr-me_1298.jpg  \n",
            "  inflating: Training/meningioma/Tr-me_1299.jpg  \n",
            "  inflating: Training/meningioma/Tr-me_1300.jpg  \n",
            "  inflating: Training/meningioma/Tr-me_1301.jpg  \n",
            "  inflating: Training/meningioma/Tr-me_1302.jpg  \n",
            "  inflating: Training/meningioma/Tr-me_1303.jpg  \n",
            "  inflating: Training/meningioma/Tr-me_1304.jpg  \n",
            "  inflating: Training/meningioma/Tr-me_1305.jpg  \n",
            "  inflating: Training/meningioma/Tr-me_1306.jpg  \n",
            "  inflating: Training/meningioma/Tr-me_1307.jpg  \n",
            "  inflating: Training/meningioma/Tr-me_1308.jpg  \n",
            "  inflating: Training/meningioma/Tr-me_1309.jpg  \n",
            "  inflating: Training/meningioma/Tr-me_1310.jpg  \n",
            "  inflating: Training/meningioma/Tr-me_1311.jpg  \n",
            "  inflating: Training/meningioma/Tr-me_1312.jpg  \n",
            "  inflating: Training/meningioma/Tr-me_1313.jpg  \n",
            "  inflating: Training/meningioma/Tr-me_1314.jpg  \n",
            "  inflating: Training/meningioma/Tr-me_1315.jpg  \n",
            "  inflating: Training/meningioma/Tr-me_1316.jpg  \n",
            "  inflating: Training/meningioma/Tr-me_1317.jpg  \n",
            "  inflating: Training/meningioma/Tr-me_1318.jpg  \n",
            "  inflating: Training/meningioma/Tr-me_1319.jpg  \n",
            "  inflating: Training/meningioma/Tr-me_1320.jpg  \n",
            "  inflating: Training/meningioma/Tr-me_1321.jpg  \n",
            "  inflating: Training/meningioma/Tr-me_1322.jpg  \n",
            "  inflating: Training/meningioma/Tr-me_1323.jpg  \n",
            "  inflating: Training/meningioma/Tr-me_1324.jpg  \n",
            "  inflating: Training/meningioma/Tr-me_1325.jpg  \n",
            "  inflating: Training/meningioma/Tr-me_1326.jpg  \n",
            "  inflating: Training/meningioma/Tr-me_1327.jpg  \n",
            "  inflating: Training/meningioma/Tr-me_1328.jpg  \n",
            "  inflating: Training/meningioma/Tr-me_1329.jpg  \n",
            "  inflating: Training/meningioma/Tr-me_1330.jpg  \n",
            "  inflating: Training/meningioma/Tr-me_1331.jpg  \n",
            "  inflating: Training/meningioma/Tr-me_1332.jpg  \n",
            "  inflating: Training/meningioma/Tr-me_1333.jpg  \n",
            "  inflating: Training/meningioma/Tr-me_1334.jpg  \n",
            "  inflating: Training/meningioma/Tr-me_1335.jpg  \n",
            "  inflating: Training/meningioma/Tr-me_1336.jpg  \n",
            "  inflating: Training/meningioma/Tr-me_1337.jpg  \n",
            "  inflating: Training/meningioma/Tr-me_1338.jpg  \n",
            "  inflating: Training/notumor/Tr-noTr_0000.jpg  \n",
            "  inflating: Training/notumor/Tr-noTr_0001.jpg  \n",
            "  inflating: Training/notumor/Tr-noTr_0002.jpg  \n",
            "  inflating: Training/notumor/Tr-noTr_0003.jpg  \n",
            "  inflating: Training/notumor/Tr-noTr_0004.jpg  \n",
            "  inflating: Training/notumor/Tr-noTr_0005.jpg  \n",
            "  inflating: Training/notumor/Tr-noTr_0006.jpg  \n",
            "  inflating: Training/notumor/Tr-noTr_0007.jpg  \n",
            "  inflating: Training/notumor/Tr-noTr_0008.jpg  \n",
            "  inflating: Training/notumor/Tr-noTr_0009.jpg  \n",
            "  inflating: Training/notumor/Tr-no_0010.jpg  \n",
            "  inflating: Training/notumor/Tr-no_0011.jpg  \n",
            "  inflating: Training/notumor/Tr-no_0012.jpg  \n",
            "  inflating: Training/notumor/Tr-no_0013.jpg  \n",
            "  inflating: Training/notumor/Tr-no_0014.jpg  \n",
            "  inflating: Training/notumor/Tr-no_0015.jpg  \n",
            "  inflating: Training/notumor/Tr-no_0016.jpg  \n",
            "  inflating: Training/notumor/Tr-no_0017.jpg  \n",
            "  inflating: Training/notumor/Tr-no_0018.jpg  \n",
            "  inflating: Training/notumor/Tr-no_0019.jpg  \n",
            "  inflating: Training/notumor/Tr-no_0020.jpg  \n",
            "  inflating: Training/notumor/Tr-no_0021.jpg  \n",
            "  inflating: Training/notumor/Tr-no_0022.jpg  \n",
            "  inflating: Training/notumor/Tr-no_0023.jpg  \n",
            "  inflating: Training/notumor/Tr-no_0024.jpg  \n",
            "  inflating: Training/notumor/Tr-no_0025.jpg  \n",
            "  inflating: Training/notumor/Tr-no_0026.jpg  \n",
            "  inflating: Training/notumor/Tr-no_0027.jpg  \n",
            "  inflating: Training/notumor/Tr-no_0028.jpg  \n",
            "  inflating: Training/notumor/Tr-no_0029.jpg  \n",
            "  inflating: Training/notumor/Tr-no_0030.jpg  \n",
            "  inflating: Training/notumor/Tr-no_0031.jpg  \n",
            "  inflating: Training/notumor/Tr-no_0032.jpg  \n",
            "  inflating: Training/notumor/Tr-no_0033.jpg  \n",
            "  inflating: Training/notumor/Tr-no_0034.jpg  \n",
            "  inflating: Training/notumor/Tr-no_0035.jpg  \n",
            "  inflating: Training/notumor/Tr-no_0036.jpg  \n",
            "  inflating: Training/notumor/Tr-no_0037.jpg  \n",
            "  inflating: Training/notumor/Tr-no_0038.jpg  \n",
            "  inflating: Training/notumor/Tr-no_0039.jpg  \n",
            "  inflating: Training/notumor/Tr-no_0040.jpg  \n",
            "  inflating: Training/notumor/Tr-no_0041.jpg  \n",
            "  inflating: Training/notumor/Tr-no_0042.jpg  \n",
            "  inflating: Training/notumor/Tr-no_0043.jpg  \n",
            "  inflating: Training/notumor/Tr-no_0044.jpg  \n",
            "  inflating: Training/notumor/Tr-no_0045.jpg  \n",
            "  inflating: Training/notumor/Tr-no_0046.jpg  \n",
            "  inflating: Training/notumor/Tr-no_0047.jpg  \n",
            "  inflating: Training/notumor/Tr-no_0048.jpg  \n",
            "  inflating: Training/notumor/Tr-no_0049.jpg  \n",
            "  inflating: Training/notumor/Tr-no_0050.jpg  \n",
            "  inflating: Training/notumor/Tr-no_0051.jpg  \n",
            "  inflating: Training/notumor/Tr-no_0052.jpg  \n",
            "  inflating: Training/notumor/Tr-no_0053.jpg  \n",
            "  inflating: Training/notumor/Tr-no_0054.jpg  \n",
            "  inflating: Training/notumor/Tr-no_0055.jpg  \n",
            "  inflating: Training/notumor/Tr-no_0056.jpg  \n",
            "  inflating: Training/notumor/Tr-no_0057.jpg  \n",
            "  inflating: Training/notumor/Tr-no_0058.jpg  \n",
            "  inflating: Training/notumor/Tr-no_0059.jpg  \n",
            "  inflating: Training/notumor/Tr-no_0060.jpg  \n",
            "  inflating: Training/notumor/Tr-no_0061.jpg  \n",
            "  inflating: Training/notumor/Tr-no_0062.jpg  \n",
            "  inflating: Training/notumor/Tr-no_0063.jpg  \n",
            "  inflating: Training/notumor/Tr-no_0064.jpg  \n",
            "  inflating: Training/notumor/Tr-no_0065.jpg  \n",
            "  inflating: Training/notumor/Tr-no_0066.jpg  \n",
            "  inflating: Training/notumor/Tr-no_0067.jpg  \n",
            "  inflating: Training/notumor/Tr-no_0068.jpg  \n",
            "  inflating: Training/notumor/Tr-no_0069.jpg  \n",
            "  inflating: Training/notumor/Tr-no_0070.jpg  \n",
            "  inflating: Training/notumor/Tr-no_0071.jpg  \n",
            "  inflating: Training/notumor/Tr-no_0072.jpg  \n",
            "  inflating: Training/notumor/Tr-no_0073.jpg  \n",
            "  inflating: Training/notumor/Tr-no_0074.jpg  \n",
            "  inflating: Training/notumor/Tr-no_0075.jpg  \n",
            "  inflating: Training/notumor/Tr-no_0076.jpg  \n",
            "  inflating: Training/notumor/Tr-no_0077.jpg  \n",
            "  inflating: Training/notumor/Tr-no_0078.jpg  \n",
            "  inflating: Training/notumor/Tr-no_0079.jpg  \n",
            "  inflating: Training/notumor/Tr-no_0080.jpg  \n",
            "  inflating: Training/notumor/Tr-no_0081.jpg  \n",
            "  inflating: Training/notumor/Tr-no_0082.jpg  \n",
            "  inflating: Training/notumor/Tr-no_0083.jpg  \n",
            "  inflating: Training/notumor/Tr-no_0084.jpg  \n",
            "  inflating: Training/notumor/Tr-no_0085.jpg  \n",
            "  inflating: Training/notumor/Tr-no_0086.jpg  \n",
            "  inflating: Training/notumor/Tr-no_0087.jpg  \n",
            "  inflating: Training/notumor/Tr-no_0088.jpg  \n",
            "  inflating: Training/notumor/Tr-no_0089.jpg  \n",
            "  inflating: Training/notumor/Tr-no_0090.jpg  \n",
            "  inflating: Training/notumor/Tr-no_0091.jpg  \n",
            "  inflating: Training/notumor/Tr-no_0092.jpg  \n",
            "  inflating: Training/notumor/Tr-no_0093.jpg  \n",
            "  inflating: Training/notumor/Tr-no_0094.jpg  \n",
            "  inflating: Training/notumor/Tr-no_0095.jpg  \n",
            "  inflating: Training/notumor/Tr-no_0096.jpg  \n",
            "  inflating: Training/notumor/Tr-no_0097.jpg  \n",
            "  inflating: Training/notumor/Tr-no_0098.jpg  \n",
            "  inflating: Training/notumor/Tr-no_0099.jpg  \n",
            "  inflating: Training/notumor/Tr-no_0100.jpg  \n",
            "  inflating: Training/notumor/Tr-no_0101.jpg  \n",
            "  inflating: Training/notumor/Tr-no_0102.jpg  \n",
            "  inflating: Training/notumor/Tr-no_0103.jpg  \n",
            "  inflating: Training/notumor/Tr-no_0104.jpg  \n",
            "  inflating: Training/notumor/Tr-no_0105.jpg  \n",
            "  inflating: Training/notumor/Tr-no_0106.jpg  \n",
            "  inflating: Training/notumor/Tr-no_0107.jpg  \n",
            "  inflating: Training/notumor/Tr-no_0108.jpg  \n",
            "  inflating: Training/notumor/Tr-no_0109.jpg  \n",
            "  inflating: Training/notumor/Tr-no_0110.jpg  \n",
            "  inflating: Training/notumor/Tr-no_0111.jpg  \n",
            "  inflating: Training/notumor/Tr-no_0112.jpg  \n",
            "  inflating: Training/notumor/Tr-no_0113.jpg  \n",
            "  inflating: Training/notumor/Tr-no_0114.jpg  \n",
            "  inflating: Training/notumor/Tr-no_0115.jpg  \n",
            "  inflating: Training/notumor/Tr-no_0116.jpg  \n",
            "  inflating: Training/notumor/Tr-no_0117.jpg  \n",
            "  inflating: Training/notumor/Tr-no_0118.jpg  \n",
            "  inflating: Training/notumor/Tr-no_0119.jpg  \n",
            "  inflating: Training/notumor/Tr-no_0120.jpg  \n",
            "  inflating: Training/notumor/Tr-no_0121.jpg  \n",
            "  inflating: Training/notumor/Tr-no_0122.jpg  \n",
            "  inflating: Training/notumor/Tr-no_0123.jpg  \n",
            "  inflating: Training/notumor/Tr-no_0124.jpg  \n",
            "  inflating: Training/notumor/Tr-no_0125.jpg  \n",
            "  inflating: Training/notumor/Tr-no_0126.jpg  \n",
            "  inflating: Training/notumor/Tr-no_0127.jpg  \n",
            "  inflating: Training/notumor/Tr-no_0128.jpg  \n",
            "  inflating: Training/notumor/Tr-no_0129.jpg  \n",
            "  inflating: Training/notumor/Tr-no_0130.jpg  \n",
            "  inflating: Training/notumor/Tr-no_0131.jpg  \n",
            "  inflating: Training/notumor/Tr-no_0132.jpg  \n",
            "  inflating: Training/notumor/Tr-no_0133.jpg  \n",
            "  inflating: Training/notumor/Tr-no_0134.jpg  \n",
            "  inflating: Training/notumor/Tr-no_0135.jpg  \n",
            "  inflating: Training/notumor/Tr-no_0136.jpg  \n",
            "  inflating: Training/notumor/Tr-no_0137.jpg  \n",
            "  inflating: Training/notumor/Tr-no_0138.jpg  \n",
            "  inflating: Training/notumor/Tr-no_0139.jpg  \n",
            "  inflating: Training/notumor/Tr-no_0140.jpg  \n",
            "  inflating: Training/notumor/Tr-no_0141.jpg  \n",
            "  inflating: Training/notumor/Tr-no_0142.jpg  \n",
            "  inflating: Training/notumor/Tr-no_0143.jpg  \n",
            "  inflating: Training/notumor/Tr-no_0144.jpg  \n",
            "  inflating: Training/notumor/Tr-no_0145.jpg  \n",
            "  inflating: Training/notumor/Tr-no_0146.jpg  \n",
            "  inflating: Training/notumor/Tr-no_0147.jpg  \n",
            "  inflating: Training/notumor/Tr-no_0148.jpg  \n",
            "  inflating: Training/notumor/Tr-no_0149.jpg  \n",
            "  inflating: Training/notumor/Tr-no_0150.jpg  \n",
            "  inflating: Training/notumor/Tr-no_0151.jpg  \n",
            "  inflating: Training/notumor/Tr-no_0152.jpg  \n",
            "  inflating: Training/notumor/Tr-no_0153.jpg  \n",
            "  inflating: Training/notumor/Tr-no_0154.jpg  \n",
            "  inflating: Training/notumor/Tr-no_0155.jpg  \n",
            "  inflating: Training/notumor/Tr-no_0156.jpg  \n",
            "  inflating: Training/notumor/Tr-no_0157.jpg  \n",
            "  inflating: Training/notumor/Tr-no_0158.jpg  \n",
            "  inflating: Training/notumor/Tr-no_0159.jpg  \n",
            "  inflating: Training/notumor/Tr-no_0160.jpg  \n",
            "  inflating: Training/notumor/Tr-no_0161.jpg  \n",
            "  inflating: Training/notumor/Tr-no_0162.jpg  \n",
            "  inflating: Training/notumor/Tr-no_0163.jpg  \n",
            "  inflating: Training/notumor/Tr-no_0164.jpg  \n",
            "  inflating: Training/notumor/Tr-no_0165.jpg  \n",
            "  inflating: Training/notumor/Tr-no_0166.jpg  \n",
            "  inflating: Training/notumor/Tr-no_0167.jpg  \n",
            "  inflating: Training/notumor/Tr-no_0168.jpg  \n",
            "  inflating: Training/notumor/Tr-no_0169.jpg  \n",
            "  inflating: Training/notumor/Tr-no_0170.jpg  \n",
            "  inflating: Training/notumor/Tr-no_0171.jpg  \n",
            "  inflating: Training/notumor/Tr-no_0172.jpg  \n",
            "  inflating: Training/notumor/Tr-no_0173.jpg  \n",
            "  inflating: Training/notumor/Tr-no_0174.jpg  \n",
            "  inflating: Training/notumor/Tr-no_0175.jpg  \n",
            "  inflating: Training/notumor/Tr-no_0176.jpg  \n",
            "  inflating: Training/notumor/Tr-no_0177.jpg  \n",
            "  inflating: Training/notumor/Tr-no_0178.jpg  \n",
            "  inflating: Training/notumor/Tr-no_0179.jpg  \n",
            "  inflating: Training/notumor/Tr-no_0180.jpg  \n",
            "  inflating: Training/notumor/Tr-no_0181.jpg  \n",
            "  inflating: Training/notumor/Tr-no_0182.jpg  \n",
            "  inflating: Training/notumor/Tr-no_0183.jpg  \n",
            "  inflating: Training/notumor/Tr-no_0184.jpg  \n",
            "  inflating: Training/notumor/Tr-no_0185.jpg  \n",
            "  inflating: Training/notumor/Tr-no_0186.jpg  \n",
            "  inflating: Training/notumor/Tr-no_0187.jpg  \n",
            "  inflating: Training/notumor/Tr-no_0188.jpg  \n",
            "  inflating: Training/notumor/Tr-no_0189.jpg  \n",
            "  inflating: Training/notumor/Tr-no_0190.jpg  \n",
            "  inflating: Training/notumor/Tr-no_0191.jpg  \n",
            "  inflating: Training/notumor/Tr-no_0192.jpg  \n",
            "  inflating: Training/notumor/Tr-no_0193.jpg  \n",
            "  inflating: Training/notumor/Tr-no_0194.jpg  \n",
            "  inflating: Training/notumor/Tr-no_0195.jpg  \n",
            "  inflating: Training/notumor/Tr-no_0196.jpg  \n",
            "  inflating: Training/notumor/Tr-no_0197.jpg  \n",
            "  inflating: Training/notumor/Tr-no_0198.jpg  \n",
            "  inflating: Training/notumor/Tr-no_0199.jpg  \n",
            "  inflating: Training/notumor/Tr-no_0200.jpg  \n",
            "  inflating: Training/notumor/Tr-no_0201.jpg  \n",
            "  inflating: Training/notumor/Tr-no_0202.jpg  \n",
            "  inflating: Training/notumor/Tr-no_0203.jpg  \n",
            "  inflating: Training/notumor/Tr-no_0204.jpg  \n",
            "  inflating: Training/notumor/Tr-no_0205.jpg  \n",
            "  inflating: Training/notumor/Tr-no_0206.jpg  \n",
            "  inflating: Training/notumor/Tr-no_0207.jpg  \n",
            "  inflating: Training/notumor/Tr-no_0208.jpg  \n",
            "  inflating: Training/notumor/Tr-no_0209.jpg  \n",
            "  inflating: Training/notumor/Tr-no_0210.jpg  \n",
            "  inflating: Training/notumor/Tr-no_0211.jpg  \n",
            "  inflating: Training/notumor/Tr-no_0212.jpg  \n",
            "  inflating: Training/notumor/Tr-no_0213.jpg  \n",
            "  inflating: Training/notumor/Tr-no_0214.jpg  \n",
            "  inflating: Training/notumor/Tr-no_0215.jpg  \n",
            "  inflating: Training/notumor/Tr-no_0216.jpg  \n",
            "  inflating: Training/notumor/Tr-no_0217.jpg  \n",
            "  inflating: Training/notumor/Tr-no_0218.jpg  \n",
            "  inflating: Training/notumor/Tr-no_0219.jpg  \n",
            "  inflating: Training/notumor/Tr-no_0220.jpg  \n",
            "  inflating: Training/notumor/Tr-no_0221.jpg  \n",
            "  inflating: Training/notumor/Tr-no_0222.jpg  \n",
            "  inflating: Training/notumor/Tr-no_0223.jpg  \n",
            "  inflating: Training/notumor/Tr-no_0224.jpg  \n",
            "  inflating: Training/notumor/Tr-no_0225.jpg  \n",
            "  inflating: Training/notumor/Tr-no_0226.jpg  \n",
            "  inflating: Training/notumor/Tr-no_0227.jpg  \n",
            "  inflating: Training/notumor/Tr-no_0228.jpg  \n",
            "  inflating: Training/notumor/Tr-no_0229.jpg  \n",
            "  inflating: Training/notumor/Tr-no_0230.jpg  \n",
            "  inflating: Training/notumor/Tr-no_0231.jpg  \n",
            "  inflating: Training/notumor/Tr-no_0232.jpg  \n",
            "  inflating: Training/notumor/Tr-no_0233.jpg  \n",
            "  inflating: Training/notumor/Tr-no_0234.jpg  \n",
            "  inflating: Training/notumor/Tr-no_0235.jpg  \n",
            "  inflating: Training/notumor/Tr-no_0236.jpg  \n",
            "  inflating: Training/notumor/Tr-no_0237.jpg  \n",
            "  inflating: Training/notumor/Tr-no_0238.jpg  \n",
            "  inflating: Training/notumor/Tr-no_0239.jpg  \n",
            "  inflating: Training/notumor/Tr-no_0240.jpg  \n",
            "  inflating: Training/notumor/Tr-no_0241.jpg  \n",
            "  inflating: Training/notumor/Tr-no_0242.jpg  \n",
            "  inflating: Training/notumor/Tr-no_0243.jpg  \n",
            "  inflating: Training/notumor/Tr-no_0244.jpg  \n",
            "  inflating: Training/notumor/Tr-no_0245.jpg  \n",
            "  inflating: Training/notumor/Tr-no_0246.jpg  \n",
            "  inflating: Training/notumor/Tr-no_0247.jpg  \n",
            "  inflating: Training/notumor/Tr-no_0248.jpg  \n",
            "  inflating: Training/notumor/Tr-no_0249.jpg  \n",
            "  inflating: Training/notumor/Tr-no_0250.jpg  \n",
            "  inflating: Training/notumor/Tr-no_0251.jpg  \n",
            "  inflating: Training/notumor/Tr-no_0252.jpg  \n",
            "  inflating: Training/notumor/Tr-no_0253.jpg  \n",
            "  inflating: Training/notumor/Tr-no_0254.jpg  \n",
            "  inflating: Training/notumor/Tr-no_0255.jpg  \n",
            "  inflating: Training/notumor/Tr-no_0256.jpg  \n",
            "  inflating: Training/notumor/Tr-no_0257.jpg  \n",
            "  inflating: Training/notumor/Tr-no_0258.jpg  \n",
            "  inflating: Training/notumor/Tr-no_0259.jpg  \n",
            "  inflating: Training/notumor/Tr-no_0260.jpg  \n",
            "  inflating: Training/notumor/Tr-no_0261.jpg  \n",
            "  inflating: Training/notumor/Tr-no_0262.jpg  \n",
            "  inflating: Training/notumor/Tr-no_0263.jpg  \n",
            "  inflating: Training/notumor/Tr-no_0264.jpg  \n",
            "  inflating: Training/notumor/Tr-no_0265.jpg  \n",
            "  inflating: Training/notumor/Tr-no_0266.jpg  \n",
            "  inflating: Training/notumor/Tr-no_0267.jpg  \n",
            "  inflating: Training/notumor/Tr-no_0268.jpg  \n",
            "  inflating: Training/notumor/Tr-no_0269.jpg  \n",
            "  inflating: Training/notumor/Tr-no_0270.jpg  \n",
            "  inflating: Training/notumor/Tr-no_0271.jpg  \n",
            "  inflating: Training/notumor/Tr-no_0272.jpg  \n",
            "  inflating: Training/notumor/Tr-no_0273.jpg  \n",
            "  inflating: Training/notumor/Tr-no_0274.jpg  \n",
            "  inflating: Training/notumor/Tr-no_0275.jpg  \n",
            "  inflating: Training/notumor/Tr-no_0276.jpg  \n",
            "  inflating: Training/notumor/Tr-no_0277.jpg  \n",
            "  inflating: Training/notumor/Tr-no_0278.jpg  \n",
            "  inflating: Training/notumor/Tr-no_0279.jpg  \n",
            "  inflating: Training/notumor/Tr-no_0280.jpg  \n",
            "  inflating: Training/notumor/Tr-no_0281.jpg  \n",
            "  inflating: Training/notumor/Tr-no_0282.jpg  \n",
            "  inflating: Training/notumor/Tr-no_0283.jpg  \n",
            "  inflating: Training/notumor/Tr-no_0284.jpg  \n",
            "  inflating: Training/notumor/Tr-no_0285.jpg  \n",
            "  inflating: Training/notumor/Tr-no_0286.jpg  \n",
            "  inflating: Training/notumor/Tr-no_0287.jpg  \n",
            "  inflating: Training/notumor/Tr-no_0288.jpg  \n",
            "  inflating: Training/notumor/Tr-no_0289.jpg  \n",
            "  inflating: Training/notumor/Tr-no_0290.jpg  \n",
            "  inflating: Training/notumor/Tr-no_0291.jpg  \n",
            "  inflating: Training/notumor/Tr-no_0292.jpg  \n",
            "  inflating: Training/notumor/Tr-no_0293.jpg  \n",
            "  inflating: Training/notumor/Tr-no_0294.jpg  \n",
            "  inflating: Training/notumor/Tr-no_0295.jpg  \n",
            "  inflating: Training/notumor/Tr-no_0296.jpg  \n",
            "  inflating: Training/notumor/Tr-no_0297.jpg  \n",
            "  inflating: Training/notumor/Tr-no_0298.jpg  \n",
            "  inflating: Training/notumor/Tr-no_0299.jpg  \n",
            "  inflating: Training/notumor/Tr-no_0300.jpg  \n",
            "  inflating: Training/notumor/Tr-no_0301.jpg  \n",
            "  inflating: Training/notumor/Tr-no_0302.jpg  \n",
            "  inflating: Training/notumor/Tr-no_0303.jpg  \n",
            "  inflating: Training/notumor/Tr-no_0304.jpg  \n",
            "  inflating: Training/notumor/Tr-no_0305.jpg  \n",
            "  inflating: Training/notumor/Tr-no_0306.jpg  \n",
            "  inflating: Training/notumor/Tr-no_0307.jpg  \n",
            "  inflating: Training/notumor/Tr-no_0308.jpg  \n",
            "  inflating: Training/notumor/Tr-no_0309.jpg  \n",
            "  inflating: Training/notumor/Tr-no_0310.jpg  \n",
            "  inflating: Training/notumor/Tr-no_0311.jpg  \n",
            "  inflating: Training/notumor/Tr-no_0312.jpg  \n",
            "  inflating: Training/notumor/Tr-no_0313.jpg  \n",
            "  inflating: Training/notumor/Tr-no_0314.jpg  \n",
            "  inflating: Training/notumor/Tr-no_0315.jpg  \n",
            "  inflating: Training/notumor/Tr-no_0316.jpg  \n",
            "  inflating: Training/notumor/Tr-no_0317.jpg  \n",
            "  inflating: Training/notumor/Tr-no_0318.jpg  \n",
            "  inflating: Training/notumor/Tr-no_0319.jpg  \n",
            "  inflating: Training/notumor/Tr-no_0320.jpg  \n",
            "  inflating: Training/notumor/Tr-no_0321.jpg  \n",
            "  inflating: Training/notumor/Tr-no_0322.jpg  \n",
            "  inflating: Training/notumor/Tr-no_0323.jpg  \n",
            "  inflating: Training/notumor/Tr-no_0324.jpg  \n",
            "  inflating: Training/notumor/Tr-no_0325.jpg  \n",
            "  inflating: Training/notumor/Tr-no_0326.jpg  \n",
            "  inflating: Training/notumor/Tr-no_0327.jpg  \n",
            "  inflating: Training/notumor/Tr-no_0328.jpg  \n",
            "  inflating: Training/notumor/Tr-no_0329.jpg  \n",
            "  inflating: Training/notumor/Tr-no_0330.jpg  \n",
            "  inflating: Training/notumor/Tr-no_0331.jpg  \n",
            "  inflating: Training/notumor/Tr-no_0332.jpg  \n",
            "  inflating: Training/notumor/Tr-no_0333.jpg  \n",
            "  inflating: Training/notumor/Tr-no_0334.jpg  \n",
            "  inflating: Training/notumor/Tr-no_0335.jpg  \n",
            "  inflating: Training/notumor/Tr-no_0336.jpg  \n",
            "  inflating: Training/notumor/Tr-no_0337.jpg  \n",
            "  inflating: Training/notumor/Tr-no_0338.jpg  \n",
            "  inflating: Training/notumor/Tr-no_0339.jpg  \n",
            "  inflating: Training/notumor/Tr-no_0340.jpg  \n",
            "  inflating: Training/notumor/Tr-no_0341.jpg  \n",
            "  inflating: Training/notumor/Tr-no_0342.jpg  \n",
            "  inflating: Training/notumor/Tr-no_0343.jpg  \n",
            "  inflating: Training/notumor/Tr-no_0344.jpg  \n",
            "  inflating: Training/notumor/Tr-no_0345.jpg  \n",
            "  inflating: Training/notumor/Tr-no_0346.jpg  \n",
            "  inflating: Training/notumor/Tr-no_0347.jpg  \n",
            "  inflating: Training/notumor/Tr-no_0348.jpg  \n",
            "  inflating: Training/notumor/Tr-no_0349.jpg  \n",
            "  inflating: Training/notumor/Tr-no_0350.jpg  \n",
            "  inflating: Training/notumor/Tr-no_0351.jpg  \n",
            "  inflating: Training/notumor/Tr-no_0352.jpg  \n",
            "  inflating: Training/notumor/Tr-no_0353.jpg  \n",
            "  inflating: Training/notumor/Tr-no_0354.jpg  \n",
            "  inflating: Training/notumor/Tr-no_0355.jpg  \n",
            "  inflating: Training/notumor/Tr-no_0356.jpg  \n",
            "  inflating: Training/notumor/Tr-no_0357.jpg  \n",
            "  inflating: Training/notumor/Tr-no_0358.jpg  \n",
            "  inflating: Training/notumor/Tr-no_0359.jpg  \n",
            "  inflating: Training/notumor/Tr-no_0360.jpg  \n",
            "  inflating: Training/notumor/Tr-no_0361.jpg  \n",
            "  inflating: Training/notumor/Tr-no_0362.jpg  \n",
            "  inflating: Training/notumor/Tr-no_0363.jpg  \n",
            "  inflating: Training/notumor/Tr-no_0364.jpg  \n",
            "  inflating: Training/notumor/Tr-no_0365.jpg  \n",
            "  inflating: Training/notumor/Tr-no_0366.jpg  \n",
            "  inflating: Training/notumor/Tr-no_0367.jpg  \n",
            "  inflating: Training/notumor/Tr-no_0368.jpg  \n",
            "  inflating: Training/notumor/Tr-no_0369.jpg  \n",
            "  inflating: Training/notumor/Tr-no_0370.jpg  \n",
            "  inflating: Training/notumor/Tr-no_0371.jpg  \n",
            "  inflating: Training/notumor/Tr-no_0372.jpg  \n",
            "  inflating: Training/notumor/Tr-no_0373.jpg  \n",
            "  inflating: Training/notumor/Tr-no_0374.jpg  \n",
            "  inflating: Training/notumor/Tr-no_0375.jpg  \n",
            "  inflating: Training/notumor/Tr-no_0376.jpg  \n",
            "  inflating: Training/notumor/Tr-no_0377.jpg  \n",
            "  inflating: Training/notumor/Tr-no_0378.jpg  \n",
            "  inflating: Training/notumor/Tr-no_0379.jpg  \n",
            "  inflating: Training/notumor/Tr-no_0380.jpg  \n",
            "  inflating: Training/notumor/Tr-no_0381.jpg  \n",
            "  inflating: Training/notumor/Tr-no_0382.jpg  \n",
            "  inflating: Training/notumor/Tr-no_0383.jpg  \n",
            "  inflating: Training/notumor/Tr-no_0384.jpg  \n",
            "  inflating: Training/notumor/Tr-no_0385.jpg  \n",
            "  inflating: Training/notumor/Tr-no_0386.jpg  \n",
            "  inflating: Training/notumor/Tr-no_0387.jpg  \n",
            "  inflating: Training/notumor/Tr-no_0388.jpg  \n",
            "  inflating: Training/notumor/Tr-no_0389.jpg  \n",
            "  inflating: Training/notumor/Tr-no_0390.jpg  \n",
            "  inflating: Training/notumor/Tr-no_0391.jpg  \n",
            "  inflating: Training/notumor/Tr-no_0392.jpg  \n",
            "  inflating: Training/notumor/Tr-no_0393.jpg  \n",
            "  inflating: Training/notumor/Tr-no_0394.jpg  \n",
            "  inflating: Training/notumor/Tr-no_0395.jpg  \n",
            "  inflating: Training/notumor/Tr-no_0396.jpg  \n",
            "  inflating: Training/notumor/Tr-no_0397.jpg  \n",
            "  inflating: Training/notumor/Tr-no_0398.jpg  \n",
            "  inflating: Training/notumor/Tr-no_0399.jpg  \n",
            "  inflating: Training/notumor/Tr-no_0400.jpg  \n",
            "  inflating: Training/notumor/Tr-no_0401.jpg  \n",
            "  inflating: Training/notumor/Tr-no_0402.jpg  \n",
            "  inflating: Training/notumor/Tr-no_0403.jpg  \n",
            "  inflating: Training/notumor/Tr-no_0404.jpg  \n",
            "  inflating: Training/notumor/Tr-no_0405.jpg  \n",
            "  inflating: Training/notumor/Tr-no_0406.jpg  \n",
            "  inflating: Training/notumor/Tr-no_0407.jpg  \n",
            "  inflating: Training/notumor/Tr-no_0408.jpg  \n",
            "  inflating: Training/notumor/Tr-no_0409.jpg  \n",
            "  inflating: Training/notumor/Tr-no_0410.jpg  \n",
            "  inflating: Training/notumor/Tr-no_0411.jpg  \n",
            "  inflating: Training/notumor/Tr-no_0412.jpg  \n",
            "  inflating: Training/notumor/Tr-no_0413.jpg  \n",
            "  inflating: Training/notumor/Tr-no_0414.jpg  \n",
            "  inflating: Training/notumor/Tr-no_0415.jpg  \n",
            "  inflating: Training/notumor/Tr-no_0416.jpg  \n",
            "  inflating: Training/notumor/Tr-no_0417.jpg  \n",
            "  inflating: Training/notumor/Tr-no_0418.jpg  \n",
            "  inflating: Training/notumor/Tr-no_0419.jpg  \n",
            "  inflating: Training/notumor/Tr-no_0420.jpg  \n",
            "  inflating: Training/notumor/Tr-no_0421.jpg  \n",
            "  inflating: Training/notumor/Tr-no_0422.jpg  \n",
            "  inflating: Training/notumor/Tr-no_0423.jpg  \n",
            "  inflating: Training/notumor/Tr-no_0424.jpg  \n",
            "  inflating: Training/notumor/Tr-no_0425.jpg  \n",
            "  inflating: Training/notumor/Tr-no_0426.jpg  \n",
            "  inflating: Training/notumor/Tr-no_0427.jpg  \n",
            "  inflating: Training/notumor/Tr-no_0428.jpg  \n",
            "  inflating: Training/notumor/Tr-no_0429.jpg  \n",
            "  inflating: Training/notumor/Tr-no_0430.jpg  \n",
            "  inflating: Training/notumor/Tr-no_0431.jpg  \n",
            "  inflating: Training/notumor/Tr-no_0432.jpg  \n",
            "  inflating: Training/notumor/Tr-no_0433.jpg  \n",
            "  inflating: Training/notumor/Tr-no_0434.jpg  \n",
            "  inflating: Training/notumor/Tr-no_0435.jpg  \n",
            "  inflating: Training/notumor/Tr-no_0436.jpg  \n",
            "  inflating: Training/notumor/Tr-no_0437.jpg  \n",
            "  inflating: Training/notumor/Tr-no_0438.jpg  \n",
            "  inflating: Training/notumor/Tr-no_0439.jpg  \n",
            "  inflating: Training/notumor/Tr-no_0440.jpg  \n",
            "  inflating: Training/notumor/Tr-no_0441.jpg  \n",
            "  inflating: Training/notumor/Tr-no_0442.jpg  \n",
            "  inflating: Training/notumor/Tr-no_0443.jpg  \n",
            "  inflating: Training/notumor/Tr-no_0444.jpg  \n",
            "  inflating: Training/notumor/Tr-no_0445.jpg  \n",
            "  inflating: Training/notumor/Tr-no_0446.jpg  \n",
            "  inflating: Training/notumor/Tr-no_0447.jpg  \n",
            "  inflating: Training/notumor/Tr-no_0448.jpg  \n",
            "  inflating: Training/notumor/Tr-no_0449.jpg  \n",
            "  inflating: Training/notumor/Tr-no_0450.jpg  \n",
            "  inflating: Training/notumor/Tr-no_0451.jpg  \n",
            "  inflating: Training/notumor/Tr-no_0452.jpg  \n",
            "  inflating: Training/notumor/Tr-no_0453.jpg  \n",
            "  inflating: Training/notumor/Tr-no_0454.jpg  \n",
            "  inflating: Training/notumor/Tr-no_0455.jpg  \n",
            "  inflating: Training/notumor/Tr-no_0456.jpg  \n",
            "  inflating: Training/notumor/Tr-no_0457.jpg  \n",
            "  inflating: Training/notumor/Tr-no_0458.jpg  \n",
            "  inflating: Training/notumor/Tr-no_0459.jpg  \n",
            "  inflating: Training/notumor/Tr-no_0460.jpg  \n",
            "  inflating: Training/notumor/Tr-no_0461.jpg  \n",
            "  inflating: Training/notumor/Tr-no_0462.jpg  \n",
            "  inflating: Training/notumor/Tr-no_0463.jpg  \n",
            "  inflating: Training/notumor/Tr-no_0464.jpg  \n",
            "  inflating: Training/notumor/Tr-no_0465.jpg  \n",
            "  inflating: Training/notumor/Tr-no_0466.jpg  \n",
            "  inflating: Training/notumor/Tr-no_0467.jpg  \n",
            "  inflating: Training/notumor/Tr-no_0468.jpg  \n",
            "  inflating: Training/notumor/Tr-no_0469.jpg  \n",
            "  inflating: Training/notumor/Tr-no_0470.jpg  \n",
            "  inflating: Training/notumor/Tr-no_0471.jpg  \n",
            "  inflating: Training/notumor/Tr-no_0472.jpg  \n",
            "  inflating: Training/notumor/Tr-no_0473.jpg  \n",
            "  inflating: Training/notumor/Tr-no_0474.jpg  \n",
            "  inflating: Training/notumor/Tr-no_0475.jpg  \n",
            "  inflating: Training/notumor/Tr-no_0476.jpg  \n",
            "  inflating: Training/notumor/Tr-no_0477.jpg  \n",
            "  inflating: Training/notumor/Tr-no_0478.jpg  \n",
            "  inflating: Training/notumor/Tr-no_0479.jpg  \n",
            "  inflating: Training/notumor/Tr-no_0480.jpg  \n",
            "  inflating: Training/notumor/Tr-no_0481.jpg  \n",
            "  inflating: Training/notumor/Tr-no_0482.jpg  \n",
            "  inflating: Training/notumor/Tr-no_0483.jpg  \n",
            "  inflating: Training/notumor/Tr-no_0484.jpg  \n",
            "  inflating: Training/notumor/Tr-no_0485.jpg  \n",
            "  inflating: Training/notumor/Tr-no_0486.jpg  \n",
            "  inflating: Training/notumor/Tr-no_0487.jpg  \n",
            "  inflating: Training/notumor/Tr-no_0488.jpg  \n",
            "  inflating: Training/notumor/Tr-no_0489.jpg  \n",
            "  inflating: Training/notumor/Tr-no_0490.jpg  \n",
            "  inflating: Training/notumor/Tr-no_0491.jpg  \n",
            "  inflating: Training/notumor/Tr-no_0492.jpg  \n",
            "  inflating: Training/notumor/Tr-no_0493.jpg  \n",
            "  inflating: Training/notumor/Tr-no_0494.jpg  \n",
            "  inflating: Training/notumor/Tr-no_0495.jpg  \n",
            "  inflating: Training/notumor/Tr-no_0496.jpg  \n",
            "  inflating: Training/notumor/Tr-no_0497.jpg  \n",
            "  inflating: Training/notumor/Tr-no_0498.jpg  \n",
            "  inflating: Training/notumor/Tr-no_0499.jpg  \n",
            "  inflating: Training/notumor/Tr-no_0500.jpg  \n",
            "  inflating: Training/notumor/Tr-no_0501.jpg  \n",
            "  inflating: Training/notumor/Tr-no_0502.jpg  \n",
            "  inflating: Training/notumor/Tr-no_0503.jpg  \n",
            "  inflating: Training/notumor/Tr-no_0504.jpg  \n",
            "  inflating: Training/notumor/Tr-no_0505.jpg  \n",
            "  inflating: Training/notumor/Tr-no_0506.jpg  \n",
            "  inflating: Training/notumor/Tr-no_0507.jpg  \n",
            "  inflating: Training/notumor/Tr-no_0508.jpg  \n",
            "  inflating: Training/notumor/Tr-no_0509.jpg  \n",
            "  inflating: Training/notumor/Tr-no_0510.jpg  \n",
            "  inflating: Training/notumor/Tr-no_0511.jpg  \n",
            "  inflating: Training/notumor/Tr-no_0512.jpg  \n",
            "  inflating: Training/notumor/Tr-no_0513.jpg  \n",
            "  inflating: Training/notumor/Tr-no_0514.jpg  \n",
            "  inflating: Training/notumor/Tr-no_0515.jpg  \n",
            "  inflating: Training/notumor/Tr-no_0516.jpg  \n",
            "  inflating: Training/notumor/Tr-no_0517.jpg  \n",
            "  inflating: Training/notumor/Tr-no_0518.jpg  \n",
            "  inflating: Training/notumor/Tr-no_0519.jpg  \n",
            "  inflating: Training/notumor/Tr-no_0520.jpg  \n",
            "  inflating: Training/notumor/Tr-no_0521.jpg  \n",
            "  inflating: Training/notumor/Tr-no_0522.jpg  \n",
            "  inflating: Training/notumor/Tr-no_0523.jpg  \n",
            "  inflating: Training/notumor/Tr-no_0524.jpg  \n",
            "  inflating: Training/notumor/Tr-no_0525.jpg  \n",
            "  inflating: Training/notumor/Tr-no_0526.jpg  \n",
            "  inflating: Training/notumor/Tr-no_0527.jpg  \n",
            "  inflating: Training/notumor/Tr-no_0528.jpg  \n",
            "  inflating: Training/notumor/Tr-no_0529.jpg  \n",
            "  inflating: Training/notumor/Tr-no_0530.jpg  \n",
            "  inflating: Training/notumor/Tr-no_0531.jpg  \n",
            "  inflating: Training/notumor/Tr-no_0532.jpg  \n",
            "  inflating: Training/notumor/Tr-no_0533.jpg  \n",
            "  inflating: Training/notumor/Tr-no_0534.jpg  \n",
            "  inflating: Training/notumor/Tr-no_0535.jpg  \n",
            "  inflating: Training/notumor/Tr-no_0536.jpg  \n",
            "  inflating: Training/notumor/Tr-no_0537.jpg  \n",
            "  inflating: Training/notumor/Tr-no_0538.jpg  \n",
            "  inflating: Training/notumor/Tr-no_0539.jpg  \n",
            "  inflating: Training/notumor/Tr-no_0540.jpg  \n",
            "  inflating: Training/notumor/Tr-no_0541.jpg  \n",
            "  inflating: Training/notumor/Tr-no_0542.jpg  \n",
            "  inflating: Training/notumor/Tr-no_0543.jpg  \n",
            "  inflating: Training/notumor/Tr-no_0544.jpg  \n",
            "  inflating: Training/notumor/Tr-no_0545.jpg  \n",
            "  inflating: Training/notumor/Tr-no_0546.jpg  \n",
            "  inflating: Training/notumor/Tr-no_0547.jpg  \n",
            "  inflating: Training/notumor/Tr-no_0548.jpg  \n",
            "  inflating: Training/notumor/Tr-no_0549.jpg  \n",
            "  inflating: Training/notumor/Tr-no_0550.jpg  \n",
            "  inflating: Training/notumor/Tr-no_0551.jpg  \n",
            "  inflating: Training/notumor/Tr-no_0552.jpg  \n",
            "  inflating: Training/notumor/Tr-no_0553.jpg  \n",
            "  inflating: Training/notumor/Tr-no_0554.jpg  \n",
            "  inflating: Training/notumor/Tr-no_0555.jpg  \n",
            "  inflating: Training/notumor/Tr-no_0556.jpg  \n",
            "  inflating: Training/notumor/Tr-no_0557.jpg  \n",
            "  inflating: Training/notumor/Tr-no_0558.jpg  \n",
            "  inflating: Training/notumor/Tr-no_0559.jpg  \n",
            "  inflating: Training/notumor/Tr-no_0560.jpg  \n",
            "  inflating: Training/notumor/Tr-no_0561.jpg  \n",
            "  inflating: Training/notumor/Tr-no_0562.jpg  \n",
            "  inflating: Training/notumor/Tr-no_0563.jpg  \n",
            "  inflating: Training/notumor/Tr-no_0564.jpg  \n",
            "  inflating: Training/notumor/Tr-no_0565.jpg  \n",
            "  inflating: Training/notumor/Tr-no_0566.jpg  \n",
            "  inflating: Training/notumor/Tr-no_0567.jpg  \n",
            "  inflating: Training/notumor/Tr-no_0568.jpg  \n",
            "  inflating: Training/notumor/Tr-no_0569.jpg  \n",
            "  inflating: Training/notumor/Tr-no_0570.jpg  \n",
            "  inflating: Training/notumor/Tr-no_0571.jpg  \n",
            "  inflating: Training/notumor/Tr-no_0572.jpg  \n",
            "  inflating: Training/notumor/Tr-no_0573.jpg  \n",
            "  inflating: Training/notumor/Tr-no_0574.jpg  \n",
            "  inflating: Training/notumor/Tr-no_0575.jpg  \n",
            "  inflating: Training/notumor/Tr-no_0576.jpg  \n",
            "  inflating: Training/notumor/Tr-no_0577.jpg  \n",
            "  inflating: Training/notumor/Tr-no_0578.jpg  \n",
            "  inflating: Training/notumor/Tr-no_0579.jpg  \n",
            "  inflating: Training/notumor/Tr-no_0580.jpg  \n",
            "  inflating: Training/notumor/Tr-no_0581.jpg  \n",
            "  inflating: Training/notumor/Tr-no_0582.jpg  \n",
            "  inflating: Training/notumor/Tr-no_0583.jpg  \n",
            "  inflating: Training/notumor/Tr-no_0584.jpg  \n",
            "  inflating: Training/notumor/Tr-no_0585.jpg  \n",
            "  inflating: Training/notumor/Tr-no_0586.jpg  \n",
            "  inflating: Training/notumor/Tr-no_0587.jpg  \n",
            "  inflating: Training/notumor/Tr-no_0588.jpg  \n",
            "  inflating: Training/notumor/Tr-no_0589.jpg  \n",
            "  inflating: Training/notumor/Tr-no_0590.jpg  \n",
            "  inflating: Training/notumor/Tr-no_0591.jpg  \n",
            "  inflating: Training/notumor/Tr-no_0592.jpg  \n",
            "  inflating: Training/notumor/Tr-no_0593.jpg  \n",
            "  inflating: Training/notumor/Tr-no_0594.jpg  \n",
            "  inflating: Training/notumor/Tr-no_0595.jpg  \n",
            "  inflating: Training/notumor/Tr-no_0596.jpg  \n",
            "  inflating: Training/notumor/Tr-no_0597.jpg  \n",
            "  inflating: Training/notumor/Tr-no_0598.jpg  \n",
            "  inflating: Training/notumor/Tr-no_0599.jpg  \n",
            "  inflating: Training/notumor/Tr-no_0600.jpg  \n",
            "  inflating: Training/notumor/Tr-no_0601.jpg  \n",
            "  inflating: Training/notumor/Tr-no_0602.jpg  \n",
            "  inflating: Training/notumor/Tr-no_0603.jpg  \n",
            "  inflating: Training/notumor/Tr-no_0604.jpg  \n",
            "  inflating: Training/notumor/Tr-no_0605.jpg  \n",
            "  inflating: Training/notumor/Tr-no_0606.jpg  \n",
            "  inflating: Training/notumor/Tr-no_0607.jpg  \n",
            "  inflating: Training/notumor/Tr-no_0608.jpg  \n",
            "  inflating: Training/notumor/Tr-no_0609.jpg  \n",
            "  inflating: Training/notumor/Tr-no_0610.jpg  \n",
            "  inflating: Training/notumor/Tr-no_0611.jpg  \n",
            "  inflating: Training/notumor/Tr-no_0612.jpg  \n",
            "  inflating: Training/notumor/Tr-no_0613.jpg  \n",
            "  inflating: Training/notumor/Tr-no_0614.jpg  \n",
            "  inflating: Training/notumor/Tr-no_0615.jpg  \n",
            "  inflating: Training/notumor/Tr-no_0616.jpg  \n",
            "  inflating: Training/notumor/Tr-no_0617.jpg  \n",
            "  inflating: Training/notumor/Tr-no_0618.jpg  \n",
            "  inflating: Training/notumor/Tr-no_0619.jpg  \n",
            "  inflating: Training/notumor/Tr-no_0620.jpg  \n",
            "  inflating: Training/notumor/Tr-no_0621.jpg  \n",
            "  inflating: Training/notumor/Tr-no_0622.jpg  \n",
            "  inflating: Training/notumor/Tr-no_0623.jpg  \n",
            "  inflating: Training/notumor/Tr-no_0624.jpg  \n",
            "  inflating: Training/notumor/Tr-no_0625.jpg  \n",
            "  inflating: Training/notumor/Tr-no_0626.jpg  \n",
            "  inflating: Training/notumor/Tr-no_0627.jpg  \n",
            "  inflating: Training/notumor/Tr-no_0628.jpg  \n",
            "  inflating: Training/notumor/Tr-no_0629.jpg  \n",
            "  inflating: Training/notumor/Tr-no_0630.jpg  \n",
            "  inflating: Training/notumor/Tr-no_0631.jpg  \n",
            "  inflating: Training/notumor/Tr-no_0632.jpg  \n",
            "  inflating: Training/notumor/Tr-no_0633.jpg  \n",
            "  inflating: Training/notumor/Tr-no_0634.jpg  \n",
            "  inflating: Training/notumor/Tr-no_0635.jpg  \n",
            "  inflating: Training/notumor/Tr-no_0636.jpg  \n",
            "  inflating: Training/notumor/Tr-no_0637.jpg  \n",
            "  inflating: Training/notumor/Tr-no_0638.jpg  \n",
            "  inflating: Training/notumor/Tr-no_0639.jpg  \n",
            "  inflating: Training/notumor/Tr-no_0640.jpg  \n",
            "  inflating: Training/notumor/Tr-no_0641.jpg  \n",
            "  inflating: Training/notumor/Tr-no_0642.jpg  \n",
            "  inflating: Training/notumor/Tr-no_0643.jpg  \n",
            "  inflating: Training/notumor/Tr-no_0644.jpg  \n",
            "  inflating: Training/notumor/Tr-no_0645.jpg  \n",
            "  inflating: Training/notumor/Tr-no_0646.jpg  \n",
            "  inflating: Training/notumor/Tr-no_0647.jpg  \n",
            "  inflating: Training/notumor/Tr-no_0648.jpg  \n",
            "  inflating: Training/notumor/Tr-no_0649.jpg  \n",
            "  inflating: Training/notumor/Tr-no_0650.jpg  \n",
            "  inflating: Training/notumor/Tr-no_0651.jpg  \n",
            "  inflating: Training/notumor/Tr-no_0652.jpg  \n",
            "  inflating: Training/notumor/Tr-no_0653.jpg  \n",
            "  inflating: Training/notumor/Tr-no_0654.jpg  \n",
            "  inflating: Training/notumor/Tr-no_0655.jpg  \n",
            "  inflating: Training/notumor/Tr-no_0656.jpg  \n",
            "  inflating: Training/notumor/Tr-no_0657.jpg  \n",
            "  inflating: Training/notumor/Tr-no_0658.jpg  \n",
            "  inflating: Training/notumor/Tr-no_0659.jpg  \n",
            "  inflating: Training/notumor/Tr-no_0660.jpg  \n",
            "  inflating: Training/notumor/Tr-no_0661.jpg  \n",
            "  inflating: Training/notumor/Tr-no_0662.jpg  \n",
            "  inflating: Training/notumor/Tr-no_0663.jpg  \n",
            "  inflating: Training/notumor/Tr-no_0664.jpg  \n",
            "  inflating: Training/notumor/Tr-no_0665.jpg  \n",
            "  inflating: Training/notumor/Tr-no_0666.jpg  \n",
            "  inflating: Training/notumor/Tr-no_0667.jpg  \n",
            "  inflating: Training/notumor/Tr-no_0668.jpg  \n",
            "  inflating: Training/notumor/Tr-no_0669.jpg  \n",
            "  inflating: Training/notumor/Tr-no_0670.jpg  \n",
            "  inflating: Training/notumor/Tr-no_0671.jpg  \n",
            "  inflating: Training/notumor/Tr-no_0672.jpg  \n",
            "  inflating: Training/notumor/Tr-no_0673.jpg  \n",
            "  inflating: Training/notumor/Tr-no_0674.jpg  \n",
            "  inflating: Training/notumor/Tr-no_0675.jpg  \n",
            "  inflating: Training/notumor/Tr-no_0676.jpg  \n",
            "  inflating: Training/notumor/Tr-no_0677.jpg  \n",
            "  inflating: Training/notumor/Tr-no_0678.jpg  \n",
            "  inflating: Training/notumor/Tr-no_0679.jpg  \n",
            "  inflating: Training/notumor/Tr-no_0680.jpg  \n",
            "  inflating: Training/notumor/Tr-no_0681.jpg  \n",
            "  inflating: Training/notumor/Tr-no_0682.jpg  \n",
            "  inflating: Training/notumor/Tr-no_0683.jpg  \n",
            "  inflating: Training/notumor/Tr-no_0684.jpg  \n",
            "  inflating: Training/notumor/Tr-no_0685.jpg  \n",
            "  inflating: Training/notumor/Tr-no_0686.jpg  \n",
            "  inflating: Training/notumor/Tr-no_0687.jpg  \n",
            "  inflating: Training/notumor/Tr-no_0688.jpg  \n",
            "  inflating: Training/notumor/Tr-no_0689.jpg  \n",
            "  inflating: Training/notumor/Tr-no_0690.jpg  \n",
            "  inflating: Training/notumor/Tr-no_0691.jpg  \n",
            "  inflating: Training/notumor/Tr-no_0692.jpg  \n",
            "  inflating: Training/notumor/Tr-no_0693.jpg  \n",
            "  inflating: Training/notumor/Tr-no_0694.jpg  \n",
            "  inflating: Training/notumor/Tr-no_0695.jpg  \n",
            "  inflating: Training/notumor/Tr-no_0696.jpg  \n",
            "  inflating: Training/notumor/Tr-no_0697.jpg  \n",
            "  inflating: Training/notumor/Tr-no_0698.jpg  \n",
            "  inflating: Training/notumor/Tr-no_0699.jpg  \n",
            "  inflating: Training/notumor/Tr-no_0700.jpg  \n",
            "  inflating: Training/notumor/Tr-no_0701.jpg  \n",
            "  inflating: Training/notumor/Tr-no_0702.jpg  \n",
            "  inflating: Training/notumor/Tr-no_0703.jpg  \n",
            "  inflating: Training/notumor/Tr-no_0704.jpg  \n",
            "  inflating: Training/notumor/Tr-no_0705.jpg  \n",
            "  inflating: Training/notumor/Tr-no_0706.jpg  \n",
            "  inflating: Training/notumor/Tr-no_0707.jpg  \n",
            "  inflating: Training/notumor/Tr-no_0708.jpg  \n",
            "  inflating: Training/notumor/Tr-no_0709.jpg  \n",
            "  inflating: Training/notumor/Tr-no_0710.jpg  \n",
            "  inflating: Training/notumor/Tr-no_0711.jpg  \n",
            "  inflating: Training/notumor/Tr-no_0712.jpg  \n",
            "  inflating: Training/notumor/Tr-no_0713.jpg  \n",
            "  inflating: Training/notumor/Tr-no_0714.jpg  \n",
            "  inflating: Training/notumor/Tr-no_0715.jpg  \n",
            "  inflating: Training/notumor/Tr-no_0716.jpg  \n",
            "  inflating: Training/notumor/Tr-no_0717.jpg  \n",
            "  inflating: Training/notumor/Tr-no_0718.jpg  \n",
            "  inflating: Training/notumor/Tr-no_0719.jpg  \n",
            "  inflating: Training/notumor/Tr-no_0720.jpg  \n",
            "  inflating: Training/notumor/Tr-no_0721.jpg  \n",
            "  inflating: Training/notumor/Tr-no_0722.jpg  \n",
            "  inflating: Training/notumor/Tr-no_0723.jpg  \n",
            "  inflating: Training/notumor/Tr-no_0724.jpg  \n",
            "  inflating: Training/notumor/Tr-no_0725.jpg  \n",
            "  inflating: Training/notumor/Tr-no_0726.jpg  \n",
            "  inflating: Training/notumor/Tr-no_0727.jpg  \n",
            "  inflating: Training/notumor/Tr-no_0728.jpg  \n",
            "  inflating: Training/notumor/Tr-no_0729.jpg  \n",
            "  inflating: Training/notumor/Tr-no_0730.jpg  \n",
            "  inflating: Training/notumor/Tr-no_0731.jpg  \n",
            "  inflating: Training/notumor/Tr-no_0732.jpg  \n",
            "  inflating: Training/notumor/Tr-no_0733.jpg  \n",
            "  inflating: Training/notumor/Tr-no_0734.jpg  \n",
            "  inflating: Training/notumor/Tr-no_0735.jpg  \n",
            "  inflating: Training/notumor/Tr-no_0736.jpg  \n",
            "  inflating: Training/notumor/Tr-no_0737.jpg  \n",
            "  inflating: Training/notumor/Tr-no_0738.jpg  \n",
            "  inflating: Training/notumor/Tr-no_0739.jpg  \n",
            "  inflating: Training/notumor/Tr-no_0740.jpg  \n",
            "  inflating: Training/notumor/Tr-no_0741.jpg  \n",
            "  inflating: Training/notumor/Tr-no_0742.jpg  \n",
            "  inflating: Training/notumor/Tr-no_0743.jpg  \n",
            "  inflating: Training/notumor/Tr-no_0744.jpg  \n",
            "  inflating: Training/notumor/Tr-no_0745.jpg  \n",
            "  inflating: Training/notumor/Tr-no_0746.jpg  \n",
            "  inflating: Training/notumor/Tr-no_0747.jpg  \n",
            "  inflating: Training/notumor/Tr-no_0748.jpg  \n",
            "  inflating: Training/notumor/Tr-no_0749.jpg  \n",
            "  inflating: Training/notumor/Tr-no_0750.jpg  \n",
            "  inflating: Training/notumor/Tr-no_0751.jpg  \n",
            "  inflating: Training/notumor/Tr-no_0752.jpg  \n",
            "  inflating: Training/notumor/Tr-no_0753.jpg  \n",
            "  inflating: Training/notumor/Tr-no_0754.jpg  \n",
            "  inflating: Training/notumor/Tr-no_0755.jpg  \n",
            "  inflating: Training/notumor/Tr-no_0756.jpg  \n",
            "  inflating: Training/notumor/Tr-no_0757.jpg  \n",
            "  inflating: Training/notumor/Tr-no_0758.jpg  \n",
            "  inflating: Training/notumor/Tr-no_0759.jpg  \n",
            "  inflating: Training/notumor/Tr-no_0760.jpg  \n",
            "  inflating: Training/notumor/Tr-no_0761.jpg  \n",
            "  inflating: Training/notumor/Tr-no_0762.jpg  \n",
            "  inflating: Training/notumor/Tr-no_0763.jpg  \n",
            "  inflating: Training/notumor/Tr-no_0764.jpg  \n",
            "  inflating: Training/notumor/Tr-no_0765.jpg  \n",
            "  inflating: Training/notumor/Tr-no_0766.jpg  \n",
            "  inflating: Training/notumor/Tr-no_0767.jpg  \n",
            "  inflating: Training/notumor/Tr-no_0768.jpg  \n",
            "  inflating: Training/notumor/Tr-no_0769.jpg  \n",
            "  inflating: Training/notumor/Tr-no_0770.jpg  \n",
            "  inflating: Training/notumor/Tr-no_0771.jpg  \n",
            "  inflating: Training/notumor/Tr-no_0772.jpg  \n",
            "  inflating: Training/notumor/Tr-no_0773.jpg  \n",
            "  inflating: Training/notumor/Tr-no_0774.jpg  \n",
            "  inflating: Training/notumor/Tr-no_0775.jpg  \n",
            "  inflating: Training/notumor/Tr-no_0776.jpg  \n",
            "  inflating: Training/notumor/Tr-no_0777.jpg  \n",
            "  inflating: Training/notumor/Tr-no_0778.jpg  \n",
            "  inflating: Training/notumor/Tr-no_0779.jpg  \n",
            "  inflating: Training/notumor/Tr-no_0780.jpg  \n",
            "  inflating: Training/notumor/Tr-no_0781.jpg  \n",
            "  inflating: Training/notumor/Tr-no_0782.jpg  \n",
            "  inflating: Training/notumor/Tr-no_0783.jpg  \n",
            "  inflating: Training/notumor/Tr-no_0784.jpg  \n",
            "  inflating: Training/notumor/Tr-no_0785.jpg  \n",
            "  inflating: Training/notumor/Tr-no_0786.jpg  \n",
            "  inflating: Training/notumor/Tr-no_0787.jpg  \n",
            "  inflating: Training/notumor/Tr-no_0788.jpg  \n",
            "  inflating: Training/notumor/Tr-no_0789.jpg  \n",
            "  inflating: Training/notumor/Tr-no_0790.jpg  \n",
            "  inflating: Training/notumor/Tr-no_0791.jpg  \n",
            "  inflating: Training/notumor/Tr-no_0792.jpg  \n",
            "  inflating: Training/notumor/Tr-no_0793.jpg  \n",
            "  inflating: Training/notumor/Tr-no_0794.jpg  \n",
            "  inflating: Training/notumor/Tr-no_0795.jpg  \n",
            "  inflating: Training/notumor/Tr-no_0796.jpg  \n",
            "  inflating: Training/notumor/Tr-no_0797.jpg  \n",
            "  inflating: Training/notumor/Tr-no_0798.jpg  \n",
            "  inflating: Training/notumor/Tr-no_0799.jpg  \n",
            "  inflating: Training/notumor/Tr-no_0800.jpg  \n",
            "  inflating: Training/notumor/Tr-no_0801.jpg  \n",
            "  inflating: Training/notumor/Tr-no_0802.jpg  \n",
            "  inflating: Training/notumor/Tr-no_0803.jpg  \n",
            "  inflating: Training/notumor/Tr-no_0804.jpg  \n",
            "  inflating: Training/notumor/Tr-no_0805.jpg  \n",
            "  inflating: Training/notumor/Tr-no_0806.jpg  \n",
            "  inflating: Training/notumor/Tr-no_0807.jpg  \n",
            "  inflating: Training/notumor/Tr-no_0808.jpg  \n",
            "  inflating: Training/notumor/Tr-no_0809.jpg  \n",
            "  inflating: Training/notumor/Tr-no_0810.jpg  \n",
            "  inflating: Training/notumor/Tr-no_0811.jpg  \n",
            "  inflating: Training/notumor/Tr-no_0812.jpg  \n",
            "  inflating: Training/notumor/Tr-no_0813.jpg  \n",
            "  inflating: Training/notumor/Tr-no_0814.jpg  \n",
            "  inflating: Training/notumor/Tr-no_0815.jpg  \n",
            "  inflating: Training/notumor/Tr-no_0816.jpg  \n",
            "  inflating: Training/notumor/Tr-no_0817.jpg  \n",
            "  inflating: Training/notumor/Tr-no_0818.jpg  \n",
            "  inflating: Training/notumor/Tr-no_0819.jpg  \n",
            "  inflating: Training/notumor/Tr-no_0820.jpg  \n",
            "  inflating: Training/notumor/Tr-no_0821.jpg  \n",
            "  inflating: Training/notumor/Tr-no_0822.jpg  \n",
            "  inflating: Training/notumor/Tr-no_0823.jpg  \n",
            "  inflating: Training/notumor/Tr-no_0824.jpg  \n",
            "  inflating: Training/notumor/Tr-no_0825.jpg  \n",
            "  inflating: Training/notumor/Tr-no_0826.jpg  \n",
            "  inflating: Training/notumor/Tr-no_0827.jpg  \n",
            "  inflating: Training/notumor/Tr-no_0828.jpg  \n",
            "  inflating: Training/notumor/Tr-no_0829.jpg  \n",
            "  inflating: Training/notumor/Tr-no_0830.jpg  \n",
            "  inflating: Training/notumor/Tr-no_0831.jpg  \n",
            "  inflating: Training/notumor/Tr-no_0832.jpg  \n",
            "  inflating: Training/notumor/Tr-no_0833.jpg  \n",
            "  inflating: Training/notumor/Tr-no_0834.jpg  \n",
            "  inflating: Training/notumor/Tr-no_0835.jpg  \n",
            "  inflating: Training/notumor/Tr-no_0836.jpg  \n",
            "  inflating: Training/notumor/Tr-no_0837.jpg  \n",
            "  inflating: Training/notumor/Tr-no_0838.jpg  \n",
            "  inflating: Training/notumor/Tr-no_0839.jpg  \n",
            "  inflating: Training/notumor/Tr-no_0840.jpg  \n",
            "  inflating: Training/notumor/Tr-no_0841.jpg  \n",
            "  inflating: Training/notumor/Tr-no_0842.jpg  \n",
            "  inflating: Training/notumor/Tr-no_0843.jpg  \n",
            "  inflating: Training/notumor/Tr-no_0844.jpg  \n",
            "  inflating: Training/notumor/Tr-no_0845.jpg  \n",
            "  inflating: Training/notumor/Tr-no_0846.jpg  \n",
            "  inflating: Training/notumor/Tr-no_0847.jpg  \n",
            "  inflating: Training/notumor/Tr-no_0848.jpg  \n",
            "  inflating: Training/notumor/Tr-no_0849.jpg  \n",
            "  inflating: Training/notumor/Tr-no_0850.jpg  \n",
            "  inflating: Training/notumor/Tr-no_0851.jpg  \n",
            "  inflating: Training/notumor/Tr-no_0852.jpg  \n",
            "  inflating: Training/notumor/Tr-no_0853.jpg  \n",
            "  inflating: Training/notumor/Tr-no_0854.jpg  \n",
            "  inflating: Training/notumor/Tr-no_0855.jpg  \n",
            "  inflating: Training/notumor/Tr-no_0856.jpg  \n",
            "  inflating: Training/notumor/Tr-no_0857.jpg  \n",
            "  inflating: Training/notumor/Tr-no_0858.jpg  \n",
            "  inflating: Training/notumor/Tr-no_0859.jpg  \n",
            "  inflating: Training/notumor/Tr-no_0860.jpg  \n",
            "  inflating: Training/notumor/Tr-no_0861.jpg  \n",
            "  inflating: Training/notumor/Tr-no_0862.jpg  \n",
            "  inflating: Training/notumor/Tr-no_0863.jpg  \n",
            "  inflating: Training/notumor/Tr-no_0864.jpg  \n",
            "  inflating: Training/notumor/Tr-no_0865.jpg  \n",
            "  inflating: Training/notumor/Tr-no_0866.jpg  \n",
            "  inflating: Training/notumor/Tr-no_0867.jpg  \n",
            "  inflating: Training/notumor/Tr-no_0868.jpg  \n",
            "  inflating: Training/notumor/Tr-no_0869.jpg  \n",
            "  inflating: Training/notumor/Tr-no_0870.jpg  \n",
            "  inflating: Training/notumor/Tr-no_0871.jpg  \n",
            "  inflating: Training/notumor/Tr-no_0872.jpg  \n",
            "  inflating: Training/notumor/Tr-no_0873.jpg  \n",
            "  inflating: Training/notumor/Tr-no_0874.jpg  \n",
            "  inflating: Training/notumor/Tr-no_0875.jpg  \n",
            "  inflating: Training/notumor/Tr-no_0876.jpg  \n",
            "  inflating: Training/notumor/Tr-no_0877.jpg  \n",
            "  inflating: Training/notumor/Tr-no_0878.jpg  \n",
            "  inflating: Training/notumor/Tr-no_0879.jpg  \n",
            "  inflating: Training/notumor/Tr-no_0880.jpg  \n",
            "  inflating: Training/notumor/Tr-no_0881.jpg  \n",
            "  inflating: Training/notumor/Tr-no_0882.jpg  \n",
            "  inflating: Training/notumor/Tr-no_0883.jpg  \n",
            "  inflating: Training/notumor/Tr-no_0884.jpg  \n",
            "  inflating: Training/notumor/Tr-no_0885.jpg  \n",
            "  inflating: Training/notumor/Tr-no_0886.jpg  \n",
            "  inflating: Training/notumor/Tr-no_0887.jpg  \n",
            "  inflating: Training/notumor/Tr-no_0888.jpg  \n",
            "  inflating: Training/notumor/Tr-no_0889.jpg  \n",
            "  inflating: Training/notumor/Tr-no_0890.jpg  \n",
            "  inflating: Training/notumor/Tr-no_0891.jpg  \n",
            "  inflating: Training/notumor/Tr-no_0892.jpg  \n",
            "  inflating: Training/notumor/Tr-no_0893.jpg  \n",
            "  inflating: Training/notumor/Tr-no_0894.jpg  \n",
            "  inflating: Training/notumor/Tr-no_0895.jpg  \n",
            "  inflating: Training/notumor/Tr-no_0896.jpg  \n",
            "  inflating: Training/notumor/Tr-no_0897.jpg  \n",
            "  inflating: Training/notumor/Tr-no_0898.jpg  \n",
            "  inflating: Training/notumor/Tr-no_0899.jpg  \n",
            "  inflating: Training/notumor/Tr-no_0900.jpg  \n",
            "  inflating: Training/notumor/Tr-no_0901.jpg  \n",
            "  inflating: Training/notumor/Tr-no_0902.jpg  \n",
            "  inflating: Training/notumor/Tr-no_0903.jpg  \n",
            "  inflating: Training/notumor/Tr-no_0904.jpg  \n",
            "  inflating: Training/notumor/Tr-no_0905.jpg  \n",
            "  inflating: Training/notumor/Tr-no_0906.jpg  \n",
            "  inflating: Training/notumor/Tr-no_0907.jpg  \n",
            "  inflating: Training/notumor/Tr-no_0908.jpg  \n",
            "  inflating: Training/notumor/Tr-no_0909.jpg  \n",
            "  inflating: Training/notumor/Tr-no_0910.jpg  \n",
            "  inflating: Training/notumor/Tr-no_0911.jpg  \n",
            "  inflating: Training/notumor/Tr-no_0912.jpg  \n",
            "  inflating: Training/notumor/Tr-no_0913.jpg  \n",
            "  inflating: Training/notumor/Tr-no_0914.jpg  \n",
            "  inflating: Training/notumor/Tr-no_0915.jpg  \n",
            "  inflating: Training/notumor/Tr-no_0916.jpg  \n",
            "  inflating: Training/notumor/Tr-no_0917.jpg  \n",
            "  inflating: Training/notumor/Tr-no_0918.jpg  \n",
            "  inflating: Training/notumor/Tr-no_0919.jpg  \n",
            "  inflating: Training/notumor/Tr-no_0920.jpg  \n",
            "  inflating: Training/notumor/Tr-no_0921.jpg  \n",
            "  inflating: Training/notumor/Tr-no_0922.jpg  \n",
            "  inflating: Training/notumor/Tr-no_0923.jpg  \n",
            "  inflating: Training/notumor/Tr-no_0924.jpg  \n",
            "  inflating: Training/notumor/Tr-no_0925.jpg  \n",
            "  inflating: Training/notumor/Tr-no_0926.jpg  \n",
            "  inflating: Training/notumor/Tr-no_0927.jpg  \n",
            "  inflating: Training/notumor/Tr-no_0928.jpg  \n",
            "  inflating: Training/notumor/Tr-no_0929.jpg  \n",
            "  inflating: Training/notumor/Tr-no_0930.jpg  \n",
            "  inflating: Training/notumor/Tr-no_0931.jpg  \n",
            "  inflating: Training/notumor/Tr-no_0932.jpg  \n",
            "  inflating: Training/notumor/Tr-no_0933.jpg  \n",
            "  inflating: Training/notumor/Tr-no_0934.jpg  \n",
            "  inflating: Training/notumor/Tr-no_0935.jpg  \n",
            "  inflating: Training/notumor/Tr-no_0936.jpg  \n",
            "  inflating: Training/notumor/Tr-no_0937.jpg  \n",
            "  inflating: Training/notumor/Tr-no_0938.jpg  \n",
            "  inflating: Training/notumor/Tr-no_0939.jpg  \n",
            "  inflating: Training/notumor/Tr-no_0940.jpg  \n",
            "  inflating: Training/notumor/Tr-no_0941.jpg  \n",
            "  inflating: Training/notumor/Tr-no_0942.jpg  \n",
            "  inflating: Training/notumor/Tr-no_0943.jpg  \n",
            "  inflating: Training/notumor/Tr-no_0944.jpg  \n",
            "  inflating: Training/notumor/Tr-no_0945.jpg  \n",
            "  inflating: Training/notumor/Tr-no_0946.jpg  \n",
            "  inflating: Training/notumor/Tr-no_0947.jpg  \n",
            "  inflating: Training/notumor/Tr-no_0948.jpg  \n",
            "  inflating: Training/notumor/Tr-no_0949.jpg  \n",
            "  inflating: Training/notumor/Tr-no_0950.jpg  \n",
            "  inflating: Training/notumor/Tr-no_0951.jpg  \n",
            "  inflating: Training/notumor/Tr-no_0952.jpg  \n",
            "  inflating: Training/notumor/Tr-no_0953.jpg  \n",
            "  inflating: Training/notumor/Tr-no_0954.jpg  \n",
            "  inflating: Training/notumor/Tr-no_0955.jpg  \n",
            "  inflating: Training/notumor/Tr-no_0956.jpg  \n",
            "  inflating: Training/notumor/Tr-no_0957.jpg  \n",
            "  inflating: Training/notumor/Tr-no_0958.jpg  \n",
            "  inflating: Training/notumor/Tr-no_0959.jpg  \n",
            "  inflating: Training/notumor/Tr-no_0960.jpg  \n",
            "  inflating: Training/notumor/Tr-no_0961.jpg  \n",
            "  inflating: Training/notumor/Tr-no_0962.jpg  \n",
            "  inflating: Training/notumor/Tr-no_0963.jpg  \n",
            "  inflating: Training/notumor/Tr-no_0964.jpg  \n",
            "  inflating: Training/notumor/Tr-no_0965.jpg  \n",
            "  inflating: Training/notumor/Tr-no_0966.jpg  \n",
            "  inflating: Training/notumor/Tr-no_0967.jpg  \n",
            "  inflating: Training/notumor/Tr-no_0968.jpg  \n",
            "  inflating: Training/notumor/Tr-no_0969.jpg  \n",
            "  inflating: Training/notumor/Tr-no_0970.jpg  \n",
            "  inflating: Training/notumor/Tr-no_0971.jpg  \n",
            "  inflating: Training/notumor/Tr-no_0972.jpg  \n",
            "  inflating: Training/notumor/Tr-no_0973.jpg  \n",
            "  inflating: Training/notumor/Tr-no_0974.jpg  \n",
            "  inflating: Training/notumor/Tr-no_0975.jpg  \n",
            "  inflating: Training/notumor/Tr-no_0976.jpg  \n",
            "  inflating: Training/notumor/Tr-no_0977.jpg  \n",
            "  inflating: Training/notumor/Tr-no_0978.jpg  \n",
            "  inflating: Training/notumor/Tr-no_0979.jpg  \n",
            "  inflating: Training/notumor/Tr-no_0980.jpg  \n",
            "  inflating: Training/notumor/Tr-no_0981.jpg  \n",
            "  inflating: Training/notumor/Tr-no_0982.jpg  \n",
            "  inflating: Training/notumor/Tr-no_0983.jpg  \n",
            "  inflating: Training/notumor/Tr-no_0984.jpg  \n",
            "  inflating: Training/notumor/Tr-no_0985.jpg  \n",
            "  inflating: Training/notumor/Tr-no_0986.jpg  \n",
            "  inflating: Training/notumor/Tr-no_0987.jpg  \n",
            "  inflating: Training/notumor/Tr-no_0988.jpg  \n",
            "  inflating: Training/notumor/Tr-no_0989.jpg  \n",
            "  inflating: Training/notumor/Tr-no_0990.jpg  \n",
            "  inflating: Training/notumor/Tr-no_0991.jpg  \n",
            "  inflating: Training/notumor/Tr-no_0992.jpg  \n",
            "  inflating: Training/notumor/Tr-no_0993.jpg  \n",
            "  inflating: Training/notumor/Tr-no_0994.jpg  \n",
            "  inflating: Training/notumor/Tr-no_0995.jpg  \n",
            "  inflating: Training/notumor/Tr-no_0996.jpg  \n",
            "  inflating: Training/notumor/Tr-no_0997.jpg  \n",
            "  inflating: Training/notumor/Tr-no_0998.jpg  \n",
            "  inflating: Training/notumor/Tr-no_0999.jpg  \n",
            "  inflating: Training/notumor/Tr-no_1000.jpg  \n",
            "  inflating: Training/notumor/Tr-no_1001.jpg  \n",
            "  inflating: Training/notumor/Tr-no_1002.jpg  \n",
            "  inflating: Training/notumor/Tr-no_1003.jpg  \n",
            "  inflating: Training/notumor/Tr-no_1004.jpg  \n",
            "  inflating: Training/notumor/Tr-no_1005.jpg  \n",
            "  inflating: Training/notumor/Tr-no_1006.jpg  \n",
            "  inflating: Training/notumor/Tr-no_1007.jpg  \n",
            "  inflating: Training/notumor/Tr-no_1008.jpg  \n",
            "  inflating: Training/notumor/Tr-no_1009.jpg  \n",
            "  inflating: Training/notumor/Tr-no_1010.jpg  \n",
            "  inflating: Training/notumor/Tr-no_1011.jpg  \n",
            "  inflating: Training/notumor/Tr-no_1012.jpg  \n",
            "  inflating: Training/notumor/Tr-no_1013.jpg  \n",
            "  inflating: Training/notumor/Tr-no_1014.jpg  \n",
            "  inflating: Training/notumor/Tr-no_1015.jpg  \n",
            "  inflating: Training/notumor/Tr-no_1016.jpg  \n",
            "  inflating: Training/notumor/Tr-no_1017.jpg  \n",
            "  inflating: Training/notumor/Tr-no_1018.jpg  \n",
            "  inflating: Training/notumor/Tr-no_1019.jpg  \n",
            "  inflating: Training/notumor/Tr-no_1020.jpg  \n",
            "  inflating: Training/notumor/Tr-no_1021.jpg  \n",
            "  inflating: Training/notumor/Tr-no_1022.jpg  \n",
            "  inflating: Training/notumor/Tr-no_1023.jpg  \n",
            "  inflating: Training/notumor/Tr-no_1024.jpg  \n",
            "  inflating: Training/notumor/Tr-no_1025.jpg  \n",
            "  inflating: Training/notumor/Tr-no_1026.jpg  \n",
            "  inflating: Training/notumor/Tr-no_1027.jpg  \n",
            "  inflating: Training/notumor/Tr-no_1028.jpg  \n",
            "  inflating: Training/notumor/Tr-no_1029.jpg  \n",
            "  inflating: Training/notumor/Tr-no_1030.jpg  \n",
            "  inflating: Training/notumor/Tr-no_1031.jpg  \n",
            "  inflating: Training/notumor/Tr-no_1032.jpg  \n",
            "  inflating: Training/notumor/Tr-no_1033.jpg  \n",
            "  inflating: Training/notumor/Tr-no_1034.jpg  \n",
            "  inflating: Training/notumor/Tr-no_1035.jpg  \n",
            "  inflating: Training/notumor/Tr-no_1036.jpg  \n",
            "  inflating: Training/notumor/Tr-no_1037.jpg  \n",
            "  inflating: Training/notumor/Tr-no_1038.jpg  \n",
            "  inflating: Training/notumor/Tr-no_1039.jpg  \n",
            "  inflating: Training/notumor/Tr-no_1040.jpg  \n",
            "  inflating: Training/notumor/Tr-no_1041.jpg  \n",
            "  inflating: Training/notumor/Tr-no_1042.jpg  \n",
            "  inflating: Training/notumor/Tr-no_1043.jpg  \n",
            "  inflating: Training/notumor/Tr-no_1044.jpg  \n",
            "  inflating: Training/notumor/Tr-no_1045.jpg  \n",
            "  inflating: Training/notumor/Tr-no_1046.jpg  \n",
            "  inflating: Training/notumor/Tr-no_1047.jpg  \n",
            "  inflating: Training/notumor/Tr-no_1048.jpg  \n",
            "  inflating: Training/notumor/Tr-no_1049.jpg  \n",
            "  inflating: Training/notumor/Tr-no_1050.jpg  \n",
            "  inflating: Training/notumor/Tr-no_1051.jpg  \n",
            "  inflating: Training/notumor/Tr-no_1052.jpg  \n",
            "  inflating: Training/notumor/Tr-no_1053.jpg  \n",
            "  inflating: Training/notumor/Tr-no_1054.jpg  \n",
            "  inflating: Training/notumor/Tr-no_1055.jpg  \n",
            "  inflating: Training/notumor/Tr-no_1056.jpg  \n",
            "  inflating: Training/notumor/Tr-no_1057.jpg  \n",
            "  inflating: Training/notumor/Tr-no_1058.jpg  \n",
            "  inflating: Training/notumor/Tr-no_1059.jpg  \n",
            "  inflating: Training/notumor/Tr-no_1060.jpg  \n",
            "  inflating: Training/notumor/Tr-no_1061.jpg  \n",
            "  inflating: Training/notumor/Tr-no_1062.jpg  \n",
            "  inflating: Training/notumor/Tr-no_1063.jpg  \n",
            "  inflating: Training/notumor/Tr-no_1064.jpg  \n",
            "  inflating: Training/notumor/Tr-no_1065.jpg  \n",
            "  inflating: Training/notumor/Tr-no_1066.jpg  \n",
            "  inflating: Training/notumor/Tr-no_1067.jpg  \n",
            "  inflating: Training/notumor/Tr-no_1068.jpg  \n",
            "  inflating: Training/notumor/Tr-no_1069.jpg  \n",
            "  inflating: Training/notumor/Tr-no_1070.jpg  \n",
            "  inflating: Training/notumor/Tr-no_1071.jpg  \n",
            "  inflating: Training/notumor/Tr-no_1072.jpg  \n",
            "  inflating: Training/notumor/Tr-no_1073.jpg  \n",
            "  inflating: Training/notumor/Tr-no_1074.jpg  \n",
            "  inflating: Training/notumor/Tr-no_1075.jpg  \n",
            "  inflating: Training/notumor/Tr-no_1076.jpg  \n",
            "  inflating: Training/notumor/Tr-no_1077.jpg  \n",
            "  inflating: Training/notumor/Tr-no_1078.jpg  \n",
            "  inflating: Training/notumor/Tr-no_1079.jpg  \n",
            "  inflating: Training/notumor/Tr-no_1080.jpg  \n",
            "  inflating: Training/notumor/Tr-no_1081.jpg  \n",
            "  inflating: Training/notumor/Tr-no_1082.jpg  \n",
            "  inflating: Training/notumor/Tr-no_1083.jpg  \n",
            "  inflating: Training/notumor/Tr-no_1084.jpg  \n",
            "  inflating: Training/notumor/Tr-no_1085.jpg  \n",
            "  inflating: Training/notumor/Tr-no_1086.jpg  \n",
            "  inflating: Training/notumor/Tr-no_1087.jpg  \n",
            "  inflating: Training/notumor/Tr-no_1088.jpg  \n",
            "  inflating: Training/notumor/Tr-no_1089.jpg  \n",
            "  inflating: Training/notumor/Tr-no_1090.jpg  \n",
            "  inflating: Training/notumor/Tr-no_1091.jpg  \n",
            "  inflating: Training/notumor/Tr-no_1092.jpg  \n",
            "  inflating: Training/notumor/Tr-no_1093.jpg  \n",
            "  inflating: Training/notumor/Tr-no_1094.jpg  \n",
            "  inflating: Training/notumor/Tr-no_1095.jpg  \n",
            "  inflating: Training/notumor/Tr-no_1096.jpg  \n",
            "  inflating: Training/notumor/Tr-no_1097.jpg  \n",
            "  inflating: Training/notumor/Tr-no_1098.jpg  \n",
            "  inflating: Training/notumor/Tr-no_1099.jpg  \n",
            "  inflating: Training/notumor/Tr-no_1100.jpg  \n",
            "  inflating: Training/notumor/Tr-no_1101.jpg  \n",
            "  inflating: Training/notumor/Tr-no_1102.jpg  \n",
            "  inflating: Training/notumor/Tr-no_1103.jpg  \n",
            "  inflating: Training/notumor/Tr-no_1104.jpg  \n",
            "  inflating: Training/notumor/Tr-no_1105.jpg  \n",
            "  inflating: Training/notumor/Tr-no_1106.jpg  \n",
            "  inflating: Training/notumor/Tr-no_1107.jpg  \n",
            "  inflating: Training/notumor/Tr-no_1108.jpg  \n",
            "  inflating: Training/notumor/Tr-no_1109.jpg  \n",
            "  inflating: Training/notumor/Tr-no_1110.jpg  \n",
            "  inflating: Training/notumor/Tr-no_1111.jpg  \n",
            "  inflating: Training/notumor/Tr-no_1112.jpg  \n",
            "  inflating: Training/notumor/Tr-no_1113.jpg  \n",
            "  inflating: Training/notumor/Tr-no_1114.jpg  \n",
            "  inflating: Training/notumor/Tr-no_1115.jpg  \n",
            "  inflating: Training/notumor/Tr-no_1116.jpg  \n",
            "  inflating: Training/notumor/Tr-no_1117.jpg  \n",
            "  inflating: Training/notumor/Tr-no_1118.jpg  \n",
            "  inflating: Training/notumor/Tr-no_1119.jpg  \n",
            "  inflating: Training/notumor/Tr-no_1120.jpg  \n",
            "  inflating: Training/notumor/Tr-no_1121.jpg  \n",
            "  inflating: Training/notumor/Tr-no_1122.jpg  \n",
            "  inflating: Training/notumor/Tr-no_1123.jpg  \n",
            "  inflating: Training/notumor/Tr-no_1124.jpg  \n",
            "  inflating: Training/notumor/Tr-no_1125.jpg  \n",
            "  inflating: Training/notumor/Tr-no_1126.jpg  \n",
            "  inflating: Training/notumor/Tr-no_1127.jpg  \n",
            "  inflating: Training/notumor/Tr-no_1128.jpg  \n",
            "  inflating: Training/notumor/Tr-no_1129.jpg  \n",
            "  inflating: Training/notumor/Tr-no_1130.jpg  \n",
            "  inflating: Training/notumor/Tr-no_1131.jpg  \n",
            "  inflating: Training/notumor/Tr-no_1132.jpg  \n",
            "  inflating: Training/notumor/Tr-no_1133.jpg  \n",
            "  inflating: Training/notumor/Tr-no_1134.jpg  \n",
            "  inflating: Training/notumor/Tr-no_1135.jpg  \n",
            "  inflating: Training/notumor/Tr-no_1136.jpg  \n",
            "  inflating: Training/notumor/Tr-no_1137.jpg  \n",
            "  inflating: Training/notumor/Tr-no_1138.jpg  \n",
            "  inflating: Training/notumor/Tr-no_1139.jpg  \n",
            "  inflating: Training/notumor/Tr-no_1140.jpg  \n",
            "  inflating: Training/notumor/Tr-no_1141.jpg  \n",
            "  inflating: Training/notumor/Tr-no_1142.jpg  \n",
            "  inflating: Training/notumor/Tr-no_1143.jpg  \n",
            "  inflating: Training/notumor/Tr-no_1144.jpg  \n",
            "  inflating: Training/notumor/Tr-no_1145.jpg  \n",
            "  inflating: Training/notumor/Tr-no_1146.jpg  \n",
            "  inflating: Training/notumor/Tr-no_1147.jpg  \n",
            "  inflating: Training/notumor/Tr-no_1148.jpg  \n",
            "  inflating: Training/notumor/Tr-no_1149.jpg  \n",
            "  inflating: Training/notumor/Tr-no_1150.jpg  \n",
            "  inflating: Training/notumor/Tr-no_1151.jpg  \n",
            "  inflating: Training/notumor/Tr-no_1152.jpg  \n",
            "  inflating: Training/notumor/Tr-no_1153.jpg  \n",
            "  inflating: Training/notumor/Tr-no_1154.jpg  \n",
            "  inflating: Training/notumor/Tr-no_1155.jpg  \n",
            "  inflating: Training/notumor/Tr-no_1156.jpg  \n",
            "  inflating: Training/notumor/Tr-no_1157.jpg  \n",
            "  inflating: Training/notumor/Tr-no_1158.jpg  \n",
            "  inflating: Training/notumor/Tr-no_1159.jpg  \n",
            "  inflating: Training/notumor/Tr-no_1160.jpg  \n",
            "  inflating: Training/notumor/Tr-no_1161.jpg  \n",
            "  inflating: Training/notumor/Tr-no_1162.jpg  \n",
            "  inflating: Training/notumor/Tr-no_1163.jpg  \n",
            "  inflating: Training/notumor/Tr-no_1164.jpg  \n",
            "  inflating: Training/notumor/Tr-no_1165.jpg  \n",
            "  inflating: Training/notumor/Tr-no_1166.jpg  \n",
            "  inflating: Training/notumor/Tr-no_1167.jpg  \n",
            "  inflating: Training/notumor/Tr-no_1168.jpg  \n",
            "  inflating: Training/notumor/Tr-no_1169.jpg  \n",
            "  inflating: Training/notumor/Tr-no_1170.jpg  \n",
            "  inflating: Training/notumor/Tr-no_1171.jpg  \n",
            "  inflating: Training/notumor/Tr-no_1172.jpg  \n",
            "  inflating: Training/notumor/Tr-no_1173.jpg  \n",
            "  inflating: Training/notumor/Tr-no_1174.jpg  \n",
            "  inflating: Training/notumor/Tr-no_1175.jpg  \n",
            "  inflating: Training/notumor/Tr-no_1176.jpg  \n",
            "  inflating: Training/notumor/Tr-no_1177.jpg  \n",
            "  inflating: Training/notumor/Tr-no_1178.jpg  \n",
            "  inflating: Training/notumor/Tr-no_1179.jpg  \n",
            "  inflating: Training/notumor/Tr-no_1180.jpg  \n",
            "  inflating: Training/notumor/Tr-no_1181.jpg  \n",
            "  inflating: Training/notumor/Tr-no_1182.jpg  \n",
            "  inflating: Training/notumor/Tr-no_1183.jpg  \n",
            "  inflating: Training/notumor/Tr-no_1184.jpg  \n",
            "  inflating: Training/notumor/Tr-no_1185.jpg  \n",
            "  inflating: Training/notumor/Tr-no_1186.jpg  \n",
            "  inflating: Training/notumor/Tr-no_1187.jpg  \n",
            "  inflating: Training/notumor/Tr-no_1188.jpg  \n",
            "  inflating: Training/notumor/Tr-no_1189.jpg  \n",
            "  inflating: Training/notumor/Tr-no_1190.jpg  \n",
            "  inflating: Training/notumor/Tr-no_1191.jpg  \n",
            "  inflating: Training/notumor/Tr-no_1192.jpg  \n",
            "  inflating: Training/notumor/Tr-no_1193.jpg  \n",
            "  inflating: Training/notumor/Tr-no_1194.jpg  \n",
            "  inflating: Training/notumor/Tr-no_1195.jpg  \n",
            "  inflating: Training/notumor/Tr-no_1196.jpg  \n",
            "  inflating: Training/notumor/Tr-no_1197.jpg  \n",
            "  inflating: Training/notumor/Tr-no_1198.jpg  \n",
            "  inflating: Training/notumor/Tr-no_1199.jpg  \n",
            "  inflating: Training/notumor/Tr-no_1200.jpg  \n",
            "  inflating: Training/notumor/Tr-no_1201.jpg  \n",
            "  inflating: Training/notumor/Tr-no_1202.jpg  \n",
            "  inflating: Training/notumor/Tr-no_1203.jpg  \n",
            "  inflating: Training/notumor/Tr-no_1204.jpg  \n",
            "  inflating: Training/notumor/Tr-no_1205.jpg  \n",
            "  inflating: Training/notumor/Tr-no_1206.jpg  \n",
            "  inflating: Training/notumor/Tr-no_1207.jpg  \n",
            "  inflating: Training/notumor/Tr-no_1208.jpg  \n",
            "  inflating: Training/notumor/Tr-no_1209.jpg  \n",
            "  inflating: Training/notumor/Tr-no_1210.jpg  \n",
            "  inflating: Training/notumor/Tr-no_1211.jpg  \n",
            "  inflating: Training/notumor/Tr-no_1212.jpg  \n",
            "  inflating: Training/notumor/Tr-no_1213.jpg  \n",
            "  inflating: Training/notumor/Tr-no_1214.jpg  \n",
            "  inflating: Training/notumor/Tr-no_1215.jpg  \n",
            "  inflating: Training/notumor/Tr-no_1216.jpg  \n",
            "  inflating: Training/notumor/Tr-no_1217.jpg  \n",
            "  inflating: Training/notumor/Tr-no_1218.jpg  \n",
            "  inflating: Training/notumor/Tr-no_1219.jpg  \n",
            "  inflating: Training/notumor/Tr-no_1220.jpg  \n",
            "  inflating: Training/notumor/Tr-no_1221.jpg  \n",
            "  inflating: Training/notumor/Tr-no_1222.jpg  \n",
            "  inflating: Training/notumor/Tr-no_1223.jpg  \n",
            "  inflating: Training/notumor/Tr-no_1224.jpg  \n",
            "  inflating: Training/notumor/Tr-no_1225.jpg  \n",
            "  inflating: Training/notumor/Tr-no_1226.jpg  \n",
            "  inflating: Training/notumor/Tr-no_1227.jpg  \n",
            "  inflating: Training/notumor/Tr-no_1228.jpg  \n",
            "  inflating: Training/notumor/Tr-no_1229.jpg  \n",
            "  inflating: Training/notumor/Tr-no_1230.jpg  \n",
            "  inflating: Training/notumor/Tr-no_1231.jpg  \n",
            "  inflating: Training/notumor/Tr-no_1232.jpg  \n",
            "  inflating: Training/notumor/Tr-no_1233.jpg  \n",
            "  inflating: Training/notumor/Tr-no_1234.jpg  \n",
            "  inflating: Training/notumor/Tr-no_1235.jpg  \n",
            "  inflating: Training/notumor/Tr-no_1236.jpg  \n",
            "  inflating: Training/notumor/Tr-no_1237.jpg  \n",
            "  inflating: Training/notumor/Tr-no_1238.jpg  \n",
            "  inflating: Training/notumor/Tr-no_1239.jpg  \n",
            "  inflating: Training/notumor/Tr-no_1240.jpg  \n",
            "  inflating: Training/notumor/Tr-no_1241.jpg  \n",
            "  inflating: Training/notumor/Tr-no_1242.jpg  \n",
            "  inflating: Training/notumor/Tr-no_1243.jpg  \n",
            "  inflating: Training/notumor/Tr-no_1244.jpg  \n",
            "  inflating: Training/notumor/Tr-no_1245.jpg  \n",
            "  inflating: Training/notumor/Tr-no_1246.jpg  \n",
            "  inflating: Training/notumor/Tr-no_1247.jpg  \n",
            "  inflating: Training/notumor/Tr-no_1248.jpg  \n",
            "  inflating: Training/notumor/Tr-no_1249.jpg  \n",
            "  inflating: Training/notumor/Tr-no_1250.jpg  \n",
            "  inflating: Training/notumor/Tr-no_1251.jpg  \n",
            "  inflating: Training/notumor/Tr-no_1252.jpg  \n",
            "  inflating: Training/notumor/Tr-no_1253.jpg  \n",
            "  inflating: Training/notumor/Tr-no_1254.jpg  \n",
            "  inflating: Training/notumor/Tr-no_1255.jpg  \n",
            "  inflating: Training/notumor/Tr-no_1256.jpg  \n",
            "  inflating: Training/notumor/Tr-no_1257.jpg  \n",
            "  inflating: Training/notumor/Tr-no_1258.jpg  \n",
            "  inflating: Training/notumor/Tr-no_1259.jpg  \n",
            "  inflating: Training/notumor/Tr-no_1260.jpg  \n",
            "  inflating: Training/notumor/Tr-no_1261.jpg  \n",
            "  inflating: Training/notumor/Tr-no_1262.jpg  \n",
            "  inflating: Training/notumor/Tr-no_1263.jpg  \n",
            "  inflating: Training/notumor/Tr-no_1264.jpg  \n",
            "  inflating: Training/notumor/Tr-no_1265.jpg  \n",
            "  inflating: Training/notumor/Tr-no_1266.jpg  \n",
            "  inflating: Training/notumor/Tr-no_1267.jpg  \n",
            "  inflating: Training/notumor/Tr-no_1268.jpg  \n",
            "  inflating: Training/notumor/Tr-no_1269.jpg  \n",
            "  inflating: Training/notumor/Tr-no_1270.jpg  \n",
            "  inflating: Training/notumor/Tr-no_1271.jpg  \n",
            "  inflating: Training/notumor/Tr-no_1272.jpg  \n",
            "  inflating: Training/notumor/Tr-no_1273.jpg  \n",
            "  inflating: Training/notumor/Tr-no_1274.jpg  \n",
            "  inflating: Training/notumor/Tr-no_1275.jpg  \n",
            "  inflating: Training/notumor/Tr-no_1276.jpg  \n",
            "  inflating: Training/notumor/Tr-no_1277.jpg  \n",
            "  inflating: Training/notumor/Tr-no_1278.jpg  \n",
            "  inflating: Training/notumor/Tr-no_1279.jpg  \n",
            "  inflating: Training/notumor/Tr-no_1280.jpg  \n",
            "  inflating: Training/notumor/Tr-no_1281.jpg  \n",
            "  inflating: Training/notumor/Tr-no_1282.jpg  \n",
            "  inflating: Training/notumor/Tr-no_1283.jpg  \n",
            "  inflating: Training/notumor/Tr-no_1284.jpg  \n",
            "  inflating: Training/notumor/Tr-no_1285.jpg  \n",
            "  inflating: Training/notumor/Tr-no_1286.jpg  \n",
            "  inflating: Training/notumor/Tr-no_1287.jpg  \n",
            "  inflating: Training/notumor/Tr-no_1288.jpg  \n",
            "  inflating: Training/notumor/Tr-no_1289.jpg  \n",
            "  inflating: Training/notumor/Tr-no_1290.jpg  \n",
            "  inflating: Training/notumor/Tr-no_1291.jpg  \n",
            "  inflating: Training/notumor/Tr-no_1292.jpg  \n",
            "  inflating: Training/notumor/Tr-no_1293.jpg  \n",
            "  inflating: Training/notumor/Tr-no_1294.jpg  \n",
            "  inflating: Training/notumor/Tr-no_1295.jpg  \n",
            "  inflating: Training/notumor/Tr-no_1296.jpg  \n",
            "  inflating: Training/notumor/Tr-no_1297.jpg  \n",
            "  inflating: Training/notumor/Tr-no_1298.jpg  \n",
            "  inflating: Training/notumor/Tr-no_1299.jpg  \n",
            "  inflating: Training/notumor/Tr-no_1300.jpg  \n",
            "  inflating: Training/notumor/Tr-no_1301.jpg  \n",
            "  inflating: Training/notumor/Tr-no_1302.jpg  \n",
            "  inflating: Training/notumor/Tr-no_1303.jpg  \n",
            "  inflating: Training/notumor/Tr-no_1304.jpg  \n",
            "  inflating: Training/notumor/Tr-no_1305.jpg  \n",
            "  inflating: Training/notumor/Tr-no_1306.jpg  \n",
            "  inflating: Training/notumor/Tr-no_1307.jpg  \n",
            "  inflating: Training/notumor/Tr-no_1308.jpg  \n",
            "  inflating: Training/notumor/Tr-no_1309.jpg  \n",
            "  inflating: Training/notumor/Tr-no_1310.jpg  \n",
            "  inflating: Training/notumor/Tr-no_1311.jpg  \n",
            "  inflating: Training/notumor/Tr-no_1312.jpg  \n",
            "  inflating: Training/notumor/Tr-no_1313.jpg  \n",
            "  inflating: Training/notumor/Tr-no_1314.jpg  \n",
            "  inflating: Training/notumor/Tr-no_1315.jpg  \n",
            "  inflating: Training/notumor/Tr-no_1316.jpg  \n",
            "  inflating: Training/notumor/Tr-no_1317.jpg  \n",
            "  inflating: Training/notumor/Tr-no_1318.jpg  \n",
            "  inflating: Training/notumor/Tr-no_1319.jpg  \n",
            "  inflating: Training/notumor/Tr-no_1320.jpg  \n",
            "  inflating: Training/notumor/Tr-no_1321.jpg  \n",
            "  inflating: Training/notumor/Tr-no_1322.jpg  \n",
            "  inflating: Training/notumor/Tr-no_1323.jpg  \n",
            "  inflating: Training/notumor/Tr-no_1324.jpg  \n",
            "  inflating: Training/notumor/Tr-no_1325.jpg  \n",
            "  inflating: Training/notumor/Tr-no_1326.jpg  \n",
            "  inflating: Training/notumor/Tr-no_1327.jpg  \n",
            "  inflating: Training/notumor/Tr-no_1328.jpg  \n",
            "  inflating: Training/notumor/Tr-no_1329.jpg  \n",
            "  inflating: Training/notumor/Tr-no_1330.jpg  \n",
            "  inflating: Training/notumor/Tr-no_1331.jpg  \n",
            "  inflating: Training/notumor/Tr-no_1332.jpg  \n",
            "  inflating: Training/notumor/Tr-no_1333.jpg  \n",
            "  inflating: Training/notumor/Tr-no_1334.jpg  \n",
            "  inflating: Training/notumor/Tr-no_1335.jpg  \n",
            "  inflating: Training/notumor/Tr-no_1336.jpg  \n",
            "  inflating: Training/notumor/Tr-no_1337.jpg  \n",
            "  inflating: Training/notumor/Tr-no_1338.jpg  \n",
            "  inflating: Training/notumor/Tr-no_1339.jpg  \n",
            "  inflating: Training/notumor/Tr-no_1340.jpg  \n",
            "  inflating: Training/notumor/Tr-no_1341.jpg  \n",
            "  inflating: Training/notumor/Tr-no_1342.jpg  \n",
            "  inflating: Training/notumor/Tr-no_1343.jpg  \n",
            "  inflating: Training/notumor/Tr-no_1344.jpg  \n",
            "  inflating: Training/notumor/Tr-no_1345.jpg  \n",
            "  inflating: Training/notumor/Tr-no_1346.jpg  \n",
            "  inflating: Training/notumor/Tr-no_1347.jpg  \n",
            "  inflating: Training/notumor/Tr-no_1348.jpg  \n",
            "  inflating: Training/notumor/Tr-no_1349.jpg  \n",
            "  inflating: Training/notumor/Tr-no_1350.jpg  \n",
            "  inflating: Training/notumor/Tr-no_1351.jpg  \n",
            "  inflating: Training/notumor/Tr-no_1352.jpg  \n",
            "  inflating: Training/notumor/Tr-no_1353.jpg  \n",
            "  inflating: Training/notumor/Tr-no_1354.jpg  \n",
            "  inflating: Training/notumor/Tr-no_1355.jpg  \n",
            "  inflating: Training/notumor/Tr-no_1356.jpg  \n",
            "  inflating: Training/notumor/Tr-no_1357.jpg  \n",
            "  inflating: Training/notumor/Tr-no_1358.jpg  \n",
            "  inflating: Training/notumor/Tr-no_1359.jpg  \n",
            "  inflating: Training/notumor/Tr-no_1360.jpg  \n",
            "  inflating: Training/notumor/Tr-no_1361.jpg  \n",
            "  inflating: Training/notumor/Tr-no_1362.jpg  \n",
            "  inflating: Training/notumor/Tr-no_1363.jpg  \n",
            "  inflating: Training/notumor/Tr-no_1364.jpg  \n",
            "  inflating: Training/notumor/Tr-no_1365.jpg  \n",
            "  inflating: Training/notumor/Tr-no_1366.jpg  \n",
            "  inflating: Training/notumor/Tr-no_1367.jpg  \n",
            "  inflating: Training/notumor/Tr-no_1368.jpg  \n",
            "  inflating: Training/notumor/Tr-no_1369.jpg  \n",
            "  inflating: Training/notumor/Tr-no_1370.jpg  \n",
            "  inflating: Training/notumor/Tr-no_1371.jpg  \n",
            "  inflating: Training/notumor/Tr-no_1372.jpg  \n",
            "  inflating: Training/notumor/Tr-no_1373.jpg  \n",
            "  inflating: Training/notumor/Tr-no_1374.jpg  \n",
            "  inflating: Training/notumor/Tr-no_1375.jpg  \n",
            "  inflating: Training/notumor/Tr-no_1376.jpg  \n",
            "  inflating: Training/notumor/Tr-no_1377.jpg  \n",
            "  inflating: Training/notumor/Tr-no_1378.jpg  \n",
            "  inflating: Training/notumor/Tr-no_1379.jpg  \n",
            "  inflating: Training/notumor/Tr-no_1380.jpg  \n",
            "  inflating: Training/notumor/Tr-no_1381.jpg  \n",
            "  inflating: Training/notumor/Tr-no_1382.jpg  \n",
            "  inflating: Training/notumor/Tr-no_1383.jpg  \n",
            "  inflating: Training/notumor/Tr-no_1384.jpg  \n",
            "  inflating: Training/notumor/Tr-no_1385.jpg  \n",
            "  inflating: Training/notumor/Tr-no_1386.jpg  \n",
            "  inflating: Training/notumor/Tr-no_1387.jpg  \n",
            "  inflating: Training/notumor/Tr-no_1388.jpg  \n",
            "  inflating: Training/notumor/Tr-no_1389.jpg  \n",
            "  inflating: Training/notumor/Tr-no_1390.jpg  \n",
            "  inflating: Training/notumor/Tr-no_1391.jpg  \n",
            "  inflating: Training/notumor/Tr-no_1392.jpg  \n",
            "  inflating: Training/notumor/Tr-no_1393.jpg  \n",
            "  inflating: Training/notumor/Tr-no_1394.jpg  \n",
            "  inflating: Training/notumor/Tr-no_1395.jpg  \n",
            "  inflating: Training/notumor/Tr-no_1396.jpg  \n",
            "  inflating: Training/notumor/Tr-no_1397.jpg  \n",
            "  inflating: Training/notumor/Tr-no_1398.jpg  \n",
            "  inflating: Training/notumor/Tr-no_1399.jpg  \n",
            "  inflating: Training/notumor/Tr-no_1400.jpg  \n",
            "  inflating: Training/notumor/Tr-no_1401.jpg  \n",
            "  inflating: Training/notumor/Tr-no_1402.jpg  \n",
            "  inflating: Training/notumor/Tr-no_1403.jpg  \n",
            "  inflating: Training/notumor/Tr-no_1404.jpg  \n",
            "  inflating: Training/notumor/Tr-no_1405.jpg  \n",
            "  inflating: Training/notumor/Tr-no_1406.jpg  \n",
            "  inflating: Training/notumor/Tr-no_1407.jpg  \n",
            "  inflating: Training/notumor/Tr-no_1408.jpg  \n",
            "  inflating: Training/notumor/Tr-no_1409.jpg  \n",
            "  inflating: Training/notumor/Tr-no_1410.jpg  \n",
            "  inflating: Training/notumor/Tr-no_1411.jpg  \n",
            "  inflating: Training/notumor/Tr-no_1412.jpg  \n",
            "  inflating: Training/notumor/Tr-no_1413.jpg  \n",
            "  inflating: Training/notumor/Tr-no_1414.jpg  \n",
            "  inflating: Training/notumor/Tr-no_1415.jpg  \n",
            "  inflating: Training/notumor/Tr-no_1416.jpg  \n",
            "  inflating: Training/notumor/Tr-no_1417.jpg  \n",
            "  inflating: Training/notumor/Tr-no_1418.jpg  \n",
            "  inflating: Training/notumor/Tr-no_1419.jpg  \n",
            "  inflating: Training/notumor/Tr-no_1420.jpg  \n",
            "  inflating: Training/notumor/Tr-no_1421.jpg  \n",
            "  inflating: Training/notumor/Tr-no_1422.jpg  \n",
            "  inflating: Training/notumor/Tr-no_1423.jpg  \n",
            "  inflating: Training/notumor/Tr-no_1424.jpg  \n",
            "  inflating: Training/notumor/Tr-no_1425.jpg  \n",
            "  inflating: Training/notumor/Tr-no_1426.jpg  \n",
            "  inflating: Training/notumor/Tr-no_1427.jpg  \n",
            "  inflating: Training/notumor/Tr-no_1428.jpg  \n",
            "  inflating: Training/notumor/Tr-no_1429.jpg  \n",
            "  inflating: Training/notumor/Tr-no_1430.jpg  \n",
            "  inflating: Training/notumor/Tr-no_1431.jpg  \n",
            "  inflating: Training/notumor/Tr-no_1432.jpg  \n",
            "  inflating: Training/notumor/Tr-no_1433.jpg  \n",
            "  inflating: Training/notumor/Tr-no_1434.jpg  \n",
            "  inflating: Training/notumor/Tr-no_1435.jpg  \n",
            "  inflating: Training/notumor/Tr-no_1436.jpg  \n",
            "  inflating: Training/notumor/Tr-no_1437.jpg  \n",
            "  inflating: Training/notumor/Tr-no_1438.jpg  \n",
            "  inflating: Training/notumor/Tr-no_1439.jpg  \n",
            "  inflating: Training/notumor/Tr-no_1440.jpg  \n",
            "  inflating: Training/notumor/Tr-no_1441.jpg  \n",
            "  inflating: Training/notumor/Tr-no_1442.jpg  \n",
            "  inflating: Training/notumor/Tr-no_1443.jpg  \n",
            "  inflating: Training/notumor/Tr-no_1444.jpg  \n",
            "  inflating: Training/notumor/Tr-no_1445.jpg  \n",
            "  inflating: Training/notumor/Tr-no_1446.jpg  \n",
            "  inflating: Training/notumor/Tr-no_1447.jpg  \n",
            "  inflating: Training/notumor/Tr-no_1448.jpg  \n",
            "  inflating: Training/notumor/Tr-no_1449.jpg  \n",
            "  inflating: Training/notumor/Tr-no_1450.jpg  \n",
            "  inflating: Training/notumor/Tr-no_1451.jpg  \n",
            "  inflating: Training/notumor/Tr-no_1452.jpg  \n",
            "  inflating: Training/notumor/Tr-no_1453.jpg  \n",
            "  inflating: Training/notumor/Tr-no_1454.jpg  \n",
            "  inflating: Training/notumor/Tr-no_1455.jpg  \n",
            "  inflating: Training/notumor/Tr-no_1456.jpg  \n",
            "  inflating: Training/notumor/Tr-no_1457.jpg  \n",
            "  inflating: Training/notumor/Tr-no_1458.jpg  \n",
            "  inflating: Training/notumor/Tr-no_1459.jpg  \n",
            "  inflating: Training/notumor/Tr-no_1460.jpg  \n",
            "  inflating: Training/notumor/Tr-no_1461.jpg  \n",
            "  inflating: Training/notumor/Tr-no_1462.jpg  \n",
            "  inflating: Training/notumor/Tr-no_1463.jpg  \n",
            "  inflating: Training/notumor/Tr-no_1464.jpg  \n",
            "  inflating: Training/notumor/Tr-no_1465.jpg  \n",
            "  inflating: Training/notumor/Tr-no_1466.jpg  \n",
            "  inflating: Training/notumor/Tr-no_1467.jpg  \n",
            "  inflating: Training/notumor/Tr-no_1468.jpg  \n",
            "  inflating: Training/notumor/Tr-no_1469.jpg  \n",
            "  inflating: Training/notumor/Tr-no_1470.jpg  \n",
            "  inflating: Training/notumor/Tr-no_1471.jpg  \n",
            "  inflating: Training/notumor/Tr-no_1472.jpg  \n",
            "  inflating: Training/notumor/Tr-no_1473.jpg  \n",
            "  inflating: Training/notumor/Tr-no_1474.jpg  \n",
            "  inflating: Training/notumor/Tr-no_1475.jpg  \n",
            "  inflating: Training/notumor/Tr-no_1476.jpg  \n",
            "  inflating: Training/notumor/Tr-no_1477.jpg  \n",
            "  inflating: Training/notumor/Tr-no_1478.jpg  \n",
            "  inflating: Training/notumor/Tr-no_1479.jpg  \n",
            "  inflating: Training/notumor/Tr-no_1480.jpg  \n",
            "  inflating: Training/notumor/Tr-no_1481.jpg  \n",
            "  inflating: Training/notumor/Tr-no_1482.jpg  \n",
            "  inflating: Training/notumor/Tr-no_1483.jpg  \n",
            "  inflating: Training/notumor/Tr-no_1484.jpg  \n",
            "  inflating: Training/notumor/Tr-no_1485.jpg  \n",
            "  inflating: Training/notumor/Tr-no_1486.jpg  \n",
            "  inflating: Training/notumor/Tr-no_1487.jpg  \n",
            "  inflating: Training/notumor/Tr-no_1488.jpg  \n",
            "  inflating: Training/notumor/Tr-no_1489.jpg  \n",
            "  inflating: Training/notumor/Tr-no_1490.jpg  \n",
            "  inflating: Training/notumor/Tr-no_1491.jpg  \n",
            "  inflating: Training/notumor/Tr-no_1492.jpg  \n",
            "  inflating: Training/notumor/Tr-no_1493.jpg  \n",
            "  inflating: Training/notumor/Tr-no_1494.jpg  \n",
            "  inflating: Training/notumor/Tr-no_1495.jpg  \n",
            "  inflating: Training/notumor/Tr-no_1496.jpg  \n",
            "  inflating: Training/notumor/Tr-no_1497.jpg  \n",
            "  inflating: Training/notumor/Tr-no_1498.jpg  \n",
            "  inflating: Training/notumor/Tr-no_1499.jpg  \n",
            "  inflating: Training/notumor/Tr-no_1500.jpg  \n",
            "  inflating: Training/notumor/Tr-no_1501.jpg  \n",
            "  inflating: Training/notumor/Tr-no_1502.jpg  \n",
            "  inflating: Training/notumor/Tr-no_1503.jpg  \n",
            "  inflating: Training/notumor/Tr-no_1504.jpg  \n",
            "  inflating: Training/notumor/Tr-no_1505.jpg  \n",
            "  inflating: Training/notumor/Tr-no_1506.jpg  \n",
            "  inflating: Training/notumor/Tr-no_1507.jpg  \n",
            "  inflating: Training/notumor/Tr-no_1508.jpg  \n",
            "  inflating: Training/notumor/Tr-no_1509.jpg  \n",
            "  inflating: Training/notumor/Tr-no_1510.jpg  \n",
            "  inflating: Training/notumor/Tr-no_1511.jpg  \n",
            "  inflating: Training/notumor/Tr-no_1512.jpg  \n",
            "  inflating: Training/notumor/Tr-no_1513.jpg  \n",
            "  inflating: Training/notumor/Tr-no_1514.jpg  \n",
            "  inflating: Training/notumor/Tr-no_1515.jpg  \n",
            "  inflating: Training/notumor/Tr-no_1516.jpg  \n",
            "  inflating: Training/notumor/Tr-no_1517.jpg  \n",
            "  inflating: Training/notumor/Tr-no_1518.jpg  \n",
            "  inflating: Training/notumor/Tr-no_1519.jpg  \n",
            "  inflating: Training/notumor/Tr-no_1520.jpg  \n",
            "  inflating: Training/notumor/Tr-no_1521.jpg  \n",
            "  inflating: Training/notumor/Tr-no_1522.jpg  \n",
            "  inflating: Training/notumor/Tr-no_1523.jpg  \n",
            "  inflating: Training/notumor/Tr-no_1524.jpg  \n",
            "  inflating: Training/notumor/Tr-no_1525.jpg  \n",
            "  inflating: Training/notumor/Tr-no_1526.jpg  \n",
            "  inflating: Training/notumor/Tr-no_1527.jpg  \n",
            "  inflating: Training/notumor/Tr-no_1528.jpg  \n",
            "  inflating: Training/notumor/Tr-no_1529.jpg  \n",
            "  inflating: Training/notumor/Tr-no_1530.jpg  \n",
            "  inflating: Training/notumor/Tr-no_1531.jpg  \n",
            "  inflating: Training/notumor/Tr-no_1532.jpg  \n",
            "  inflating: Training/notumor/Tr-no_1533.jpg  \n",
            "  inflating: Training/notumor/Tr-no_1534.jpg  \n",
            "  inflating: Training/notumor/Tr-no_1535.jpg  \n",
            "  inflating: Training/notumor/Tr-no_1536.jpg  \n",
            "  inflating: Training/notumor/Tr-no_1537.jpg  \n",
            "  inflating: Training/notumor/Tr-no_1538.jpg  \n",
            "  inflating: Training/notumor/Tr-no_1539.jpg  \n",
            "  inflating: Training/notumor/Tr-no_1540.jpg  \n",
            "  inflating: Training/notumor/Tr-no_1541.jpg  \n",
            "  inflating: Training/notumor/Tr-no_1542.jpg  \n",
            "  inflating: Training/notumor/Tr-no_1543.jpg  \n",
            "  inflating: Training/notumor/Tr-no_1544.jpg  \n",
            "  inflating: Training/notumor/Tr-no_1545.jpg  \n",
            "  inflating: Training/notumor/Tr-no_1546.jpg  \n",
            "  inflating: Training/notumor/Tr-no_1547.jpg  \n",
            "  inflating: Training/notumor/Tr-no_1548.jpg  \n",
            "  inflating: Training/notumor/Tr-no_1549.jpg  \n",
            "  inflating: Training/notumor/Tr-no_1550.jpg  \n",
            "  inflating: Training/notumor/Tr-no_1551.jpg  \n",
            "  inflating: Training/notumor/Tr-no_1552.jpg  \n",
            "  inflating: Training/notumor/Tr-no_1553.jpg  \n",
            "  inflating: Training/notumor/Tr-no_1554.jpg  \n",
            "  inflating: Training/notumor/Tr-no_1555.jpg  \n",
            "  inflating: Training/notumor/Tr-no_1556.jpg  \n",
            "  inflating: Training/notumor/Tr-no_1557.jpg  \n",
            "  inflating: Training/notumor/Tr-no_1558.jpg  \n",
            "  inflating: Training/notumor/Tr-no_1559.jpg  \n",
            "  inflating: Training/notumor/Tr-no_1560.jpg  \n",
            "  inflating: Training/notumor/Tr-no_1561.jpg  \n",
            "  inflating: Training/notumor/Tr-no_1562.jpg  \n",
            "  inflating: Training/notumor/Tr-no_1563.jpg  \n",
            "  inflating: Training/notumor/Tr-no_1564.jpg  \n",
            "  inflating: Training/notumor/Tr-no_1565.jpg  \n",
            "  inflating: Training/notumor/Tr-no_1566.jpg  \n",
            "  inflating: Training/notumor/Tr-no_1567.jpg  \n",
            "  inflating: Training/notumor/Tr-no_1568.jpg  \n",
            "  inflating: Training/notumor/Tr-no_1569.jpg  \n",
            "  inflating: Training/notumor/Tr-no_1570.jpg  \n",
            "  inflating: Training/notumor/Tr-no_1571.jpg  \n",
            "  inflating: Training/notumor/Tr-no_1572.jpg  \n",
            "  inflating: Training/notumor/Tr-no_1573.jpg  \n",
            "  inflating: Training/notumor/Tr-no_1574.jpg  \n",
            "  inflating: Training/notumor/Tr-no_1575.jpg  \n",
            "  inflating: Training/notumor/Tr-no_1576.jpg  \n",
            "  inflating: Training/notumor/Tr-no_1577.jpg  \n",
            "  inflating: Training/notumor/Tr-no_1578.jpg  \n",
            "  inflating: Training/notumor/Tr-no_1579.jpg  \n",
            "  inflating: Training/notumor/Tr-no_1580.jpg  \n",
            "  inflating: Training/notumor/Tr-no_1581.jpg  \n",
            "  inflating: Training/notumor/Tr-no_1582.jpg  \n",
            "  inflating: Training/notumor/Tr-no_1583.jpg  \n",
            "  inflating: Training/notumor/Tr-no_1584.jpg  \n",
            "  inflating: Training/notumor/Tr-no_1585.jpg  \n",
            "  inflating: Training/notumor/Tr-no_1586.jpg  \n",
            "  inflating: Training/notumor/Tr-no_1587.jpg  \n",
            "  inflating: Training/notumor/Tr-no_1588.jpg  \n",
            "  inflating: Training/notumor/Tr-no_1589.jpg  \n",
            "  inflating: Training/notumor/Tr-no_1590.jpg  \n",
            "  inflating: Training/notumor/Tr-no_1591.jpg  \n",
            "  inflating: Training/notumor/Tr-no_1592.jpg  \n",
            "  inflating: Training/notumor/Tr-no_1593.jpg  \n",
            "  inflating: Training/notumor/Tr-no_1594.jpg  \n",
            "  inflating: Training/pituitary/Tr-piTr_0000.jpg  \n",
            "  inflating: Training/pituitary/Tr-piTr_0001.jpg  \n",
            "  inflating: Training/pituitary/Tr-piTr_0002.jpg  \n",
            "  inflating: Training/pituitary/Tr-piTr_0003.jpg  \n",
            "  inflating: Training/pituitary/Tr-piTr_0004.jpg  \n",
            "  inflating: Training/pituitary/Tr-piTr_0005.jpg  \n",
            "  inflating: Training/pituitary/Tr-piTr_0006.jpg  \n",
            "  inflating: Training/pituitary/Tr-piTr_0007.jpg  \n",
            "  inflating: Training/pituitary/Tr-piTr_0008.jpg  \n",
            "  inflating: Training/pituitary/Tr-piTr_0009.jpg  \n",
            "  inflating: Training/pituitary/Tr-pi_0010.jpg  \n",
            "  inflating: Training/pituitary/Tr-pi_0011.jpg  \n",
            "  inflating: Training/pituitary/Tr-pi_0012.jpg  \n",
            "  inflating: Training/pituitary/Tr-pi_0013.jpg  \n",
            "  inflating: Training/pituitary/Tr-pi_0014.jpg  \n",
            "  inflating: Training/pituitary/Tr-pi_0015.jpg  \n",
            "  inflating: Training/pituitary/Tr-pi_0016.jpg  \n",
            "  inflating: Training/pituitary/Tr-pi_0017.jpg  \n",
            "  inflating: Training/pituitary/Tr-pi_0018.jpg  \n",
            "  inflating: Training/pituitary/Tr-pi_0019.jpg  \n",
            "  inflating: Training/pituitary/Tr-pi_0020.jpg  \n",
            "  inflating: Training/pituitary/Tr-pi_0021.jpg  \n",
            "  inflating: Training/pituitary/Tr-pi_0022.jpg  \n",
            "  inflating: Training/pituitary/Tr-pi_0023.jpg  \n",
            "  inflating: Training/pituitary/Tr-pi_0024.jpg  \n",
            "  inflating: Training/pituitary/Tr-pi_0025.jpg  \n",
            "  inflating: Training/pituitary/Tr-pi_0026.jpg  \n",
            "  inflating: Training/pituitary/Tr-pi_0027.jpg  \n",
            "  inflating: Training/pituitary/Tr-pi_0028.jpg  \n",
            "  inflating: Training/pituitary/Tr-pi_0029.jpg  \n",
            "  inflating: Training/pituitary/Tr-pi_0030.jpg  \n",
            "  inflating: Training/pituitary/Tr-pi_0031.jpg  \n",
            "  inflating: Training/pituitary/Tr-pi_0032.jpg  \n",
            "  inflating: Training/pituitary/Tr-pi_0033.jpg  \n",
            "  inflating: Training/pituitary/Tr-pi_0034.jpg  \n",
            "  inflating: Training/pituitary/Tr-pi_0035.jpg  \n",
            "  inflating: Training/pituitary/Tr-pi_0036.jpg  \n",
            "  inflating: Training/pituitary/Tr-pi_0037.jpg  \n",
            "  inflating: Training/pituitary/Tr-pi_0038.jpg  \n",
            "  inflating: Training/pituitary/Tr-pi_0039.jpg  \n",
            "  inflating: Training/pituitary/Tr-pi_0040.jpg  \n",
            "  inflating: Training/pituitary/Tr-pi_0041.jpg  \n",
            "  inflating: Training/pituitary/Tr-pi_0042.jpg  \n",
            "  inflating: Training/pituitary/Tr-pi_0043.jpg  \n",
            "  inflating: Training/pituitary/Tr-pi_0044.jpg  \n",
            "  inflating: Training/pituitary/Tr-pi_0045.jpg  \n",
            "  inflating: Training/pituitary/Tr-pi_0046.jpg  \n",
            "  inflating: Training/pituitary/Tr-pi_0047.jpg  \n",
            "  inflating: Training/pituitary/Tr-pi_0048.jpg  \n",
            "  inflating: Training/pituitary/Tr-pi_0049.jpg  \n",
            "  inflating: Training/pituitary/Tr-pi_0050.jpg  \n",
            "  inflating: Training/pituitary/Tr-pi_0051.jpg  \n",
            "  inflating: Training/pituitary/Tr-pi_0052.jpg  \n",
            "  inflating: Training/pituitary/Tr-pi_0053.jpg  \n",
            "  inflating: Training/pituitary/Tr-pi_0054.jpg  \n",
            "  inflating: Training/pituitary/Tr-pi_0055.jpg  \n",
            "  inflating: Training/pituitary/Tr-pi_0056.jpg  \n",
            "  inflating: Training/pituitary/Tr-pi_0057.jpg  \n",
            "  inflating: Training/pituitary/Tr-pi_0058.jpg  \n",
            "  inflating: Training/pituitary/Tr-pi_0059.jpg  \n",
            "  inflating: Training/pituitary/Tr-pi_0060.jpg  \n",
            "  inflating: Training/pituitary/Tr-pi_0061.jpg  \n",
            "  inflating: Training/pituitary/Tr-pi_0062.jpg  \n",
            "  inflating: Training/pituitary/Tr-pi_0063.jpg  \n",
            "  inflating: Training/pituitary/Tr-pi_0064.jpg  \n",
            "  inflating: Training/pituitary/Tr-pi_0065.jpg  \n",
            "  inflating: Training/pituitary/Tr-pi_0066.jpg  \n",
            "  inflating: Training/pituitary/Tr-pi_0067.jpg  \n",
            "  inflating: Training/pituitary/Tr-pi_0068.jpg  \n",
            "  inflating: Training/pituitary/Tr-pi_0069.jpg  \n",
            "  inflating: Training/pituitary/Tr-pi_0070.jpg  \n",
            "  inflating: Training/pituitary/Tr-pi_0071.jpg  \n",
            "  inflating: Training/pituitary/Tr-pi_0072.jpg  \n",
            "  inflating: Training/pituitary/Tr-pi_0073.jpg  \n",
            "  inflating: Training/pituitary/Tr-pi_0074.jpg  \n",
            "  inflating: Training/pituitary/Tr-pi_0075.jpg  \n",
            "  inflating: Training/pituitary/Tr-pi_0076.jpg  \n",
            "  inflating: Training/pituitary/Tr-pi_0077.jpg  \n",
            "  inflating: Training/pituitary/Tr-pi_0078.jpg  \n",
            "  inflating: Training/pituitary/Tr-pi_0079.jpg  \n",
            "  inflating: Training/pituitary/Tr-pi_0080.jpg  \n",
            "  inflating: Training/pituitary/Tr-pi_0081.jpg  \n",
            "  inflating: Training/pituitary/Tr-pi_0082.jpg  \n",
            "  inflating: Training/pituitary/Tr-pi_0083.jpg  \n",
            "  inflating: Training/pituitary/Tr-pi_0084.jpg  \n",
            "  inflating: Training/pituitary/Tr-pi_0085.jpg  \n",
            "  inflating: Training/pituitary/Tr-pi_0086.jpg  \n",
            "  inflating: Training/pituitary/Tr-pi_0087.jpg  \n",
            "  inflating: Training/pituitary/Tr-pi_0088.jpg  \n",
            "  inflating: Training/pituitary/Tr-pi_0089.jpg  \n",
            "  inflating: Training/pituitary/Tr-pi_0090.jpg  \n",
            "  inflating: Training/pituitary/Tr-pi_0091.jpg  \n",
            "  inflating: Training/pituitary/Tr-pi_0092.jpg  \n",
            "  inflating: Training/pituitary/Tr-pi_0093.jpg  \n",
            "  inflating: Training/pituitary/Tr-pi_0094.jpg  \n",
            "  inflating: Training/pituitary/Tr-pi_0095.jpg  \n",
            "  inflating: Training/pituitary/Tr-pi_0096.jpg  \n",
            "  inflating: Training/pituitary/Tr-pi_0097.jpg  \n",
            "  inflating: Training/pituitary/Tr-pi_0098.jpg  \n",
            "  inflating: Training/pituitary/Tr-pi_0099.jpg  \n",
            "  inflating: Training/pituitary/Tr-pi_0100.jpg  \n",
            "  inflating: Training/pituitary/Tr-pi_0101.jpg  \n",
            "  inflating: Training/pituitary/Tr-pi_0102.jpg  \n",
            "  inflating: Training/pituitary/Tr-pi_0103.jpg  \n",
            "  inflating: Training/pituitary/Tr-pi_0104.jpg  \n",
            "  inflating: Training/pituitary/Tr-pi_0105.jpg  \n",
            "  inflating: Training/pituitary/Tr-pi_0106.jpg  \n",
            "  inflating: Training/pituitary/Tr-pi_0107.jpg  \n",
            "  inflating: Training/pituitary/Tr-pi_0108.jpg  \n",
            "  inflating: Training/pituitary/Tr-pi_0109.jpg  \n",
            "  inflating: Training/pituitary/Tr-pi_0110.jpg  \n",
            "  inflating: Training/pituitary/Tr-pi_0111.jpg  \n",
            "  inflating: Training/pituitary/Tr-pi_0112.jpg  \n",
            "  inflating: Training/pituitary/Tr-pi_0113.jpg  \n",
            "  inflating: Training/pituitary/Tr-pi_0114.jpg  \n",
            "  inflating: Training/pituitary/Tr-pi_0115.jpg  \n",
            "  inflating: Training/pituitary/Tr-pi_0116.jpg  \n",
            "  inflating: Training/pituitary/Tr-pi_0117.jpg  \n",
            "  inflating: Training/pituitary/Tr-pi_0118.jpg  \n",
            "  inflating: Training/pituitary/Tr-pi_0119.jpg  \n",
            "  inflating: Training/pituitary/Tr-pi_0120.jpg  \n",
            "  inflating: Training/pituitary/Tr-pi_0121.jpg  \n",
            "  inflating: Training/pituitary/Tr-pi_0122.jpg  \n",
            "  inflating: Training/pituitary/Tr-pi_0123.jpg  \n",
            "  inflating: Training/pituitary/Tr-pi_0124.jpg  \n",
            "  inflating: Training/pituitary/Tr-pi_0125.jpg  \n",
            "  inflating: Training/pituitary/Tr-pi_0126.jpg  \n",
            "  inflating: Training/pituitary/Tr-pi_0127.jpg  \n",
            "  inflating: Training/pituitary/Tr-pi_0128.jpg  \n",
            "  inflating: Training/pituitary/Tr-pi_0129.jpg  \n",
            "  inflating: Training/pituitary/Tr-pi_0130.jpg  \n",
            "  inflating: Training/pituitary/Tr-pi_0131.jpg  \n",
            "  inflating: Training/pituitary/Tr-pi_0132.jpg  \n",
            "  inflating: Training/pituitary/Tr-pi_0133.jpg  \n",
            "  inflating: Training/pituitary/Tr-pi_0134.jpg  \n",
            "  inflating: Training/pituitary/Tr-pi_0135.jpg  \n",
            "  inflating: Training/pituitary/Tr-pi_0136.jpg  \n",
            "  inflating: Training/pituitary/Tr-pi_0137.jpg  \n",
            "  inflating: Training/pituitary/Tr-pi_0138.jpg  \n",
            "  inflating: Training/pituitary/Tr-pi_0139.jpg  \n",
            "  inflating: Training/pituitary/Tr-pi_0140.jpg  \n",
            "  inflating: Training/pituitary/Tr-pi_0141.jpg  \n",
            "  inflating: Training/pituitary/Tr-pi_0142.jpg  \n",
            "  inflating: Training/pituitary/Tr-pi_0143.jpg  \n",
            "  inflating: Training/pituitary/Tr-pi_0144.jpg  \n",
            "  inflating: Training/pituitary/Tr-pi_0145.jpg  \n",
            "  inflating: Training/pituitary/Tr-pi_0146.jpg  \n",
            "  inflating: Training/pituitary/Tr-pi_0147.jpg  \n",
            "  inflating: Training/pituitary/Tr-pi_0148.jpg  \n",
            "  inflating: Training/pituitary/Tr-pi_0149.jpg  \n",
            "  inflating: Training/pituitary/Tr-pi_0150.jpg  \n",
            "  inflating: Training/pituitary/Tr-pi_0151.jpg  \n",
            "  inflating: Training/pituitary/Tr-pi_0152.jpg  \n",
            "  inflating: Training/pituitary/Tr-pi_0153.jpg  \n",
            "  inflating: Training/pituitary/Tr-pi_0154.jpg  \n",
            "  inflating: Training/pituitary/Tr-pi_0155.jpg  \n",
            "  inflating: Training/pituitary/Tr-pi_0156.jpg  \n",
            "  inflating: Training/pituitary/Tr-pi_0157.jpg  \n",
            "  inflating: Training/pituitary/Tr-pi_0158.jpg  \n",
            "  inflating: Training/pituitary/Tr-pi_0159.jpg  \n",
            "  inflating: Training/pituitary/Tr-pi_0160.jpg  \n",
            "  inflating: Training/pituitary/Tr-pi_0161.jpg  \n",
            "  inflating: Training/pituitary/Tr-pi_0162.jpg  \n",
            "  inflating: Training/pituitary/Tr-pi_0163.jpg  \n",
            "  inflating: Training/pituitary/Tr-pi_0164.jpg  \n",
            "  inflating: Training/pituitary/Tr-pi_0165.jpg  \n",
            "  inflating: Training/pituitary/Tr-pi_0166.jpg  \n",
            "  inflating: Training/pituitary/Tr-pi_0167.jpg  \n",
            "  inflating: Training/pituitary/Tr-pi_0168.jpg  \n",
            "  inflating: Training/pituitary/Tr-pi_0169.jpg  \n",
            "  inflating: Training/pituitary/Tr-pi_0170.jpg  \n",
            "  inflating: Training/pituitary/Tr-pi_0171.jpg  \n",
            "  inflating: Training/pituitary/Tr-pi_0172.jpg  \n",
            "  inflating: Training/pituitary/Tr-pi_0173.jpg  \n",
            "  inflating: Training/pituitary/Tr-pi_0174.jpg  \n",
            "  inflating: Training/pituitary/Tr-pi_0175.jpg  \n",
            "  inflating: Training/pituitary/Tr-pi_0176.jpg  \n",
            "  inflating: Training/pituitary/Tr-pi_0177.jpg  \n",
            "  inflating: Training/pituitary/Tr-pi_0178.jpg  \n",
            "  inflating: Training/pituitary/Tr-pi_0179.jpg  \n",
            "  inflating: Training/pituitary/Tr-pi_0180.jpg  \n",
            "  inflating: Training/pituitary/Tr-pi_0181.jpg  \n",
            "  inflating: Training/pituitary/Tr-pi_0182.jpg  \n",
            "  inflating: Training/pituitary/Tr-pi_0183.jpg  \n",
            "  inflating: Training/pituitary/Tr-pi_0184.jpg  \n",
            "  inflating: Training/pituitary/Tr-pi_0185.jpg  \n",
            "  inflating: Training/pituitary/Tr-pi_0186.jpg  \n",
            "  inflating: Training/pituitary/Tr-pi_0187.jpg  \n",
            "  inflating: Training/pituitary/Tr-pi_0188.jpg  \n",
            "  inflating: Training/pituitary/Tr-pi_0189.jpg  \n",
            "  inflating: Training/pituitary/Tr-pi_0190.jpg  \n",
            "  inflating: Training/pituitary/Tr-pi_0191.jpg  \n",
            "  inflating: Training/pituitary/Tr-pi_0192.jpg  \n",
            "  inflating: Training/pituitary/Tr-pi_0193.jpg  \n",
            "  inflating: Training/pituitary/Tr-pi_0194.jpg  \n",
            "  inflating: Training/pituitary/Tr-pi_0195.jpg  \n",
            "  inflating: Training/pituitary/Tr-pi_0196.jpg  \n",
            "  inflating: Training/pituitary/Tr-pi_0197.jpg  \n",
            "  inflating: Training/pituitary/Tr-pi_0198.jpg  \n",
            "  inflating: Training/pituitary/Tr-pi_0199.jpg  \n",
            "  inflating: Training/pituitary/Tr-pi_0200.jpg  \n",
            "  inflating: Training/pituitary/Tr-pi_0201.jpg  \n",
            "  inflating: Training/pituitary/Tr-pi_0202.jpg  \n",
            "  inflating: Training/pituitary/Tr-pi_0203.jpg  \n",
            "  inflating: Training/pituitary/Tr-pi_0204.jpg  \n",
            "  inflating: Training/pituitary/Tr-pi_0205.jpg  \n",
            "  inflating: Training/pituitary/Tr-pi_0206.jpg  \n",
            "  inflating: Training/pituitary/Tr-pi_0207.jpg  \n",
            "  inflating: Training/pituitary/Tr-pi_0208.jpg  \n",
            "  inflating: Training/pituitary/Tr-pi_0209.jpg  \n",
            "  inflating: Training/pituitary/Tr-pi_0210.jpg  \n",
            "  inflating: Training/pituitary/Tr-pi_0211.jpg  \n",
            "  inflating: Training/pituitary/Tr-pi_0212.jpg  \n",
            "  inflating: Training/pituitary/Tr-pi_0213.jpg  \n",
            "  inflating: Training/pituitary/Tr-pi_0214.jpg  \n",
            "  inflating: Training/pituitary/Tr-pi_0215.jpg  \n",
            "  inflating: Training/pituitary/Tr-pi_0216.jpg  \n",
            "  inflating: Training/pituitary/Tr-pi_0217.jpg  \n",
            "  inflating: Training/pituitary/Tr-pi_0218.jpg  \n",
            "  inflating: Training/pituitary/Tr-pi_0219.jpg  \n",
            "  inflating: Training/pituitary/Tr-pi_0220.jpg  \n",
            "  inflating: Training/pituitary/Tr-pi_0221.jpg  \n",
            "  inflating: Training/pituitary/Tr-pi_0222.jpg  \n",
            "  inflating: Training/pituitary/Tr-pi_0223.jpg  \n",
            "  inflating: Training/pituitary/Tr-pi_0224.jpg  \n",
            "  inflating: Training/pituitary/Tr-pi_0225.jpg  \n",
            "  inflating: Training/pituitary/Tr-pi_0226.jpg  \n",
            "  inflating: Training/pituitary/Tr-pi_0227.jpg  \n",
            "  inflating: Training/pituitary/Tr-pi_0228.jpg  \n",
            "  inflating: Training/pituitary/Tr-pi_0229.jpg  \n",
            "  inflating: Training/pituitary/Tr-pi_0230.jpg  \n",
            "  inflating: Training/pituitary/Tr-pi_0231.jpg  \n",
            "  inflating: Training/pituitary/Tr-pi_0232.jpg  \n",
            "  inflating: Training/pituitary/Tr-pi_0233.jpg  \n",
            "  inflating: Training/pituitary/Tr-pi_0234.jpg  \n",
            "  inflating: Training/pituitary/Tr-pi_0235.jpg  \n",
            "  inflating: Training/pituitary/Tr-pi_0236.jpg  \n",
            "  inflating: Training/pituitary/Tr-pi_0237.jpg  \n",
            "  inflating: Training/pituitary/Tr-pi_0238.jpg  \n",
            "  inflating: Training/pituitary/Tr-pi_0239.jpg  \n",
            "  inflating: Training/pituitary/Tr-pi_0240.jpg  \n",
            "  inflating: Training/pituitary/Tr-pi_0241.jpg  \n",
            "  inflating: Training/pituitary/Tr-pi_0242.jpg  \n",
            "  inflating: Training/pituitary/Tr-pi_0243.jpg  \n",
            "  inflating: Training/pituitary/Tr-pi_0244.jpg  \n",
            "  inflating: Training/pituitary/Tr-pi_0245.jpg  \n",
            "  inflating: Training/pituitary/Tr-pi_0246.jpg  \n",
            "  inflating: Training/pituitary/Tr-pi_0247.jpg  \n",
            "  inflating: Training/pituitary/Tr-pi_0248.jpg  \n",
            "  inflating: Training/pituitary/Tr-pi_0249.jpg  \n",
            "  inflating: Training/pituitary/Tr-pi_0250.jpg  \n",
            "  inflating: Training/pituitary/Tr-pi_0251.jpg  \n",
            "  inflating: Training/pituitary/Tr-pi_0252.jpg  \n",
            "  inflating: Training/pituitary/Tr-pi_0253.jpg  \n",
            "  inflating: Training/pituitary/Tr-pi_0254.jpg  \n",
            "  inflating: Training/pituitary/Tr-pi_0255.jpg  \n",
            "  inflating: Training/pituitary/Tr-pi_0256.jpg  \n",
            "  inflating: Training/pituitary/Tr-pi_0257.jpg  \n",
            "  inflating: Training/pituitary/Tr-pi_0258.jpg  \n",
            "  inflating: Training/pituitary/Tr-pi_0259.jpg  \n",
            "  inflating: Training/pituitary/Tr-pi_0260.jpg  \n",
            "  inflating: Training/pituitary/Tr-pi_0261.jpg  \n",
            "  inflating: Training/pituitary/Tr-pi_0262.jpg  \n",
            "  inflating: Training/pituitary/Tr-pi_0263.jpg  \n",
            "  inflating: Training/pituitary/Tr-pi_0264.jpg  \n",
            "  inflating: Training/pituitary/Tr-pi_0265.jpg  \n",
            "  inflating: Training/pituitary/Tr-pi_0266.jpg  \n",
            "  inflating: Training/pituitary/Tr-pi_0267.jpg  \n",
            "  inflating: Training/pituitary/Tr-pi_0268.jpg  \n",
            "  inflating: Training/pituitary/Tr-pi_0269.jpg  \n",
            "  inflating: Training/pituitary/Tr-pi_0270.jpg  \n",
            "  inflating: Training/pituitary/Tr-pi_0271.jpg  \n",
            "  inflating: Training/pituitary/Tr-pi_0272.jpg  \n",
            "  inflating: Training/pituitary/Tr-pi_0273.jpg  \n",
            "  inflating: Training/pituitary/Tr-pi_0274.jpg  \n",
            "  inflating: Training/pituitary/Tr-pi_0275.jpg  \n",
            "  inflating: Training/pituitary/Tr-pi_0276.jpg  \n",
            "  inflating: Training/pituitary/Tr-pi_0277.jpg  \n",
            "  inflating: Training/pituitary/Tr-pi_0278.jpg  \n",
            "  inflating: Training/pituitary/Tr-pi_0279.jpg  \n",
            "  inflating: Training/pituitary/Tr-pi_0280.jpg  \n",
            "  inflating: Training/pituitary/Tr-pi_0281.jpg  \n",
            "  inflating: Training/pituitary/Tr-pi_0282.jpg  \n",
            "  inflating: Training/pituitary/Tr-pi_0283.jpg  \n",
            "  inflating: Training/pituitary/Tr-pi_0284.jpg  \n",
            "  inflating: Training/pituitary/Tr-pi_0285.jpg  \n",
            "  inflating: Training/pituitary/Tr-pi_0286.jpg  \n",
            "  inflating: Training/pituitary/Tr-pi_0287.jpg  \n",
            "  inflating: Training/pituitary/Tr-pi_0288.jpg  \n",
            "  inflating: Training/pituitary/Tr-pi_0289.jpg  \n",
            "  inflating: Training/pituitary/Tr-pi_0290.jpg  \n",
            "  inflating: Training/pituitary/Tr-pi_0291.jpg  \n",
            "  inflating: Training/pituitary/Tr-pi_0292.jpg  \n",
            "  inflating: Training/pituitary/Tr-pi_0293.jpg  \n",
            "  inflating: Training/pituitary/Tr-pi_0294.jpg  \n",
            "  inflating: Training/pituitary/Tr-pi_0295.jpg  \n",
            "  inflating: Training/pituitary/Tr-pi_0296.jpg  \n",
            "  inflating: Training/pituitary/Tr-pi_0297.jpg  \n",
            "  inflating: Training/pituitary/Tr-pi_0298.jpg  \n",
            "  inflating: Training/pituitary/Tr-pi_0299.jpg  \n",
            "  inflating: Training/pituitary/Tr-pi_0300.jpg  \n",
            "  inflating: Training/pituitary/Tr-pi_0301.jpg  \n",
            "  inflating: Training/pituitary/Tr-pi_0302.jpg  \n",
            "  inflating: Training/pituitary/Tr-pi_0303.jpg  \n",
            "  inflating: Training/pituitary/Tr-pi_0304.jpg  \n",
            "  inflating: Training/pituitary/Tr-pi_0305.jpg  \n",
            "  inflating: Training/pituitary/Tr-pi_0306.jpg  \n",
            "  inflating: Training/pituitary/Tr-pi_0307.jpg  \n",
            "  inflating: Training/pituitary/Tr-pi_0308.jpg  \n",
            "  inflating: Training/pituitary/Tr-pi_0309.jpg  \n",
            "  inflating: Training/pituitary/Tr-pi_0310.jpg  \n",
            "  inflating: Training/pituitary/Tr-pi_0311.jpg  \n",
            "  inflating: Training/pituitary/Tr-pi_0312.jpg  \n",
            "  inflating: Training/pituitary/Tr-pi_0313.jpg  \n",
            "  inflating: Training/pituitary/Tr-pi_0314.jpg  \n",
            "  inflating: Training/pituitary/Tr-pi_0315.jpg  \n",
            "  inflating: Training/pituitary/Tr-pi_0316.jpg  \n",
            "  inflating: Training/pituitary/Tr-pi_0317.jpg  \n",
            "  inflating: Training/pituitary/Tr-pi_0318.jpg  \n",
            "  inflating: Training/pituitary/Tr-pi_0319.jpg  \n",
            "  inflating: Training/pituitary/Tr-pi_0320.jpg  \n",
            "  inflating: Training/pituitary/Tr-pi_0321.jpg  \n",
            "  inflating: Training/pituitary/Tr-pi_0322.jpg  \n",
            "  inflating: Training/pituitary/Tr-pi_0323.jpg  \n",
            "  inflating: Training/pituitary/Tr-pi_0324.jpg  \n",
            "  inflating: Training/pituitary/Tr-pi_0325.jpg  \n",
            "  inflating: Training/pituitary/Tr-pi_0326.jpg  \n",
            "  inflating: Training/pituitary/Tr-pi_0327.jpg  \n",
            "  inflating: Training/pituitary/Tr-pi_0328.jpg  \n",
            "  inflating: Training/pituitary/Tr-pi_0329.jpg  \n",
            "  inflating: Training/pituitary/Tr-pi_0330.jpg  \n",
            "  inflating: Training/pituitary/Tr-pi_0331.jpg  \n",
            "  inflating: Training/pituitary/Tr-pi_0332.jpg  \n",
            "  inflating: Training/pituitary/Tr-pi_0333.jpg  \n",
            "  inflating: Training/pituitary/Tr-pi_0334.jpg  \n",
            "  inflating: Training/pituitary/Tr-pi_0335.jpg  \n",
            "  inflating: Training/pituitary/Tr-pi_0336.jpg  \n",
            "  inflating: Training/pituitary/Tr-pi_0337.jpg  \n",
            "  inflating: Training/pituitary/Tr-pi_0338.jpg  \n",
            "  inflating: Training/pituitary/Tr-pi_0339.jpg  \n",
            "  inflating: Training/pituitary/Tr-pi_0340.jpg  \n",
            "  inflating: Training/pituitary/Tr-pi_0341.jpg  \n",
            "  inflating: Training/pituitary/Tr-pi_0342.jpg  \n",
            "  inflating: Training/pituitary/Tr-pi_0343.jpg  \n",
            "  inflating: Training/pituitary/Tr-pi_0344.jpg  \n",
            "  inflating: Training/pituitary/Tr-pi_0345.jpg  \n",
            "  inflating: Training/pituitary/Tr-pi_0346.jpg  \n",
            "  inflating: Training/pituitary/Tr-pi_0347.jpg  \n",
            "  inflating: Training/pituitary/Tr-pi_0348.jpg  \n",
            "  inflating: Training/pituitary/Tr-pi_0349.jpg  \n",
            "  inflating: Training/pituitary/Tr-pi_0350.jpg  \n",
            "  inflating: Training/pituitary/Tr-pi_0351.jpg  \n",
            "  inflating: Training/pituitary/Tr-pi_0352.jpg  \n",
            "  inflating: Training/pituitary/Tr-pi_0353.jpg  \n",
            "  inflating: Training/pituitary/Tr-pi_0354.jpg  \n",
            "  inflating: Training/pituitary/Tr-pi_0355.jpg  \n",
            "  inflating: Training/pituitary/Tr-pi_0356.jpg  \n",
            "  inflating: Training/pituitary/Tr-pi_0357.jpg  \n",
            "  inflating: Training/pituitary/Tr-pi_0358.jpg  \n",
            "  inflating: Training/pituitary/Tr-pi_0359.jpg  \n",
            "  inflating: Training/pituitary/Tr-pi_0360.jpg  \n",
            "  inflating: Training/pituitary/Tr-pi_0361.jpg  \n",
            "  inflating: Training/pituitary/Tr-pi_0362.jpg  \n",
            "  inflating: Training/pituitary/Tr-pi_0363.jpg  \n",
            "  inflating: Training/pituitary/Tr-pi_0364.jpg  \n",
            "  inflating: Training/pituitary/Tr-pi_0365.jpg  \n",
            "  inflating: Training/pituitary/Tr-pi_0366.jpg  \n",
            "  inflating: Training/pituitary/Tr-pi_0367.jpg  \n",
            "  inflating: Training/pituitary/Tr-pi_0368.jpg  \n",
            "  inflating: Training/pituitary/Tr-pi_0369.jpg  \n",
            "  inflating: Training/pituitary/Tr-pi_0370.jpg  \n",
            "  inflating: Training/pituitary/Tr-pi_0371.jpg  \n",
            "  inflating: Training/pituitary/Tr-pi_0372.jpg  \n",
            "  inflating: Training/pituitary/Tr-pi_0373.jpg  \n",
            "  inflating: Training/pituitary/Tr-pi_0374.jpg  \n",
            "  inflating: Training/pituitary/Tr-pi_0375.jpg  \n",
            "  inflating: Training/pituitary/Tr-pi_0376.jpg  \n",
            "  inflating: Training/pituitary/Tr-pi_0377.jpg  \n",
            "  inflating: Training/pituitary/Tr-pi_0378.jpg  \n",
            "  inflating: Training/pituitary/Tr-pi_0379.jpg  \n",
            "  inflating: Training/pituitary/Tr-pi_0380.jpg  \n",
            "  inflating: Training/pituitary/Tr-pi_0381.jpg  \n",
            "  inflating: Training/pituitary/Tr-pi_0382.jpg  \n",
            "  inflating: Training/pituitary/Tr-pi_0383.jpg  \n",
            "  inflating: Training/pituitary/Tr-pi_0384.jpg  \n",
            "  inflating: Training/pituitary/Tr-pi_0385.jpg  \n",
            "  inflating: Training/pituitary/Tr-pi_0386.jpg  \n",
            "  inflating: Training/pituitary/Tr-pi_0387.jpg  \n",
            "  inflating: Training/pituitary/Tr-pi_0388.jpg  \n",
            "  inflating: Training/pituitary/Tr-pi_0389.jpg  \n",
            "  inflating: Training/pituitary/Tr-pi_0390.jpg  \n",
            "  inflating: Training/pituitary/Tr-pi_0391.jpg  \n",
            "  inflating: Training/pituitary/Tr-pi_0392.jpg  \n",
            "  inflating: Training/pituitary/Tr-pi_0393.jpg  \n",
            "  inflating: Training/pituitary/Tr-pi_0394.jpg  \n",
            "  inflating: Training/pituitary/Tr-pi_0395.jpg  \n",
            "  inflating: Training/pituitary/Tr-pi_0396.jpg  \n",
            "  inflating: Training/pituitary/Tr-pi_0397.jpg  \n",
            "  inflating: Training/pituitary/Tr-pi_0398.jpg  \n",
            "  inflating: Training/pituitary/Tr-pi_0399.jpg  \n",
            "  inflating: Training/pituitary/Tr-pi_0400.jpg  \n",
            "  inflating: Training/pituitary/Tr-pi_0401.jpg  \n",
            "  inflating: Training/pituitary/Tr-pi_0402.jpg  \n",
            "  inflating: Training/pituitary/Tr-pi_0403.jpg  \n",
            "  inflating: Training/pituitary/Tr-pi_0404.jpg  \n",
            "  inflating: Training/pituitary/Tr-pi_0405.jpg  \n",
            "  inflating: Training/pituitary/Tr-pi_0406.jpg  \n",
            "  inflating: Training/pituitary/Tr-pi_0407.jpg  \n",
            "  inflating: Training/pituitary/Tr-pi_0408.jpg  \n",
            "  inflating: Training/pituitary/Tr-pi_0409.jpg  \n",
            "  inflating: Training/pituitary/Tr-pi_0410.jpg  \n",
            "  inflating: Training/pituitary/Tr-pi_0411.jpg  \n",
            "  inflating: Training/pituitary/Tr-pi_0412.jpg  \n",
            "  inflating: Training/pituitary/Tr-pi_0413.jpg  \n",
            "  inflating: Training/pituitary/Tr-pi_0414.jpg  \n",
            "  inflating: Training/pituitary/Tr-pi_0415.jpg  \n",
            "  inflating: Training/pituitary/Tr-pi_0416.jpg  \n",
            "  inflating: Training/pituitary/Tr-pi_0417.jpg  \n",
            "  inflating: Training/pituitary/Tr-pi_0418.jpg  \n",
            "  inflating: Training/pituitary/Tr-pi_0419.jpg  \n",
            "  inflating: Training/pituitary/Tr-pi_0420.jpg  \n",
            "  inflating: Training/pituitary/Tr-pi_0421.jpg  \n",
            "  inflating: Training/pituitary/Tr-pi_0422.jpg  \n",
            "  inflating: Training/pituitary/Tr-pi_0423.jpg  \n",
            "  inflating: Training/pituitary/Tr-pi_0424.jpg  \n",
            "  inflating: Training/pituitary/Tr-pi_0425.jpg  \n",
            "  inflating: Training/pituitary/Tr-pi_0426.jpg  \n",
            "  inflating: Training/pituitary/Tr-pi_0427.jpg  \n",
            "  inflating: Training/pituitary/Tr-pi_0428.jpg  \n",
            "  inflating: Training/pituitary/Tr-pi_0429.jpg  \n",
            "  inflating: Training/pituitary/Tr-pi_0430.jpg  \n",
            "  inflating: Training/pituitary/Tr-pi_0431.jpg  \n",
            "  inflating: Training/pituitary/Tr-pi_0432.jpg  \n",
            "  inflating: Training/pituitary/Tr-pi_0433.jpg  \n",
            "  inflating: Training/pituitary/Tr-pi_0434.jpg  \n",
            "  inflating: Training/pituitary/Tr-pi_0435.jpg  \n",
            "  inflating: Training/pituitary/Tr-pi_0436.jpg  \n",
            "  inflating: Training/pituitary/Tr-pi_0437.jpg  \n",
            "  inflating: Training/pituitary/Tr-pi_0438.jpg  \n",
            "  inflating: Training/pituitary/Tr-pi_0439.jpg  \n",
            "  inflating: Training/pituitary/Tr-pi_0440.jpg  \n",
            "  inflating: Training/pituitary/Tr-pi_0441.jpg  \n",
            "  inflating: Training/pituitary/Tr-pi_0442.jpg  \n",
            "  inflating: Training/pituitary/Tr-pi_0443.jpg  \n",
            "  inflating: Training/pituitary/Tr-pi_0444.jpg  \n",
            "  inflating: Training/pituitary/Tr-pi_0445.jpg  \n",
            "  inflating: Training/pituitary/Tr-pi_0446.jpg  \n",
            "  inflating: Training/pituitary/Tr-pi_0447.jpg  \n",
            "  inflating: Training/pituitary/Tr-pi_0448.jpg  \n",
            "  inflating: Training/pituitary/Tr-pi_0449.jpg  \n",
            "  inflating: Training/pituitary/Tr-pi_0450.jpg  \n",
            "  inflating: Training/pituitary/Tr-pi_0451.jpg  \n",
            "  inflating: Training/pituitary/Tr-pi_0452.jpg  \n",
            "  inflating: Training/pituitary/Tr-pi_0453.jpg  \n",
            "  inflating: Training/pituitary/Tr-pi_0454.jpg  \n",
            "  inflating: Training/pituitary/Tr-pi_0455.jpg  \n",
            "  inflating: Training/pituitary/Tr-pi_0456.jpg  \n",
            "  inflating: Training/pituitary/Tr-pi_0457.jpg  \n",
            "  inflating: Training/pituitary/Tr-pi_0458.jpg  \n",
            "  inflating: Training/pituitary/Tr-pi_0459.jpg  \n",
            "  inflating: Training/pituitary/Tr-pi_0460.jpg  \n",
            "  inflating: Training/pituitary/Tr-pi_0461.jpg  \n",
            "  inflating: Training/pituitary/Tr-pi_0462.jpg  \n",
            "  inflating: Training/pituitary/Tr-pi_0463.jpg  \n",
            "  inflating: Training/pituitary/Tr-pi_0464.jpg  \n",
            "  inflating: Training/pituitary/Tr-pi_0465.jpg  \n",
            "  inflating: Training/pituitary/Tr-pi_0466.jpg  \n",
            "  inflating: Training/pituitary/Tr-pi_0467.jpg  \n",
            "  inflating: Training/pituitary/Tr-pi_0468.jpg  \n",
            "  inflating: Training/pituitary/Tr-pi_0469.jpg  \n",
            "  inflating: Training/pituitary/Tr-pi_0470.jpg  \n",
            "  inflating: Training/pituitary/Tr-pi_0471.jpg  \n",
            "  inflating: Training/pituitary/Tr-pi_0472.jpg  \n",
            "  inflating: Training/pituitary/Tr-pi_0473.jpg  \n",
            "  inflating: Training/pituitary/Tr-pi_0474.jpg  \n",
            "  inflating: Training/pituitary/Tr-pi_0475.jpg  \n",
            "  inflating: Training/pituitary/Tr-pi_0476.jpg  \n",
            "  inflating: Training/pituitary/Tr-pi_0477.jpg  \n",
            "  inflating: Training/pituitary/Tr-pi_0478.jpg  \n",
            "  inflating: Training/pituitary/Tr-pi_0479.jpg  \n",
            "  inflating: Training/pituitary/Tr-pi_0480.jpg  \n",
            "  inflating: Training/pituitary/Tr-pi_0481.jpg  \n",
            "  inflating: Training/pituitary/Tr-pi_0482.jpg  \n",
            "  inflating: Training/pituitary/Tr-pi_0483.jpg  \n",
            "  inflating: Training/pituitary/Tr-pi_0484.jpg  \n",
            "  inflating: Training/pituitary/Tr-pi_0485.jpg  \n",
            "  inflating: Training/pituitary/Tr-pi_0486.jpg  \n",
            "  inflating: Training/pituitary/Tr-pi_0487.jpg  \n",
            "  inflating: Training/pituitary/Tr-pi_0488.jpg  \n",
            "  inflating: Training/pituitary/Tr-pi_0489.jpg  \n",
            "  inflating: Training/pituitary/Tr-pi_0490.jpg  \n",
            "  inflating: Training/pituitary/Tr-pi_0491.jpg  \n",
            "  inflating: Training/pituitary/Tr-pi_0492.jpg  \n",
            "  inflating: Training/pituitary/Tr-pi_0493.jpg  \n",
            "  inflating: Training/pituitary/Tr-pi_0494.jpg  \n",
            "  inflating: Training/pituitary/Tr-pi_0495.jpg  \n",
            "  inflating: Training/pituitary/Tr-pi_0496.jpg  \n",
            "  inflating: Training/pituitary/Tr-pi_0497.jpg  \n",
            "  inflating: Training/pituitary/Tr-pi_0498.jpg  \n",
            "  inflating: Training/pituitary/Tr-pi_0499.jpg  \n",
            "  inflating: Training/pituitary/Tr-pi_0500.jpg  \n",
            "  inflating: Training/pituitary/Tr-pi_0501.jpg  \n",
            "  inflating: Training/pituitary/Tr-pi_0502.jpg  \n",
            "  inflating: Training/pituitary/Tr-pi_0503.jpg  \n",
            "  inflating: Training/pituitary/Tr-pi_0504.jpg  \n",
            "  inflating: Training/pituitary/Tr-pi_0505.jpg  \n",
            "  inflating: Training/pituitary/Tr-pi_0506.jpg  \n",
            "  inflating: Training/pituitary/Tr-pi_0507.jpg  \n",
            "  inflating: Training/pituitary/Tr-pi_0508.jpg  \n",
            "  inflating: Training/pituitary/Tr-pi_0509.jpg  \n",
            "  inflating: Training/pituitary/Tr-pi_0510.jpg  \n",
            "  inflating: Training/pituitary/Tr-pi_0511.jpg  \n",
            "  inflating: Training/pituitary/Tr-pi_0512.jpg  \n",
            "  inflating: Training/pituitary/Tr-pi_0513.jpg  \n",
            "  inflating: Training/pituitary/Tr-pi_0514.jpg  \n",
            "  inflating: Training/pituitary/Tr-pi_0515.jpg  \n",
            "  inflating: Training/pituitary/Tr-pi_0516.jpg  \n",
            "  inflating: Training/pituitary/Tr-pi_0517.jpg  \n",
            "  inflating: Training/pituitary/Tr-pi_0518.jpg  \n",
            "  inflating: Training/pituitary/Tr-pi_0519.jpg  \n",
            "  inflating: Training/pituitary/Tr-pi_0520.jpg  \n",
            "  inflating: Training/pituitary/Tr-pi_0521.jpg  \n",
            "  inflating: Training/pituitary/Tr-pi_0522.jpg  \n",
            "  inflating: Training/pituitary/Tr-pi_0523.jpg  \n",
            "  inflating: Training/pituitary/Tr-pi_0524.jpg  \n",
            "  inflating: Training/pituitary/Tr-pi_0525.jpg  \n",
            "  inflating: Training/pituitary/Tr-pi_0526.jpg  \n",
            "  inflating: Training/pituitary/Tr-pi_0527.jpg  \n",
            "  inflating: Training/pituitary/Tr-pi_0528.jpg  \n",
            "  inflating: Training/pituitary/Tr-pi_0529.jpg  \n",
            "  inflating: Training/pituitary/Tr-pi_0530.jpg  \n",
            "  inflating: Training/pituitary/Tr-pi_0531.jpg  \n",
            "  inflating: Training/pituitary/Tr-pi_0532.jpg  \n",
            "  inflating: Training/pituitary/Tr-pi_0533.jpg  \n",
            "  inflating: Training/pituitary/Tr-pi_0534.jpg  \n",
            "  inflating: Training/pituitary/Tr-pi_0535.jpg  \n",
            "  inflating: Training/pituitary/Tr-pi_0536.jpg  \n",
            "  inflating: Training/pituitary/Tr-pi_0537.jpg  \n",
            "  inflating: Training/pituitary/Tr-pi_0538.jpg  \n",
            "  inflating: Training/pituitary/Tr-pi_0539.jpg  \n",
            "  inflating: Training/pituitary/Tr-pi_0540.jpg  \n",
            "  inflating: Training/pituitary/Tr-pi_0541.jpg  \n",
            "  inflating: Training/pituitary/Tr-pi_0542.jpg  \n",
            "  inflating: Training/pituitary/Tr-pi_0543.jpg  \n",
            "  inflating: Training/pituitary/Tr-pi_0544.jpg  \n",
            "  inflating: Training/pituitary/Tr-pi_0545.jpg  \n",
            "  inflating: Training/pituitary/Tr-pi_0546.jpg  \n",
            "  inflating: Training/pituitary/Tr-pi_0547.jpg  \n",
            "  inflating: Training/pituitary/Tr-pi_0548.jpg  \n",
            "  inflating: Training/pituitary/Tr-pi_0549.jpg  \n",
            "  inflating: Training/pituitary/Tr-pi_0550.jpg  \n",
            "  inflating: Training/pituitary/Tr-pi_0551.jpg  \n",
            "  inflating: Training/pituitary/Tr-pi_0552.jpg  \n",
            "  inflating: Training/pituitary/Tr-pi_0553.jpg  \n",
            "  inflating: Training/pituitary/Tr-pi_0554.jpg  \n",
            "  inflating: Training/pituitary/Tr-pi_0555.jpg  \n",
            "  inflating: Training/pituitary/Tr-pi_0556.jpg  \n",
            "  inflating: Training/pituitary/Tr-pi_0557.jpg  \n",
            "  inflating: Training/pituitary/Tr-pi_0558.jpg  \n",
            "  inflating: Training/pituitary/Tr-pi_0559.jpg  \n",
            "  inflating: Training/pituitary/Tr-pi_0560.jpg  \n",
            "  inflating: Training/pituitary/Tr-pi_0561.jpg  \n",
            "  inflating: Training/pituitary/Tr-pi_0562.jpg  \n",
            "  inflating: Training/pituitary/Tr-pi_0563.jpg  \n",
            "  inflating: Training/pituitary/Tr-pi_0564.jpg  \n",
            "  inflating: Training/pituitary/Tr-pi_0565.jpg  \n",
            "  inflating: Training/pituitary/Tr-pi_0566.jpg  \n",
            "  inflating: Training/pituitary/Tr-pi_0567.jpg  \n",
            "  inflating: Training/pituitary/Tr-pi_0568.jpg  \n",
            "  inflating: Training/pituitary/Tr-pi_0569.jpg  \n",
            "  inflating: Training/pituitary/Tr-pi_0570.jpg  \n",
            "  inflating: Training/pituitary/Tr-pi_0571.jpg  \n",
            "  inflating: Training/pituitary/Tr-pi_0572.jpg  \n",
            "  inflating: Training/pituitary/Tr-pi_0573.jpg  \n",
            "  inflating: Training/pituitary/Tr-pi_0574.jpg  \n",
            "  inflating: Training/pituitary/Tr-pi_0575.jpg  \n",
            "  inflating: Training/pituitary/Tr-pi_0576.jpg  \n",
            "  inflating: Training/pituitary/Tr-pi_0577.jpg  \n",
            "  inflating: Training/pituitary/Tr-pi_0578.jpg  \n",
            "  inflating: Training/pituitary/Tr-pi_0579.jpg  \n",
            "  inflating: Training/pituitary/Tr-pi_0580.jpg  \n",
            "  inflating: Training/pituitary/Tr-pi_0581.jpg  \n",
            "  inflating: Training/pituitary/Tr-pi_0582.jpg  \n",
            "  inflating: Training/pituitary/Tr-pi_0583.jpg  \n",
            "  inflating: Training/pituitary/Tr-pi_0584.jpg  \n",
            "  inflating: Training/pituitary/Tr-pi_0585.jpg  \n",
            "  inflating: Training/pituitary/Tr-pi_0586.jpg  \n",
            "  inflating: Training/pituitary/Tr-pi_0587.jpg  \n",
            "  inflating: Training/pituitary/Tr-pi_0588.jpg  \n",
            "  inflating: Training/pituitary/Tr-pi_0589.jpg  \n",
            "  inflating: Training/pituitary/Tr-pi_0590.jpg  \n",
            "  inflating: Training/pituitary/Tr-pi_0591.jpg  \n",
            "  inflating: Training/pituitary/Tr-pi_0592.jpg  \n",
            "  inflating: Training/pituitary/Tr-pi_0593.jpg  \n",
            "  inflating: Training/pituitary/Tr-pi_0594.jpg  \n",
            "  inflating: Training/pituitary/Tr-pi_0595.jpg  \n",
            "  inflating: Training/pituitary/Tr-pi_0596.jpg  \n",
            "  inflating: Training/pituitary/Tr-pi_0597.jpg  \n",
            "  inflating: Training/pituitary/Tr-pi_0598.jpg  \n",
            "  inflating: Training/pituitary/Tr-pi_0599.jpg  \n",
            "  inflating: Training/pituitary/Tr-pi_0600.jpg  \n",
            "  inflating: Training/pituitary/Tr-pi_0601.jpg  \n",
            "  inflating: Training/pituitary/Tr-pi_0602.jpg  \n",
            "  inflating: Training/pituitary/Tr-pi_0603.jpg  \n",
            "  inflating: Training/pituitary/Tr-pi_0604.jpg  \n",
            "  inflating: Training/pituitary/Tr-pi_0605.jpg  \n",
            "  inflating: Training/pituitary/Tr-pi_0606.jpg  \n",
            "  inflating: Training/pituitary/Tr-pi_0607.jpg  \n",
            "  inflating: Training/pituitary/Tr-pi_0608.jpg  \n",
            "  inflating: Training/pituitary/Tr-pi_0609.jpg  \n",
            "  inflating: Training/pituitary/Tr-pi_0610.jpg  \n",
            "  inflating: Training/pituitary/Tr-pi_0611.jpg  \n",
            "  inflating: Training/pituitary/Tr-pi_0612.jpg  \n",
            "  inflating: Training/pituitary/Tr-pi_0613.jpg  \n",
            "  inflating: Training/pituitary/Tr-pi_0614.jpg  \n",
            "  inflating: Training/pituitary/Tr-pi_0615.jpg  \n",
            "  inflating: Training/pituitary/Tr-pi_0616.jpg  \n",
            "  inflating: Training/pituitary/Tr-pi_0617.jpg  \n",
            "  inflating: Training/pituitary/Tr-pi_0618.jpg  \n",
            "  inflating: Training/pituitary/Tr-pi_0619.jpg  \n",
            "  inflating: Training/pituitary/Tr-pi_0620.jpg  \n",
            "  inflating: Training/pituitary/Tr-pi_0621.jpg  \n",
            "  inflating: Training/pituitary/Tr-pi_0622.jpg  \n",
            "  inflating: Training/pituitary/Tr-pi_0623.jpg  \n",
            "  inflating: Training/pituitary/Tr-pi_0624.jpg  \n",
            "  inflating: Training/pituitary/Tr-pi_0625.jpg  \n",
            "  inflating: Training/pituitary/Tr-pi_0626.jpg  \n",
            "  inflating: Training/pituitary/Tr-pi_0627.jpg  \n",
            "  inflating: Training/pituitary/Tr-pi_0628.jpg  \n",
            "  inflating: Training/pituitary/Tr-pi_0629.jpg  \n",
            "  inflating: Training/pituitary/Tr-pi_0630.jpg  \n",
            "  inflating: Training/pituitary/Tr-pi_0631.jpg  \n",
            "  inflating: Training/pituitary/Tr-pi_0632.jpg  \n",
            "  inflating: Training/pituitary/Tr-pi_0633.jpg  \n",
            "  inflating: Training/pituitary/Tr-pi_0634.jpg  \n",
            "  inflating: Training/pituitary/Tr-pi_0635.jpg  \n",
            "  inflating: Training/pituitary/Tr-pi_0636.jpg  \n",
            "  inflating: Training/pituitary/Tr-pi_0637.jpg  \n",
            "  inflating: Training/pituitary/Tr-pi_0638.jpg  \n",
            "  inflating: Training/pituitary/Tr-pi_0639.jpg  \n",
            "  inflating: Training/pituitary/Tr-pi_0640.jpg  \n",
            "  inflating: Training/pituitary/Tr-pi_0641.jpg  \n",
            "  inflating: Training/pituitary/Tr-pi_0642.jpg  \n",
            "  inflating: Training/pituitary/Tr-pi_0643.jpg  \n",
            "  inflating: Training/pituitary/Tr-pi_0644.jpg  \n",
            "  inflating: Training/pituitary/Tr-pi_0645.jpg  \n",
            "  inflating: Training/pituitary/Tr-pi_0646.jpg  \n",
            "  inflating: Training/pituitary/Tr-pi_0647.jpg  \n",
            "  inflating: Training/pituitary/Tr-pi_0648.jpg  \n",
            "  inflating: Training/pituitary/Tr-pi_0649.jpg  \n",
            "  inflating: Training/pituitary/Tr-pi_0650.jpg  \n",
            "  inflating: Training/pituitary/Tr-pi_0651.jpg  \n",
            "  inflating: Training/pituitary/Tr-pi_0652.jpg  \n",
            "  inflating: Training/pituitary/Tr-pi_0653.jpg  \n",
            "  inflating: Training/pituitary/Tr-pi_0654.jpg  \n",
            "  inflating: Training/pituitary/Tr-pi_0655.jpg  \n",
            "  inflating: Training/pituitary/Tr-pi_0656.jpg  \n",
            "  inflating: Training/pituitary/Tr-pi_0657.jpg  \n",
            "  inflating: Training/pituitary/Tr-pi_0658.jpg  \n",
            "  inflating: Training/pituitary/Tr-pi_0659.jpg  \n",
            "  inflating: Training/pituitary/Tr-pi_0660.jpg  \n",
            "  inflating: Training/pituitary/Tr-pi_0661.jpg  \n",
            "  inflating: Training/pituitary/Tr-pi_0662.jpg  \n",
            "  inflating: Training/pituitary/Tr-pi_0663.jpg  \n",
            "  inflating: Training/pituitary/Tr-pi_0664.jpg  \n",
            "  inflating: Training/pituitary/Tr-pi_0665.jpg  \n",
            "  inflating: Training/pituitary/Tr-pi_0666.jpg  \n",
            "  inflating: Training/pituitary/Tr-pi_0667.jpg  \n",
            "  inflating: Training/pituitary/Tr-pi_0668.jpg  \n",
            "  inflating: Training/pituitary/Tr-pi_0669.jpg  \n",
            "  inflating: Training/pituitary/Tr-pi_0670.jpg  \n",
            "  inflating: Training/pituitary/Tr-pi_0671.jpg  \n",
            "  inflating: Training/pituitary/Tr-pi_0672.jpg  \n",
            "  inflating: Training/pituitary/Tr-pi_0673.jpg  \n",
            "  inflating: Training/pituitary/Tr-pi_0674.jpg  \n",
            "  inflating: Training/pituitary/Tr-pi_0675.jpg  \n",
            "  inflating: Training/pituitary/Tr-pi_0676.jpg  \n",
            "  inflating: Training/pituitary/Tr-pi_0677.jpg  \n",
            "  inflating: Training/pituitary/Tr-pi_0678.jpg  \n",
            "  inflating: Training/pituitary/Tr-pi_0679.jpg  \n",
            "  inflating: Training/pituitary/Tr-pi_0680.jpg  \n",
            "  inflating: Training/pituitary/Tr-pi_0681.jpg  \n",
            "  inflating: Training/pituitary/Tr-pi_0682.jpg  \n",
            "  inflating: Training/pituitary/Tr-pi_0683.jpg  \n",
            "  inflating: Training/pituitary/Tr-pi_0684.jpg  \n",
            "  inflating: Training/pituitary/Tr-pi_0685.jpg  \n",
            "  inflating: Training/pituitary/Tr-pi_0686.jpg  \n",
            "  inflating: Training/pituitary/Tr-pi_0687.jpg  \n",
            "  inflating: Training/pituitary/Tr-pi_0688.jpg  \n",
            "  inflating: Training/pituitary/Tr-pi_0689.jpg  \n",
            "  inflating: Training/pituitary/Tr-pi_0690.jpg  \n",
            "  inflating: Training/pituitary/Tr-pi_0691.jpg  \n",
            "  inflating: Training/pituitary/Tr-pi_0692.jpg  \n",
            "  inflating: Training/pituitary/Tr-pi_0693.jpg  \n",
            "  inflating: Training/pituitary/Tr-pi_0694.jpg  \n",
            "  inflating: Training/pituitary/Tr-pi_0695.jpg  \n",
            "  inflating: Training/pituitary/Tr-pi_0696.jpg  \n",
            "  inflating: Training/pituitary/Tr-pi_0697.jpg  \n",
            "  inflating: Training/pituitary/Tr-pi_0698.jpg  \n",
            "  inflating: Training/pituitary/Tr-pi_0699.jpg  \n",
            "  inflating: Training/pituitary/Tr-pi_0700.jpg  \n",
            "  inflating: Training/pituitary/Tr-pi_0701.jpg  \n",
            "  inflating: Training/pituitary/Tr-pi_0702.jpg  \n",
            "  inflating: Training/pituitary/Tr-pi_0703.jpg  \n",
            "  inflating: Training/pituitary/Tr-pi_0704.jpg  \n",
            "  inflating: Training/pituitary/Tr-pi_0705.jpg  \n",
            "  inflating: Training/pituitary/Tr-pi_0706.jpg  \n",
            "  inflating: Training/pituitary/Tr-pi_0707.jpg  \n",
            "  inflating: Training/pituitary/Tr-pi_0708.jpg  \n",
            "  inflating: Training/pituitary/Tr-pi_0709.jpg  \n",
            "  inflating: Training/pituitary/Tr-pi_0710.jpg  \n",
            "  inflating: Training/pituitary/Tr-pi_0711.jpg  \n",
            "  inflating: Training/pituitary/Tr-pi_0712.jpg  \n",
            "  inflating: Training/pituitary/Tr-pi_0713.jpg  \n",
            "  inflating: Training/pituitary/Tr-pi_0714.jpg  \n",
            "  inflating: Training/pituitary/Tr-pi_0715.jpg  \n",
            "  inflating: Training/pituitary/Tr-pi_0716.jpg  \n",
            "  inflating: Training/pituitary/Tr-pi_0717.jpg  \n",
            "  inflating: Training/pituitary/Tr-pi_0718.jpg  \n",
            "  inflating: Training/pituitary/Tr-pi_0719.jpg  \n",
            "  inflating: Training/pituitary/Tr-pi_0720.jpg  \n",
            "  inflating: Training/pituitary/Tr-pi_0721.jpg  \n",
            "  inflating: Training/pituitary/Tr-pi_0722.jpg  \n",
            "  inflating: Training/pituitary/Tr-pi_0723.jpg  \n",
            "  inflating: Training/pituitary/Tr-pi_0724.jpg  \n",
            "  inflating: Training/pituitary/Tr-pi_0725.jpg  \n",
            "  inflating: Training/pituitary/Tr-pi_0726.jpg  \n",
            "  inflating: Training/pituitary/Tr-pi_0727.jpg  \n",
            "  inflating: Training/pituitary/Tr-pi_0728.jpg  \n",
            "  inflating: Training/pituitary/Tr-pi_0729.jpg  \n",
            "  inflating: Training/pituitary/Tr-pi_0730.jpg  \n",
            "  inflating: Training/pituitary/Tr-pi_0731.jpg  \n",
            "  inflating: Training/pituitary/Tr-pi_0732.jpg  \n",
            "  inflating: Training/pituitary/Tr-pi_0733.jpg  \n",
            "  inflating: Training/pituitary/Tr-pi_0734.jpg  \n",
            "  inflating: Training/pituitary/Tr-pi_0735.jpg  \n",
            "  inflating: Training/pituitary/Tr-pi_0736.jpg  \n",
            "  inflating: Training/pituitary/Tr-pi_0737.jpg  \n",
            "  inflating: Training/pituitary/Tr-pi_0738.jpg  \n",
            "  inflating: Training/pituitary/Tr-pi_0739.jpg  \n",
            "  inflating: Training/pituitary/Tr-pi_0740.jpg  \n",
            "  inflating: Training/pituitary/Tr-pi_0741.jpg  \n",
            "  inflating: Training/pituitary/Tr-pi_0742.jpg  \n",
            "  inflating: Training/pituitary/Tr-pi_0743.jpg  \n",
            "  inflating: Training/pituitary/Tr-pi_0744.jpg  \n",
            "  inflating: Training/pituitary/Tr-pi_0745.jpg  \n",
            "  inflating: Training/pituitary/Tr-pi_0746.jpg  \n",
            "  inflating: Training/pituitary/Tr-pi_0747.jpg  \n",
            "  inflating: Training/pituitary/Tr-pi_0748.jpg  \n",
            "  inflating: Training/pituitary/Tr-pi_0749.jpg  \n",
            "  inflating: Training/pituitary/Tr-pi_0750.jpg  \n",
            "  inflating: Training/pituitary/Tr-pi_0751.jpg  \n",
            "  inflating: Training/pituitary/Tr-pi_0752.jpg  \n",
            "  inflating: Training/pituitary/Tr-pi_0753.jpg  \n",
            "  inflating: Training/pituitary/Tr-pi_0754.jpg  \n",
            "  inflating: Training/pituitary/Tr-pi_0755.jpg  \n",
            "  inflating: Training/pituitary/Tr-pi_0756.jpg  \n",
            "  inflating: Training/pituitary/Tr-pi_0757.jpg  \n",
            "  inflating: Training/pituitary/Tr-pi_0758.jpg  \n",
            "  inflating: Training/pituitary/Tr-pi_0759.jpg  \n",
            "  inflating: Training/pituitary/Tr-pi_0760.jpg  \n",
            "  inflating: Training/pituitary/Tr-pi_0761.jpg  \n",
            "  inflating: Training/pituitary/Tr-pi_0762.jpg  \n",
            "  inflating: Training/pituitary/Tr-pi_0763.jpg  \n",
            "  inflating: Training/pituitary/Tr-pi_0764.jpg  \n",
            "  inflating: Training/pituitary/Tr-pi_0765.jpg  \n",
            "  inflating: Training/pituitary/Tr-pi_0766.jpg  \n",
            "  inflating: Training/pituitary/Tr-pi_0767.jpg  \n",
            "  inflating: Training/pituitary/Tr-pi_0768.jpg  \n",
            "  inflating: Training/pituitary/Tr-pi_0769.jpg  \n",
            "  inflating: Training/pituitary/Tr-pi_0770.jpg  \n",
            "  inflating: Training/pituitary/Tr-pi_0771.jpg  \n",
            "  inflating: Training/pituitary/Tr-pi_0772.jpg  \n",
            "  inflating: Training/pituitary/Tr-pi_0773.jpg  \n",
            "  inflating: Training/pituitary/Tr-pi_0774.jpg  \n",
            "  inflating: Training/pituitary/Tr-pi_0775.jpg  \n",
            "  inflating: Training/pituitary/Tr-pi_0776.jpg  \n",
            "  inflating: Training/pituitary/Tr-pi_0777.jpg  \n",
            "  inflating: Training/pituitary/Tr-pi_0778.jpg  \n",
            "  inflating: Training/pituitary/Tr-pi_0779.jpg  \n",
            "  inflating: Training/pituitary/Tr-pi_0780.jpg  \n",
            "  inflating: Training/pituitary/Tr-pi_0781.jpg  \n",
            "  inflating: Training/pituitary/Tr-pi_0782.jpg  \n",
            "  inflating: Training/pituitary/Tr-pi_0783.jpg  \n",
            "  inflating: Training/pituitary/Tr-pi_0784.jpg  \n",
            "  inflating: Training/pituitary/Tr-pi_0785.jpg  \n",
            "  inflating: Training/pituitary/Tr-pi_0786.jpg  \n",
            "  inflating: Training/pituitary/Tr-pi_0787.jpg  \n",
            "  inflating: Training/pituitary/Tr-pi_0788.jpg  \n",
            "  inflating: Training/pituitary/Tr-pi_0789.jpg  \n",
            "  inflating: Training/pituitary/Tr-pi_0790.jpg  \n",
            "  inflating: Training/pituitary/Tr-pi_0791.jpg  \n",
            "  inflating: Training/pituitary/Tr-pi_0792.jpg  \n",
            "  inflating: Training/pituitary/Tr-pi_0793.jpg  \n",
            "  inflating: Training/pituitary/Tr-pi_0794.jpg  \n",
            "  inflating: Training/pituitary/Tr-pi_0795.jpg  \n",
            "  inflating: Training/pituitary/Tr-pi_0796.jpg  \n",
            "  inflating: Training/pituitary/Tr-pi_0797.jpg  \n",
            "  inflating: Training/pituitary/Tr-pi_0798.jpg  \n",
            "  inflating: Training/pituitary/Tr-pi_0799.jpg  \n",
            "  inflating: Training/pituitary/Tr-pi_0800.jpg  \n",
            "  inflating: Training/pituitary/Tr-pi_0801.jpg  \n",
            "  inflating: Training/pituitary/Tr-pi_0802.jpg  \n",
            "  inflating: Training/pituitary/Tr-pi_0803.jpg  \n",
            "  inflating: Training/pituitary/Tr-pi_0804.jpg  \n",
            "  inflating: Training/pituitary/Tr-pi_0805.jpg  \n",
            "  inflating: Training/pituitary/Tr-pi_0806.jpg  \n",
            "  inflating: Training/pituitary/Tr-pi_0807.jpg  \n",
            "  inflating: Training/pituitary/Tr-pi_0808.jpg  \n",
            "  inflating: Training/pituitary/Tr-pi_0809.jpg  \n",
            "  inflating: Training/pituitary/Tr-pi_0810.jpg  \n",
            "  inflating: Training/pituitary/Tr-pi_0811.jpg  \n",
            "  inflating: Training/pituitary/Tr-pi_0812.jpg  \n",
            "  inflating: Training/pituitary/Tr-pi_0813.jpg  \n",
            "  inflating: Training/pituitary/Tr-pi_0814.jpg  \n",
            "  inflating: Training/pituitary/Tr-pi_0815.jpg  \n",
            "  inflating: Training/pituitary/Tr-pi_0816.jpg  \n",
            "  inflating: Training/pituitary/Tr-pi_0817.jpg  \n",
            "  inflating: Training/pituitary/Tr-pi_0818.jpg  \n",
            "  inflating: Training/pituitary/Tr-pi_0819.jpg  \n",
            "  inflating: Training/pituitary/Tr-pi_0820.jpg  \n",
            "  inflating: Training/pituitary/Tr-pi_0821.jpg  \n",
            "  inflating: Training/pituitary/Tr-pi_0822.jpg  \n",
            "  inflating: Training/pituitary/Tr-pi_0823.jpg  \n",
            "  inflating: Training/pituitary/Tr-pi_0824.jpg  \n",
            "  inflating: Training/pituitary/Tr-pi_0825.jpg  \n",
            "  inflating: Training/pituitary/Tr-pi_0826.jpg  \n",
            "  inflating: Training/pituitary/Tr-pi_0827.jpg  \n",
            "  inflating: Training/pituitary/Tr-pi_0828.jpg  \n",
            "  inflating: Training/pituitary/Tr-pi_0829.jpg  \n",
            "  inflating: Training/pituitary/Tr-pi_0830.jpg  \n",
            "  inflating: Training/pituitary/Tr-pi_0831.jpg  \n",
            "  inflating: Training/pituitary/Tr-pi_0832.jpg  \n",
            "  inflating: Training/pituitary/Tr-pi_0833.jpg  \n",
            "  inflating: Training/pituitary/Tr-pi_0834.jpg  \n",
            "  inflating: Training/pituitary/Tr-pi_0835.jpg  \n",
            "  inflating: Training/pituitary/Tr-pi_0836.jpg  \n",
            "  inflating: Training/pituitary/Tr-pi_0837.jpg  \n",
            "  inflating: Training/pituitary/Tr-pi_0838.jpg  \n",
            "  inflating: Training/pituitary/Tr-pi_0839.jpg  \n",
            "  inflating: Training/pituitary/Tr-pi_0840.jpg  \n",
            "  inflating: Training/pituitary/Tr-pi_0841.jpg  \n",
            "  inflating: Training/pituitary/Tr-pi_0842.jpg  \n",
            "  inflating: Training/pituitary/Tr-pi_0843.jpg  \n",
            "  inflating: Training/pituitary/Tr-pi_0844.jpg  \n",
            "  inflating: Training/pituitary/Tr-pi_0845.jpg  \n",
            "  inflating: Training/pituitary/Tr-pi_0846.jpg  \n",
            "  inflating: Training/pituitary/Tr-pi_0847.jpg  \n",
            "  inflating: Training/pituitary/Tr-pi_0848.jpg  \n",
            "  inflating: Training/pituitary/Tr-pi_0849.jpg  \n",
            "  inflating: Training/pituitary/Tr-pi_0850.jpg  \n",
            "  inflating: Training/pituitary/Tr-pi_0851.jpg  \n",
            "  inflating: Training/pituitary/Tr-pi_0852.jpg  \n",
            "  inflating: Training/pituitary/Tr-pi_0853.jpg  \n",
            "  inflating: Training/pituitary/Tr-pi_0854.jpg  \n",
            "  inflating: Training/pituitary/Tr-pi_0855.jpg  \n",
            "  inflating: Training/pituitary/Tr-pi_0856.jpg  \n",
            "  inflating: Training/pituitary/Tr-pi_0857.jpg  \n",
            "  inflating: Training/pituitary/Tr-pi_0858.jpg  \n",
            "  inflating: Training/pituitary/Tr-pi_0859.jpg  \n",
            "  inflating: Training/pituitary/Tr-pi_0860.jpg  \n",
            "  inflating: Training/pituitary/Tr-pi_0861.jpg  \n",
            "  inflating: Training/pituitary/Tr-pi_0862.jpg  \n",
            "  inflating: Training/pituitary/Tr-pi_0863.jpg  \n",
            "  inflating: Training/pituitary/Tr-pi_0864.jpg  \n",
            "  inflating: Training/pituitary/Tr-pi_0865.jpg  \n",
            "  inflating: Training/pituitary/Tr-pi_0866.jpg  \n",
            "  inflating: Training/pituitary/Tr-pi_0867.jpg  \n",
            "  inflating: Training/pituitary/Tr-pi_0868.jpg  \n",
            "  inflating: Training/pituitary/Tr-pi_0869.jpg  \n",
            "  inflating: Training/pituitary/Tr-pi_0870.jpg  \n",
            "  inflating: Training/pituitary/Tr-pi_0871.jpg  \n",
            "  inflating: Training/pituitary/Tr-pi_0872.jpg  \n",
            "  inflating: Training/pituitary/Tr-pi_0873.jpg  \n",
            "  inflating: Training/pituitary/Tr-pi_0874.jpg  \n",
            "  inflating: Training/pituitary/Tr-pi_0875.jpg  \n",
            "  inflating: Training/pituitary/Tr-pi_0876.jpg  \n",
            "  inflating: Training/pituitary/Tr-pi_0877.jpg  \n",
            "  inflating: Training/pituitary/Tr-pi_0878.jpg  \n",
            "  inflating: Training/pituitary/Tr-pi_0879.jpg  \n",
            "  inflating: Training/pituitary/Tr-pi_0880.jpg  \n",
            "  inflating: Training/pituitary/Tr-pi_0881.jpg  \n",
            "  inflating: Training/pituitary/Tr-pi_0882.jpg  \n",
            "  inflating: Training/pituitary/Tr-pi_0883.jpg  \n",
            "  inflating: Training/pituitary/Tr-pi_0884.jpg  \n",
            "  inflating: Training/pituitary/Tr-pi_0885.jpg  \n",
            "  inflating: Training/pituitary/Tr-pi_0886.jpg  \n",
            "  inflating: Training/pituitary/Tr-pi_0887.jpg  \n",
            "  inflating: Training/pituitary/Tr-pi_0888.jpg  \n",
            "  inflating: Training/pituitary/Tr-pi_0889.jpg  \n",
            "  inflating: Training/pituitary/Tr-pi_0890.jpg  \n",
            "  inflating: Training/pituitary/Tr-pi_0891.jpg  \n",
            "  inflating: Training/pituitary/Tr-pi_0892.jpg  \n",
            "  inflating: Training/pituitary/Tr-pi_0893.jpg  \n",
            "  inflating: Training/pituitary/Tr-pi_0894.jpg  \n",
            "  inflating: Training/pituitary/Tr-pi_0895.jpg  \n",
            "  inflating: Training/pituitary/Tr-pi_0896.jpg  \n",
            "  inflating: Training/pituitary/Tr-pi_0897.jpg  \n",
            "  inflating: Training/pituitary/Tr-pi_0898.jpg  \n",
            "  inflating: Training/pituitary/Tr-pi_0899.jpg  \n",
            "  inflating: Training/pituitary/Tr-pi_0900.jpg  \n",
            "  inflating: Training/pituitary/Tr-pi_0901.jpg  \n",
            "  inflating: Training/pituitary/Tr-pi_0902.jpg  \n",
            "  inflating: Training/pituitary/Tr-pi_0903.jpg  \n",
            "  inflating: Training/pituitary/Tr-pi_0904.jpg  \n",
            "  inflating: Training/pituitary/Tr-pi_0905.jpg  \n",
            "  inflating: Training/pituitary/Tr-pi_0906.jpg  \n",
            "  inflating: Training/pituitary/Tr-pi_0907.jpg  \n",
            "  inflating: Training/pituitary/Tr-pi_0908.jpg  \n",
            "  inflating: Training/pituitary/Tr-pi_0909.jpg  \n",
            "  inflating: Training/pituitary/Tr-pi_0910.jpg  \n",
            "  inflating: Training/pituitary/Tr-pi_0911.jpg  \n",
            "  inflating: Training/pituitary/Tr-pi_0912.jpg  \n",
            "  inflating: Training/pituitary/Tr-pi_0913.jpg  \n",
            "  inflating: Training/pituitary/Tr-pi_0914.jpg  \n",
            "  inflating: Training/pituitary/Tr-pi_0915.jpg  \n",
            "  inflating: Training/pituitary/Tr-pi_0916.jpg  \n",
            "  inflating: Training/pituitary/Tr-pi_0917.jpg  \n",
            "  inflating: Training/pituitary/Tr-pi_0918.jpg  \n",
            "  inflating: Training/pituitary/Tr-pi_0919.jpg  \n",
            "  inflating: Training/pituitary/Tr-pi_0920.jpg  \n",
            "  inflating: Training/pituitary/Tr-pi_0921.jpg  \n",
            "  inflating: Training/pituitary/Tr-pi_0922.jpg  \n",
            "  inflating: Training/pituitary/Tr-pi_0923.jpg  \n",
            "  inflating: Training/pituitary/Tr-pi_0924.jpg  \n",
            "  inflating: Training/pituitary/Tr-pi_0925.jpg  \n",
            "  inflating: Training/pituitary/Tr-pi_0926.jpg  \n",
            "  inflating: Training/pituitary/Tr-pi_0927.jpg  \n",
            "  inflating: Training/pituitary/Tr-pi_0928.jpg  \n",
            "  inflating: Training/pituitary/Tr-pi_0929.jpg  \n",
            "  inflating: Training/pituitary/Tr-pi_0930.jpg  \n",
            "  inflating: Training/pituitary/Tr-pi_0931.jpg  \n",
            "  inflating: Training/pituitary/Tr-pi_0932.jpg  \n",
            "  inflating: Training/pituitary/Tr-pi_0933.jpg  \n",
            "  inflating: Training/pituitary/Tr-pi_0934.jpg  \n",
            "  inflating: Training/pituitary/Tr-pi_0935.jpg  \n",
            "  inflating: Training/pituitary/Tr-pi_0936.jpg  \n",
            "  inflating: Training/pituitary/Tr-pi_0937.jpg  \n",
            "  inflating: Training/pituitary/Tr-pi_0938.jpg  \n",
            "  inflating: Training/pituitary/Tr-pi_0939.jpg  \n",
            "  inflating: Training/pituitary/Tr-pi_0940.jpg  \n",
            "  inflating: Training/pituitary/Tr-pi_0941.jpg  \n",
            "  inflating: Training/pituitary/Tr-pi_0942.jpg  \n",
            "  inflating: Training/pituitary/Tr-pi_0943.jpg  \n",
            "  inflating: Training/pituitary/Tr-pi_0944.jpg  \n",
            "  inflating: Training/pituitary/Tr-pi_0945.jpg  \n",
            "  inflating: Training/pituitary/Tr-pi_0946.jpg  \n",
            "  inflating: Training/pituitary/Tr-pi_0947.jpg  \n",
            "  inflating: Training/pituitary/Tr-pi_0948.jpg  \n",
            "  inflating: Training/pituitary/Tr-pi_0949.jpg  \n",
            "  inflating: Training/pituitary/Tr-pi_0950.jpg  \n",
            "  inflating: Training/pituitary/Tr-pi_0951.jpg  \n",
            "  inflating: Training/pituitary/Tr-pi_0952.jpg  \n",
            "  inflating: Training/pituitary/Tr-pi_0953.jpg  \n",
            "  inflating: Training/pituitary/Tr-pi_0954.jpg  \n",
            "  inflating: Training/pituitary/Tr-pi_0955.jpg  \n",
            "  inflating: Training/pituitary/Tr-pi_0956.jpg  \n",
            "  inflating: Training/pituitary/Tr-pi_0957.jpg  \n",
            "  inflating: Training/pituitary/Tr-pi_0958.jpg  \n",
            "  inflating: Training/pituitary/Tr-pi_0959.jpg  \n",
            "  inflating: Training/pituitary/Tr-pi_0960.jpg  \n",
            "  inflating: Training/pituitary/Tr-pi_0961.jpg  \n",
            "  inflating: Training/pituitary/Tr-pi_0962.jpg  \n",
            "  inflating: Training/pituitary/Tr-pi_0963.jpg  \n",
            "  inflating: Training/pituitary/Tr-pi_0964.jpg  \n",
            "  inflating: Training/pituitary/Tr-pi_0965.jpg  \n",
            "  inflating: Training/pituitary/Tr-pi_0966.jpg  \n",
            "  inflating: Training/pituitary/Tr-pi_0967.jpg  \n",
            "  inflating: Training/pituitary/Tr-pi_0968.jpg  \n",
            "  inflating: Training/pituitary/Tr-pi_0969.jpg  \n",
            "  inflating: Training/pituitary/Tr-pi_0970.jpg  \n",
            "  inflating: Training/pituitary/Tr-pi_0971.jpg  \n",
            "  inflating: Training/pituitary/Tr-pi_0972.jpg  \n",
            "  inflating: Training/pituitary/Tr-pi_0973.jpg  \n",
            "  inflating: Training/pituitary/Tr-pi_0974.jpg  \n",
            "  inflating: Training/pituitary/Tr-pi_0975.jpg  \n",
            "  inflating: Training/pituitary/Tr-pi_0976.jpg  \n",
            "  inflating: Training/pituitary/Tr-pi_0977.jpg  \n",
            "  inflating: Training/pituitary/Tr-pi_0978.jpg  \n",
            "  inflating: Training/pituitary/Tr-pi_0979.jpg  \n",
            "  inflating: Training/pituitary/Tr-pi_0980.jpg  \n",
            "  inflating: Training/pituitary/Tr-pi_0981.jpg  \n",
            "  inflating: Training/pituitary/Tr-pi_0982.jpg  \n",
            "  inflating: Training/pituitary/Tr-pi_0983.jpg  \n",
            "  inflating: Training/pituitary/Tr-pi_0984.jpg  \n",
            "  inflating: Training/pituitary/Tr-pi_0985.jpg  \n",
            "  inflating: Training/pituitary/Tr-pi_0986.jpg  \n",
            "  inflating: Training/pituitary/Tr-pi_0987.jpg  \n",
            "  inflating: Training/pituitary/Tr-pi_0988.jpg  \n",
            "  inflating: Training/pituitary/Tr-pi_0989.jpg  \n",
            "  inflating: Training/pituitary/Tr-pi_0990.jpg  \n",
            "  inflating: Training/pituitary/Tr-pi_0991.jpg  \n",
            "  inflating: Training/pituitary/Tr-pi_0992.jpg  \n",
            "  inflating: Training/pituitary/Tr-pi_0993.jpg  \n",
            "  inflating: Training/pituitary/Tr-pi_0994.jpg  \n",
            "  inflating: Training/pituitary/Tr-pi_0995.jpg  \n",
            "  inflating: Training/pituitary/Tr-pi_0996.jpg  \n",
            "  inflating: Training/pituitary/Tr-pi_0997.jpg  \n",
            "  inflating: Training/pituitary/Tr-pi_0998.jpg  \n",
            "  inflating: Training/pituitary/Tr-pi_0999.jpg  \n",
            "  inflating: Training/pituitary/Tr-pi_1000.jpg  \n",
            "  inflating: Training/pituitary/Tr-pi_1001.jpg  \n",
            "  inflating: Training/pituitary/Tr-pi_1002.jpg  \n",
            "  inflating: Training/pituitary/Tr-pi_1003.jpg  \n",
            "  inflating: Training/pituitary/Tr-pi_1004.jpg  \n",
            "  inflating: Training/pituitary/Tr-pi_1005.jpg  \n",
            "  inflating: Training/pituitary/Tr-pi_1006.jpg  \n",
            "  inflating: Training/pituitary/Tr-pi_1007.jpg  \n",
            "  inflating: Training/pituitary/Tr-pi_1008.jpg  \n",
            "  inflating: Training/pituitary/Tr-pi_1009.jpg  \n",
            "  inflating: Training/pituitary/Tr-pi_1010.jpg  \n",
            "  inflating: Training/pituitary/Tr-pi_1011.jpg  \n",
            "  inflating: Training/pituitary/Tr-pi_1012.jpg  \n",
            "  inflating: Training/pituitary/Tr-pi_1013.jpg  \n",
            "  inflating: Training/pituitary/Tr-pi_1014.jpg  \n",
            "  inflating: Training/pituitary/Tr-pi_1015.jpg  \n",
            "  inflating: Training/pituitary/Tr-pi_1016.jpg  \n",
            "  inflating: Training/pituitary/Tr-pi_1017.jpg  \n",
            "  inflating: Training/pituitary/Tr-pi_1018.jpg  \n",
            "  inflating: Training/pituitary/Tr-pi_1019.jpg  \n",
            "  inflating: Training/pituitary/Tr-pi_1020.jpg  \n",
            "  inflating: Training/pituitary/Tr-pi_1021.jpg  \n",
            "  inflating: Training/pituitary/Tr-pi_1022.jpg  \n",
            "  inflating: Training/pituitary/Tr-pi_1023.jpg  \n",
            "  inflating: Training/pituitary/Tr-pi_1024.jpg  \n",
            "  inflating: Training/pituitary/Tr-pi_1025.jpg  \n",
            "  inflating: Training/pituitary/Tr-pi_1026.jpg  \n",
            "  inflating: Training/pituitary/Tr-pi_1027.jpg  \n",
            "  inflating: Training/pituitary/Tr-pi_1028.jpg  \n",
            "  inflating: Training/pituitary/Tr-pi_1029.jpg  \n",
            "  inflating: Training/pituitary/Tr-pi_1030.jpg  \n",
            "  inflating: Training/pituitary/Tr-pi_1031.jpg  \n",
            "  inflating: Training/pituitary/Tr-pi_1032.jpg  \n",
            "  inflating: Training/pituitary/Tr-pi_1033.jpg  \n",
            "  inflating: Training/pituitary/Tr-pi_1034.jpg  \n",
            "  inflating: Training/pituitary/Tr-pi_1035.jpg  \n",
            "  inflating: Training/pituitary/Tr-pi_1036.jpg  \n",
            "  inflating: Training/pituitary/Tr-pi_1037.jpg  \n",
            "  inflating: Training/pituitary/Tr-pi_1038.jpg  \n",
            "  inflating: Training/pituitary/Tr-pi_1039.jpg  \n",
            "  inflating: Training/pituitary/Tr-pi_1040.jpg  \n",
            "  inflating: Training/pituitary/Tr-pi_1041.jpg  \n",
            "  inflating: Training/pituitary/Tr-pi_1042.jpg  \n",
            "  inflating: Training/pituitary/Tr-pi_1043.jpg  \n",
            "  inflating: Training/pituitary/Tr-pi_1044.jpg  \n",
            "  inflating: Training/pituitary/Tr-pi_1045.jpg  \n",
            "  inflating: Training/pituitary/Tr-pi_1046.jpg  \n",
            "  inflating: Training/pituitary/Tr-pi_1047.jpg  \n",
            "  inflating: Training/pituitary/Tr-pi_1048.jpg  \n",
            "  inflating: Training/pituitary/Tr-pi_1049.jpg  \n",
            "  inflating: Training/pituitary/Tr-pi_1050.jpg  \n",
            "  inflating: Training/pituitary/Tr-pi_1051.jpg  \n",
            "  inflating: Training/pituitary/Tr-pi_1052.jpg  \n",
            "  inflating: Training/pituitary/Tr-pi_1053.jpg  \n",
            "  inflating: Training/pituitary/Tr-pi_1054.jpg  \n",
            "  inflating: Training/pituitary/Tr-pi_1055.jpg  \n",
            "  inflating: Training/pituitary/Tr-pi_1056.jpg  \n",
            "  inflating: Training/pituitary/Tr-pi_1057.jpg  \n",
            "  inflating: Training/pituitary/Tr-pi_1058.jpg  \n",
            "  inflating: Training/pituitary/Tr-pi_1059.jpg  \n",
            "  inflating: Training/pituitary/Tr-pi_1060.jpg  \n",
            "  inflating: Training/pituitary/Tr-pi_1061.jpg  \n",
            "  inflating: Training/pituitary/Tr-pi_1062.jpg  \n",
            "  inflating: Training/pituitary/Tr-pi_1063.jpg  \n",
            "  inflating: Training/pituitary/Tr-pi_1064.jpg  \n",
            "  inflating: Training/pituitary/Tr-pi_1065.jpg  \n",
            "  inflating: Training/pituitary/Tr-pi_1066.jpg  \n",
            "  inflating: Training/pituitary/Tr-pi_1067.jpg  \n",
            "  inflating: Training/pituitary/Tr-pi_1068.jpg  \n",
            "  inflating: Training/pituitary/Tr-pi_1069.jpg  \n",
            "  inflating: Training/pituitary/Tr-pi_1070.jpg  \n",
            "  inflating: Training/pituitary/Tr-pi_1071.jpg  \n",
            "  inflating: Training/pituitary/Tr-pi_1072.jpg  \n",
            "  inflating: Training/pituitary/Tr-pi_1073.jpg  \n",
            "  inflating: Training/pituitary/Tr-pi_1074.jpg  \n",
            "  inflating: Training/pituitary/Tr-pi_1075.jpg  \n",
            "  inflating: Training/pituitary/Tr-pi_1076.jpg  \n",
            "  inflating: Training/pituitary/Tr-pi_1077.jpg  \n",
            "  inflating: Training/pituitary/Tr-pi_1078.jpg  \n",
            "  inflating: Training/pituitary/Tr-pi_1079.jpg  \n",
            "  inflating: Training/pituitary/Tr-pi_1080.jpg  \n",
            "  inflating: Training/pituitary/Tr-pi_1081.jpg  \n",
            "  inflating: Training/pituitary/Tr-pi_1082.jpg  \n",
            "  inflating: Training/pituitary/Tr-pi_1083.jpg  \n",
            "  inflating: Training/pituitary/Tr-pi_1084.jpg  \n",
            "  inflating: Training/pituitary/Tr-pi_1085.jpg  \n",
            "  inflating: Training/pituitary/Tr-pi_1086.jpg  \n",
            "  inflating: Training/pituitary/Tr-pi_1087.jpg  \n",
            "  inflating: Training/pituitary/Tr-pi_1088.jpg  \n",
            "  inflating: Training/pituitary/Tr-pi_1089.jpg  \n",
            "  inflating: Training/pituitary/Tr-pi_1090.jpg  \n",
            "  inflating: Training/pituitary/Tr-pi_1091.jpg  \n",
            "  inflating: Training/pituitary/Tr-pi_1092.jpg  \n",
            "  inflating: Training/pituitary/Tr-pi_1093.jpg  \n",
            "  inflating: Training/pituitary/Tr-pi_1094.jpg  \n",
            "  inflating: Training/pituitary/Tr-pi_1095.jpg  \n",
            "  inflating: Training/pituitary/Tr-pi_1096.jpg  \n",
            "  inflating: Training/pituitary/Tr-pi_1097.jpg  \n",
            "  inflating: Training/pituitary/Tr-pi_1098.jpg  \n",
            "  inflating: Training/pituitary/Tr-pi_1099.jpg  \n",
            "  inflating: Training/pituitary/Tr-pi_1100.jpg  \n",
            "  inflating: Training/pituitary/Tr-pi_1101.jpg  \n",
            "  inflating: Training/pituitary/Tr-pi_1102.jpg  \n",
            "  inflating: Training/pituitary/Tr-pi_1103.jpg  \n",
            "  inflating: Training/pituitary/Tr-pi_1104.jpg  \n",
            "  inflating: Training/pituitary/Tr-pi_1105.jpg  \n",
            "  inflating: Training/pituitary/Tr-pi_1106.jpg  \n",
            "  inflating: Training/pituitary/Tr-pi_1107.jpg  \n",
            "  inflating: Training/pituitary/Tr-pi_1108.jpg  \n",
            "  inflating: Training/pituitary/Tr-pi_1109.jpg  \n",
            "  inflating: Training/pituitary/Tr-pi_1110.jpg  \n",
            "  inflating: Training/pituitary/Tr-pi_1111.jpg  \n",
            "  inflating: Training/pituitary/Tr-pi_1112.jpg  \n",
            "  inflating: Training/pituitary/Tr-pi_1113.jpg  \n",
            "  inflating: Training/pituitary/Tr-pi_1114.jpg  \n",
            "  inflating: Training/pituitary/Tr-pi_1115.jpg  \n",
            "  inflating: Training/pituitary/Tr-pi_1116.jpg  \n",
            "  inflating: Training/pituitary/Tr-pi_1117.jpg  \n",
            "  inflating: Training/pituitary/Tr-pi_1118.jpg  \n",
            "  inflating: Training/pituitary/Tr-pi_1119.jpg  \n",
            "  inflating: Training/pituitary/Tr-pi_1120.jpg  \n",
            "  inflating: Training/pituitary/Tr-pi_1121.jpg  \n",
            "  inflating: Training/pituitary/Tr-pi_1122.jpg  \n",
            "  inflating: Training/pituitary/Tr-pi_1123.jpg  \n",
            "  inflating: Training/pituitary/Tr-pi_1124.jpg  \n",
            "  inflating: Training/pituitary/Tr-pi_1125.jpg  \n",
            "  inflating: Training/pituitary/Tr-pi_1126.jpg  \n",
            "  inflating: Training/pituitary/Tr-pi_1127.jpg  \n",
            "  inflating: Training/pituitary/Tr-pi_1128.jpg  \n",
            "  inflating: Training/pituitary/Tr-pi_1129.jpg  \n",
            "  inflating: Training/pituitary/Tr-pi_1130.jpg  \n",
            "  inflating: Training/pituitary/Tr-pi_1131.jpg  \n",
            "  inflating: Training/pituitary/Tr-pi_1132.jpg  \n",
            "  inflating: Training/pituitary/Tr-pi_1133.jpg  \n",
            "  inflating: Training/pituitary/Tr-pi_1134.jpg  \n",
            "  inflating: Training/pituitary/Tr-pi_1135.jpg  \n",
            "  inflating: Training/pituitary/Tr-pi_1136.jpg  \n",
            "  inflating: Training/pituitary/Tr-pi_1137.jpg  \n",
            "  inflating: Training/pituitary/Tr-pi_1138.jpg  \n",
            "  inflating: Training/pituitary/Tr-pi_1139.jpg  \n",
            "  inflating: Training/pituitary/Tr-pi_1140.jpg  \n",
            "  inflating: Training/pituitary/Tr-pi_1141.jpg  \n",
            "  inflating: Training/pituitary/Tr-pi_1142.jpg  \n",
            "  inflating: Training/pituitary/Tr-pi_1143.jpg  \n",
            "  inflating: Training/pituitary/Tr-pi_1144.jpg  \n",
            "  inflating: Training/pituitary/Tr-pi_1145.jpg  \n",
            "  inflating: Training/pituitary/Tr-pi_1146.jpg  \n",
            "  inflating: Training/pituitary/Tr-pi_1147.jpg  \n",
            "  inflating: Training/pituitary/Tr-pi_1148.jpg  \n",
            "  inflating: Training/pituitary/Tr-pi_1149.jpg  \n",
            "  inflating: Training/pituitary/Tr-pi_1150.jpg  \n",
            "  inflating: Training/pituitary/Tr-pi_1151.jpg  \n",
            "  inflating: Training/pituitary/Tr-pi_1152.jpg  \n",
            "  inflating: Training/pituitary/Tr-pi_1153.jpg  \n",
            "  inflating: Training/pituitary/Tr-pi_1154.jpg  \n",
            "  inflating: Training/pituitary/Tr-pi_1155.jpg  \n",
            "  inflating: Training/pituitary/Tr-pi_1156.jpg  \n",
            "  inflating: Training/pituitary/Tr-pi_1157.jpg  \n",
            "  inflating: Training/pituitary/Tr-pi_1158.jpg  \n",
            "  inflating: Training/pituitary/Tr-pi_1159.jpg  \n",
            "  inflating: Training/pituitary/Tr-pi_1160.jpg  \n",
            "  inflating: Training/pituitary/Tr-pi_1161.jpg  \n",
            "  inflating: Training/pituitary/Tr-pi_1162.jpg  \n",
            "  inflating: Training/pituitary/Tr-pi_1163.jpg  \n",
            "  inflating: Training/pituitary/Tr-pi_1164.jpg  \n",
            "  inflating: Training/pituitary/Tr-pi_1165.jpg  \n",
            "  inflating: Training/pituitary/Tr-pi_1166.jpg  \n",
            "  inflating: Training/pituitary/Tr-pi_1167.jpg  \n",
            "  inflating: Training/pituitary/Tr-pi_1168.jpg  \n",
            "  inflating: Training/pituitary/Tr-pi_1169.jpg  \n",
            "  inflating: Training/pituitary/Tr-pi_1170.jpg  \n",
            "  inflating: Training/pituitary/Tr-pi_1171.jpg  \n",
            "  inflating: Training/pituitary/Tr-pi_1172.jpg  \n",
            "  inflating: Training/pituitary/Tr-pi_1173.jpg  \n",
            "  inflating: Training/pituitary/Tr-pi_1174.jpg  \n",
            "  inflating: Training/pituitary/Tr-pi_1175.jpg  \n",
            "  inflating: Training/pituitary/Tr-pi_1176.jpg  \n",
            "  inflating: Training/pituitary/Tr-pi_1177.jpg  \n",
            "  inflating: Training/pituitary/Tr-pi_1178.jpg  \n",
            "  inflating: Training/pituitary/Tr-pi_1179.jpg  \n",
            "  inflating: Training/pituitary/Tr-pi_1180.jpg  \n",
            "  inflating: Training/pituitary/Tr-pi_1181.jpg  \n",
            "  inflating: Training/pituitary/Tr-pi_1182.jpg  \n",
            "  inflating: Training/pituitary/Tr-pi_1183.jpg  \n",
            "  inflating: Training/pituitary/Tr-pi_1184.jpg  \n",
            "  inflating: Training/pituitary/Tr-pi_1185.jpg  \n",
            "  inflating: Training/pituitary/Tr-pi_1186.jpg  \n",
            "  inflating: Training/pituitary/Tr-pi_1187.jpg  \n",
            "  inflating: Training/pituitary/Tr-pi_1188.jpg  \n",
            "  inflating: Training/pituitary/Tr-pi_1189.jpg  \n",
            "  inflating: Training/pituitary/Tr-pi_1190.jpg  \n",
            "  inflating: Training/pituitary/Tr-pi_1191.jpg  \n",
            "  inflating: Training/pituitary/Tr-pi_1192.jpg  \n",
            "  inflating: Training/pituitary/Tr-pi_1193.jpg  \n",
            "  inflating: Training/pituitary/Tr-pi_1194.jpg  \n",
            "  inflating: Training/pituitary/Tr-pi_1195.jpg  \n",
            "  inflating: Training/pituitary/Tr-pi_1196.jpg  \n",
            "  inflating: Training/pituitary/Tr-pi_1197.jpg  \n",
            "  inflating: Training/pituitary/Tr-pi_1198.jpg  \n",
            "  inflating: Training/pituitary/Tr-pi_1199.jpg  \n",
            "  inflating: Training/pituitary/Tr-pi_1200.jpg  \n",
            "  inflating: Training/pituitary/Tr-pi_1201.jpg  \n",
            "  inflating: Training/pituitary/Tr-pi_1202.jpg  \n",
            "  inflating: Training/pituitary/Tr-pi_1203.jpg  \n",
            "  inflating: Training/pituitary/Tr-pi_1204.jpg  \n",
            "  inflating: Training/pituitary/Tr-pi_1205.jpg  \n",
            "  inflating: Training/pituitary/Tr-pi_1206.jpg  \n",
            "  inflating: Training/pituitary/Tr-pi_1207.jpg  \n",
            "  inflating: Training/pituitary/Tr-pi_1208.jpg  \n",
            "  inflating: Training/pituitary/Tr-pi_1209.jpg  \n",
            "  inflating: Training/pituitary/Tr-pi_1210.jpg  \n",
            "  inflating: Training/pituitary/Tr-pi_1211.jpg  \n",
            "  inflating: Training/pituitary/Tr-pi_1212.jpg  \n",
            "  inflating: Training/pituitary/Tr-pi_1213.jpg  \n",
            "  inflating: Training/pituitary/Tr-pi_1214.jpg  \n",
            "  inflating: Training/pituitary/Tr-pi_1215.jpg  \n",
            "  inflating: Training/pituitary/Tr-pi_1216.jpg  \n",
            "  inflating: Training/pituitary/Tr-pi_1217.jpg  \n",
            "  inflating: Training/pituitary/Tr-pi_1218.jpg  \n",
            "  inflating: Training/pituitary/Tr-pi_1219.jpg  \n",
            "  inflating: Training/pituitary/Tr-pi_1220.jpg  \n",
            "  inflating: Training/pituitary/Tr-pi_1221.jpg  \n",
            "  inflating: Training/pituitary/Tr-pi_1222.jpg  \n",
            "  inflating: Training/pituitary/Tr-pi_1223.jpg  \n",
            "  inflating: Training/pituitary/Tr-pi_1224.jpg  \n",
            "  inflating: Training/pituitary/Tr-pi_1225.jpg  \n",
            "  inflating: Training/pituitary/Tr-pi_1226.jpg  \n",
            "  inflating: Training/pituitary/Tr-pi_1227.jpg  \n",
            "  inflating: Training/pituitary/Tr-pi_1228.jpg  \n",
            "  inflating: Training/pituitary/Tr-pi_1229.jpg  \n",
            "  inflating: Training/pituitary/Tr-pi_1230.jpg  \n",
            "  inflating: Training/pituitary/Tr-pi_1231.jpg  \n",
            "  inflating: Training/pituitary/Tr-pi_1232.jpg  \n",
            "  inflating: Training/pituitary/Tr-pi_1233.jpg  \n",
            "  inflating: Training/pituitary/Tr-pi_1234.jpg  \n",
            "  inflating: Training/pituitary/Tr-pi_1235.jpg  \n",
            "  inflating: Training/pituitary/Tr-pi_1236.jpg  \n",
            "  inflating: Training/pituitary/Tr-pi_1237.jpg  \n",
            "  inflating: Training/pituitary/Tr-pi_1238.jpg  \n",
            "  inflating: Training/pituitary/Tr-pi_1239.jpg  \n",
            "  inflating: Training/pituitary/Tr-pi_1240.jpg  \n",
            "  inflating: Training/pituitary/Tr-pi_1241.jpg  \n",
            "  inflating: Training/pituitary/Tr-pi_1242.jpg  \n",
            "  inflating: Training/pituitary/Tr-pi_1243.jpg  \n",
            "  inflating: Training/pituitary/Tr-pi_1244.jpg  \n",
            "  inflating: Training/pituitary/Tr-pi_1245.jpg  \n",
            "  inflating: Training/pituitary/Tr-pi_1246.jpg  \n",
            "  inflating: Training/pituitary/Tr-pi_1247.jpg  \n",
            "  inflating: Training/pituitary/Tr-pi_1248.jpg  \n",
            "  inflating: Training/pituitary/Tr-pi_1249.jpg  \n",
            "  inflating: Training/pituitary/Tr-pi_1250.jpg  \n",
            "  inflating: Training/pituitary/Tr-pi_1251.jpg  \n",
            "  inflating: Training/pituitary/Tr-pi_1252.jpg  \n",
            "  inflating: Training/pituitary/Tr-pi_1253.jpg  \n",
            "  inflating: Training/pituitary/Tr-pi_1254.jpg  \n",
            "  inflating: Training/pituitary/Tr-pi_1255.jpg  \n",
            "  inflating: Training/pituitary/Tr-pi_1256.jpg  \n",
            "  inflating: Training/pituitary/Tr-pi_1257.jpg  \n",
            "  inflating: Training/pituitary/Tr-pi_1258.jpg  \n",
            "  inflating: Training/pituitary/Tr-pi_1259.jpg  \n",
            "  inflating: Training/pituitary/Tr-pi_1260.jpg  \n",
            "  inflating: Training/pituitary/Tr-pi_1261.jpg  \n",
            "  inflating: Training/pituitary/Tr-pi_1262.jpg  \n",
            "  inflating: Training/pituitary/Tr-pi_1263.jpg  \n",
            "  inflating: Training/pituitary/Tr-pi_1264.jpg  \n",
            "  inflating: Training/pituitary/Tr-pi_1265.jpg  \n",
            "  inflating: Training/pituitary/Tr-pi_1266.jpg  \n",
            "  inflating: Training/pituitary/Tr-pi_1267.jpg  \n",
            "  inflating: Training/pituitary/Tr-pi_1268.jpg  \n",
            "  inflating: Training/pituitary/Tr-pi_1269.jpg  \n",
            "  inflating: Training/pituitary/Tr-pi_1270.jpg  \n",
            "  inflating: Training/pituitary/Tr-pi_1271.jpg  \n",
            "  inflating: Training/pituitary/Tr-pi_1272.jpg  \n",
            "  inflating: Training/pituitary/Tr-pi_1273.jpg  \n",
            "  inflating: Training/pituitary/Tr-pi_1274.jpg  \n",
            "  inflating: Training/pituitary/Tr-pi_1275.jpg  \n",
            "  inflating: Training/pituitary/Tr-pi_1276.jpg  \n",
            "  inflating: Training/pituitary/Tr-pi_1277.jpg  \n",
            "  inflating: Training/pituitary/Tr-pi_1278.jpg  \n",
            "  inflating: Training/pituitary/Tr-pi_1279.jpg  \n",
            "  inflating: Training/pituitary/Tr-pi_1280.jpg  \n",
            "  inflating: Training/pituitary/Tr-pi_1281.jpg  \n",
            "  inflating: Training/pituitary/Tr-pi_1282.jpg  \n",
            "  inflating: Training/pituitary/Tr-pi_1283.jpg  \n",
            "  inflating: Training/pituitary/Tr-pi_1284.jpg  \n",
            "  inflating: Training/pituitary/Tr-pi_1285.jpg  \n",
            "  inflating: Training/pituitary/Tr-pi_1286.jpg  \n",
            "  inflating: Training/pituitary/Tr-pi_1287.jpg  \n",
            "  inflating: Training/pituitary/Tr-pi_1288.jpg  \n",
            "  inflating: Training/pituitary/Tr-pi_1289.jpg  \n",
            "  inflating: Training/pituitary/Tr-pi_1290.jpg  \n",
            "  inflating: Training/pituitary/Tr-pi_1291.jpg  \n",
            "  inflating: Training/pituitary/Tr-pi_1292.jpg  \n",
            "  inflating: Training/pituitary/Tr-pi_1293.jpg  \n",
            "  inflating: Training/pituitary/Tr-pi_1294.jpg  \n",
            "  inflating: Training/pituitary/Tr-pi_1295.jpg  \n",
            "  inflating: Training/pituitary/Tr-pi_1296.jpg  \n",
            "  inflating: Training/pituitary/Tr-pi_1297.jpg  \n",
            "  inflating: Training/pituitary/Tr-pi_1298.jpg  \n",
            "  inflating: Training/pituitary/Tr-pi_1299.jpg  \n",
            "  inflating: Training/pituitary/Tr-pi_1300.jpg  \n",
            "  inflating: Training/pituitary/Tr-pi_1301.jpg  \n",
            "  inflating: Training/pituitary/Tr-pi_1302.jpg  \n",
            "  inflating: Training/pituitary/Tr-pi_1303.jpg  \n",
            "  inflating: Training/pituitary/Tr-pi_1304.jpg  \n",
            "  inflating: Training/pituitary/Tr-pi_1305.jpg  \n",
            "  inflating: Training/pituitary/Tr-pi_1306.jpg  \n",
            "  inflating: Training/pituitary/Tr-pi_1307.jpg  \n",
            "  inflating: Training/pituitary/Tr-pi_1308.jpg  \n",
            "  inflating: Training/pituitary/Tr-pi_1309.jpg  \n",
            "  inflating: Training/pituitary/Tr-pi_1310.jpg  \n",
            "  inflating: Training/pituitary/Tr-pi_1311.jpg  \n",
            "  inflating: Training/pituitary/Tr-pi_1312.jpg  \n",
            "  inflating: Training/pituitary/Tr-pi_1313.jpg  \n",
            "  inflating: Training/pituitary/Tr-pi_1314.jpg  \n",
            "  inflating: Training/pituitary/Tr-pi_1315.jpg  \n",
            "  inflating: Training/pituitary/Tr-pi_1316.jpg  \n",
            "  inflating: Training/pituitary/Tr-pi_1317.jpg  \n",
            "  inflating: Training/pituitary/Tr-pi_1318.jpg  \n",
            "  inflating: Training/pituitary/Tr-pi_1319.jpg  \n",
            "  inflating: Training/pituitary/Tr-pi_1320.jpg  \n",
            "  inflating: Training/pituitary/Tr-pi_1321.jpg  \n",
            "  inflating: Training/pituitary/Tr-pi_1322.jpg  \n",
            "  inflating: Training/pituitary/Tr-pi_1323.jpg  \n",
            "  inflating: Training/pituitary/Tr-pi_1324.jpg  \n",
            "  inflating: Training/pituitary/Tr-pi_1325.jpg  \n",
            "  inflating: Training/pituitary/Tr-pi_1326.jpg  \n",
            "  inflating: Training/pituitary/Tr-pi_1327.jpg  \n",
            "  inflating: Training/pituitary/Tr-pi_1328.jpg  \n",
            "  inflating: Training/pituitary/Tr-pi_1329.jpg  \n",
            "  inflating: Training/pituitary/Tr-pi_1330.jpg  \n",
            "  inflating: Training/pituitary/Tr-pi_1331.jpg  \n",
            "  inflating: Training/pituitary/Tr-pi_1332.jpg  \n",
            "  inflating: Training/pituitary/Tr-pi_1333.jpg  \n",
            "  inflating: Training/pituitary/Tr-pi_1334.jpg  \n",
            "  inflating: Training/pituitary/Tr-pi_1335.jpg  \n",
            "  inflating: Training/pituitary/Tr-pi_1336.jpg  \n",
            "  inflating: Training/pituitary/Tr-pi_1337.jpg  \n",
            "  inflating: Training/pituitary/Tr-pi_1338.jpg  \n",
            "  inflating: Training/pituitary/Tr-pi_1339.jpg  \n",
            "  inflating: Training/pituitary/Tr-pi_1340.jpg  \n",
            "  inflating: Training/pituitary/Tr-pi_1341.jpg  \n",
            "  inflating: Training/pituitary/Tr-pi_1342.jpg  \n",
            "  inflating: Training/pituitary/Tr-pi_1343.jpg  \n",
            "  inflating: Training/pituitary/Tr-pi_1344.jpg  \n",
            "  inflating: Training/pituitary/Tr-pi_1345.jpg  \n",
            "  inflating: Training/pituitary/Tr-pi_1346.jpg  \n",
            "  inflating: Training/pituitary/Tr-pi_1347.jpg  \n",
            "  inflating: Training/pituitary/Tr-pi_1348.jpg  \n",
            "  inflating: Training/pituitary/Tr-pi_1349.jpg  \n",
            "  inflating: Training/pituitary/Tr-pi_1350.jpg  \n",
            "  inflating: Training/pituitary/Tr-pi_1351.jpg  \n",
            "  inflating: Training/pituitary/Tr-pi_1352.jpg  \n",
            "  inflating: Training/pituitary/Tr-pi_1353.jpg  \n",
            "  inflating: Training/pituitary/Tr-pi_1354.jpg  \n",
            "  inflating: Training/pituitary/Tr-pi_1355.jpg  \n",
            "  inflating: Training/pituitary/Tr-pi_1356.jpg  \n",
            "  inflating: Training/pituitary/Tr-pi_1357.jpg  \n",
            "  inflating: Training/pituitary/Tr-pi_1358.jpg  \n",
            "  inflating: Training/pituitary/Tr-pi_1359.jpg  \n",
            "  inflating: Training/pituitary/Tr-pi_1360.jpg  \n",
            "  inflating: Training/pituitary/Tr-pi_1361.jpg  \n",
            "  inflating: Training/pituitary/Tr-pi_1362.jpg  \n",
            "  inflating: Training/pituitary/Tr-pi_1363.jpg  \n",
            "  inflating: Training/pituitary/Tr-pi_1364.jpg  \n",
            "  inflating: Training/pituitary/Tr-pi_1365.jpg  \n",
            "  inflating: Training/pituitary/Tr-pi_1366.jpg  \n",
            "  inflating: Training/pituitary/Tr-pi_1367.jpg  \n",
            "  inflating: Training/pituitary/Tr-pi_1368.jpg  \n",
            "  inflating: Training/pituitary/Tr-pi_1369.jpg  \n",
            "  inflating: Training/pituitary/Tr-pi_1370.jpg  \n",
            "  inflating: Training/pituitary/Tr-pi_1371.jpg  \n",
            "  inflating: Training/pituitary/Tr-pi_1372.jpg  \n",
            "  inflating: Training/pituitary/Tr-pi_1373.jpg  \n",
            "  inflating: Training/pituitary/Tr-pi_1374.jpg  \n",
            "  inflating: Training/pituitary/Tr-pi_1375.jpg  \n",
            "  inflating: Training/pituitary/Tr-pi_1376.jpg  \n",
            "  inflating: Training/pituitary/Tr-pi_1377.jpg  \n",
            "  inflating: Training/pituitary/Tr-pi_1378.jpg  \n",
            "  inflating: Training/pituitary/Tr-pi_1379.jpg  \n",
            "  inflating: Training/pituitary/Tr-pi_1380.jpg  \n",
            "  inflating: Training/pituitary/Tr-pi_1381.jpg  \n",
            "  inflating: Training/pituitary/Tr-pi_1382.jpg  \n",
            "  inflating: Training/pituitary/Tr-pi_1383.jpg  \n",
            "  inflating: Training/pituitary/Tr-pi_1384.jpg  \n",
            "  inflating: Training/pituitary/Tr-pi_1385.jpg  \n",
            "  inflating: Training/pituitary/Tr-pi_1386.jpg  \n",
            "  inflating: Training/pituitary/Tr-pi_1387.jpg  \n",
            "  inflating: Training/pituitary/Tr-pi_1388.jpg  \n",
            "  inflating: Training/pituitary/Tr-pi_1389.jpg  \n",
            "  inflating: Training/pituitary/Tr-pi_1390.jpg  \n",
            "  inflating: Training/pituitary/Tr-pi_1391.jpg  \n",
            "  inflating: Training/pituitary/Tr-pi_1392.jpg  \n",
            "  inflating: Training/pituitary/Tr-pi_1393.jpg  \n",
            "  inflating: Training/pituitary/Tr-pi_1394.jpg  \n",
            "  inflating: Training/pituitary/Tr-pi_1395.jpg  \n",
            "  inflating: Training/pituitary/Tr-pi_1396.jpg  \n",
            "  inflating: Training/pituitary/Tr-pi_1397.jpg  \n",
            "  inflating: Training/pituitary/Tr-pi_1398.jpg  \n",
            "  inflating: Training/pituitary/Tr-pi_1399.jpg  \n",
            "  inflating: Training/pituitary/Tr-pi_1400.jpg  \n",
            "  inflating: Training/pituitary/Tr-pi_1401.jpg  \n",
            "  inflating: Training/pituitary/Tr-pi_1402.jpg  \n",
            "  inflating: Training/pituitary/Tr-pi_1403.jpg  \n",
            "  inflating: Training/pituitary/Tr-pi_1404.jpg  \n",
            "  inflating: Training/pituitary/Tr-pi_1405.jpg  \n",
            "  inflating: Training/pituitary/Tr-pi_1406.jpg  \n",
            "  inflating: Training/pituitary/Tr-pi_1407.jpg  \n",
            "  inflating: Training/pituitary/Tr-pi_1408.jpg  \n",
            "  inflating: Training/pituitary/Tr-pi_1409.jpg  \n",
            "  inflating: Training/pituitary/Tr-pi_1410.jpg  \n",
            "  inflating: Training/pituitary/Tr-pi_1411.jpg  \n",
            "  inflating: Training/pituitary/Tr-pi_1412.jpg  \n",
            "  inflating: Training/pituitary/Tr-pi_1413.jpg  \n",
            "  inflating: Training/pituitary/Tr-pi_1414.jpg  \n",
            "  inflating: Training/pituitary/Tr-pi_1415.jpg  \n",
            "  inflating: Training/pituitary/Tr-pi_1416.jpg  \n",
            "  inflating: Training/pituitary/Tr-pi_1417.jpg  \n",
            "  inflating: Training/pituitary/Tr-pi_1418.jpg  \n",
            "  inflating: Training/pituitary/Tr-pi_1419.jpg  \n",
            "  inflating: Training/pituitary/Tr-pi_1420.jpg  \n",
            "  inflating: Training/pituitary/Tr-pi_1421.jpg  \n",
            "  inflating: Training/pituitary/Tr-pi_1422.jpg  \n",
            "  inflating: Training/pituitary/Tr-pi_1423.jpg  \n",
            "  inflating: Training/pituitary/Tr-pi_1424.jpg  \n",
            "  inflating: Training/pituitary/Tr-pi_1425.jpg  \n",
            "  inflating: Training/pituitary/Tr-pi_1426.jpg  \n",
            "  inflating: Training/pituitary/Tr-pi_1427.jpg  \n",
            "  inflating: Training/pituitary/Tr-pi_1428.jpg  \n",
            "  inflating: Training/pituitary/Tr-pi_1429.jpg  \n",
            "  inflating: Training/pituitary/Tr-pi_1430.jpg  \n",
            "  inflating: Training/pituitary/Tr-pi_1431.jpg  \n",
            "  inflating: Training/pituitary/Tr-pi_1432.jpg  \n",
            "  inflating: Training/pituitary/Tr-pi_1433.jpg  \n",
            "  inflating: Training/pituitary/Tr-pi_1434.jpg  \n",
            "  inflating: Training/pituitary/Tr-pi_1435.jpg  \n",
            "  inflating: Training/pituitary/Tr-pi_1436.jpg  \n",
            "  inflating: Training/pituitary/Tr-pi_1437.jpg  \n",
            "  inflating: Training/pituitary/Tr-pi_1438.jpg  \n",
            "  inflating: Training/pituitary/Tr-pi_1439.jpg  \n",
            "  inflating: Training/pituitary/Tr-pi_1440.jpg  \n",
            "  inflating: Training/pituitary/Tr-pi_1441.jpg  \n",
            "  inflating: Training/pituitary/Tr-pi_1442.jpg  \n",
            "  inflating: Training/pituitary/Tr-pi_1443.jpg  \n",
            "  inflating: Training/pituitary/Tr-pi_1444.jpg  \n",
            "  inflating: Training/pituitary/Tr-pi_1445.jpg  \n",
            "  inflating: Training/pituitary/Tr-pi_1446.jpg  \n",
            "  inflating: Training/pituitary/Tr-pi_1447.jpg  \n",
            "  inflating: Training/pituitary/Tr-pi_1448.jpg  \n",
            "  inflating: Training/pituitary/Tr-pi_1449.jpg  \n",
            "  inflating: Training/pituitary/Tr-pi_1450.jpg  \n",
            "  inflating: Training/pituitary/Tr-pi_1451.jpg  \n",
            "  inflating: Training/pituitary/Tr-pi_1452.jpg  \n",
            "  inflating: Training/pituitary/Tr-pi_1453.jpg  \n",
            "  inflating: Training/pituitary/Tr-pi_1454.jpg  \n",
            "  inflating: Training/pituitary/Tr-pi_1455.jpg  \n",
            "  inflating: Training/pituitary/Tr-pi_1456.jpg  \n"
          ]
        }
      ],
      "source": [
        "!unzip /content/brain-tumor-mri-dataset.zip"
      ]
    },
    {
      "cell_type": "code",
      "execution_count": null,
      "metadata": {
        "id": "BMhu6oWka_XM"
      },
      "outputs": [],
      "source": [
        "import os\n",
        "import cv2\n",
        "import numpy as np\n",
        "import matplotlib.pyplot as plt\n",
        "from keras.models import Sequential\n",
        "from keras import layers, Model\n",
        "from sklearn.model_selection import train_test_split\n",
        "\n",
        "import numpy as np\n",
        "from keras import Model\n",
        "from keras.layers import Conv2D, PReLU,BatchNormalization, Flatten\n",
        "from keras.layers import UpSampling2D, LeakyReLU, Dense, Input, add\n",
        "from tqdm import tqdm"
      ]
    },
    {
      "cell_type": "code",
      "execution_count": null,
      "metadata": {
        "id": "K7lvHHWJbD6F"
      },
      "outputs": [],
      "source": [
        "def res_block(ip):\n",
        "\n",
        "    res_model = Conv2D(64, (3,3), padding = \"same\")(ip)\n",
        "    res_model = BatchNormalization(momentum = 0.5)(res_model)\n",
        "    res_model = PReLU(shared_axes = [1,2])(res_model)\n",
        "\n",
        "    res_model = Conv2D(64, (3,3), padding = \"same\")(res_model)\n",
        "    res_model = BatchNormalization(momentum = 0.5)(res_model)\n",
        "\n",
        "    return add([ip,res_model])\n",
        "\n",
        "def upscale_block(ip):\n",
        "\n",
        "    up_model = Conv2D(256, (3,3), padding=\"same\")(ip)\n",
        "    up_model = UpSampling2D( size = 2 )(up_model)\n",
        "    up_model = PReLU(shared_axes=[1,2])(up_model)\n",
        "\n",
        "    return up_model\n",
        "\n",
        "#Generator model\n",
        "def create_gen(gen_ip, num_res_block):\n",
        "    layers = Conv2D(64, (9,9), padding=\"same\")(gen_ip)\n",
        "    layers = PReLU(shared_axes=[1,2])(layers)\n",
        "\n",
        "    temp = layers\n",
        "\n",
        "    for i in range(num_res_block):\n",
        "        layers = res_block(layers)\n",
        "\n",
        "    layers = Conv2D(64, (3,3), padding=\"same\")(layers)\n",
        "    layers = BatchNormalization(momentum=0.5)(layers)\n",
        "    layers = add([layers,temp])\n",
        "\n",
        "    layers = upscale_block(layers)\n",
        "    layers = upscale_block(layers)\n",
        "\n",
        "    op = Conv2D(3, (9,9), padding=\"same\")(layers)\n",
        "\n",
        "    return Model(inputs=gen_ip, outputs=op)\n",
        "\n",
        "#Descriminator block that will be used to construct the discriminator\n",
        "def discriminator_block(ip, filters, strides=1, bn=True):\n",
        "\n",
        "    disc_model = Conv2D(filters, (3,3), strides = strides, padding=\"same\")(ip)\n",
        "\n",
        "    if bn:\n",
        "        disc_model = BatchNormalization( momentum=0.8 )(disc_model)\n",
        "\n",
        "    disc_model = LeakyReLU( alpha=0.2 )(disc_model)\n",
        "\n",
        "    return disc_model\n",
        "\n",
        "#Descriminartor, as described in the original paper\n",
        "def create_disc(disc_ip):\n",
        "    df = 64\n",
        "    d1 = discriminator_block(disc_ip, df, bn=False)\n",
        "    d2 = discriminator_block(d1, df, strides=2)\n",
        "    d3 = discriminator_block(d2, df*2)\n",
        "    d4 = discriminator_block(d3, df*2, strides=2)\n",
        "    d5 = discriminator_block(d4, df*4)\n",
        "    d6 = discriminator_block(d5, df*4, strides=2)\n",
        "    d7 = discriminator_block(d6, df*8)\n",
        "    d8 = discriminator_block(d7, df*8, strides=2)\n",
        "\n",
        "    d8_5 = Flatten()(d8)\n",
        "    d9 = Dense(df*16)(d8_5)\n",
        "    d10 = LeakyReLU(alpha=0.2)(d9)\n",
        "    validity = Dense(1, activation='sigmoid')(d10)\n",
        "\n",
        "    return Model(disc_ip, validity)"
      ]
    },
    {
      "cell_type": "code",
      "execution_count": null,
      "metadata": {
        "id": "mP2amD24bLye"
      },
      "outputs": [],
      "source": [
        "from keras.applications import VGG19\n",
        "\n",
        "def build_vgg(hr_shape):\n",
        "\n",
        "    vgg = VGG19(weights=\"imagenet\",include_top=False, input_shape=hr_shape)\n",
        "\n",
        "    return Model(inputs=vgg.inputs, outputs=vgg.layers[10].output)\n",
        "\n",
        "#Combined model\n",
        "def create_comb(gen_model, disc_model, vgg, lr_ip, hr_ip):\n",
        "    gen_img = gen_model(lr_ip)\n",
        "\n",
        "    gen_features = vgg(gen_img)\n",
        "\n",
        "    disc_model.trainable = False\n",
        "    validity = disc_model(gen_img)\n",
        "\n",
        "    return Model(inputs=[lr_ip, hr_ip], outputs=[validity, gen_features])"
      ]
    },
    {
      "cell_type": "code",
      "execution_count": null,
      "metadata": {
        "id": "vof_I8uMbRtq"
      },
      "outputs": [],
      "source": [
        "import cv2\n",
        "import os\n",
        "\n",
        "def load_hr_images_from_folder(folder):\n",
        "    images = []\n",
        "    for filename in os.listdir(folder):\n",
        "        img = cv2.imread(os.path.join(folder, filename))\n",
        "        if img is not None:\n",
        "            img = cv2.cvtColor(img, cv2.COLOR_BGR2RGB)\n",
        "            img = cv2.resize(img, dsize=(128, 128))\n",
        "            images.append(img)\n",
        "    return images\n",
        "\n",
        "def load_lr_images_from_folder(folder):\n",
        "    images = []\n",
        "    for filename in os.listdir(folder):\n",
        "        img = cv2.imread(os.path.join(folder, filename))\n",
        "        if img is not None:\n",
        "            img = cv2.cvtColor(img, cv2.COLOR_BGR2RGB)\n",
        "            img = cv2.resize(img, dsize=(32, 32))\n",
        "            images.append(img)\n",
        "    return images\n",
        "\n",
        "# Load LR images\n",
        "lr_images = load_lr_images_from_folder(\"/content/Training/meningioma\")\n",
        "\n",
        "# Load HR images\n",
        "hr_images = load_hr_images_from_folder(\"/content/Training/meningioma\")\n",
        "\n",
        "# Normalize and convert to NumPy arrays\n",
        "np_lr_images = np.array([lr_i / 255. for lr_i in lr_images])\n",
        "np_hr_images = np.array([hr_i / 255. for hr_i in hr_images])\n",
        "\n",
        "# Split data into train and test sets\n",
        "lr_train, lr_test, hr_train, hr_test = train_test_split(np_lr_images, np_hr_images, test_size=0.2, random_state=42)"
      ]
    },
    {
      "cell_type": "code",
      "execution_count": null,
      "metadata": {
        "id": "e2iZwZQobtQa"
      },
      "outputs": [],
      "source": [
        "np_lr_images = []\n",
        "np_hr_images = []\n",
        "for lr_i in lr_images:\n",
        "    lr_i = lr_i/255.\n",
        "    np_lr_images.append(np.array(lr_i))\n",
        "for hr_i in hr_images:\n",
        "    hr_i = hr_i/255.\n",
        "    np_hr_images.append(np.array(hr_i))"
      ]
    },
    {
      "cell_type": "code",
      "execution_count": null,
      "metadata": {
        "id": "9R38SMk4b9WX"
      },
      "outputs": [],
      "source": [
        "np_lr_images = np.array(np_lr_images)\n",
        "np_hr_images = np.array(np_hr_images)"
      ]
    },
    {
      "cell_type": "code",
      "execution_count": null,
      "metadata": {
        "id": "4HA8O1e6cBqu"
      },
      "outputs": [],
      "source": [
        "lr_train, lr_test, hr_train, hr_test = train_test_split(np_lr_images, np_hr_images,test_size=0.2, random_state=42)"
      ]
    },
    {
      "cell_type": "code",
      "execution_count": null,
      "metadata": {
        "id": "VSxYCQCAcFNA"
      },
      "outputs": [],
      "source": [
        "lr_shape = (lr_train.shape[1], lr_train.shape[2], lr_train.shape[3])\n",
        "hr_shape = (hr_train.shape[1], hr_train.shape[2], hr_train.shape[3])\n",
        "\n",
        "lr_ip = Input(shape=lr_shape)\n",
        "hr_ip = Input(shape=hr_shape)\n",
        "\n",
        "generator = create_gen(lr_ip, num_res_block=16)"
      ]
    },
    {
      "cell_type": "code",
      "execution_count": null,
      "metadata": {
        "id": "wuinVqi6cJIT"
      },
      "outputs": [],
      "source": [
        "generator = create_gen(lr_ip, num_res_block = 16)"
      ]
    },
    {
      "cell_type": "code",
      "execution_count": null,
      "metadata": {
        "id": "GkR_wwRecOXH"
      },
      "outputs": [],
      "source": [
        "discriminator = create_disc(hr_ip)\n",
        "discriminator.compile(loss=\"binary_crossentropy\", optimizer=\"adam\", metrics=['accuracy'])"
      ]
    },
    {
      "cell_type": "code",
      "execution_count": null,
      "metadata": {
        "colab": {
          "base_uri": "https://localhost:8080/"
        },
        "id": "dFiOW9wLcS-0",
        "outputId": "864d2e4a-e7f9-4f3c-c1dc-72373bb4231f"
      },
      "outputs": [
        {
          "output_type": "stream",
          "name": "stdout",
          "text": [
            "Downloading data from https://storage.googleapis.com/tensorflow/keras-applications/vgg19/vgg19_weights_tf_dim_ordering_tf_kernels_notop.h5\n",
            "80134624/80134624 [==============================] - 2s 0us/step\n"
          ]
        }
      ],
      "source": [
        "vgg = build_vgg((128,128,3))\n",
        "vgg.trainable = False"
      ]
    },
    {
      "cell_type": "code",
      "execution_count": null,
      "metadata": {
        "id": "vhxPm7OfcWYs"
      },
      "outputs": [],
      "source": [
        "gan_model = create_comb(generator, discriminator, vgg, lr_ip, hr_ip)"
      ]
    },
    {
      "cell_type": "code",
      "execution_count": null,
      "metadata": {
        "id": "MPqpvxC8ccja"
      },
      "outputs": [],
      "source": [
        "gan_model.compile(loss=[\"binary_crossentropy\", \"mse\"], loss_weights=[1e-3, 1], optimizer=\"adam\")\n"
      ]
    },
    {
      "cell_type": "code",
      "execution_count": null,
      "metadata": {
        "id": "hPpCoFpfcukj"
      },
      "outputs": [],
      "source": [
        "batch_size = 16\n",
        "train_lr_batches = []\n",
        "train_hr_batches = []\n",
        "for it in range(int(hr_train.shape[0] / batch_size)):\n",
        "    start_idx = it * batch_size\n",
        "    end_idx = start_idx + batch_size\n",
        "    train_hr_batches.append(hr_train[start_idx:end_idx])\n",
        "    train_lr_batches.append(lr_train[start_idx:end_idx])"
      ]
    },
    {
      "cell_type": "code",
      "execution_count": null,
      "metadata": {
        "id": "U2qxqw5Ycvyh"
      },
      "outputs": [],
      "source": [
        "!mkdir -p saved_model"
      ]
    },
    {
      "cell_type": "code",
      "execution_count": null,
      "metadata": {
        "colab": {
          "base_uri": "https://localhost:8080/"
        },
        "id": "RSstdZF4c3Ja",
        "outputId": "bdfff6a0-a9d7-4f91-8b57-9e96c726d398"
      },
      "outputs": [
        {
          "output_type": "stream",
          "name": "stderr",
          "text": [
            "\r  0%|          | 0/66 [00:00<?, ?it/s]"
          ]
        },
        {
          "output_type": "stream",
          "name": "stdout",
          "text": [
            "1/1 [==============================] - 2s 2s/step\n"
          ]
        },
        {
          "output_type": "stream",
          "name": "stderr",
          "text": [
            "\r  2%|▏         | 1/66 [00:45<49:01, 45.26s/it]"
          ]
        },
        {
          "output_type": "stream",
          "name": "stdout",
          "text": [
            "1/1 [==============================] - 0s 19ms/step\n"
          ]
        },
        {
          "output_type": "stream",
          "name": "stderr",
          "text": [
            "\r  3%|▎         | 2/66 [00:46<20:21, 19.08s/it]"
          ]
        },
        {
          "output_type": "stream",
          "name": "stdout",
          "text": [
            "1/1 [==============================] - 0s 31ms/step\n"
          ]
        },
        {
          "output_type": "stream",
          "name": "stderr",
          "text": [
            "\r  5%|▍         | 3/66 [00:46<11:14, 10.70s/it]"
          ]
        },
        {
          "output_type": "stream",
          "name": "stdout",
          "text": [
            "1/1 [==============================] - 0s 28ms/step\n"
          ]
        },
        {
          "output_type": "stream",
          "name": "stderr",
          "text": [
            "\r  6%|▌         | 4/66 [00:47<06:58,  6.75s/it]"
          ]
        },
        {
          "output_type": "stream",
          "name": "stdout",
          "text": [
            "1/1 [==============================] - 0s 18ms/step\n"
          ]
        },
        {
          "output_type": "stream",
          "name": "stderr",
          "text": [
            "\r  8%|▊         | 5/66 [00:48<04:38,  4.56s/it]"
          ]
        },
        {
          "output_type": "stream",
          "name": "stdout",
          "text": [
            "1/1 [==============================] - 0s 19ms/step\n"
          ]
        },
        {
          "output_type": "stream",
          "name": "stderr",
          "text": [
            "\r  9%|▉         | 6/66 [00:48<03:13,  3.23s/it]"
          ]
        },
        {
          "output_type": "stream",
          "name": "stdout",
          "text": [
            "1/1 [==============================] - 0s 20ms/step\n"
          ]
        },
        {
          "output_type": "stream",
          "name": "stderr",
          "text": [
            "\r 11%|█         | 7/66 [00:49<02:19,  2.36s/it]"
          ]
        },
        {
          "output_type": "stream",
          "name": "stdout",
          "text": [
            "1/1 [==============================] - 0s 20ms/step\n"
          ]
        },
        {
          "output_type": "stream",
          "name": "stderr",
          "text": [
            "\r 12%|█▏        | 8/66 [00:49<01:45,  1.82s/it]"
          ]
        },
        {
          "output_type": "stream",
          "name": "stdout",
          "text": [
            "1/1 [==============================] - 0s 18ms/step\n"
          ]
        },
        {
          "output_type": "stream",
          "name": "stderr",
          "text": [
            "\r 14%|█▎        | 9/66 [00:50<01:21,  1.43s/it]"
          ]
        },
        {
          "output_type": "stream",
          "name": "stdout",
          "text": [
            "1/1 [==============================] - 0s 19ms/step\n"
          ]
        },
        {
          "output_type": "stream",
          "name": "stderr",
          "text": [
            "\r 15%|█▌        | 10/66 [00:51<01:06,  1.19s/it]"
          ]
        },
        {
          "output_type": "stream",
          "name": "stdout",
          "text": [
            "1/1 [==============================] - 0s 18ms/step\n"
          ]
        },
        {
          "output_type": "stream",
          "name": "stderr",
          "text": [
            "\r 17%|█▋        | 11/66 [00:51<00:55,  1.01s/it]"
          ]
        },
        {
          "output_type": "stream",
          "name": "stdout",
          "text": [
            "1/1 [==============================] - 0s 19ms/step\n"
          ]
        },
        {
          "output_type": "stream",
          "name": "stderr",
          "text": [
            "\r 18%|█▊        | 12/66 [00:52<00:48,  1.12it/s]"
          ]
        },
        {
          "output_type": "stream",
          "name": "stdout",
          "text": [
            "1/1 [==============================] - 0s 19ms/step\n"
          ]
        },
        {
          "output_type": "stream",
          "name": "stderr",
          "text": [
            "\r 20%|█▉        | 13/66 [00:53<00:42,  1.25it/s]"
          ]
        },
        {
          "output_type": "stream",
          "name": "stdout",
          "text": [
            "1/1 [==============================] - 0s 19ms/step\n"
          ]
        },
        {
          "output_type": "stream",
          "name": "stderr",
          "text": [
            "\r 21%|██        | 14/66 [00:53<00:38,  1.35it/s]"
          ]
        },
        {
          "output_type": "stream",
          "name": "stdout",
          "text": [
            "1/1 [==============================] - 0s 21ms/step\n"
          ]
        },
        {
          "output_type": "stream",
          "name": "stderr",
          "text": [
            "\r 23%|██▎       | 15/66 [00:54<00:35,  1.43it/s]"
          ]
        },
        {
          "output_type": "stream",
          "name": "stdout",
          "text": [
            "1/1 [==============================] - 0s 18ms/step\n"
          ]
        },
        {
          "output_type": "stream",
          "name": "stderr",
          "text": [
            "\r 24%|██▍       | 16/66 [00:54<00:34,  1.47it/s]"
          ]
        },
        {
          "output_type": "stream",
          "name": "stdout",
          "text": [
            "1/1 [==============================] - 0s 20ms/step\n"
          ]
        },
        {
          "output_type": "stream",
          "name": "stderr",
          "text": [
            "\r 26%|██▌       | 17/66 [00:55<00:32,  1.49it/s]"
          ]
        },
        {
          "output_type": "stream",
          "name": "stdout",
          "text": [
            "1/1 [==============================] - 0s 18ms/step\n"
          ]
        },
        {
          "output_type": "stream",
          "name": "stderr",
          "text": [
            "\r 27%|██▋       | 18/66 [00:56<00:31,  1.54it/s]"
          ]
        },
        {
          "output_type": "stream",
          "name": "stdout",
          "text": [
            "1/1 [==============================] - 0s 18ms/step\n"
          ]
        },
        {
          "output_type": "stream",
          "name": "stderr",
          "text": [
            "\r 29%|██▉       | 19/66 [00:56<00:30,  1.55it/s]"
          ]
        },
        {
          "output_type": "stream",
          "name": "stdout",
          "text": [
            "1/1 [==============================] - 0s 19ms/step\n"
          ]
        },
        {
          "output_type": "stream",
          "name": "stderr",
          "text": [
            "\r 30%|███       | 20/66 [00:57<00:29,  1.59it/s]"
          ]
        },
        {
          "output_type": "stream",
          "name": "stdout",
          "text": [
            "1/1 [==============================] - 0s 27ms/step\n"
          ]
        },
        {
          "output_type": "stream",
          "name": "stderr",
          "text": [
            "\r 32%|███▏      | 21/66 [00:58<00:29,  1.54it/s]"
          ]
        },
        {
          "output_type": "stream",
          "name": "stdout",
          "text": [
            "1/1 [==============================] - 0s 32ms/step\n"
          ]
        },
        {
          "output_type": "stream",
          "name": "stderr",
          "text": [
            "\r 33%|███▎      | 22/66 [00:58<00:30,  1.45it/s]"
          ]
        },
        {
          "output_type": "stream",
          "name": "stdout",
          "text": [
            "1/1 [==============================] - 0s 33ms/step\n"
          ]
        },
        {
          "output_type": "stream",
          "name": "stderr",
          "text": [
            "\r 35%|███▍      | 23/66 [00:59<00:30,  1.42it/s]"
          ]
        },
        {
          "output_type": "stream",
          "name": "stdout",
          "text": [
            "1/1 [==============================] - 0s 19ms/step\n"
          ]
        },
        {
          "output_type": "stream",
          "name": "stderr",
          "text": [
            "\r 36%|███▋      | 24/66 [01:00<00:28,  1.48it/s]"
          ]
        },
        {
          "output_type": "stream",
          "name": "stdout",
          "text": [
            "1/1 [==============================] - 0s 21ms/step\n"
          ]
        },
        {
          "output_type": "stream",
          "name": "stderr",
          "text": [
            "\r 38%|███▊      | 25/66 [01:00<00:26,  1.54it/s]"
          ]
        },
        {
          "output_type": "stream",
          "name": "stdout",
          "text": [
            "1/1 [==============================] - 0s 20ms/step\n"
          ]
        },
        {
          "output_type": "stream",
          "name": "stderr",
          "text": [
            "\r 39%|███▉      | 26/66 [01:01<00:25,  1.58it/s]"
          ]
        },
        {
          "output_type": "stream",
          "name": "stdout",
          "text": [
            "1/1 [==============================] - 0s 23ms/step\n"
          ]
        },
        {
          "output_type": "stream",
          "name": "stderr",
          "text": [
            "\r 41%|████      | 27/66 [01:01<00:24,  1.59it/s]"
          ]
        },
        {
          "output_type": "stream",
          "name": "stdout",
          "text": [
            "1/1 [==============================] - 0s 18ms/step\n"
          ]
        },
        {
          "output_type": "stream",
          "name": "stderr",
          "text": [
            "\r 42%|████▏     | 28/66 [01:02<00:23,  1.61it/s]"
          ]
        },
        {
          "output_type": "stream",
          "name": "stdout",
          "text": [
            "1/1 [==============================] - 0s 19ms/step\n"
          ]
        },
        {
          "output_type": "stream",
          "name": "stderr",
          "text": [
            "\r 44%|████▍     | 29/66 [01:03<00:23,  1.57it/s]"
          ]
        },
        {
          "output_type": "stream",
          "name": "stdout",
          "text": [
            "1/1 [==============================] - 0s 18ms/step\n"
          ]
        },
        {
          "output_type": "stream",
          "name": "stderr",
          "text": [
            "\r 45%|████▌     | 30/66 [01:03<00:22,  1.60it/s]"
          ]
        },
        {
          "output_type": "stream",
          "name": "stdout",
          "text": [
            "1/1 [==============================] - 0s 18ms/step\n"
          ]
        },
        {
          "output_type": "stream",
          "name": "stderr",
          "text": [
            "\r 47%|████▋     | 31/66 [01:04<00:21,  1.59it/s]"
          ]
        },
        {
          "output_type": "stream",
          "name": "stdout",
          "text": [
            "1/1 [==============================] - 0s 18ms/step\n"
          ]
        },
        {
          "output_type": "stream",
          "name": "stderr",
          "text": [
            "\r 48%|████▊     | 32/66 [01:05<00:20,  1.62it/s]"
          ]
        },
        {
          "output_type": "stream",
          "name": "stdout",
          "text": [
            "1/1 [==============================] - 0s 21ms/step\n"
          ]
        },
        {
          "output_type": "stream",
          "name": "stderr",
          "text": [
            "\r 50%|█████     | 33/66 [01:05<00:20,  1.62it/s]"
          ]
        },
        {
          "output_type": "stream",
          "name": "stdout",
          "text": [
            "1/1 [==============================] - 0s 18ms/step\n"
          ]
        },
        {
          "output_type": "stream",
          "name": "stderr",
          "text": [
            "\r 52%|█████▏    | 34/66 [01:06<00:19,  1.63it/s]"
          ]
        },
        {
          "output_type": "stream",
          "name": "stdout",
          "text": [
            "1/1 [==============================] - 0s 19ms/step\n"
          ]
        },
        {
          "output_type": "stream",
          "name": "stderr",
          "text": [
            "\r 53%|█████▎    | 35/66 [01:06<00:19,  1.57it/s]"
          ]
        },
        {
          "output_type": "stream",
          "name": "stdout",
          "text": [
            "1/1 [==============================] - 0s 18ms/step\n"
          ]
        },
        {
          "output_type": "stream",
          "name": "stderr",
          "text": [
            "\r 55%|█████▍    | 36/66 [01:07<00:19,  1.56it/s]"
          ]
        },
        {
          "output_type": "stream",
          "name": "stdout",
          "text": [
            "1/1 [==============================] - 0s 20ms/step\n"
          ]
        },
        {
          "output_type": "stream",
          "name": "stderr",
          "text": [
            "\r 56%|█████▌    | 37/66 [01:08<00:18,  1.56it/s]"
          ]
        },
        {
          "output_type": "stream",
          "name": "stdout",
          "text": [
            "1/1 [==============================] - 0s 18ms/step\n"
          ]
        },
        {
          "output_type": "stream",
          "name": "stderr",
          "text": [
            "\r 58%|█████▊    | 38/66 [01:08<00:17,  1.58it/s]"
          ]
        },
        {
          "output_type": "stream",
          "name": "stdout",
          "text": [
            "1/1 [==============================] - 0s 18ms/step\n"
          ]
        },
        {
          "output_type": "stream",
          "name": "stderr",
          "text": [
            "\r 59%|█████▉    | 39/66 [01:09<00:16,  1.59it/s]"
          ]
        },
        {
          "output_type": "stream",
          "name": "stdout",
          "text": [
            "1/1 [==============================] - 0s 39ms/step\n"
          ]
        },
        {
          "output_type": "stream",
          "name": "stderr",
          "text": [
            "\r 61%|██████    | 40/66 [01:10<00:16,  1.54it/s]"
          ]
        },
        {
          "output_type": "stream",
          "name": "stdout",
          "text": [
            "1/1 [==============================] - 0s 29ms/step\n"
          ]
        },
        {
          "output_type": "stream",
          "name": "stderr",
          "text": [
            "\r 62%|██████▏   | 41/66 [01:10<00:16,  1.50it/s]"
          ]
        },
        {
          "output_type": "stream",
          "name": "stdout",
          "text": [
            "1/1 [==============================] - 0s 20ms/step\n"
          ]
        },
        {
          "output_type": "stream",
          "name": "stderr",
          "text": [
            "\r 64%|██████▎   | 42/66 [01:11<00:16,  1.48it/s]"
          ]
        },
        {
          "output_type": "stream",
          "name": "stdout",
          "text": [
            "1/1 [==============================] - 0s 18ms/step\n"
          ]
        },
        {
          "output_type": "stream",
          "name": "stderr",
          "text": [
            "\r 65%|██████▌   | 43/66 [01:12<00:15,  1.53it/s]"
          ]
        },
        {
          "output_type": "stream",
          "name": "stdout",
          "text": [
            "1/1 [==============================] - 0s 19ms/step\n"
          ]
        },
        {
          "output_type": "stream",
          "name": "stderr",
          "text": [
            "\r 67%|██████▋   | 44/66 [01:12<00:14,  1.56it/s]"
          ]
        },
        {
          "output_type": "stream",
          "name": "stdout",
          "text": [
            "1/1 [==============================] - 0s 18ms/step\n"
          ]
        },
        {
          "output_type": "stream",
          "name": "stderr",
          "text": [
            "\r 68%|██████▊   | 45/66 [01:13<00:13,  1.58it/s]"
          ]
        },
        {
          "output_type": "stream",
          "name": "stdout",
          "text": [
            "1/1 [==============================] - 0s 19ms/step\n"
          ]
        },
        {
          "output_type": "stream",
          "name": "stderr",
          "text": [
            "\r 70%|██████▉   | 46/66 [01:14<00:12,  1.60it/s]"
          ]
        },
        {
          "output_type": "stream",
          "name": "stdout",
          "text": [
            "1/1 [==============================] - 0s 26ms/step\n"
          ]
        },
        {
          "output_type": "stream",
          "name": "stderr",
          "text": [
            "\r 71%|███████   | 47/66 [01:14<00:12,  1.57it/s]"
          ]
        },
        {
          "output_type": "stream",
          "name": "stdout",
          "text": [
            "1/1 [==============================] - 0s 24ms/step\n"
          ]
        },
        {
          "output_type": "stream",
          "name": "stderr",
          "text": [
            "\r 73%|███████▎  | 48/66 [01:15<00:11,  1.59it/s]"
          ]
        },
        {
          "output_type": "stream",
          "name": "stdout",
          "text": [
            "1/1 [==============================] - 0s 18ms/step\n"
          ]
        },
        {
          "output_type": "stream",
          "name": "stderr",
          "text": [
            "\r 74%|███████▍  | 49/66 [01:15<00:10,  1.60it/s]"
          ]
        },
        {
          "output_type": "stream",
          "name": "stdout",
          "text": [
            "1/1 [==============================] - 0s 19ms/step\n"
          ]
        },
        {
          "output_type": "stream",
          "name": "stderr",
          "text": [
            "\r 76%|███████▌  | 50/66 [01:16<00:10,  1.58it/s]"
          ]
        },
        {
          "output_type": "stream",
          "name": "stdout",
          "text": [
            "1/1 [==============================] - 0s 19ms/step\n"
          ]
        },
        {
          "output_type": "stream",
          "name": "stderr",
          "text": [
            "\r 77%|███████▋  | 51/66 [01:17<00:09,  1.58it/s]"
          ]
        },
        {
          "output_type": "stream",
          "name": "stdout",
          "text": [
            "1/1 [==============================] - 0s 21ms/step\n"
          ]
        },
        {
          "output_type": "stream",
          "name": "stderr",
          "text": [
            "\r 79%|███████▉  | 52/66 [01:17<00:08,  1.56it/s]"
          ]
        },
        {
          "output_type": "stream",
          "name": "stdout",
          "text": [
            "1/1 [==============================] - 0s 19ms/step\n"
          ]
        },
        {
          "output_type": "stream",
          "name": "stderr",
          "text": [
            "\r 80%|████████  | 53/66 [01:18<00:08,  1.58it/s]"
          ]
        },
        {
          "output_type": "stream",
          "name": "stdout",
          "text": [
            "1/1 [==============================] - 0s 18ms/step\n"
          ]
        },
        {
          "output_type": "stream",
          "name": "stderr",
          "text": [
            "\r 82%|████████▏ | 54/66 [01:19<00:07,  1.57it/s]"
          ]
        },
        {
          "output_type": "stream",
          "name": "stdout",
          "text": [
            "1/1 [==============================] - 0s 18ms/step\n"
          ]
        },
        {
          "output_type": "stream",
          "name": "stderr",
          "text": [
            "\r 83%|████████▎ | 55/66 [01:19<00:07,  1.56it/s]"
          ]
        },
        {
          "output_type": "stream",
          "name": "stdout",
          "text": [
            "1/1 [==============================] - 0s 19ms/step\n"
          ]
        },
        {
          "output_type": "stream",
          "name": "stderr",
          "text": [
            "\r 85%|████████▍ | 56/66 [01:20<00:06,  1.57it/s]"
          ]
        },
        {
          "output_type": "stream",
          "name": "stdout",
          "text": [
            "1/1 [==============================] - 0s 19ms/step\n"
          ]
        },
        {
          "output_type": "stream",
          "name": "stderr",
          "text": [
            "\r 86%|████████▋ | 57/66 [01:21<00:05,  1.59it/s]"
          ]
        },
        {
          "output_type": "stream",
          "name": "stdout",
          "text": [
            "1/1 [==============================] - 0s 28ms/step\n"
          ]
        },
        {
          "output_type": "stream",
          "name": "stderr",
          "text": [
            "\r 88%|████████▊ | 58/66 [01:21<00:05,  1.54it/s]"
          ]
        },
        {
          "output_type": "stream",
          "name": "stdout",
          "text": [
            "1/1 [==============================] - 0s 35ms/step\n"
          ]
        },
        {
          "output_type": "stream",
          "name": "stderr",
          "text": [
            "\r 89%|████████▉ | 59/66 [01:22<00:04,  1.47it/s]"
          ]
        },
        {
          "output_type": "stream",
          "name": "stdout",
          "text": [
            "1/1 [==============================] - 0s 28ms/step\n"
          ]
        },
        {
          "output_type": "stream",
          "name": "stderr",
          "text": [
            "\r 91%|█████████ | 60/66 [01:23<00:04,  1.44it/s]"
          ]
        },
        {
          "output_type": "stream",
          "name": "stdout",
          "text": [
            "1/1 [==============================] - 0s 20ms/step\n"
          ]
        },
        {
          "output_type": "stream",
          "name": "stderr",
          "text": [
            "\r 92%|█████████▏| 61/66 [01:23<00:03,  1.49it/s]"
          ]
        },
        {
          "output_type": "stream",
          "name": "stdout",
          "text": [
            "1/1 [==============================] - 0s 18ms/step\n"
          ]
        },
        {
          "output_type": "stream",
          "name": "stderr",
          "text": [
            "\r 94%|█████████▍| 62/66 [01:24<00:02,  1.53it/s]"
          ]
        },
        {
          "output_type": "stream",
          "name": "stdout",
          "text": [
            "1/1 [==============================] - 0s 18ms/step\n"
          ]
        },
        {
          "output_type": "stream",
          "name": "stderr",
          "text": [
            "\r 95%|█████████▌| 63/66 [01:25<00:02,  1.48it/s]"
          ]
        },
        {
          "output_type": "stream",
          "name": "stdout",
          "text": [
            "1/1 [==============================] - 0s 18ms/step\n"
          ]
        },
        {
          "output_type": "stream",
          "name": "stderr",
          "text": [
            "\r 97%|█████████▋| 64/66 [01:25<00:01,  1.52it/s]"
          ]
        },
        {
          "output_type": "stream",
          "name": "stdout",
          "text": [
            "1/1 [==============================] - 0s 20ms/step\n"
          ]
        },
        {
          "output_type": "stream",
          "name": "stderr",
          "text": [
            "\r 98%|█████████▊| 65/66 [01:26<00:00,  1.55it/s]"
          ]
        },
        {
          "output_type": "stream",
          "name": "stdout",
          "text": [
            "1/1 [==============================] - 0s 18ms/step\n"
          ]
        },
        {
          "output_type": "stream",
          "name": "stderr",
          "text": [
            "100%|██████████| 66/66 [01:26<00:00,  1.32s/it]\n"
          ]
        },
        {
          "output_type": "stream",
          "name": "stdout",
          "text": [
            "epoch: 1 g_loss: 89.35837809244792 d_loss: [3.69466938 0.88920455]\n"
          ]
        },
        {
          "output_type": "stream",
          "name": "stderr",
          "text": [
            "\r  0%|          | 0/66 [00:00<?, ?it/s]"
          ]
        },
        {
          "output_type": "stream",
          "name": "stdout",
          "text": [
            "1/1 [==============================] - 0s 20ms/step\n"
          ]
        },
        {
          "output_type": "stream",
          "name": "stderr",
          "text": [
            "\r  2%|▏         | 1/66 [00:00<00:42,  1.54it/s]"
          ]
        },
        {
          "output_type": "stream",
          "name": "stdout",
          "text": [
            "1/1 [==============================] - 0s 18ms/step\n"
          ]
        },
        {
          "output_type": "stream",
          "name": "stderr",
          "text": [
            "\r  3%|▎         | 2/66 [00:01<00:42,  1.49it/s]"
          ]
        },
        {
          "output_type": "stream",
          "name": "stdout",
          "text": [
            "1/1 [==============================] - 0s 17ms/step\n"
          ]
        },
        {
          "output_type": "stream",
          "name": "stderr",
          "text": [
            "\r  5%|▍         | 3/66 [00:01<00:40,  1.55it/s]"
          ]
        },
        {
          "output_type": "stream",
          "name": "stdout",
          "text": [
            "1/1 [==============================] - 0s 18ms/step\n"
          ]
        },
        {
          "output_type": "stream",
          "name": "stderr",
          "text": [
            "\r  6%|▌         | 4/66 [00:02<00:38,  1.60it/s]"
          ]
        },
        {
          "output_type": "stream",
          "name": "stdout",
          "text": [
            "1/1 [==============================] - 0s 18ms/step\n"
          ]
        },
        {
          "output_type": "stream",
          "name": "stderr",
          "text": [
            "\r  8%|▊         | 5/66 [00:03<00:37,  1.61it/s]"
          ]
        },
        {
          "output_type": "stream",
          "name": "stdout",
          "text": [
            "1/1 [==============================] - 0s 18ms/step\n"
          ]
        },
        {
          "output_type": "stream",
          "name": "stderr",
          "text": [
            "\r  9%|▉         | 6/66 [00:03<00:37,  1.62it/s]"
          ]
        },
        {
          "output_type": "stream",
          "name": "stdout",
          "text": [
            "1/1 [==============================] - 0s 20ms/step\n"
          ]
        },
        {
          "output_type": "stream",
          "name": "stderr",
          "text": [
            "\r 11%|█         | 7/66 [00:04<00:36,  1.63it/s]"
          ]
        },
        {
          "output_type": "stream",
          "name": "stdout",
          "text": [
            "1/1 [==============================] - 0s 18ms/step\n"
          ]
        },
        {
          "output_type": "stream",
          "name": "stderr",
          "text": [
            "\r 12%|█▏        | 8/66 [00:04<00:35,  1.62it/s]"
          ]
        },
        {
          "output_type": "stream",
          "name": "stdout",
          "text": [
            "1/1 [==============================] - 0s 20ms/step\n"
          ]
        },
        {
          "output_type": "stream",
          "name": "stderr",
          "text": [
            "\r 14%|█▎        | 9/66 [00:05<00:35,  1.63it/s]"
          ]
        },
        {
          "output_type": "stream",
          "name": "stdout",
          "text": [
            "1/1 [==============================] - 0s 18ms/step\n"
          ]
        },
        {
          "output_type": "stream",
          "name": "stderr",
          "text": [
            "\r 15%|█▌        | 10/66 [00:06<00:35,  1.57it/s]"
          ]
        },
        {
          "output_type": "stream",
          "name": "stdout",
          "text": [
            "1/1 [==============================] - 0s 25ms/step\n"
          ]
        },
        {
          "output_type": "stream",
          "name": "stderr",
          "text": [
            "\r 17%|█▋        | 11/66 [00:07<00:37,  1.47it/s]"
          ]
        },
        {
          "output_type": "stream",
          "name": "stdout",
          "text": [
            "1/1 [==============================] - 0s 32ms/step\n"
          ]
        },
        {
          "output_type": "stream",
          "name": "stderr",
          "text": [
            "\r 18%|█▊        | 12/66 [00:07<00:37,  1.45it/s]"
          ]
        },
        {
          "output_type": "stream",
          "name": "stdout",
          "text": [
            "1/1 [==============================] - 0s 19ms/step\n"
          ]
        },
        {
          "output_type": "stream",
          "name": "stderr",
          "text": [
            "\r 20%|█▉        | 13/66 [00:08<00:35,  1.49it/s]"
          ]
        },
        {
          "output_type": "stream",
          "name": "stdout",
          "text": [
            "1/1 [==============================] - 0s 18ms/step\n"
          ]
        },
        {
          "output_type": "stream",
          "name": "stderr",
          "text": [
            "\r 21%|██        | 14/66 [00:09<00:33,  1.53it/s]"
          ]
        },
        {
          "output_type": "stream",
          "name": "stdout",
          "text": [
            "1/1 [==============================] - 0s 19ms/step\n"
          ]
        },
        {
          "output_type": "stream",
          "name": "stderr",
          "text": [
            "\r 23%|██▎       | 15/66 [00:09<00:33,  1.53it/s]"
          ]
        },
        {
          "output_type": "stream",
          "name": "stdout",
          "text": [
            "1/1 [==============================] - 0s 19ms/step\n"
          ]
        },
        {
          "output_type": "stream",
          "name": "stderr",
          "text": [
            "\r 24%|██▍       | 16/66 [00:10<00:31,  1.56it/s]"
          ]
        },
        {
          "output_type": "stream",
          "name": "stdout",
          "text": [
            "1/1 [==============================] - 0s 28ms/step\n"
          ]
        },
        {
          "output_type": "stream",
          "name": "stderr",
          "text": [
            "\r 26%|██▌       | 17/66 [00:10<00:31,  1.55it/s]"
          ]
        },
        {
          "output_type": "stream",
          "name": "stdout",
          "text": [
            "1/1 [==============================] - 0s 19ms/step\n"
          ]
        },
        {
          "output_type": "stream",
          "name": "stderr",
          "text": [
            "\r 27%|██▋       | 18/66 [00:11<00:31,  1.54it/s]"
          ]
        },
        {
          "output_type": "stream",
          "name": "stdout",
          "text": [
            "1/1 [==============================] - 0s 20ms/step\n"
          ]
        },
        {
          "output_type": "stream",
          "name": "stderr",
          "text": [
            "\r 29%|██▉       | 19/66 [00:12<00:29,  1.57it/s]"
          ]
        },
        {
          "output_type": "stream",
          "name": "stdout",
          "text": [
            "1/1 [==============================] - 0s 18ms/step\n"
          ]
        },
        {
          "output_type": "stream",
          "name": "stderr",
          "text": [
            "\r 30%|███       | 20/66 [00:12<00:28,  1.59it/s]"
          ]
        },
        {
          "output_type": "stream",
          "name": "stdout",
          "text": [
            "1/1 [==============================] - 0s 18ms/step\n"
          ]
        },
        {
          "output_type": "stream",
          "name": "stderr",
          "text": [
            "\r 32%|███▏      | 21/66 [00:13<00:28,  1.60it/s]"
          ]
        },
        {
          "output_type": "stream",
          "name": "stdout",
          "text": [
            "1/1 [==============================] - 0s 18ms/step\n"
          ]
        },
        {
          "output_type": "stream",
          "name": "stderr",
          "text": [
            "\r 33%|███▎      | 22/66 [00:14<00:27,  1.61it/s]"
          ]
        },
        {
          "output_type": "stream",
          "name": "stdout",
          "text": [
            "1/1 [==============================] - 0s 18ms/step\n"
          ]
        },
        {
          "output_type": "stream",
          "name": "stderr",
          "text": [
            "\r 35%|███▍      | 23/66 [00:14<00:26,  1.61it/s]"
          ]
        },
        {
          "output_type": "stream",
          "name": "stdout",
          "text": [
            "1/1 [==============================] - 0s 19ms/step\n"
          ]
        },
        {
          "output_type": "stream",
          "name": "stderr",
          "text": [
            "\r 36%|███▋      | 24/66 [00:15<00:25,  1.62it/s]"
          ]
        },
        {
          "output_type": "stream",
          "name": "stdout",
          "text": [
            "1/1 [==============================] - 0s 18ms/step\n"
          ]
        },
        {
          "output_type": "stream",
          "name": "stderr",
          "text": [
            "\r 38%|███▊      | 25/66 [00:15<00:25,  1.60it/s]"
          ]
        },
        {
          "output_type": "stream",
          "name": "stdout",
          "text": [
            "1/1 [==============================] - 0s 18ms/step\n"
          ]
        },
        {
          "output_type": "stream",
          "name": "stderr",
          "text": [
            "\r 39%|███▉      | 26/66 [00:16<00:24,  1.61it/s]"
          ]
        },
        {
          "output_type": "stream",
          "name": "stdout",
          "text": [
            "1/1 [==============================] - 0s 18ms/step\n"
          ]
        },
        {
          "output_type": "stream",
          "name": "stderr",
          "text": [
            "\r 41%|████      | 27/66 [00:17<00:24,  1.61it/s]"
          ]
        },
        {
          "output_type": "stream",
          "name": "stdout",
          "text": [
            "1/1 [==============================] - 0s 18ms/step\n"
          ]
        },
        {
          "output_type": "stream",
          "name": "stderr",
          "text": [
            "\r 42%|████▏     | 28/66 [00:17<00:23,  1.61it/s]"
          ]
        },
        {
          "output_type": "stream",
          "name": "stdout",
          "text": [
            "1/1 [==============================] - 0s 27ms/step\n"
          ]
        },
        {
          "output_type": "stream",
          "name": "stderr",
          "text": [
            "\r 44%|████▍     | 29/66 [00:18<00:23,  1.58it/s]"
          ]
        },
        {
          "output_type": "stream",
          "name": "stdout",
          "text": [
            "1/1 [==============================] - 0s 30ms/step\n"
          ]
        },
        {
          "output_type": "stream",
          "name": "stderr",
          "text": [
            "\r 45%|████▌     | 30/66 [00:19<00:24,  1.50it/s]"
          ]
        },
        {
          "output_type": "stream",
          "name": "stdout",
          "text": [
            "1/1 [==============================] - 0s 29ms/step\n"
          ]
        },
        {
          "output_type": "stream",
          "name": "stderr",
          "text": [
            "\r 47%|████▋     | 31/66 [00:19<00:23,  1.47it/s]"
          ]
        },
        {
          "output_type": "stream",
          "name": "stdout",
          "text": [
            "1/1 [==============================] - 0s 19ms/step\n"
          ]
        },
        {
          "output_type": "stream",
          "name": "stderr",
          "text": [
            "\r 48%|████▊     | 32/66 [00:20<00:22,  1.49it/s]"
          ]
        },
        {
          "output_type": "stream",
          "name": "stdout",
          "text": [
            "1/1 [==============================] - 0s 22ms/step\n"
          ]
        },
        {
          "output_type": "stream",
          "name": "stderr",
          "text": [
            "\r 50%|█████     | 33/66 [00:21<00:21,  1.52it/s]"
          ]
        },
        {
          "output_type": "stream",
          "name": "stdout",
          "text": [
            "1/1 [==============================] - 0s 19ms/step\n"
          ]
        },
        {
          "output_type": "stream",
          "name": "stderr",
          "text": [
            "\r 52%|█████▏    | 34/66 [00:21<00:21,  1.52it/s]"
          ]
        },
        {
          "output_type": "stream",
          "name": "stdout",
          "text": [
            "1/1 [==============================] - 0s 18ms/step\n"
          ]
        },
        {
          "output_type": "stream",
          "name": "stderr",
          "text": [
            "\r 53%|█████▎    | 35/66 [00:22<00:20,  1.55it/s]"
          ]
        },
        {
          "output_type": "stream",
          "name": "stdout",
          "text": [
            "1/1 [==============================] - 0s 20ms/step\n"
          ]
        },
        {
          "output_type": "stream",
          "name": "stderr",
          "text": [
            "\r 55%|█████▍    | 36/66 [00:23<00:19,  1.54it/s]"
          ]
        },
        {
          "output_type": "stream",
          "name": "stdout",
          "text": [
            "1/1 [==============================] - 0s 19ms/step\n"
          ]
        },
        {
          "output_type": "stream",
          "name": "stderr",
          "text": [
            "\r 56%|█████▌    | 37/66 [00:23<00:18,  1.56it/s]"
          ]
        },
        {
          "output_type": "stream",
          "name": "stdout",
          "text": [
            "1/1 [==============================] - 0s 18ms/step\n"
          ]
        },
        {
          "output_type": "stream",
          "name": "stderr",
          "text": [
            "\r 58%|█████▊    | 38/66 [00:24<00:17,  1.58it/s]"
          ]
        },
        {
          "output_type": "stream",
          "name": "stdout",
          "text": [
            "1/1 [==============================] - 0s 19ms/step\n"
          ]
        },
        {
          "output_type": "stream",
          "name": "stderr",
          "text": [
            "\r 59%|█████▉    | 39/66 [00:25<00:17,  1.55it/s]"
          ]
        },
        {
          "output_type": "stream",
          "name": "stdout",
          "text": [
            "1/1 [==============================] - 0s 18ms/step\n"
          ]
        },
        {
          "output_type": "stream",
          "name": "stderr",
          "text": [
            "\r 61%|██████    | 40/66 [00:25<00:16,  1.54it/s]"
          ]
        },
        {
          "output_type": "stream",
          "name": "stdout",
          "text": [
            "1/1 [==============================] - 0s 23ms/step\n"
          ]
        },
        {
          "output_type": "stream",
          "name": "stderr",
          "text": [
            "\r 62%|██████▏   | 41/66 [00:26<00:16,  1.52it/s]"
          ]
        },
        {
          "output_type": "stream",
          "name": "stdout",
          "text": [
            "1/1 [==============================] - 0s 22ms/step\n"
          ]
        },
        {
          "output_type": "stream",
          "name": "stderr",
          "text": [
            "\r 64%|██████▎   | 42/66 [00:27<00:16,  1.50it/s]"
          ]
        },
        {
          "output_type": "stream",
          "name": "stdout",
          "text": [
            "1/1 [==============================] - 0s 19ms/step\n"
          ]
        },
        {
          "output_type": "stream",
          "name": "stderr",
          "text": [
            "\r 65%|██████▌   | 43/66 [00:27<00:15,  1.53it/s]"
          ]
        },
        {
          "output_type": "stream",
          "name": "stdout",
          "text": [
            "1/1 [==============================] - 0s 19ms/step\n"
          ]
        },
        {
          "output_type": "stream",
          "name": "stderr",
          "text": [
            "\r 67%|██████▋   | 44/66 [00:28<00:14,  1.55it/s]"
          ]
        },
        {
          "output_type": "stream",
          "name": "stdout",
          "text": [
            "1/1 [==============================] - 0s 20ms/step\n"
          ]
        },
        {
          "output_type": "stream",
          "name": "stderr",
          "text": [
            "\r 68%|██████▊   | 45/66 [00:28<00:13,  1.56it/s]"
          ]
        },
        {
          "output_type": "stream",
          "name": "stdout",
          "text": [
            "1/1 [==============================] - 0s 18ms/step\n"
          ]
        },
        {
          "output_type": "stream",
          "name": "stderr",
          "text": [
            "\r 70%|██████▉   | 46/66 [00:29<00:12,  1.55it/s]"
          ]
        },
        {
          "output_type": "stream",
          "name": "stdout",
          "text": [
            "1/1 [==============================] - 0s 18ms/step\n"
          ]
        },
        {
          "output_type": "stream",
          "name": "stderr",
          "text": [
            "\r 71%|███████   | 47/66 [00:30<00:14,  1.34it/s]"
          ]
        },
        {
          "output_type": "stream",
          "name": "stdout",
          "text": [
            "1/1 [==============================] - 0s 25ms/step\n"
          ]
        },
        {
          "output_type": "stream",
          "name": "stderr",
          "text": [
            "\r 73%|███████▎  | 48/66 [00:31<00:15,  1.17it/s]"
          ]
        },
        {
          "output_type": "stream",
          "name": "stdout",
          "text": [
            "1/1 [==============================] - 0s 18ms/step\n"
          ]
        },
        {
          "output_type": "stream",
          "name": "stderr",
          "text": [
            "\r 74%|███████▍  | 49/66 [00:32<00:13,  1.27it/s]"
          ]
        },
        {
          "output_type": "stream",
          "name": "stdout",
          "text": [
            "1/1 [==============================] - 0s 18ms/step\n"
          ]
        },
        {
          "output_type": "stream",
          "name": "stderr",
          "text": [
            "\r 76%|███████▌  | 50/66 [00:32<00:12,  1.32it/s]"
          ]
        },
        {
          "output_type": "stream",
          "name": "stdout",
          "text": [
            "1/1 [==============================] - 0s 18ms/step\n"
          ]
        },
        {
          "output_type": "stream",
          "name": "stderr",
          "text": [
            "\r 77%|███████▋  | 51/66 [00:33<00:10,  1.37it/s]"
          ]
        },
        {
          "output_type": "stream",
          "name": "stdout",
          "text": [
            "1/1 [==============================] - 0s 18ms/step\n"
          ]
        },
        {
          "output_type": "stream",
          "name": "stderr",
          "text": [
            "\r 79%|███████▉  | 52/66 [00:34<00:09,  1.42it/s]"
          ]
        },
        {
          "output_type": "stream",
          "name": "stdout",
          "text": [
            "1/1 [==============================] - 0s 20ms/step\n"
          ]
        },
        {
          "output_type": "stream",
          "name": "stderr",
          "text": [
            "\r 80%|████████  | 53/66 [00:34<00:08,  1.47it/s]"
          ]
        },
        {
          "output_type": "stream",
          "name": "stdout",
          "text": [
            "1/1 [==============================] - 0s 19ms/step\n"
          ]
        },
        {
          "output_type": "stream",
          "name": "stderr",
          "text": [
            "\r 82%|████████▏ | 54/66 [00:35<00:08,  1.48it/s]"
          ]
        },
        {
          "output_type": "stream",
          "name": "stdout",
          "text": [
            "1/1 [==============================] - 0s 17ms/step\n"
          ]
        },
        {
          "output_type": "stream",
          "name": "stderr",
          "text": [
            "\r 83%|████████▎ | 55/66 [00:36<00:07,  1.52it/s]"
          ]
        },
        {
          "output_type": "stream",
          "name": "stdout",
          "text": [
            "1/1 [==============================] - 0s 18ms/step\n"
          ]
        },
        {
          "output_type": "stream",
          "name": "stderr",
          "text": [
            "\r 85%|████████▍ | 56/66 [00:36<00:06,  1.53it/s]"
          ]
        },
        {
          "output_type": "stream",
          "name": "stdout",
          "text": [
            "1/1 [==============================] - 0s 18ms/step\n"
          ]
        },
        {
          "output_type": "stream",
          "name": "stderr",
          "text": [
            "\r 86%|████████▋ | 57/66 [00:37<00:05,  1.54it/s]"
          ]
        },
        {
          "output_type": "stream",
          "name": "stdout",
          "text": [
            "1/1 [==============================] - 0s 18ms/step\n"
          ]
        },
        {
          "output_type": "stream",
          "name": "stderr",
          "text": [
            "\r 88%|████████▊ | 58/66 [00:38<00:05,  1.52it/s]"
          ]
        },
        {
          "output_type": "stream",
          "name": "stdout",
          "text": [
            "1/1 [==============================] - 0s 24ms/step\n"
          ]
        },
        {
          "output_type": "stream",
          "name": "stderr",
          "text": [
            "\r 89%|████████▉ | 59/66 [00:38<00:04,  1.52it/s]"
          ]
        },
        {
          "output_type": "stream",
          "name": "stdout",
          "text": [
            "1/1 [==============================] - 0s 18ms/step\n"
          ]
        },
        {
          "output_type": "stream",
          "name": "stderr",
          "text": [
            "\r 91%|█████████ | 60/66 [00:39<00:03,  1.54it/s]"
          ]
        },
        {
          "output_type": "stream",
          "name": "stdout",
          "text": [
            "1/1 [==============================] - 0s 19ms/step\n"
          ]
        },
        {
          "output_type": "stream",
          "name": "stderr",
          "text": [
            "\r 92%|█████████▏| 61/66 [00:40<00:03,  1.53it/s]"
          ]
        },
        {
          "output_type": "stream",
          "name": "stdout",
          "text": [
            "1/1 [==============================] - 0s 18ms/step\n"
          ]
        },
        {
          "output_type": "stream",
          "name": "stderr",
          "text": [
            "\r 94%|█████████▍| 62/66 [00:40<00:02,  1.55it/s]"
          ]
        },
        {
          "output_type": "stream",
          "name": "stdout",
          "text": [
            "1/1 [==============================] - 0s 18ms/step\n"
          ]
        },
        {
          "output_type": "stream",
          "name": "stderr",
          "text": [
            "\r 95%|█████████▌| 63/66 [00:41<00:01,  1.55it/s]"
          ]
        },
        {
          "output_type": "stream",
          "name": "stdout",
          "text": [
            "1/1 [==============================] - 0s 32ms/step\n"
          ]
        },
        {
          "output_type": "stream",
          "name": "stderr",
          "text": [
            "\r 97%|█████████▋| 64/66 [00:42<00:01,  1.50it/s]"
          ]
        },
        {
          "output_type": "stream",
          "name": "stdout",
          "text": [
            "1/1 [==============================] - 0s 25ms/step\n"
          ]
        },
        {
          "output_type": "stream",
          "name": "stderr",
          "text": [
            "\r 98%|█████████▊| 65/66 [00:43<00:00,  1.25it/s]"
          ]
        },
        {
          "output_type": "stream",
          "name": "stdout",
          "text": [
            "1/1 [==============================] - 0s 18ms/step\n"
          ]
        },
        {
          "output_type": "stream",
          "name": "stderr",
          "text": [
            "100%|██████████| 66/66 [00:43<00:00,  1.51it/s]\n"
          ]
        },
        {
          "output_type": "stream",
          "name": "stdout",
          "text": [
            "epoch: 2 g_loss: 32.00109132130941 d_loss: [0.31645289 0.97301136]\n"
          ]
        },
        {
          "output_type": "stream",
          "name": "stderr",
          "text": [
            "\r  0%|          | 0/66 [00:00<?, ?it/s]"
          ]
        },
        {
          "output_type": "stream",
          "name": "stdout",
          "text": [
            "1/1 [==============================] - 0s 18ms/step\n"
          ]
        },
        {
          "output_type": "stream",
          "name": "stderr",
          "text": [
            "\r  2%|▏         | 1/66 [00:00<00:43,  1.51it/s]"
          ]
        },
        {
          "output_type": "stream",
          "name": "stdout",
          "text": [
            "1/1 [==============================] - 0s 19ms/step\n"
          ]
        },
        {
          "output_type": "stream",
          "name": "stderr",
          "text": [
            "\r  3%|▎         | 2/66 [00:01<00:41,  1.55it/s]"
          ]
        },
        {
          "output_type": "stream",
          "name": "stdout",
          "text": [
            "1/1 [==============================] - 0s 18ms/step\n"
          ]
        },
        {
          "output_type": "stream",
          "name": "stderr",
          "text": [
            "\r  5%|▍         | 3/66 [00:01<00:40,  1.54it/s]"
          ]
        },
        {
          "output_type": "stream",
          "name": "stdout",
          "text": [
            "1/1 [==============================] - 0s 19ms/step\n"
          ]
        },
        {
          "output_type": "stream",
          "name": "stderr",
          "text": [
            "\r  6%|▌         | 4/66 [00:02<00:39,  1.56it/s]"
          ]
        },
        {
          "output_type": "stream",
          "name": "stdout",
          "text": [
            "1/1 [==============================] - 0s 19ms/step\n"
          ]
        },
        {
          "output_type": "stream",
          "name": "stderr",
          "text": [
            "\r  8%|▊         | 5/66 [00:03<00:39,  1.55it/s]"
          ]
        },
        {
          "output_type": "stream",
          "name": "stdout",
          "text": [
            "1/1 [==============================] - 0s 19ms/step\n"
          ]
        },
        {
          "output_type": "stream",
          "name": "stderr",
          "text": [
            "\r  9%|▉         | 6/66 [00:03<00:38,  1.57it/s]"
          ]
        },
        {
          "output_type": "stream",
          "name": "stdout",
          "text": [
            "1/1 [==============================] - 0s 18ms/step\n"
          ]
        },
        {
          "output_type": "stream",
          "name": "stderr",
          "text": [
            "\r 11%|█         | 7/66 [00:04<00:38,  1.54it/s]"
          ]
        },
        {
          "output_type": "stream",
          "name": "stdout",
          "text": [
            "1/1 [==============================] - 0s 18ms/step\n"
          ]
        },
        {
          "output_type": "stream",
          "name": "stderr",
          "text": [
            "\r 12%|█▏        | 8/66 [00:05<00:38,  1.51it/s]"
          ]
        },
        {
          "output_type": "stream",
          "name": "stdout",
          "text": [
            "1/1 [==============================] - 0s 18ms/step\n"
          ]
        },
        {
          "output_type": "stream",
          "name": "stderr",
          "text": [
            "\r 14%|█▎        | 9/66 [00:05<00:38,  1.49it/s]"
          ]
        },
        {
          "output_type": "stream",
          "name": "stdout",
          "text": [
            "1/1 [==============================] - 0s 18ms/step\n"
          ]
        },
        {
          "output_type": "stream",
          "name": "stderr",
          "text": [
            "\r 15%|█▌        | 10/66 [00:06<00:36,  1.52it/s]"
          ]
        },
        {
          "output_type": "stream",
          "name": "stdout",
          "text": [
            "1/1 [==============================] - 0s 19ms/step\n"
          ]
        },
        {
          "output_type": "stream",
          "name": "stderr",
          "text": [
            "\r 17%|█▋        | 11/66 [00:07<00:35,  1.53it/s]"
          ]
        },
        {
          "output_type": "stream",
          "name": "stdout",
          "text": [
            "1/1 [==============================] - 0s 20ms/step\n"
          ]
        },
        {
          "output_type": "stream",
          "name": "stderr",
          "text": [
            "\r 18%|█▊        | 12/66 [00:07<00:35,  1.52it/s]"
          ]
        },
        {
          "output_type": "stream",
          "name": "stdout",
          "text": [
            "1/1 [==============================] - 0s 18ms/step\n"
          ]
        },
        {
          "output_type": "stream",
          "name": "stderr",
          "text": [
            "\r 20%|█▉        | 13/66 [00:08<00:34,  1.53it/s]"
          ]
        },
        {
          "output_type": "stream",
          "name": "stdout",
          "text": [
            "1/1 [==============================] - 0s 18ms/step\n"
          ]
        },
        {
          "output_type": "stream",
          "name": "stderr",
          "text": [
            "\r 21%|██        | 14/66 [00:09<00:33,  1.55it/s]"
          ]
        },
        {
          "output_type": "stream",
          "name": "stdout",
          "text": [
            "1/1 [==============================] - 0s 28ms/step\n"
          ]
        },
        {
          "output_type": "stream",
          "name": "stderr",
          "text": [
            "\r 23%|██▎       | 15/66 [00:09<00:33,  1.51it/s]"
          ]
        },
        {
          "output_type": "stream",
          "name": "stdout",
          "text": [
            "1/1 [==============================] - 0s 25ms/step\n"
          ]
        },
        {
          "output_type": "stream",
          "name": "stderr",
          "text": [
            "\r 24%|██▍       | 16/66 [00:10<00:33,  1.48it/s]"
          ]
        },
        {
          "output_type": "stream",
          "name": "stdout",
          "text": [
            "1/1 [==============================] - 0s 27ms/step\n"
          ]
        },
        {
          "output_type": "stream",
          "name": "stderr",
          "text": [
            "\r 26%|██▌       | 17/66 [00:11<00:33,  1.45it/s]"
          ]
        },
        {
          "output_type": "stream",
          "name": "stdout",
          "text": [
            "1/1 [==============================] - 0s 18ms/step\n"
          ]
        },
        {
          "output_type": "stream",
          "name": "stderr",
          "text": [
            "\r 27%|██▋       | 18/66 [00:11<00:32,  1.48it/s]"
          ]
        },
        {
          "output_type": "stream",
          "name": "stdout",
          "text": [
            "1/1 [==============================] - 0s 18ms/step\n"
          ]
        },
        {
          "output_type": "stream",
          "name": "stderr",
          "text": [
            "\r 29%|██▉       | 19/66 [00:12<00:31,  1.50it/s]"
          ]
        },
        {
          "output_type": "stream",
          "name": "stdout",
          "text": [
            "1/1 [==============================] - 0s 34ms/step\n"
          ]
        },
        {
          "output_type": "stream",
          "name": "stderr",
          "text": [
            "\r 30%|███       | 20/66 [00:13<00:30,  1.49it/s]"
          ]
        },
        {
          "output_type": "stream",
          "name": "stdout",
          "text": [
            "1/1 [==============================] - 0s 19ms/step\n"
          ]
        },
        {
          "output_type": "stream",
          "name": "stderr",
          "text": [
            "\r 32%|███▏      | 21/66 [00:13<00:29,  1.50it/s]"
          ]
        },
        {
          "output_type": "stream",
          "name": "stdout",
          "text": [
            "1/1 [==============================] - 0s 18ms/step\n"
          ]
        },
        {
          "output_type": "stream",
          "name": "stderr",
          "text": [
            "\r 33%|███▎      | 22/66 [00:14<00:29,  1.51it/s]"
          ]
        },
        {
          "output_type": "stream",
          "name": "stdout",
          "text": [
            "1/1 [==============================] - 0s 18ms/step\n"
          ]
        },
        {
          "output_type": "stream",
          "name": "stderr",
          "text": [
            "\r 35%|███▍      | 23/66 [00:15<00:27,  1.55it/s]"
          ]
        },
        {
          "output_type": "stream",
          "name": "stdout",
          "text": [
            "1/1 [==============================] - 0s 18ms/step\n"
          ]
        },
        {
          "output_type": "stream",
          "name": "stderr",
          "text": [
            "\r 36%|███▋      | 24/66 [00:15<00:26,  1.57it/s]"
          ]
        },
        {
          "output_type": "stream",
          "name": "stdout",
          "text": [
            "1/1 [==============================] - 0s 18ms/step\n"
          ]
        },
        {
          "output_type": "stream",
          "name": "stderr",
          "text": [
            "\r 38%|███▊      | 25/66 [00:16<00:25,  1.59it/s]"
          ]
        },
        {
          "output_type": "stream",
          "name": "stdout",
          "text": [
            "1/1 [==============================] - 0s 18ms/step\n"
          ]
        },
        {
          "output_type": "stream",
          "name": "stderr",
          "text": [
            "\r 39%|███▉      | 26/66 [00:16<00:25,  1.60it/s]"
          ]
        },
        {
          "output_type": "stream",
          "name": "stdout",
          "text": [
            "1/1 [==============================] - 0s 18ms/step\n"
          ]
        },
        {
          "output_type": "stream",
          "name": "stderr",
          "text": [
            "\r 41%|████      | 27/66 [00:17<00:24,  1.60it/s]"
          ]
        },
        {
          "output_type": "stream",
          "name": "stdout",
          "text": [
            "1/1 [==============================] - 0s 18ms/step\n"
          ]
        },
        {
          "output_type": "stream",
          "name": "stderr",
          "text": [
            "\r 42%|████▏     | 28/66 [00:18<00:23,  1.59it/s]"
          ]
        },
        {
          "output_type": "stream",
          "name": "stdout",
          "text": [
            "1/1 [==============================] - 0s 19ms/step\n"
          ]
        },
        {
          "output_type": "stream",
          "name": "stderr",
          "text": [
            "\r 44%|████▍     | 29/66 [00:18<00:23,  1.57it/s]"
          ]
        },
        {
          "output_type": "stream",
          "name": "stdout",
          "text": [
            "1/1 [==============================] - 0s 19ms/step\n"
          ]
        },
        {
          "output_type": "stream",
          "name": "stderr",
          "text": [
            "\r 45%|████▌     | 30/66 [00:19<00:22,  1.59it/s]"
          ]
        },
        {
          "output_type": "stream",
          "name": "stdout",
          "text": [
            "1/1 [==============================] - 0s 17ms/step\n"
          ]
        },
        {
          "output_type": "stream",
          "name": "stderr",
          "text": [
            "\r 47%|████▋     | 31/66 [00:20<00:21,  1.60it/s]"
          ]
        },
        {
          "output_type": "stream",
          "name": "stdout",
          "text": [
            "1/1 [==============================] - 0s 18ms/step\n"
          ]
        },
        {
          "output_type": "stream",
          "name": "stderr",
          "text": [
            "\r 48%|████▊     | 32/66 [00:20<00:21,  1.62it/s]"
          ]
        },
        {
          "output_type": "stream",
          "name": "stdout",
          "text": [
            "1/1 [==============================] - 0s 25ms/step\n"
          ]
        },
        {
          "output_type": "stream",
          "name": "stderr",
          "text": [
            "\r 50%|█████     | 33/66 [00:21<00:20,  1.61it/s]"
          ]
        },
        {
          "output_type": "stream",
          "name": "stdout",
          "text": [
            "1/1 [==============================] - 0s 27ms/step\n"
          ]
        },
        {
          "output_type": "stream",
          "name": "stderr",
          "text": [
            "\r 52%|█████▏    | 34/66 [00:22<00:20,  1.58it/s]"
          ]
        },
        {
          "output_type": "stream",
          "name": "stdout",
          "text": [
            "1/1 [==============================] - 0s 27ms/step\n"
          ]
        },
        {
          "output_type": "stream",
          "name": "stderr",
          "text": [
            "\r 53%|█████▎    | 35/66 [00:22<00:20,  1.49it/s]"
          ]
        },
        {
          "output_type": "stream",
          "name": "stdout",
          "text": [
            "1/1 [==============================] - 0s 21ms/step\n"
          ]
        },
        {
          "output_type": "stream",
          "name": "stderr",
          "text": [
            "\r 55%|█████▍    | 36/66 [00:23<00:21,  1.43it/s]"
          ]
        },
        {
          "output_type": "stream",
          "name": "stdout",
          "text": [
            "1/1 [==============================] - 0s 18ms/step\n"
          ]
        },
        {
          "output_type": "stream",
          "name": "stderr",
          "text": [
            "\r 56%|█████▌    | 37/66 [00:24<00:19,  1.49it/s]"
          ]
        },
        {
          "output_type": "stream",
          "name": "stdout",
          "text": [
            "1/1 [==============================] - 0s 19ms/step\n"
          ]
        },
        {
          "output_type": "stream",
          "name": "stderr",
          "text": [
            "\r 58%|█████▊    | 38/66 [00:24<00:18,  1.53it/s]"
          ]
        },
        {
          "output_type": "stream",
          "name": "stdout",
          "text": [
            "1/1 [==============================] - 0s 18ms/step\n"
          ]
        },
        {
          "output_type": "stream",
          "name": "stderr",
          "text": [
            "\r 59%|█████▉    | 39/66 [00:25<00:17,  1.56it/s]"
          ]
        },
        {
          "output_type": "stream",
          "name": "stdout",
          "text": [
            "1/1 [==============================] - 0s 18ms/step\n"
          ]
        },
        {
          "output_type": "stream",
          "name": "stderr",
          "text": [
            "\r 61%|██████    | 40/66 [00:25<00:16,  1.59it/s]"
          ]
        },
        {
          "output_type": "stream",
          "name": "stdout",
          "text": [
            "1/1 [==============================] - 0s 18ms/step\n"
          ]
        },
        {
          "output_type": "stream",
          "name": "stderr",
          "text": [
            "\r 62%|██████▏   | 41/66 [00:26<00:15,  1.60it/s]"
          ]
        },
        {
          "output_type": "stream",
          "name": "stdout",
          "text": [
            "1/1 [==============================] - 0s 18ms/step\n"
          ]
        },
        {
          "output_type": "stream",
          "name": "stderr",
          "text": [
            "\r 64%|██████▎   | 42/66 [00:27<00:15,  1.58it/s]"
          ]
        },
        {
          "output_type": "stream",
          "name": "stdout",
          "text": [
            "1/1 [==============================] - 0s 17ms/step\n"
          ]
        },
        {
          "output_type": "stream",
          "name": "stderr",
          "text": [
            "\r 65%|██████▌   | 43/66 [00:27<00:14,  1.60it/s]"
          ]
        },
        {
          "output_type": "stream",
          "name": "stdout",
          "text": [
            "1/1 [==============================] - 0s 18ms/step\n"
          ]
        },
        {
          "output_type": "stream",
          "name": "stderr",
          "text": [
            "\r 67%|██████▋   | 44/66 [00:28<00:13,  1.61it/s]"
          ]
        },
        {
          "output_type": "stream",
          "name": "stdout",
          "text": [
            "1/1 [==============================] - 0s 18ms/step\n"
          ]
        },
        {
          "output_type": "stream",
          "name": "stderr",
          "text": [
            "\r 68%|██████▊   | 45/66 [00:29<00:13,  1.61it/s]"
          ]
        },
        {
          "output_type": "stream",
          "name": "stdout",
          "text": [
            "1/1 [==============================] - 0s 18ms/step\n"
          ]
        },
        {
          "output_type": "stream",
          "name": "stderr",
          "text": [
            "\r 70%|██████▉   | 46/66 [00:29<00:12,  1.63it/s]"
          ]
        },
        {
          "output_type": "stream",
          "name": "stdout",
          "text": [
            "1/1 [==============================] - 0s 18ms/step\n"
          ]
        },
        {
          "output_type": "stream",
          "name": "stderr",
          "text": [
            "\r 71%|███████   | 47/66 [00:30<00:11,  1.63it/s]"
          ]
        },
        {
          "output_type": "stream",
          "name": "stdout",
          "text": [
            "1/1 [==============================] - 0s 18ms/step\n"
          ]
        },
        {
          "output_type": "stream",
          "name": "stderr",
          "text": [
            "\r 73%|███████▎  | 48/66 [00:30<00:11,  1.63it/s]"
          ]
        },
        {
          "output_type": "stream",
          "name": "stdout",
          "text": [
            "1/1 [==============================] - 0s 19ms/step\n"
          ]
        },
        {
          "output_type": "stream",
          "name": "stderr",
          "text": [
            "\r 74%|███████▍  | 49/66 [00:31<00:10,  1.64it/s]"
          ]
        },
        {
          "output_type": "stream",
          "name": "stdout",
          "text": [
            "1/1 [==============================] - 0s 18ms/step\n"
          ]
        },
        {
          "output_type": "stream",
          "name": "stderr",
          "text": [
            "\r 76%|███████▌  | 50/66 [00:32<00:09,  1.64it/s]"
          ]
        },
        {
          "output_type": "stream",
          "name": "stdout",
          "text": [
            "1/1 [==============================] - 0s 18ms/step\n"
          ]
        },
        {
          "output_type": "stream",
          "name": "stderr",
          "text": [
            "\r 77%|███████▋  | 51/66 [00:32<00:09,  1.61it/s]"
          ]
        },
        {
          "output_type": "stream",
          "name": "stdout",
          "text": [
            "1/1 [==============================] - 0s 19ms/step\n"
          ]
        },
        {
          "output_type": "stream",
          "name": "stderr",
          "text": [
            "\r 79%|███████▉  | 52/66 [00:33<00:08,  1.59it/s]"
          ]
        },
        {
          "output_type": "stream",
          "name": "stdout",
          "text": [
            "1/1 [==============================] - 0s 26ms/step\n"
          ]
        },
        {
          "output_type": "stream",
          "name": "stderr",
          "text": [
            "\r 80%|████████  | 53/66 [00:34<00:08,  1.48it/s]"
          ]
        },
        {
          "output_type": "stream",
          "name": "stdout",
          "text": [
            "1/1 [==============================] - 0s 26ms/step\n"
          ]
        },
        {
          "output_type": "stream",
          "name": "stderr",
          "text": [
            "\r 82%|████████▏ | 54/66 [00:34<00:08,  1.46it/s]"
          ]
        },
        {
          "output_type": "stream",
          "name": "stdout",
          "text": [
            "1/1 [==============================] - 0s 20ms/step\n"
          ]
        },
        {
          "output_type": "stream",
          "name": "stderr",
          "text": [
            "\r 83%|████████▎ | 55/66 [00:35<00:07,  1.48it/s]"
          ]
        },
        {
          "output_type": "stream",
          "name": "stdout",
          "text": [
            "1/1 [==============================] - 0s 18ms/step\n"
          ]
        },
        {
          "output_type": "stream",
          "name": "stderr",
          "text": [
            "\r 85%|████████▍ | 56/66 [00:36<00:06,  1.52it/s]"
          ]
        },
        {
          "output_type": "stream",
          "name": "stdout",
          "text": [
            "1/1 [==============================] - 0s 18ms/step\n"
          ]
        },
        {
          "output_type": "stream",
          "name": "stderr",
          "text": [
            "\r 86%|████████▋ | 57/66 [00:36<00:05,  1.55it/s]"
          ]
        },
        {
          "output_type": "stream",
          "name": "stdout",
          "text": [
            "1/1 [==============================] - 0s 20ms/step\n"
          ]
        },
        {
          "output_type": "stream",
          "name": "stderr",
          "text": [
            "\r 88%|████████▊ | 58/66 [00:37<00:05,  1.55it/s]"
          ]
        },
        {
          "output_type": "stream",
          "name": "stdout",
          "text": [
            "1/1 [==============================] - 0s 18ms/step\n"
          ]
        },
        {
          "output_type": "stream",
          "name": "stderr",
          "text": [
            "\r 89%|████████▉ | 59/66 [00:38<00:04,  1.55it/s]"
          ]
        },
        {
          "output_type": "stream",
          "name": "stdout",
          "text": [
            "1/1 [==============================] - 0s 18ms/step\n"
          ]
        },
        {
          "output_type": "stream",
          "name": "stderr",
          "text": [
            "\r 91%|█████████ | 60/66 [00:38<00:03,  1.57it/s]"
          ]
        },
        {
          "output_type": "stream",
          "name": "stdout",
          "text": [
            "1/1 [==============================] - 0s 20ms/step\n"
          ]
        },
        {
          "output_type": "stream",
          "name": "stderr",
          "text": [
            "\r 92%|█████████▏| 61/66 [00:39<00:03,  1.59it/s]"
          ]
        },
        {
          "output_type": "stream",
          "name": "stdout",
          "text": [
            "1/1 [==============================] - 0s 17ms/step\n"
          ]
        },
        {
          "output_type": "stream",
          "name": "stderr",
          "text": [
            "\r 94%|█████████▍| 62/66 [00:39<00:02,  1.55it/s]"
          ]
        },
        {
          "output_type": "stream",
          "name": "stdout",
          "text": [
            "1/1 [==============================] - 0s 18ms/step\n"
          ]
        },
        {
          "output_type": "stream",
          "name": "stderr",
          "text": [
            "\r 95%|█████████▌| 63/66 [00:40<00:02,  1.49it/s]"
          ]
        },
        {
          "output_type": "stream",
          "name": "stdout",
          "text": [
            "1/1 [==============================] - 0s 18ms/step\n"
          ]
        },
        {
          "output_type": "stream",
          "name": "stderr",
          "text": [
            "\r 97%|█████████▋| 64/66 [00:41<00:01,  1.53it/s]"
          ]
        },
        {
          "output_type": "stream",
          "name": "stdout",
          "text": [
            "1/1 [==============================] - 0s 18ms/step\n"
          ]
        },
        {
          "output_type": "stream",
          "name": "stderr",
          "text": [
            "\r 98%|█████████▊| 65/66 [00:41<00:00,  1.57it/s]"
          ]
        },
        {
          "output_type": "stream",
          "name": "stdout",
          "text": [
            "1/1 [==============================] - 0s 18ms/step\n"
          ]
        },
        {
          "output_type": "stream",
          "name": "stderr",
          "text": [
            "100%|██████████| 66/66 [00:42<00:00,  1.55it/s]\n"
          ]
        },
        {
          "output_type": "stream",
          "name": "stdout",
          "text": [
            "epoch: 3 g_loss: 21.508878650087297 d_loss: [0.09628366 0.98910985]\n"
          ]
        },
        {
          "output_type": "stream",
          "name": "stderr",
          "text": [
            "\r  0%|          | 0/66 [00:00<?, ?it/s]"
          ]
        },
        {
          "output_type": "stream",
          "name": "stdout",
          "text": [
            "1/1 [==============================] - 0s 18ms/step\n"
          ]
        },
        {
          "output_type": "stream",
          "name": "stderr",
          "text": [
            "\r  2%|▏         | 1/66 [00:00<00:39,  1.63it/s]"
          ]
        },
        {
          "output_type": "stream",
          "name": "stdout",
          "text": [
            "1/1 [==============================] - 0s 20ms/step\n"
          ]
        },
        {
          "output_type": "stream",
          "name": "stderr",
          "text": [
            "\r  3%|▎         | 2/66 [00:01<00:40,  1.60it/s]"
          ]
        },
        {
          "output_type": "stream",
          "name": "stdout",
          "text": [
            "1/1 [==============================] - 0s 19ms/step\n"
          ]
        },
        {
          "output_type": "stream",
          "name": "stderr",
          "text": [
            "\r  5%|▍         | 3/66 [00:01<00:40,  1.56it/s]"
          ]
        },
        {
          "output_type": "stream",
          "name": "stdout",
          "text": [
            "1/1 [==============================] - 0s 18ms/step\n"
          ]
        },
        {
          "output_type": "stream",
          "name": "stderr",
          "text": [
            "\r  6%|▌         | 4/66 [00:02<00:39,  1.58it/s]"
          ]
        },
        {
          "output_type": "stream",
          "name": "stdout",
          "text": [
            "1/1 [==============================] - 0s 26ms/step\n"
          ]
        },
        {
          "output_type": "stream",
          "name": "stderr",
          "text": [
            "\r  8%|▊         | 5/66 [00:03<00:41,  1.48it/s]"
          ]
        },
        {
          "output_type": "stream",
          "name": "stdout",
          "text": [
            "1/1 [==============================] - 0s 27ms/step\n"
          ]
        },
        {
          "output_type": "stream",
          "name": "stderr",
          "text": [
            "\r  9%|▉         | 6/66 [00:03<00:41,  1.45it/s]"
          ]
        },
        {
          "output_type": "stream",
          "name": "stdout",
          "text": [
            "1/1 [==============================] - 0s 18ms/step\n"
          ]
        },
        {
          "output_type": "stream",
          "name": "stderr",
          "text": [
            "\r 11%|█         | 7/66 [00:04<00:40,  1.44it/s]"
          ]
        },
        {
          "output_type": "stream",
          "name": "stdout",
          "text": [
            "1/1 [==============================] - 0s 18ms/step\n"
          ]
        },
        {
          "output_type": "stream",
          "name": "stderr",
          "text": [
            "\r 12%|█▏        | 8/66 [00:05<00:38,  1.50it/s]"
          ]
        },
        {
          "output_type": "stream",
          "name": "stdout",
          "text": [
            "1/1 [==============================] - 0s 18ms/step\n"
          ]
        },
        {
          "output_type": "stream",
          "name": "stderr",
          "text": [
            "\r 14%|█▎        | 9/66 [00:05<00:37,  1.52it/s]"
          ]
        },
        {
          "output_type": "stream",
          "name": "stdout",
          "text": [
            "1/1 [==============================] - 0s 18ms/step\n"
          ]
        },
        {
          "output_type": "stream",
          "name": "stderr",
          "text": [
            "\r 15%|█▌        | 10/66 [00:06<00:36,  1.52it/s]"
          ]
        },
        {
          "output_type": "stream",
          "name": "stdout",
          "text": [
            "1/1 [==============================] - 0s 17ms/step\n"
          ]
        },
        {
          "output_type": "stream",
          "name": "stderr",
          "text": [
            "\r 17%|█▋        | 11/66 [00:07<00:35,  1.56it/s]"
          ]
        },
        {
          "output_type": "stream",
          "name": "stdout",
          "text": [
            "1/1 [==============================] - 0s 18ms/step\n"
          ]
        },
        {
          "output_type": "stream",
          "name": "stderr",
          "text": [
            "\r 18%|█▊        | 12/66 [00:07<00:34,  1.55it/s]"
          ]
        },
        {
          "output_type": "stream",
          "name": "stdout",
          "text": [
            "1/1 [==============================] - 0s 18ms/step\n"
          ]
        },
        {
          "output_type": "stream",
          "name": "stderr",
          "text": [
            "\r 20%|█▉        | 13/66 [00:08<00:33,  1.57it/s]"
          ]
        },
        {
          "output_type": "stream",
          "name": "stdout",
          "text": [
            "1/1 [==============================] - 0s 18ms/step\n"
          ]
        },
        {
          "output_type": "stream",
          "name": "stderr",
          "text": [
            "\r 21%|██        | 14/66 [00:09<00:33,  1.56it/s]"
          ]
        },
        {
          "output_type": "stream",
          "name": "stdout",
          "text": [
            "1/1 [==============================] - 0s 18ms/step\n"
          ]
        },
        {
          "output_type": "stream",
          "name": "stderr",
          "text": [
            "\r 23%|██▎       | 15/66 [00:09<00:32,  1.57it/s]"
          ]
        },
        {
          "output_type": "stream",
          "name": "stdout",
          "text": [
            "1/1 [==============================] - 0s 18ms/step\n"
          ]
        },
        {
          "output_type": "stream",
          "name": "stderr",
          "text": [
            "\r 24%|██▍       | 16/66 [00:10<00:31,  1.58it/s]"
          ]
        },
        {
          "output_type": "stream",
          "name": "stdout",
          "text": [
            "1/1 [==============================] - 0s 18ms/step\n"
          ]
        },
        {
          "output_type": "stream",
          "name": "stderr",
          "text": [
            "\r 26%|██▌       | 17/66 [00:11<00:31,  1.57it/s]"
          ]
        },
        {
          "output_type": "stream",
          "name": "stdout",
          "text": [
            "1/1 [==============================] - 0s 18ms/step\n"
          ]
        },
        {
          "output_type": "stream",
          "name": "stderr",
          "text": [
            "\r 27%|██▋       | 18/66 [00:11<00:30,  1.59it/s]"
          ]
        },
        {
          "output_type": "stream",
          "name": "stdout",
          "text": [
            "1/1 [==============================] - 0s 18ms/step\n"
          ]
        },
        {
          "output_type": "stream",
          "name": "stderr",
          "text": [
            "\r 29%|██▉       | 19/66 [00:12<00:29,  1.58it/s]"
          ]
        },
        {
          "output_type": "stream",
          "name": "stdout",
          "text": [
            "1/1 [==============================] - 0s 18ms/step\n"
          ]
        },
        {
          "output_type": "stream",
          "name": "stderr",
          "text": [
            "\r 30%|███       | 20/66 [00:12<00:29,  1.56it/s]"
          ]
        },
        {
          "output_type": "stream",
          "name": "stdout",
          "text": [
            "1/1 [==============================] - 0s 18ms/step\n"
          ]
        },
        {
          "output_type": "stream",
          "name": "stderr",
          "text": [
            "\r 32%|███▏      | 21/66 [00:13<00:28,  1.57it/s]"
          ]
        },
        {
          "output_type": "stream",
          "name": "stdout",
          "text": [
            "1/1 [==============================] - 0s 18ms/step\n"
          ]
        },
        {
          "output_type": "stream",
          "name": "stderr",
          "text": [
            "\r 33%|███▎      | 22/66 [00:14<00:28,  1.56it/s]"
          ]
        },
        {
          "output_type": "stream",
          "name": "stdout",
          "text": [
            "1/1 [==============================] - 0s 25ms/step\n"
          ]
        },
        {
          "output_type": "stream",
          "name": "stderr",
          "text": [
            "\r 35%|███▍      | 23/66 [00:14<00:28,  1.49it/s]"
          ]
        },
        {
          "output_type": "stream",
          "name": "stdout",
          "text": [
            "1/1 [==============================] - 0s 27ms/step\n"
          ]
        },
        {
          "output_type": "stream",
          "name": "stderr",
          "text": [
            "\r 36%|███▋      | 24/66 [00:15<00:29,  1.41it/s]"
          ]
        },
        {
          "output_type": "stream",
          "name": "stdout",
          "text": [
            "1/1 [==============================] - 0s 18ms/step\n"
          ]
        },
        {
          "output_type": "stream",
          "name": "stderr",
          "text": [
            "\r 38%|███▊      | 25/66 [00:16<00:29,  1.38it/s]"
          ]
        },
        {
          "output_type": "stream",
          "name": "stdout",
          "text": [
            "1/1 [==============================] - 0s 18ms/step\n"
          ]
        },
        {
          "output_type": "stream",
          "name": "stderr",
          "text": [
            "\r 39%|███▉      | 26/66 [00:17<00:27,  1.45it/s]"
          ]
        },
        {
          "output_type": "stream",
          "name": "stdout",
          "text": [
            "1/1 [==============================] - 0s 18ms/step\n"
          ]
        },
        {
          "output_type": "stream",
          "name": "stderr",
          "text": [
            "\r 41%|████      | 27/66 [00:17<00:26,  1.47it/s]"
          ]
        },
        {
          "output_type": "stream",
          "name": "stdout",
          "text": [
            "1/1 [==============================] - 0s 18ms/step\n"
          ]
        },
        {
          "output_type": "stream",
          "name": "stderr",
          "text": [
            "\r 42%|████▏     | 28/66 [00:18<00:25,  1.51it/s]"
          ]
        },
        {
          "output_type": "stream",
          "name": "stdout",
          "text": [
            "1/1 [==============================] - 0s 17ms/step\n"
          ]
        },
        {
          "output_type": "stream",
          "name": "stderr",
          "text": [
            "\r 44%|████▍     | 29/66 [00:19<00:23,  1.55it/s]"
          ]
        },
        {
          "output_type": "stream",
          "name": "stdout",
          "text": [
            "1/1 [==============================] - 0s 18ms/step\n"
          ]
        },
        {
          "output_type": "stream",
          "name": "stderr",
          "text": [
            "\r 45%|████▌     | 30/66 [00:19<00:22,  1.57it/s]"
          ]
        },
        {
          "output_type": "stream",
          "name": "stdout",
          "text": [
            "1/1 [==============================] - 0s 17ms/step\n"
          ]
        },
        {
          "output_type": "stream",
          "name": "stderr",
          "text": [
            "\r 47%|████▋     | 31/66 [00:20<00:22,  1.59it/s]"
          ]
        },
        {
          "output_type": "stream",
          "name": "stdout",
          "text": [
            "1/1 [==============================] - 0s 18ms/step\n"
          ]
        },
        {
          "output_type": "stream",
          "name": "stderr",
          "text": [
            "\r 48%|████▊     | 32/66 [00:20<00:21,  1.57it/s]"
          ]
        },
        {
          "output_type": "stream",
          "name": "stdout",
          "text": [
            "1/1 [==============================] - 0s 20ms/step\n"
          ]
        },
        {
          "output_type": "stream",
          "name": "stderr",
          "text": [
            "\r 50%|█████     | 33/66 [00:21<00:20,  1.58it/s]"
          ]
        },
        {
          "output_type": "stream",
          "name": "stdout",
          "text": [
            "1/1 [==============================] - 0s 21ms/step\n"
          ]
        },
        {
          "output_type": "stream",
          "name": "stderr",
          "text": [
            "\r 52%|█████▏    | 34/66 [00:22<00:20,  1.56it/s]"
          ]
        },
        {
          "output_type": "stream",
          "name": "stdout",
          "text": [
            "1/1 [==============================] - 0s 18ms/step\n"
          ]
        },
        {
          "output_type": "stream",
          "name": "stderr",
          "text": [
            "\r 53%|█████▎    | 35/66 [00:22<00:19,  1.58it/s]"
          ]
        },
        {
          "output_type": "stream",
          "name": "stdout",
          "text": [
            "1/1 [==============================] - 0s 18ms/step\n"
          ]
        },
        {
          "output_type": "stream",
          "name": "stderr",
          "text": [
            "\r 55%|█████▍    | 36/66 [00:23<00:18,  1.60it/s]"
          ]
        },
        {
          "output_type": "stream",
          "name": "stdout",
          "text": [
            "1/1 [==============================] - 0s 18ms/step\n"
          ]
        },
        {
          "output_type": "stream",
          "name": "stderr",
          "text": [
            "\r 56%|█████▌    | 37/66 [00:24<00:18,  1.61it/s]"
          ]
        },
        {
          "output_type": "stream",
          "name": "stdout",
          "text": [
            "1/1 [==============================] - 0s 18ms/step\n"
          ]
        },
        {
          "output_type": "stream",
          "name": "stderr",
          "text": [
            "\r 58%|█████▊    | 38/66 [00:24<00:17,  1.61it/s]"
          ]
        },
        {
          "output_type": "stream",
          "name": "stdout",
          "text": [
            "1/1 [==============================] - 0s 18ms/step\n"
          ]
        },
        {
          "output_type": "stream",
          "name": "stderr",
          "text": [
            "\r 59%|█████▉    | 39/66 [00:25<00:16,  1.62it/s]"
          ]
        },
        {
          "output_type": "stream",
          "name": "stdout",
          "text": [
            "1/1 [==============================] - 0s 18ms/step\n"
          ]
        },
        {
          "output_type": "stream",
          "name": "stderr",
          "text": [
            "\r 61%|██████    | 40/66 [00:25<00:16,  1.61it/s]"
          ]
        },
        {
          "output_type": "stream",
          "name": "stdout",
          "text": [
            "1/1 [==============================] - 0s 28ms/step\n"
          ]
        },
        {
          "output_type": "stream",
          "name": "stderr",
          "text": [
            "\r 62%|██████▏   | 41/66 [00:26<00:15,  1.58it/s]"
          ]
        },
        {
          "output_type": "stream",
          "name": "stdout",
          "text": [
            "1/1 [==============================] - 0s 25ms/step\n"
          ]
        },
        {
          "output_type": "stream",
          "name": "stderr",
          "text": [
            "\r 64%|██████▎   | 42/66 [00:27<00:15,  1.54it/s]"
          ]
        },
        {
          "output_type": "stream",
          "name": "stdout",
          "text": [
            "1/1 [==============================] - 0s 24ms/step\n"
          ]
        },
        {
          "output_type": "stream",
          "name": "stderr",
          "text": [
            "\r 65%|██████▌   | 43/66 [00:27<00:15,  1.49it/s]"
          ]
        },
        {
          "output_type": "stream",
          "name": "stdout",
          "text": [
            "1/1 [==============================] - 0s 18ms/step\n"
          ]
        },
        {
          "output_type": "stream",
          "name": "stderr",
          "text": [
            "\r 67%|██████▋   | 44/66 [00:28<00:14,  1.52it/s]"
          ]
        },
        {
          "output_type": "stream",
          "name": "stdout",
          "text": [
            "1/1 [==============================] - 0s 18ms/step\n"
          ]
        },
        {
          "output_type": "stream",
          "name": "stderr",
          "text": [
            "\r 68%|██████▊   | 45/66 [00:29<00:13,  1.53it/s]"
          ]
        },
        {
          "output_type": "stream",
          "name": "stdout",
          "text": [
            "1/1 [==============================] - 0s 18ms/step\n"
          ]
        },
        {
          "output_type": "stream",
          "name": "stderr",
          "text": [
            "\r 70%|██████▉   | 46/66 [00:29<00:13,  1.53it/s]"
          ]
        },
        {
          "output_type": "stream",
          "name": "stdout",
          "text": [
            "1/1 [==============================] - 0s 17ms/step\n"
          ]
        },
        {
          "output_type": "stream",
          "name": "stderr",
          "text": [
            "\r 71%|███████   | 47/66 [00:30<00:12,  1.56it/s]"
          ]
        },
        {
          "output_type": "stream",
          "name": "stdout",
          "text": [
            "1/1 [==============================] - 0s 18ms/step\n"
          ]
        },
        {
          "output_type": "stream",
          "name": "stderr",
          "text": [
            "\r 73%|███████▎  | 48/66 [00:31<00:11,  1.57it/s]"
          ]
        },
        {
          "output_type": "stream",
          "name": "stdout",
          "text": [
            "1/1 [==============================] - 0s 19ms/step\n"
          ]
        },
        {
          "output_type": "stream",
          "name": "stderr",
          "text": [
            "\r 74%|███████▍  | 49/66 [00:31<00:10,  1.55it/s]"
          ]
        },
        {
          "output_type": "stream",
          "name": "stdout",
          "text": [
            "1/1 [==============================] - 0s 18ms/step\n"
          ]
        },
        {
          "output_type": "stream",
          "name": "stderr",
          "text": [
            "\r 76%|███████▌  | 50/66 [00:32<00:10,  1.56it/s]"
          ]
        },
        {
          "output_type": "stream",
          "name": "stdout",
          "text": [
            "1/1 [==============================] - 0s 19ms/step\n"
          ]
        },
        {
          "output_type": "stream",
          "name": "stderr",
          "text": [
            "\r 77%|███████▋  | 51/66 [00:33<00:09,  1.58it/s]"
          ]
        },
        {
          "output_type": "stream",
          "name": "stdout",
          "text": [
            "1/1 [==============================] - 0s 18ms/step\n"
          ]
        },
        {
          "output_type": "stream",
          "name": "stderr",
          "text": [
            "\r 79%|███████▉  | 52/66 [00:33<00:08,  1.60it/s]"
          ]
        },
        {
          "output_type": "stream",
          "name": "stdout",
          "text": [
            "1/1 [==============================] - 0s 18ms/step\n"
          ]
        },
        {
          "output_type": "stream",
          "name": "stderr",
          "text": [
            "\r 80%|████████  | 53/66 [00:34<00:08,  1.61it/s]"
          ]
        },
        {
          "output_type": "stream",
          "name": "stdout",
          "text": [
            "1/1 [==============================] - 0s 18ms/step\n"
          ]
        },
        {
          "output_type": "stream",
          "name": "stderr",
          "text": [
            "\r 82%|████████▏ | 54/66 [00:34<00:07,  1.61it/s]"
          ]
        },
        {
          "output_type": "stream",
          "name": "stdout",
          "text": [
            "1/1 [==============================] - 0s 18ms/step\n"
          ]
        },
        {
          "output_type": "stream",
          "name": "stderr",
          "text": [
            "\r 83%|████████▎ | 55/66 [00:35<00:06,  1.58it/s]"
          ]
        },
        {
          "output_type": "stream",
          "name": "stdout",
          "text": [
            "1/1 [==============================] - 0s 19ms/step\n"
          ]
        },
        {
          "output_type": "stream",
          "name": "stderr",
          "text": [
            "\r 85%|████████▍ | 56/66 [00:36<00:06,  1.59it/s]"
          ]
        },
        {
          "output_type": "stream",
          "name": "stdout",
          "text": [
            "1/1 [==============================] - 0s 18ms/step\n"
          ]
        },
        {
          "output_type": "stream",
          "name": "stderr",
          "text": [
            "\r 86%|████████▋ | 57/66 [00:36<00:05,  1.60it/s]"
          ]
        },
        {
          "output_type": "stream",
          "name": "stdout",
          "text": [
            "1/1 [==============================] - 0s 17ms/step\n"
          ]
        },
        {
          "output_type": "stream",
          "name": "stderr",
          "text": [
            "\r 88%|████████▊ | 58/66 [00:37<00:04,  1.61it/s]"
          ]
        },
        {
          "output_type": "stream",
          "name": "stdout",
          "text": [
            "1/1 [==============================] - 0s 18ms/step\n"
          ]
        },
        {
          "output_type": "stream",
          "name": "stderr",
          "text": [
            "\r 89%|████████▉ | 59/66 [00:37<00:04,  1.60it/s]"
          ]
        },
        {
          "output_type": "stream",
          "name": "stdout",
          "text": [
            "1/1 [==============================] - 0s 25ms/step\n"
          ]
        },
        {
          "output_type": "stream",
          "name": "stderr",
          "text": [
            "\r 91%|█████████ | 60/66 [00:38<00:03,  1.54it/s]"
          ]
        },
        {
          "output_type": "stream",
          "name": "stdout",
          "text": [
            "1/1 [==============================] - 0s 28ms/step\n"
          ]
        },
        {
          "output_type": "stream",
          "name": "stderr",
          "text": [
            "\r 92%|█████████▏| 61/66 [00:39<00:03,  1.49it/s]"
          ]
        },
        {
          "output_type": "stream",
          "name": "stdout",
          "text": [
            "1/1 [==============================] - 0s 30ms/step\n"
          ]
        },
        {
          "output_type": "stream",
          "name": "stderr",
          "text": [
            "\r 94%|█████████▍| 62/66 [00:40<00:02,  1.42it/s]"
          ]
        },
        {
          "output_type": "stream",
          "name": "stdout",
          "text": [
            "1/1 [==============================] - 0s 18ms/step\n"
          ]
        },
        {
          "output_type": "stream",
          "name": "stderr",
          "text": [
            "\r 95%|█████████▌| 63/66 [00:40<00:02,  1.46it/s]"
          ]
        },
        {
          "output_type": "stream",
          "name": "stdout",
          "text": [
            "1/1 [==============================] - 0s 18ms/step\n"
          ]
        },
        {
          "output_type": "stream",
          "name": "stderr",
          "text": [
            "\r 97%|█████████▋| 64/66 [00:41<00:01,  1.50it/s]"
          ]
        },
        {
          "output_type": "stream",
          "name": "stdout",
          "text": [
            "1/1 [==============================] - 0s 18ms/step\n"
          ]
        },
        {
          "output_type": "stream",
          "name": "stderr",
          "text": [
            "\r 98%|█████████▊| 65/66 [00:42<00:00,  1.53it/s]"
          ]
        },
        {
          "output_type": "stream",
          "name": "stdout",
          "text": [
            "1/1 [==============================] - 0s 17ms/step\n"
          ]
        },
        {
          "output_type": "stream",
          "name": "stderr",
          "text": [
            "100%|██████████| 66/66 [00:42<00:00,  1.55it/s]\n"
          ]
        },
        {
          "output_type": "stream",
          "name": "stdout",
          "text": [
            "epoch: 4 g_loss: 18.20439233201923 d_loss: [0.10575617 0.99147727]\n"
          ]
        },
        {
          "output_type": "stream",
          "name": "stderr",
          "text": [
            "\r  0%|          | 0/66 [00:00<?, ?it/s]"
          ]
        },
        {
          "output_type": "stream",
          "name": "stdout",
          "text": [
            "1/1 [==============================] - 0s 27ms/step\n"
          ]
        },
        {
          "output_type": "stream",
          "name": "stderr",
          "text": [
            "\r  2%|▏         | 1/66 [00:00<00:41,  1.57it/s]"
          ]
        },
        {
          "output_type": "stream",
          "name": "stdout",
          "text": [
            "1/1 [==============================] - 0s 18ms/step\n"
          ]
        },
        {
          "output_type": "stream",
          "name": "stderr",
          "text": [
            "\r  3%|▎         | 2/66 [00:01<00:43,  1.48it/s]"
          ]
        },
        {
          "output_type": "stream",
          "name": "stdout",
          "text": [
            "1/1 [==============================] - 0s 18ms/step\n"
          ]
        },
        {
          "output_type": "stream",
          "name": "stderr",
          "text": [
            "\r  5%|▍         | 3/66 [00:01<00:40,  1.55it/s]"
          ]
        },
        {
          "output_type": "stream",
          "name": "stdout",
          "text": [
            "1/1 [==============================] - 0s 18ms/step\n"
          ]
        },
        {
          "output_type": "stream",
          "name": "stderr",
          "text": [
            "\r  6%|▌         | 4/66 [00:02<00:40,  1.54it/s]"
          ]
        },
        {
          "output_type": "stream",
          "name": "stdout",
          "text": [
            "1/1 [==============================] - 0s 19ms/step\n"
          ]
        },
        {
          "output_type": "stream",
          "name": "stderr",
          "text": [
            "\r  8%|▊         | 5/66 [00:03<00:39,  1.54it/s]"
          ]
        },
        {
          "output_type": "stream",
          "name": "stdout",
          "text": [
            "1/1 [==============================] - 0s 18ms/step\n"
          ]
        },
        {
          "output_type": "stream",
          "name": "stderr",
          "text": [
            "\r  9%|▉         | 6/66 [00:03<00:39,  1.53it/s]"
          ]
        },
        {
          "output_type": "stream",
          "name": "stdout",
          "text": [
            "1/1 [==============================] - 0s 18ms/step\n"
          ]
        },
        {
          "output_type": "stream",
          "name": "stderr",
          "text": [
            "\r 11%|█         | 7/66 [00:04<00:40,  1.47it/s]"
          ]
        },
        {
          "output_type": "stream",
          "name": "stdout",
          "text": [
            "1/1 [==============================] - 0s 18ms/step\n"
          ]
        },
        {
          "output_type": "stream",
          "name": "stderr",
          "text": [
            "\r 12%|█▏        | 8/66 [00:05<00:38,  1.52it/s]"
          ]
        },
        {
          "output_type": "stream",
          "name": "stdout",
          "text": [
            "1/1 [==============================] - 0s 17ms/step\n"
          ]
        },
        {
          "output_type": "stream",
          "name": "stderr",
          "text": [
            "\r 14%|█▎        | 9/66 [00:05<00:37,  1.52it/s]"
          ]
        },
        {
          "output_type": "stream",
          "name": "stdout",
          "text": [
            "1/1 [==============================] - 0s 18ms/step\n"
          ]
        },
        {
          "output_type": "stream",
          "name": "stderr",
          "text": [
            "\r 15%|█▌        | 10/66 [00:06<00:36,  1.55it/s]"
          ]
        },
        {
          "output_type": "stream",
          "name": "stdout",
          "text": [
            "1/1 [==============================] - 0s 18ms/step\n"
          ]
        },
        {
          "output_type": "stream",
          "name": "stderr",
          "text": [
            "\r 17%|█▋        | 11/66 [00:07<00:35,  1.57it/s]"
          ]
        },
        {
          "output_type": "stream",
          "name": "stdout",
          "text": [
            "1/1 [==============================] - 0s 25ms/step\n"
          ]
        },
        {
          "output_type": "stream",
          "name": "stderr",
          "text": [
            "\r 18%|█▊        | 12/66 [00:07<00:36,  1.46it/s]"
          ]
        },
        {
          "output_type": "stream",
          "name": "stdout",
          "text": [
            "1/1 [==============================] - 0s 28ms/step\n"
          ]
        },
        {
          "output_type": "stream",
          "name": "stderr",
          "text": [
            "\r 20%|█▉        | 13/66 [00:08<00:37,  1.40it/s]"
          ]
        },
        {
          "output_type": "stream",
          "name": "stdout",
          "text": [
            "1/1 [==============================] - 0s 19ms/step\n"
          ]
        },
        {
          "output_type": "stream",
          "name": "stderr",
          "text": [
            "\r 21%|██        | 14/66 [00:09<00:36,  1.41it/s]"
          ]
        },
        {
          "output_type": "stream",
          "name": "stdout",
          "text": [
            "1/1 [==============================] - 0s 18ms/step\n"
          ]
        },
        {
          "output_type": "stream",
          "name": "stderr",
          "text": [
            "\r 23%|██▎       | 15/66 [00:10<00:34,  1.46it/s]"
          ]
        },
        {
          "output_type": "stream",
          "name": "stdout",
          "text": [
            "1/1 [==============================] - 0s 18ms/step\n"
          ]
        },
        {
          "output_type": "stream",
          "name": "stderr",
          "text": [
            "\r 24%|██▍       | 16/66 [00:10<00:33,  1.49it/s]"
          ]
        },
        {
          "output_type": "stream",
          "name": "stdout",
          "text": [
            "1/1 [==============================] - 0s 18ms/step\n"
          ]
        },
        {
          "output_type": "stream",
          "name": "stderr",
          "text": [
            "\r 26%|██▌       | 17/66 [00:11<00:32,  1.50it/s]"
          ]
        },
        {
          "output_type": "stream",
          "name": "stdout",
          "text": [
            "1/1 [==============================] - 0s 18ms/step\n"
          ]
        },
        {
          "output_type": "stream",
          "name": "stderr",
          "text": [
            "\r 27%|██▋       | 18/66 [00:11<00:31,  1.53it/s]"
          ]
        },
        {
          "output_type": "stream",
          "name": "stdout",
          "text": [
            "1/1 [==============================] - 0s 19ms/step\n"
          ]
        },
        {
          "output_type": "stream",
          "name": "stderr",
          "text": [
            "\r 29%|██▉       | 19/66 [00:12<00:30,  1.56it/s]"
          ]
        },
        {
          "output_type": "stream",
          "name": "stdout",
          "text": [
            "1/1 [==============================] - 0s 19ms/step\n"
          ]
        },
        {
          "output_type": "stream",
          "name": "stderr",
          "text": [
            "\r 30%|███       | 20/66 [00:13<00:29,  1.58it/s]"
          ]
        },
        {
          "output_type": "stream",
          "name": "stdout",
          "text": [
            "1/1 [==============================] - 0s 19ms/step\n"
          ]
        },
        {
          "output_type": "stream",
          "name": "stderr",
          "text": [
            "\r 32%|███▏      | 21/66 [00:13<00:28,  1.59it/s]"
          ]
        },
        {
          "output_type": "stream",
          "name": "stdout",
          "text": [
            "1/1 [==============================] - 0s 20ms/step\n"
          ]
        },
        {
          "output_type": "stream",
          "name": "stderr",
          "text": [
            "\r 33%|███▎      | 22/66 [00:14<00:27,  1.60it/s]"
          ]
        },
        {
          "output_type": "stream",
          "name": "stdout",
          "text": [
            "1/1 [==============================] - 0s 18ms/step\n"
          ]
        },
        {
          "output_type": "stream",
          "name": "stderr",
          "text": [
            "\r 35%|███▍      | 23/66 [00:15<00:26,  1.60it/s]"
          ]
        },
        {
          "output_type": "stream",
          "name": "stdout",
          "text": [
            "1/1 [==============================] - 0s 18ms/step\n"
          ]
        },
        {
          "output_type": "stream",
          "name": "stderr",
          "text": [
            "\r 36%|███▋      | 24/66 [00:15<00:26,  1.58it/s]"
          ]
        },
        {
          "output_type": "stream",
          "name": "stdout",
          "text": [
            "1/1 [==============================] - 0s 18ms/step\n"
          ]
        },
        {
          "output_type": "stream",
          "name": "stderr",
          "text": [
            "\r 38%|███▊      | 25/66 [00:16<00:25,  1.59it/s]"
          ]
        },
        {
          "output_type": "stream",
          "name": "stdout",
          "text": [
            "1/1 [==============================] - 0s 18ms/step\n"
          ]
        },
        {
          "output_type": "stream",
          "name": "stderr",
          "text": [
            "\r 39%|███▉      | 26/66 [00:16<00:25,  1.60it/s]"
          ]
        },
        {
          "output_type": "stream",
          "name": "stdout",
          "text": [
            "1/1 [==============================] - 0s 18ms/step\n"
          ]
        },
        {
          "output_type": "stream",
          "name": "stderr",
          "text": [
            "\r 41%|████      | 27/66 [00:17<00:24,  1.60it/s]"
          ]
        },
        {
          "output_type": "stream",
          "name": "stdout",
          "text": [
            "1/1 [==============================] - 0s 18ms/step\n"
          ]
        },
        {
          "output_type": "stream",
          "name": "stderr",
          "text": [
            "\r 42%|████▏     | 28/66 [00:18<00:24,  1.56it/s]"
          ]
        },
        {
          "output_type": "stream",
          "name": "stdout",
          "text": [
            "1/1 [==============================] - 0s 24ms/step\n"
          ]
        },
        {
          "output_type": "stream",
          "name": "stderr",
          "text": [
            "\r 44%|████▍     | 29/66 [00:18<00:23,  1.57it/s]"
          ]
        },
        {
          "output_type": "stream",
          "name": "stdout",
          "text": [
            "1/1 [==============================] - 0s 30ms/step\n"
          ]
        },
        {
          "output_type": "stream",
          "name": "stderr",
          "text": [
            "\r 45%|████▌     | 30/66 [00:19<00:24,  1.48it/s]"
          ]
        },
        {
          "output_type": "stream",
          "name": "stdout",
          "text": [
            "1/1 [==============================] - 0s 28ms/step\n"
          ]
        },
        {
          "output_type": "stream",
          "name": "stderr",
          "text": [
            "\r 47%|████▋     | 31/66 [00:20<00:24,  1.45it/s]"
          ]
        },
        {
          "output_type": "stream",
          "name": "stdout",
          "text": [
            "1/1 [==============================] - 0s 29ms/step\n"
          ]
        },
        {
          "output_type": "stream",
          "name": "stderr",
          "text": [
            "\r 48%|████▊     | 32/66 [00:21<00:23,  1.46it/s]"
          ]
        },
        {
          "output_type": "stream",
          "name": "stdout",
          "text": [
            "1/1 [==============================] - 0s 18ms/step\n"
          ]
        },
        {
          "output_type": "stream",
          "name": "stderr",
          "text": [
            "\r 50%|█████     | 33/66 [00:21<00:21,  1.51it/s]"
          ]
        },
        {
          "output_type": "stream",
          "name": "stdout",
          "text": [
            "1/1 [==============================] - 0s 18ms/step\n"
          ]
        },
        {
          "output_type": "stream",
          "name": "stderr",
          "text": [
            "\r 52%|█████▏    | 34/66 [00:22<00:21,  1.52it/s]"
          ]
        },
        {
          "output_type": "stream",
          "name": "stdout",
          "text": [
            "1/1 [==============================] - 0s 17ms/step\n"
          ]
        },
        {
          "output_type": "stream",
          "name": "stderr",
          "text": [
            "\r 53%|█████▎    | 35/66 [00:22<00:19,  1.56it/s]"
          ]
        },
        {
          "output_type": "stream",
          "name": "stdout",
          "text": [
            "1/1 [==============================] - 0s 19ms/step\n"
          ]
        },
        {
          "output_type": "stream",
          "name": "stderr",
          "text": [
            "\r 55%|█████▍    | 36/66 [00:23<00:19,  1.57it/s]"
          ]
        },
        {
          "output_type": "stream",
          "name": "stdout",
          "text": [
            "1/1 [==============================] - 0s 18ms/step\n"
          ]
        },
        {
          "output_type": "stream",
          "name": "stderr",
          "text": [
            "\r 56%|█████▌    | 37/66 [00:24<00:18,  1.57it/s]"
          ]
        },
        {
          "output_type": "stream",
          "name": "stdout",
          "text": [
            "1/1 [==============================] - 0s 18ms/step\n"
          ]
        },
        {
          "output_type": "stream",
          "name": "stderr",
          "text": [
            "\r 58%|█████▊    | 38/66 [00:24<00:17,  1.58it/s]"
          ]
        },
        {
          "output_type": "stream",
          "name": "stdout",
          "text": [
            "1/1 [==============================] - 0s 18ms/step\n"
          ]
        },
        {
          "output_type": "stream",
          "name": "stderr",
          "text": [
            "\r 59%|█████▉    | 39/66 [00:25<00:16,  1.60it/s]"
          ]
        },
        {
          "output_type": "stream",
          "name": "stdout",
          "text": [
            "1/1 [==============================] - 0s 18ms/step\n"
          ]
        },
        {
          "output_type": "stream",
          "name": "stderr",
          "text": [
            "\r 61%|██████    | 40/66 [00:26<00:16,  1.58it/s]"
          ]
        },
        {
          "output_type": "stream",
          "name": "stdout",
          "text": [
            "1/1 [==============================] - 0s 18ms/step\n"
          ]
        },
        {
          "output_type": "stream",
          "name": "stderr",
          "text": [
            "\r 62%|██████▏   | 41/66 [00:26<00:15,  1.56it/s]"
          ]
        },
        {
          "output_type": "stream",
          "name": "stdout",
          "text": [
            "1/1 [==============================] - 0s 18ms/step\n"
          ]
        },
        {
          "output_type": "stream",
          "name": "stderr",
          "text": [
            "\r 64%|██████▎   | 42/66 [00:27<00:15,  1.55it/s]"
          ]
        },
        {
          "output_type": "stream",
          "name": "stdout",
          "text": [
            "1/1 [==============================] - 0s 18ms/step\n"
          ]
        },
        {
          "output_type": "stream",
          "name": "stderr",
          "text": [
            "\r 65%|██████▌   | 43/66 [00:27<00:14,  1.56it/s]"
          ]
        },
        {
          "output_type": "stream",
          "name": "stdout",
          "text": [
            "1/1 [==============================] - 0s 18ms/step\n"
          ]
        },
        {
          "output_type": "stream",
          "name": "stderr",
          "text": [
            "\r 67%|██████▋   | 44/66 [00:28<00:13,  1.58it/s]"
          ]
        },
        {
          "output_type": "stream",
          "name": "stdout",
          "text": [
            "1/1 [==============================] - 0s 18ms/step\n"
          ]
        },
        {
          "output_type": "stream",
          "name": "stderr",
          "text": [
            "\r 68%|██████▊   | 45/66 [00:29<00:13,  1.55it/s]"
          ]
        },
        {
          "output_type": "stream",
          "name": "stdout",
          "text": [
            "1/1 [==============================] - 0s 20ms/step\n"
          ]
        },
        {
          "output_type": "stream",
          "name": "stderr",
          "text": [
            "\r 70%|██████▉   | 46/66 [00:29<00:12,  1.56it/s]"
          ]
        },
        {
          "output_type": "stream",
          "name": "stdout",
          "text": [
            "1/1 [==============================] - 0s 18ms/step\n"
          ]
        },
        {
          "output_type": "stream",
          "name": "stderr",
          "text": [
            "\r 71%|███████   | 47/66 [00:30<00:12,  1.52it/s]"
          ]
        },
        {
          "output_type": "stream",
          "name": "stdout",
          "text": [
            "1/1 [==============================] - 0s 29ms/step\n"
          ]
        },
        {
          "output_type": "stream",
          "name": "stderr",
          "text": [
            "\r 73%|███████▎  | 48/66 [00:31<00:11,  1.52it/s]"
          ]
        },
        {
          "output_type": "stream",
          "name": "stdout",
          "text": [
            "1/1 [==============================] - 0s 25ms/step\n"
          ]
        },
        {
          "output_type": "stream",
          "name": "stderr",
          "text": [
            "\r 74%|███████▍  | 49/66 [00:31<00:11,  1.50it/s]"
          ]
        },
        {
          "output_type": "stream",
          "name": "stdout",
          "text": [
            "1/1 [==============================] - 0s 27ms/step\n"
          ]
        },
        {
          "output_type": "stream",
          "name": "stderr",
          "text": [
            "\r 76%|███████▌  | 50/66 [00:32<00:10,  1.46it/s]"
          ]
        },
        {
          "output_type": "stream",
          "name": "stdout",
          "text": [
            "1/1 [==============================] - 0s 18ms/step\n"
          ]
        },
        {
          "output_type": "stream",
          "name": "stderr",
          "text": [
            "\r 77%|███████▋  | 51/66 [00:33<00:10,  1.45it/s]"
          ]
        },
        {
          "output_type": "stream",
          "name": "stdout",
          "text": [
            "1/1 [==============================] - 0s 17ms/step\n"
          ]
        },
        {
          "output_type": "stream",
          "name": "stderr",
          "text": [
            "\r 79%|███████▉  | 52/66 [00:34<00:09,  1.48it/s]"
          ]
        },
        {
          "output_type": "stream",
          "name": "stdout",
          "text": [
            "1/1 [==============================] - 0s 18ms/step\n"
          ]
        },
        {
          "output_type": "stream",
          "name": "stderr",
          "text": [
            "\r 80%|████████  | 53/66 [00:34<00:08,  1.51it/s]"
          ]
        },
        {
          "output_type": "stream",
          "name": "stdout",
          "text": [
            "1/1 [==============================] - 0s 20ms/step\n"
          ]
        },
        {
          "output_type": "stream",
          "name": "stderr",
          "text": [
            "\r 82%|████████▏ | 54/66 [00:35<00:07,  1.53it/s]"
          ]
        },
        {
          "output_type": "stream",
          "name": "stdout",
          "text": [
            "1/1 [==============================] - 0s 18ms/step\n"
          ]
        },
        {
          "output_type": "stream",
          "name": "stderr",
          "text": [
            "\r 83%|████████▎ | 55/66 [00:35<00:07,  1.56it/s]"
          ]
        },
        {
          "output_type": "stream",
          "name": "stdout",
          "text": [
            "1/1 [==============================] - 0s 18ms/step\n"
          ]
        },
        {
          "output_type": "stream",
          "name": "stderr",
          "text": [
            "\r 85%|████████▍ | 56/66 [00:36<00:06,  1.55it/s]"
          ]
        },
        {
          "output_type": "stream",
          "name": "stdout",
          "text": [
            "1/1 [==============================] - 0s 18ms/step\n"
          ]
        },
        {
          "output_type": "stream",
          "name": "stderr",
          "text": [
            "\r 86%|████████▋ | 57/66 [00:37<00:05,  1.57it/s]"
          ]
        },
        {
          "output_type": "stream",
          "name": "stdout",
          "text": [
            "1/1 [==============================] - 0s 19ms/step\n"
          ]
        },
        {
          "output_type": "stream",
          "name": "stderr",
          "text": [
            "\r 88%|████████▊ | 58/66 [00:37<00:05,  1.58it/s]"
          ]
        },
        {
          "output_type": "stream",
          "name": "stdout",
          "text": [
            "1/1 [==============================] - 0s 18ms/step\n"
          ]
        },
        {
          "output_type": "stream",
          "name": "stderr",
          "text": [
            "\r 89%|████████▉ | 59/66 [00:38<00:04,  1.56it/s]"
          ]
        },
        {
          "output_type": "stream",
          "name": "stdout",
          "text": [
            "1/1 [==============================] - 0s 17ms/step\n"
          ]
        },
        {
          "output_type": "stream",
          "name": "stderr",
          "text": [
            "\r 91%|█████████ | 60/66 [00:39<00:03,  1.58it/s]"
          ]
        },
        {
          "output_type": "stream",
          "name": "stdout",
          "text": [
            "1/1 [==============================] - 0s 17ms/step\n"
          ]
        },
        {
          "output_type": "stream",
          "name": "stderr",
          "text": [
            "\r 92%|█████████▏| 61/66 [00:39<00:03,  1.59it/s]"
          ]
        },
        {
          "output_type": "stream",
          "name": "stdout",
          "text": [
            "1/1 [==============================] - 0s 18ms/step\n"
          ]
        },
        {
          "output_type": "stream",
          "name": "stderr",
          "text": [
            "\r 94%|█████████▍| 62/66 [00:40<00:02,  1.59it/s]"
          ]
        },
        {
          "output_type": "stream",
          "name": "stdout",
          "text": [
            "1/1 [==============================] - 0s 18ms/step\n"
          ]
        },
        {
          "output_type": "stream",
          "name": "stderr",
          "text": [
            "\r 95%|█████████▌| 63/66 [00:40<00:01,  1.58it/s]"
          ]
        },
        {
          "output_type": "stream",
          "name": "stdout",
          "text": [
            "1/1 [==============================] - 0s 18ms/step\n"
          ]
        },
        {
          "output_type": "stream",
          "name": "stderr",
          "text": [
            "\r 97%|█████████▋| 64/66 [00:41<00:01,  1.57it/s]"
          ]
        },
        {
          "output_type": "stream",
          "name": "stdout",
          "text": [
            "1/1 [==============================] - 0s 18ms/step\n"
          ]
        },
        {
          "output_type": "stream",
          "name": "stderr",
          "text": [
            "\r 98%|█████████▊| 65/66 [00:42<00:00,  1.55it/s]"
          ]
        },
        {
          "output_type": "stream",
          "name": "stdout",
          "text": [
            "1/1 [==============================] - 0s 19ms/step\n"
          ]
        },
        {
          "output_type": "stream",
          "name": "stderr",
          "text": [
            "100%|██████████| 66/66 [00:42<00:00,  1.54it/s]\n"
          ]
        },
        {
          "output_type": "stream",
          "name": "stdout",
          "text": [
            "epoch: 5 g_loss: 16.543799992763635 d_loss: [0.11167489 0.99100379]\n"
          ]
        },
        {
          "output_type": "stream",
          "name": "stderr",
          "text": [
            "\r  0%|          | 0/66 [00:00<?, ?it/s]"
          ]
        },
        {
          "output_type": "stream",
          "name": "stdout",
          "text": [
            "1/1 [==============================] - 0s 37ms/step\n"
          ]
        },
        {
          "output_type": "stream",
          "name": "stderr",
          "text": [
            "\r  2%|▏         | 1/66 [00:00<00:53,  1.21it/s]"
          ]
        },
        {
          "output_type": "stream",
          "name": "stdout",
          "text": [
            "1/1 [==============================] - 0s 25ms/step\n"
          ]
        },
        {
          "output_type": "stream",
          "name": "stderr",
          "text": [
            "\r  3%|▎         | 2/66 [00:01<00:51,  1.24it/s]"
          ]
        },
        {
          "output_type": "stream",
          "name": "stdout",
          "text": [
            "1/1 [==============================] - 0s 18ms/step\n"
          ]
        },
        {
          "output_type": "stream",
          "name": "stderr",
          "text": [
            "\r  5%|▍         | 3/66 [00:02<00:46,  1.34it/s]"
          ]
        },
        {
          "output_type": "stream",
          "name": "stdout",
          "text": [
            "1/1 [==============================] - 0s 18ms/step\n"
          ]
        },
        {
          "output_type": "stream",
          "name": "stderr",
          "text": [
            "\r  6%|▌         | 4/66 [00:02<00:43,  1.43it/s]"
          ]
        },
        {
          "output_type": "stream",
          "name": "stdout",
          "text": [
            "1/1 [==============================] - 0s 18ms/step\n"
          ]
        },
        {
          "output_type": "stream",
          "name": "stderr",
          "text": [
            "\r  8%|▊         | 5/66 [00:03<00:41,  1.47it/s]"
          ]
        },
        {
          "output_type": "stream",
          "name": "stdout",
          "text": [
            "1/1 [==============================] - 0s 19ms/step\n"
          ]
        },
        {
          "output_type": "stream",
          "name": "stderr",
          "text": [
            "\r  9%|▉         | 6/66 [00:04<00:40,  1.49it/s]"
          ]
        },
        {
          "output_type": "stream",
          "name": "stdout",
          "text": [
            "1/1 [==============================] - 0s 18ms/step\n"
          ]
        },
        {
          "output_type": "stream",
          "name": "stderr",
          "text": [
            "\r 11%|█         | 7/66 [00:04<00:39,  1.49it/s]"
          ]
        },
        {
          "output_type": "stream",
          "name": "stdout",
          "text": [
            "1/1 [==============================] - 0s 18ms/step\n"
          ]
        },
        {
          "output_type": "stream",
          "name": "stderr",
          "text": [
            "\r 12%|█▏        | 8/66 [00:05<00:37,  1.53it/s]"
          ]
        },
        {
          "output_type": "stream",
          "name": "stdout",
          "text": [
            "1/1 [==============================] - 0s 18ms/step\n"
          ]
        },
        {
          "output_type": "stream",
          "name": "stderr",
          "text": [
            "\r 14%|█▎        | 9/66 [00:06<00:37,  1.51it/s]"
          ]
        },
        {
          "output_type": "stream",
          "name": "stdout",
          "text": [
            "1/1 [==============================] - 0s 19ms/step\n"
          ]
        },
        {
          "output_type": "stream",
          "name": "stderr",
          "text": [
            "\r 15%|█▌        | 10/66 [00:06<00:36,  1.51it/s]"
          ]
        },
        {
          "output_type": "stream",
          "name": "stdout",
          "text": [
            "1/1 [==============================] - 0s 17ms/step\n"
          ]
        },
        {
          "output_type": "stream",
          "name": "stderr",
          "text": [
            "\r 17%|█▋        | 11/66 [00:07<00:35,  1.55it/s]"
          ]
        },
        {
          "output_type": "stream",
          "name": "stdout",
          "text": [
            "1/1 [==============================] - 0s 17ms/step\n"
          ]
        },
        {
          "output_type": "stream",
          "name": "stderr",
          "text": [
            "\r 18%|█▊        | 12/66 [00:08<00:34,  1.57it/s]"
          ]
        },
        {
          "output_type": "stream",
          "name": "stdout",
          "text": [
            "1/1 [==============================] - 0s 18ms/step\n"
          ]
        },
        {
          "output_type": "stream",
          "name": "stderr",
          "text": [
            "\r 20%|█▉        | 13/66 [00:08<00:33,  1.58it/s]"
          ]
        },
        {
          "output_type": "stream",
          "name": "stdout",
          "text": [
            "1/1 [==============================] - 0s 20ms/step\n"
          ]
        },
        {
          "output_type": "stream",
          "name": "stderr",
          "text": [
            "\r 21%|██        | 14/66 [00:09<00:33,  1.57it/s]"
          ]
        },
        {
          "output_type": "stream",
          "name": "stdout",
          "text": [
            "1/1 [==============================] - 0s 22ms/step\n"
          ]
        },
        {
          "output_type": "stream",
          "name": "stderr",
          "text": [
            "\r 23%|██▎       | 15/66 [00:09<00:32,  1.58it/s]"
          ]
        },
        {
          "output_type": "stream",
          "name": "stdout",
          "text": [
            "1/1 [==============================] - 0s 18ms/step\n"
          ]
        },
        {
          "output_type": "stream",
          "name": "stderr",
          "text": [
            "\r 24%|██▍       | 16/66 [00:10<00:31,  1.57it/s]"
          ]
        },
        {
          "output_type": "stream",
          "name": "stdout",
          "text": [
            "1/1 [==============================] - 0s 18ms/step\n"
          ]
        },
        {
          "output_type": "stream",
          "name": "stderr",
          "text": [
            "\r 26%|██▌       | 17/66 [00:11<00:30,  1.59it/s]"
          ]
        },
        {
          "output_type": "stream",
          "name": "stdout",
          "text": [
            "1/1 [==============================] - 0s 18ms/step\n"
          ]
        },
        {
          "output_type": "stream",
          "name": "stderr",
          "text": [
            "\r 27%|██▋       | 18/66 [00:11<00:30,  1.57it/s]"
          ]
        },
        {
          "output_type": "stream",
          "name": "stdout",
          "text": [
            "1/1 [==============================] - 0s 27ms/step\n"
          ]
        },
        {
          "output_type": "stream",
          "name": "stderr",
          "text": [
            "\r 29%|██▉       | 19/66 [00:12<00:31,  1.48it/s]"
          ]
        },
        {
          "output_type": "stream",
          "name": "stdout",
          "text": [
            "1/1 [==============================] - 0s 35ms/step\n"
          ]
        },
        {
          "output_type": "stream",
          "name": "stderr",
          "text": [
            "\r 30%|███       | 20/66 [00:13<00:31,  1.46it/s]"
          ]
        },
        {
          "output_type": "stream",
          "name": "stdout",
          "text": [
            "1/1 [==============================] - 0s 18ms/step\n"
          ]
        },
        {
          "output_type": "stream",
          "name": "stderr",
          "text": [
            "\r 32%|███▏      | 21/66 [00:13<00:30,  1.49it/s]"
          ]
        },
        {
          "output_type": "stream",
          "name": "stdout",
          "text": [
            "1/1 [==============================] - 0s 18ms/step\n"
          ]
        },
        {
          "output_type": "stream",
          "name": "stderr",
          "text": [
            "\r 33%|███▎      | 22/66 [00:14<00:29,  1.51it/s]"
          ]
        },
        {
          "output_type": "stream",
          "name": "stdout",
          "text": [
            "1/1 [==============================] - 0s 18ms/step\n"
          ]
        },
        {
          "output_type": "stream",
          "name": "stderr",
          "text": [
            "\r 35%|███▍      | 23/66 [00:15<00:28,  1.52it/s]"
          ]
        },
        {
          "output_type": "stream",
          "name": "stdout",
          "text": [
            "1/1 [==============================] - 0s 19ms/step\n"
          ]
        },
        {
          "output_type": "stream",
          "name": "stderr",
          "text": [
            "\r 36%|███▋      | 24/66 [00:15<00:27,  1.52it/s]"
          ]
        },
        {
          "output_type": "stream",
          "name": "stdout",
          "text": [
            "1/1 [==============================] - 0s 18ms/step\n"
          ]
        },
        {
          "output_type": "stream",
          "name": "stderr",
          "text": [
            "\r 38%|███▊      | 25/66 [00:16<00:26,  1.55it/s]"
          ]
        },
        {
          "output_type": "stream",
          "name": "stdout",
          "text": [
            "1/1 [==============================] - 0s 23ms/step\n"
          ]
        },
        {
          "output_type": "stream",
          "name": "stderr",
          "text": [
            "\r 39%|███▉      | 26/66 [00:17<00:25,  1.56it/s]"
          ]
        },
        {
          "output_type": "stream",
          "name": "stdout",
          "text": [
            "1/1 [==============================] - 0s 18ms/step\n"
          ]
        },
        {
          "output_type": "stream",
          "name": "stderr",
          "text": [
            "\r 41%|████      | 27/66 [00:17<00:24,  1.58it/s]"
          ]
        },
        {
          "output_type": "stream",
          "name": "stdout",
          "text": [
            "1/1 [==============================] - 0s 18ms/step\n"
          ]
        },
        {
          "output_type": "stream",
          "name": "stderr",
          "text": [
            "\r 42%|████▏     | 28/66 [00:18<00:24,  1.56it/s]"
          ]
        },
        {
          "output_type": "stream",
          "name": "stdout",
          "text": [
            "1/1 [==============================] - 0s 18ms/step\n"
          ]
        },
        {
          "output_type": "stream",
          "name": "stderr",
          "text": [
            "\r 44%|████▍     | 29/66 [00:19<00:23,  1.58it/s]"
          ]
        },
        {
          "output_type": "stream",
          "name": "stdout",
          "text": [
            "1/1 [==============================] - 0s 19ms/step\n"
          ]
        },
        {
          "output_type": "stream",
          "name": "stderr",
          "text": [
            "\r 45%|████▌     | 30/66 [00:19<00:22,  1.59it/s]"
          ]
        },
        {
          "output_type": "stream",
          "name": "stdout",
          "text": [
            "1/1 [==============================] - 0s 19ms/step\n"
          ]
        },
        {
          "output_type": "stream",
          "name": "stderr",
          "text": [
            "\r 47%|████▋     | 31/66 [00:20<00:22,  1.57it/s]"
          ]
        },
        {
          "output_type": "stream",
          "name": "stdout",
          "text": [
            "1/1 [==============================] - 0s 19ms/step\n"
          ]
        },
        {
          "output_type": "stream",
          "name": "stderr",
          "text": [
            "\r 48%|████▊     | 32/66 [00:20<00:21,  1.59it/s]"
          ]
        },
        {
          "output_type": "stream",
          "name": "stdout",
          "text": [
            "1/1 [==============================] - 0s 18ms/step\n"
          ]
        },
        {
          "output_type": "stream",
          "name": "stderr",
          "text": [
            "\r 50%|█████     | 33/66 [00:21<00:20,  1.60it/s]"
          ]
        },
        {
          "output_type": "stream",
          "name": "stdout",
          "text": [
            "1/1 [==============================] - 0s 19ms/step\n"
          ]
        },
        {
          "output_type": "stream",
          "name": "stderr",
          "text": [
            "\r 52%|█████▏    | 34/66 [00:22<00:19,  1.61it/s]"
          ]
        },
        {
          "output_type": "stream",
          "name": "stdout",
          "text": [
            "1/1 [==============================] - 0s 22ms/step\n"
          ]
        },
        {
          "output_type": "stream",
          "name": "stderr",
          "text": [
            "\r 53%|█████▎    | 35/66 [00:22<00:19,  1.59it/s]"
          ]
        },
        {
          "output_type": "stream",
          "name": "stdout",
          "text": [
            "1/1 [==============================] - 0s 18ms/step\n"
          ]
        },
        {
          "output_type": "stream",
          "name": "stderr",
          "text": [
            "\r 55%|█████▍    | 36/66 [00:23<00:18,  1.60it/s]"
          ]
        },
        {
          "output_type": "stream",
          "name": "stdout",
          "text": [
            "1/1 [==============================] - 0s 28ms/step\n"
          ]
        },
        {
          "output_type": "stream",
          "name": "stderr",
          "text": [
            "\r 56%|█████▌    | 37/66 [00:24<00:18,  1.55it/s]"
          ]
        },
        {
          "output_type": "stream",
          "name": "stdout",
          "text": [
            "1/1 [==============================] - 0s 24ms/step\n"
          ]
        },
        {
          "output_type": "stream",
          "name": "stderr",
          "text": [
            "\r 58%|█████▊    | 38/66 [00:24<00:19,  1.47it/s]"
          ]
        },
        {
          "output_type": "stream",
          "name": "stdout",
          "text": [
            "1/1 [==============================] - 0s 26ms/step\n"
          ]
        },
        {
          "output_type": "stream",
          "name": "stderr",
          "text": [
            "\r 59%|█████▉    | 39/66 [00:25<00:18,  1.44it/s]"
          ]
        },
        {
          "output_type": "stream",
          "name": "stdout",
          "text": [
            "1/1 [==============================] - 0s 18ms/step\n"
          ]
        },
        {
          "output_type": "stream",
          "name": "stderr",
          "text": [
            "\r 61%|██████    | 40/66 [00:26<00:17,  1.46it/s]"
          ]
        },
        {
          "output_type": "stream",
          "name": "stdout",
          "text": [
            "1/1 [==============================] - 0s 18ms/step\n"
          ]
        },
        {
          "output_type": "stream",
          "name": "stderr",
          "text": [
            "\r 62%|██████▏   | 41/66 [00:26<00:16,  1.51it/s]"
          ]
        },
        {
          "output_type": "stream",
          "name": "stdout",
          "text": [
            "1/1 [==============================] - 0s 18ms/step\n"
          ]
        },
        {
          "output_type": "stream",
          "name": "stderr",
          "text": [
            "\r 64%|██████▎   | 42/66 [00:27<00:15,  1.54it/s]"
          ]
        },
        {
          "output_type": "stream",
          "name": "stdout",
          "text": [
            "1/1 [==============================] - 0s 18ms/step\n"
          ]
        },
        {
          "output_type": "stream",
          "name": "stderr",
          "text": [
            "\r 65%|██████▌   | 43/66 [00:28<00:14,  1.56it/s]"
          ]
        },
        {
          "output_type": "stream",
          "name": "stdout",
          "text": [
            "1/1 [==============================] - 0s 18ms/step\n"
          ]
        },
        {
          "output_type": "stream",
          "name": "stderr",
          "text": [
            "\r 67%|██████▋   | 44/66 [00:28<00:14,  1.55it/s]"
          ]
        },
        {
          "output_type": "stream",
          "name": "stdout",
          "text": [
            "1/1 [==============================] - 0s 18ms/step\n"
          ]
        },
        {
          "output_type": "stream",
          "name": "stderr",
          "text": [
            "\r 68%|██████▊   | 45/66 [00:29<00:13,  1.57it/s]"
          ]
        },
        {
          "output_type": "stream",
          "name": "stdout",
          "text": [
            "1/1 [==============================] - 0s 18ms/step\n"
          ]
        },
        {
          "output_type": "stream",
          "name": "stderr",
          "text": [
            "\r 70%|██████▉   | 46/66 [00:30<00:12,  1.59it/s]"
          ]
        },
        {
          "output_type": "stream",
          "name": "stdout",
          "text": [
            "1/1 [==============================] - 0s 18ms/step\n"
          ]
        },
        {
          "output_type": "stream",
          "name": "stderr",
          "text": [
            "\r 71%|███████   | 47/66 [00:30<00:11,  1.60it/s]"
          ]
        },
        {
          "output_type": "stream",
          "name": "stdout",
          "text": [
            "1/1 [==============================] - 0s 18ms/step\n"
          ]
        },
        {
          "output_type": "stream",
          "name": "stderr",
          "text": [
            "\r 73%|███████▎  | 48/66 [00:31<00:11,  1.57it/s]"
          ]
        },
        {
          "output_type": "stream",
          "name": "stdout",
          "text": [
            "1/1 [==============================] - 0s 18ms/step\n"
          ]
        },
        {
          "output_type": "stream",
          "name": "stderr",
          "text": [
            "\r 74%|███████▍  | 49/66 [00:31<00:10,  1.58it/s]"
          ]
        },
        {
          "output_type": "stream",
          "name": "stdout",
          "text": [
            "1/1 [==============================] - 0s 18ms/step\n"
          ]
        },
        {
          "output_type": "stream",
          "name": "stderr",
          "text": [
            "\r 76%|███████▌  | 50/66 [00:32<00:10,  1.59it/s]"
          ]
        },
        {
          "output_type": "stream",
          "name": "stdout",
          "text": [
            "1/1 [==============================] - 0s 18ms/step\n"
          ]
        },
        {
          "output_type": "stream",
          "name": "stderr",
          "text": [
            "\r 77%|███████▋  | 51/66 [00:33<00:09,  1.60it/s]"
          ]
        },
        {
          "output_type": "stream",
          "name": "stdout",
          "text": [
            "1/1 [==============================] - 0s 18ms/step\n"
          ]
        },
        {
          "output_type": "stream",
          "name": "stderr",
          "text": [
            "\r 79%|███████▉  | 52/66 [00:33<00:08,  1.60it/s]"
          ]
        },
        {
          "output_type": "stream",
          "name": "stdout",
          "text": [
            "1/1 [==============================] - 0s 18ms/step\n"
          ]
        },
        {
          "output_type": "stream",
          "name": "stderr",
          "text": [
            "\r 80%|████████  | 53/66 [00:34<00:08,  1.58it/s]"
          ]
        },
        {
          "output_type": "stream",
          "name": "stdout",
          "text": [
            "1/1 [==============================] - 0s 17ms/step\n"
          ]
        },
        {
          "output_type": "stream",
          "name": "stderr",
          "text": [
            "\r 82%|████████▏ | 54/66 [00:35<00:07,  1.60it/s]"
          ]
        },
        {
          "output_type": "stream",
          "name": "stdout",
          "text": [
            "1/1 [==============================] - 0s 21ms/step\n"
          ]
        },
        {
          "output_type": "stream",
          "name": "stderr",
          "text": [
            "\r 83%|████████▎ | 55/66 [00:35<00:06,  1.57it/s]"
          ]
        },
        {
          "output_type": "stream",
          "name": "stdout",
          "text": [
            "1/1 [==============================] - 0s 25ms/step\n"
          ]
        },
        {
          "output_type": "stream",
          "name": "stderr",
          "text": [
            "\r 85%|████████▍ | 56/66 [00:36<00:06,  1.48it/s]"
          ]
        },
        {
          "output_type": "stream",
          "name": "stdout",
          "text": [
            "1/1 [==============================] - 0s 26ms/step\n"
          ]
        },
        {
          "output_type": "stream",
          "name": "stderr",
          "text": [
            "\r 86%|████████▋ | 57/66 [00:37<00:06,  1.41it/s]"
          ]
        },
        {
          "output_type": "stream",
          "name": "stdout",
          "text": [
            "1/1 [==============================] - 0s 18ms/step\n"
          ]
        },
        {
          "output_type": "stream",
          "name": "stderr",
          "text": [
            "\r 88%|████████▊ | 58/66 [00:37<00:05,  1.44it/s]"
          ]
        },
        {
          "output_type": "stream",
          "name": "stdout",
          "text": [
            "1/1 [==============================] - 0s 18ms/step\n"
          ]
        },
        {
          "output_type": "stream",
          "name": "stderr",
          "text": [
            "\r 89%|████████▉ | 59/66 [00:38<00:04,  1.47it/s]"
          ]
        },
        {
          "output_type": "stream",
          "name": "stdout",
          "text": [
            "1/1 [==============================] - 0s 19ms/step\n"
          ]
        },
        {
          "output_type": "stream",
          "name": "stderr",
          "text": [
            "\r 91%|█████████ | 60/66 [00:39<00:04,  1.48it/s]"
          ]
        },
        {
          "output_type": "stream",
          "name": "stdout",
          "text": [
            "1/1 [==============================] - 0s 19ms/step\n"
          ]
        },
        {
          "output_type": "stream",
          "name": "stderr",
          "text": [
            "\r 92%|█████████▏| 61/66 [00:39<00:03,  1.49it/s]"
          ]
        },
        {
          "output_type": "stream",
          "name": "stdout",
          "text": [
            "1/1 [==============================] - 0s 18ms/step\n"
          ]
        },
        {
          "output_type": "stream",
          "name": "stderr",
          "text": [
            "\r 94%|█████████▍| 62/66 [00:40<00:02,  1.53it/s]"
          ]
        },
        {
          "output_type": "stream",
          "name": "stdout",
          "text": [
            "1/1 [==============================] - 0s 17ms/step\n"
          ]
        },
        {
          "output_type": "stream",
          "name": "stderr",
          "text": [
            "\r 95%|█████████▌| 63/66 [00:41<00:01,  1.53it/s]"
          ]
        },
        {
          "output_type": "stream",
          "name": "stdout",
          "text": [
            "1/1 [==============================] - 0s 17ms/step\n"
          ]
        },
        {
          "output_type": "stream",
          "name": "stderr",
          "text": [
            "\r 97%|█████████▋| 64/66 [00:41<00:01,  1.55it/s]"
          ]
        },
        {
          "output_type": "stream",
          "name": "stdout",
          "text": [
            "1/1 [==============================] - 0s 21ms/step\n"
          ]
        },
        {
          "output_type": "stream",
          "name": "stderr",
          "text": [
            "\r 98%|█████████▊| 65/66 [00:42<00:00,  1.53it/s]"
          ]
        },
        {
          "output_type": "stream",
          "name": "stdout",
          "text": [
            "1/1 [==============================] - 0s 18ms/step\n"
          ]
        },
        {
          "output_type": "stream",
          "name": "stderr",
          "text": [
            "100%|██████████| 66/66 [00:43<00:00,  1.53it/s]\n"
          ]
        },
        {
          "output_type": "stream",
          "name": "stdout",
          "text": [
            "epoch: 6 g_loss: 15.603684757695053 d_loss: [0.2718393  0.98106061]\n"
          ]
        },
        {
          "output_type": "stream",
          "name": "stderr",
          "text": [
            "\r  0%|          | 0/66 [00:00<?, ?it/s]"
          ]
        },
        {
          "output_type": "stream",
          "name": "stdout",
          "text": [
            "1/1 [==============================] - 0s 18ms/step\n"
          ]
        },
        {
          "output_type": "stream",
          "name": "stderr",
          "text": [
            "\r  2%|▏         | 1/66 [00:00<00:43,  1.49it/s]"
          ]
        },
        {
          "output_type": "stream",
          "name": "stdout",
          "text": [
            "1/1 [==============================] - 0s 18ms/step\n"
          ]
        },
        {
          "output_type": "stream",
          "name": "stderr",
          "text": [
            "\r  3%|▎         | 2/66 [00:01<00:40,  1.57it/s]"
          ]
        },
        {
          "output_type": "stream",
          "name": "stdout",
          "text": [
            "1/1 [==============================] - 0s 18ms/step\n"
          ]
        },
        {
          "output_type": "stream",
          "name": "stderr",
          "text": [
            "\r  5%|▍         | 3/66 [00:01<00:39,  1.59it/s]"
          ]
        },
        {
          "output_type": "stream",
          "name": "stdout",
          "text": [
            "1/1 [==============================] - 0s 18ms/step\n"
          ]
        },
        {
          "output_type": "stream",
          "name": "stderr",
          "text": [
            "\r  6%|▌         | 4/66 [00:02<00:38,  1.60it/s]"
          ]
        },
        {
          "output_type": "stream",
          "name": "stdout",
          "text": [
            "1/1 [==============================] - 0s 19ms/step\n"
          ]
        },
        {
          "output_type": "stream",
          "name": "stderr",
          "text": [
            "\r  8%|▊         | 5/66 [00:03<00:38,  1.57it/s]"
          ]
        },
        {
          "output_type": "stream",
          "name": "stdout",
          "text": [
            "1/1 [==============================] - 0s 19ms/step\n"
          ]
        },
        {
          "output_type": "stream",
          "name": "stderr",
          "text": [
            "\r  9%|▉         | 6/66 [00:03<00:38,  1.55it/s]"
          ]
        },
        {
          "output_type": "stream",
          "name": "stdout",
          "text": [
            "1/1 [==============================] - 0s 18ms/step\n"
          ]
        },
        {
          "output_type": "stream",
          "name": "stderr",
          "text": [
            "\r 11%|█         | 7/66 [00:04<00:37,  1.57it/s]"
          ]
        },
        {
          "output_type": "stream",
          "name": "stdout",
          "text": [
            "1/1 [==============================] - 0s 27ms/step\n"
          ]
        },
        {
          "output_type": "stream",
          "name": "stderr",
          "text": [
            "\r 12%|█▏        | 8/66 [00:05<00:39,  1.46it/s]"
          ]
        },
        {
          "output_type": "stream",
          "name": "stdout",
          "text": [
            "1/1 [==============================] - 0s 28ms/step\n"
          ]
        },
        {
          "output_type": "stream",
          "name": "stderr",
          "text": [
            "\r 14%|█▎        | 9/66 [00:05<00:39,  1.44it/s]"
          ]
        },
        {
          "output_type": "stream",
          "name": "stdout",
          "text": [
            "1/1 [==============================] - 0s 18ms/step\n"
          ]
        },
        {
          "output_type": "stream",
          "name": "stderr",
          "text": [
            "\r 15%|█▌        | 10/66 [00:06<00:37,  1.48it/s]"
          ]
        },
        {
          "output_type": "stream",
          "name": "stdout",
          "text": [
            "1/1 [==============================] - 0s 18ms/step\n"
          ]
        },
        {
          "output_type": "stream",
          "name": "stderr",
          "text": [
            "\r 17%|█▋        | 11/66 [00:07<00:36,  1.50it/s]"
          ]
        },
        {
          "output_type": "stream",
          "name": "stdout",
          "text": [
            "1/1 [==============================] - 0s 22ms/step\n"
          ]
        },
        {
          "output_type": "stream",
          "name": "stderr",
          "text": [
            "\r 18%|█▊        | 12/66 [00:07<00:35,  1.53it/s]"
          ]
        },
        {
          "output_type": "stream",
          "name": "stdout",
          "text": [
            "1/1 [==============================] - 0s 18ms/step\n"
          ]
        },
        {
          "output_type": "stream",
          "name": "stderr",
          "text": [
            "\r 20%|█▉        | 13/66 [00:08<00:34,  1.52it/s]"
          ]
        },
        {
          "output_type": "stream",
          "name": "stdout",
          "text": [
            "1/1 [==============================] - 0s 17ms/step\n"
          ]
        },
        {
          "output_type": "stream",
          "name": "stderr",
          "text": [
            "\r 21%|██        | 14/66 [00:09<00:33,  1.55it/s]"
          ]
        },
        {
          "output_type": "stream",
          "name": "stdout",
          "text": [
            "1/1 [==============================] - 0s 18ms/step\n"
          ]
        },
        {
          "output_type": "stream",
          "name": "stderr",
          "text": [
            "\r 23%|██▎       | 15/66 [00:09<00:32,  1.55it/s]"
          ]
        },
        {
          "output_type": "stream",
          "name": "stdout",
          "text": [
            "1/1 [==============================] - 0s 17ms/step\n"
          ]
        },
        {
          "output_type": "stream",
          "name": "stderr",
          "text": [
            "\r 24%|██▍       | 16/66 [00:10<00:32,  1.54it/s]"
          ]
        },
        {
          "output_type": "stream",
          "name": "stdout",
          "text": [
            "1/1 [==============================] - 0s 18ms/step\n"
          ]
        },
        {
          "output_type": "stream",
          "name": "stderr",
          "text": [
            "\r 26%|██▌       | 17/66 [00:11<00:31,  1.54it/s]"
          ]
        },
        {
          "output_type": "stream",
          "name": "stdout",
          "text": [
            "1/1 [==============================] - 0s 18ms/step\n"
          ]
        },
        {
          "output_type": "stream",
          "name": "stderr",
          "text": [
            "\r 27%|██▋       | 18/66 [00:11<00:30,  1.56it/s]"
          ]
        },
        {
          "output_type": "stream",
          "name": "stdout",
          "text": [
            "1/1 [==============================] - 0s 18ms/step\n"
          ]
        },
        {
          "output_type": "stream",
          "name": "stderr",
          "text": [
            "\r 29%|██▉       | 19/66 [00:12<00:30,  1.55it/s]"
          ]
        },
        {
          "output_type": "stream",
          "name": "stdout",
          "text": [
            "1/1 [==============================] - 0s 18ms/step\n"
          ]
        },
        {
          "output_type": "stream",
          "name": "stderr",
          "text": [
            "\r 30%|███       | 20/66 [00:13<00:29,  1.55it/s]"
          ]
        },
        {
          "output_type": "stream",
          "name": "stdout",
          "text": [
            "1/1 [==============================] - 0s 17ms/step\n"
          ]
        },
        {
          "output_type": "stream",
          "name": "stderr",
          "text": [
            "\r 32%|███▏      | 21/66 [00:13<00:28,  1.57it/s]"
          ]
        },
        {
          "output_type": "stream",
          "name": "stdout",
          "text": [
            "1/1 [==============================] - 0s 17ms/step\n"
          ]
        },
        {
          "output_type": "stream",
          "name": "stderr",
          "text": [
            "\r 33%|███▎      | 22/66 [00:14<00:27,  1.58it/s]"
          ]
        },
        {
          "output_type": "stream",
          "name": "stdout",
          "text": [
            "1/1 [==============================] - 0s 19ms/step\n"
          ]
        },
        {
          "output_type": "stream",
          "name": "stderr",
          "text": [
            "\r 35%|███▍      | 23/66 [00:14<00:26,  1.60it/s]"
          ]
        },
        {
          "output_type": "stream",
          "name": "stdout",
          "text": [
            "1/1 [==============================] - 0s 18ms/step\n"
          ]
        },
        {
          "output_type": "stream",
          "name": "stderr",
          "text": [
            "\r 36%|███▋      | 24/66 [00:15<00:26,  1.61it/s]"
          ]
        },
        {
          "output_type": "stream",
          "name": "stdout",
          "text": [
            "1/1 [==============================] - 0s 18ms/step\n"
          ]
        },
        {
          "output_type": "stream",
          "name": "stderr",
          "text": [
            "\r 38%|███▊      | 25/66 [00:16<00:25,  1.60it/s]"
          ]
        },
        {
          "output_type": "stream",
          "name": "stdout",
          "text": [
            "1/1 [==============================] - 0s 27ms/step\n"
          ]
        },
        {
          "output_type": "stream",
          "name": "stderr",
          "text": [
            "\r 39%|███▉      | 26/66 [00:16<00:26,  1.53it/s]"
          ]
        },
        {
          "output_type": "stream",
          "name": "stdout",
          "text": [
            "1/1 [==============================] - 0s 29ms/step\n"
          ]
        },
        {
          "output_type": "stream",
          "name": "stderr",
          "text": [
            "\r 41%|████      | 27/66 [00:17<00:26,  1.50it/s]"
          ]
        },
        {
          "output_type": "stream",
          "name": "stdout",
          "text": [
            "1/1 [==============================] - 0s 28ms/step\n"
          ]
        },
        {
          "output_type": "stream",
          "name": "stderr",
          "text": [
            "\r 42%|████▏     | 28/66 [00:18<00:25,  1.49it/s]"
          ]
        },
        {
          "output_type": "stream",
          "name": "stdout",
          "text": [
            "1/1 [==============================] - 0s 19ms/step\n"
          ]
        },
        {
          "output_type": "stream",
          "name": "stderr",
          "text": [
            "\r 44%|████▍     | 29/66 [00:18<00:24,  1.52it/s]"
          ]
        },
        {
          "output_type": "stream",
          "name": "stdout",
          "text": [
            "1/1 [==============================] - 0s 18ms/step\n"
          ]
        },
        {
          "output_type": "stream",
          "name": "stderr",
          "text": [
            "\r 45%|████▌     | 30/66 [00:19<00:23,  1.52it/s]"
          ]
        },
        {
          "output_type": "stream",
          "name": "stdout",
          "text": [
            "1/1 [==============================] - 0s 18ms/step\n"
          ]
        },
        {
          "output_type": "stream",
          "name": "stderr",
          "text": [
            "\r 47%|████▋     | 31/66 [00:20<00:22,  1.53it/s]"
          ]
        },
        {
          "output_type": "stream",
          "name": "stdout",
          "text": [
            "1/1 [==============================] - 0s 20ms/step\n"
          ]
        },
        {
          "output_type": "stream",
          "name": "stderr",
          "text": [
            "\r 48%|████▊     | 32/66 [00:20<00:22,  1.52it/s]"
          ]
        },
        {
          "output_type": "stream",
          "name": "stdout",
          "text": [
            "1/1 [==============================] - 0s 17ms/step\n"
          ]
        },
        {
          "output_type": "stream",
          "name": "stderr",
          "text": [
            "\r 50%|█████     | 33/66 [00:21<00:21,  1.55it/s]"
          ]
        },
        {
          "output_type": "stream",
          "name": "stdout",
          "text": [
            "1/1 [==============================] - 0s 18ms/step\n"
          ]
        },
        {
          "output_type": "stream",
          "name": "stderr",
          "text": [
            "\r 52%|█████▏    | 34/66 [00:22<00:20,  1.56it/s]"
          ]
        },
        {
          "output_type": "stream",
          "name": "stdout",
          "text": [
            "1/1 [==============================] - 0s 19ms/step\n"
          ]
        },
        {
          "output_type": "stream",
          "name": "stderr",
          "text": [
            "\r 53%|█████▎    | 35/66 [00:22<00:20,  1.54it/s]"
          ]
        },
        {
          "output_type": "stream",
          "name": "stdout",
          "text": [
            "1/1 [==============================] - 0s 18ms/step\n"
          ]
        },
        {
          "output_type": "stream",
          "name": "stderr",
          "text": [
            "\r 55%|█████▍    | 36/66 [00:23<00:19,  1.53it/s]"
          ]
        },
        {
          "output_type": "stream",
          "name": "stdout",
          "text": [
            "1/1 [==============================] - 0s 19ms/step\n"
          ]
        },
        {
          "output_type": "stream",
          "name": "stderr",
          "text": [
            "\r 56%|█████▌    | 37/66 [00:24<00:18,  1.56it/s]"
          ]
        },
        {
          "output_type": "stream",
          "name": "stdout",
          "text": [
            "1/1 [==============================] - 0s 18ms/step\n"
          ]
        },
        {
          "output_type": "stream",
          "name": "stderr",
          "text": [
            "\r 58%|█████▊    | 38/66 [00:24<00:17,  1.57it/s]"
          ]
        },
        {
          "output_type": "stream",
          "name": "stdout",
          "text": [
            "1/1 [==============================] - 0s 18ms/step\n"
          ]
        },
        {
          "output_type": "stream",
          "name": "stderr",
          "text": [
            "\r 59%|█████▉    | 39/66 [00:25<00:17,  1.56it/s]"
          ]
        },
        {
          "output_type": "stream",
          "name": "stdout",
          "text": [
            "1/1 [==============================] - 0s 18ms/step\n"
          ]
        },
        {
          "output_type": "stream",
          "name": "stderr",
          "text": [
            "\r 61%|██████    | 40/66 [00:25<00:16,  1.55it/s]"
          ]
        },
        {
          "output_type": "stream",
          "name": "stdout",
          "text": [
            "1/1 [==============================] - 0s 20ms/step\n"
          ]
        },
        {
          "output_type": "stream",
          "name": "stderr",
          "text": [
            "\r 62%|██████▏   | 41/66 [00:26<00:16,  1.53it/s]"
          ]
        },
        {
          "output_type": "stream",
          "name": "stdout",
          "text": [
            "1/1 [==============================] - 0s 18ms/step\n"
          ]
        },
        {
          "output_type": "stream",
          "name": "stderr",
          "text": [
            "\r 64%|██████▎   | 42/66 [00:27<00:15,  1.52it/s]"
          ]
        },
        {
          "output_type": "stream",
          "name": "stdout",
          "text": [
            "1/1 [==============================] - 0s 18ms/step\n"
          ]
        },
        {
          "output_type": "stream",
          "name": "stderr",
          "text": [
            "\r 65%|██████▌   | 43/66 [00:27<00:14,  1.55it/s]"
          ]
        },
        {
          "output_type": "stream",
          "name": "stdout",
          "text": [
            "1/1 [==============================] - 0s 25ms/step\n"
          ]
        },
        {
          "output_type": "stream",
          "name": "stderr",
          "text": [
            "\r 67%|██████▋   | 44/66 [00:28<00:14,  1.52it/s]"
          ]
        },
        {
          "output_type": "stream",
          "name": "stdout",
          "text": [
            "1/1 [==============================] - 0s 29ms/step\n"
          ]
        },
        {
          "output_type": "stream",
          "name": "stderr",
          "text": [
            "\r 68%|██████▊   | 45/66 [00:29<00:13,  1.51it/s]"
          ]
        },
        {
          "output_type": "stream",
          "name": "stdout",
          "text": [
            "1/1 [==============================] - 0s 28ms/step\n"
          ]
        },
        {
          "output_type": "stream",
          "name": "stderr",
          "text": [
            "\r 70%|██████▉   | 46/66 [00:29<00:13,  1.48it/s]"
          ]
        },
        {
          "output_type": "stream",
          "name": "stdout",
          "text": [
            "1/1 [==============================] - 0s 18ms/step\n"
          ]
        },
        {
          "output_type": "stream",
          "name": "stderr",
          "text": [
            "\r 71%|███████   | 47/66 [00:30<00:12,  1.49it/s]"
          ]
        },
        {
          "output_type": "stream",
          "name": "stdout",
          "text": [
            "1/1 [==============================] - 0s 18ms/step\n"
          ]
        },
        {
          "output_type": "stream",
          "name": "stderr",
          "text": [
            "\r 73%|███████▎  | 48/66 [00:31<00:11,  1.50it/s]"
          ]
        },
        {
          "output_type": "stream",
          "name": "stdout",
          "text": [
            "1/1 [==============================] - 0s 18ms/step\n"
          ]
        },
        {
          "output_type": "stream",
          "name": "stderr",
          "text": [
            "\r 74%|███████▍  | 49/66 [00:31<00:11,  1.54it/s]"
          ]
        },
        {
          "output_type": "stream",
          "name": "stdout",
          "text": [
            "1/1 [==============================] - 0s 17ms/step\n"
          ]
        },
        {
          "output_type": "stream",
          "name": "stderr",
          "text": [
            "\r 76%|███████▌  | 50/66 [00:32<00:10,  1.56it/s]"
          ]
        },
        {
          "output_type": "stream",
          "name": "stdout",
          "text": [
            "1/1 [==============================] - 0s 18ms/step\n"
          ]
        },
        {
          "output_type": "stream",
          "name": "stderr",
          "text": [
            "\r 77%|███████▋  | 51/66 [00:33<00:09,  1.57it/s]"
          ]
        },
        {
          "output_type": "stream",
          "name": "stdout",
          "text": [
            "1/1 [==============================] - 0s 18ms/step\n"
          ]
        },
        {
          "output_type": "stream",
          "name": "stderr",
          "text": [
            "\r 79%|███████▉  | 52/66 [00:33<00:08,  1.56it/s]"
          ]
        },
        {
          "output_type": "stream",
          "name": "stdout",
          "text": [
            "1/1 [==============================] - 0s 18ms/step\n"
          ]
        },
        {
          "output_type": "stream",
          "name": "stderr",
          "text": [
            "\r 80%|████████  | 53/66 [00:34<00:08,  1.54it/s]"
          ]
        },
        {
          "output_type": "stream",
          "name": "stdout",
          "text": [
            "1/1 [==============================] - 0s 18ms/step\n"
          ]
        },
        {
          "output_type": "stream",
          "name": "stderr",
          "text": [
            "\r 82%|████████▏ | 54/66 [00:35<00:07,  1.57it/s]"
          ]
        },
        {
          "output_type": "stream",
          "name": "stdout",
          "text": [
            "1/1 [==============================] - 0s 18ms/step\n"
          ]
        },
        {
          "output_type": "stream",
          "name": "stderr",
          "text": [
            "\r 83%|████████▎ | 55/66 [00:35<00:06,  1.59it/s]"
          ]
        },
        {
          "output_type": "stream",
          "name": "stdout",
          "text": [
            "1/1 [==============================] - 0s 19ms/step\n"
          ]
        },
        {
          "output_type": "stream",
          "name": "stderr",
          "text": [
            "\r 85%|████████▍ | 56/66 [00:36<00:06,  1.60it/s]"
          ]
        },
        {
          "output_type": "stream",
          "name": "stdout",
          "text": [
            "1/1 [==============================] - 0s 17ms/step\n"
          ]
        },
        {
          "output_type": "stream",
          "name": "stderr",
          "text": [
            "\r 86%|████████▋ | 57/66 [00:36<00:05,  1.57it/s]"
          ]
        },
        {
          "output_type": "stream",
          "name": "stdout",
          "text": [
            "1/1 [==============================] - 0s 20ms/step\n"
          ]
        },
        {
          "output_type": "stream",
          "name": "stderr",
          "text": [
            "\r 88%|████████▊ | 58/66 [00:37<00:05,  1.53it/s]"
          ]
        },
        {
          "output_type": "stream",
          "name": "stdout",
          "text": [
            "1/1 [==============================] - 0s 17ms/step\n"
          ]
        },
        {
          "output_type": "stream",
          "name": "stderr",
          "text": [
            "\r 89%|████████▉ | 59/66 [00:38<00:04,  1.54it/s]"
          ]
        },
        {
          "output_type": "stream",
          "name": "stdout",
          "text": [
            "1/1 [==============================] - 0s 18ms/step\n"
          ]
        },
        {
          "output_type": "stream",
          "name": "stderr",
          "text": [
            "\r 91%|█████████ | 60/66 [00:38<00:03,  1.53it/s]"
          ]
        },
        {
          "output_type": "stream",
          "name": "stdout",
          "text": [
            "1/1 [==============================] - 0s 19ms/step\n"
          ]
        },
        {
          "output_type": "stream",
          "name": "stderr",
          "text": [
            "\r 92%|█████████▏| 61/66 [00:39<00:03,  1.54it/s]"
          ]
        },
        {
          "output_type": "stream",
          "name": "stdout",
          "text": [
            "1/1 [==============================] - 0s 18ms/step\n"
          ]
        },
        {
          "output_type": "stream",
          "name": "stderr",
          "text": [
            "\r 94%|█████████▍| 62/66 [00:40<00:02,  1.53it/s]"
          ]
        },
        {
          "output_type": "stream",
          "name": "stdout",
          "text": [
            "1/1 [==============================] - 0s 25ms/step\n"
          ]
        },
        {
          "output_type": "stream",
          "name": "stderr",
          "text": [
            "\r 95%|█████████▌| 63/66 [00:41<00:02,  1.45it/s]"
          ]
        },
        {
          "output_type": "stream",
          "name": "stdout",
          "text": [
            "1/1 [==============================] - 0s 30ms/step\n"
          ]
        },
        {
          "output_type": "stream",
          "name": "stderr",
          "text": [
            "\r 97%|█████████▋| 64/66 [00:41<00:01,  1.45it/s]"
          ]
        },
        {
          "output_type": "stream",
          "name": "stdout",
          "text": [
            "1/1 [==============================] - 0s 17ms/step\n"
          ]
        },
        {
          "output_type": "stream",
          "name": "stderr",
          "text": [
            "\r 98%|█████████▊| 65/66 [00:42<00:00,  1.42it/s]"
          ]
        },
        {
          "output_type": "stream",
          "name": "stdout",
          "text": [
            "1/1 [==============================] - 0s 18ms/step\n"
          ]
        },
        {
          "output_type": "stream",
          "name": "stderr",
          "text": [
            "100%|██████████| 66/66 [00:43<00:00,  1.53it/s]\n"
          ]
        },
        {
          "output_type": "stream",
          "name": "stdout",
          "text": [
            "epoch: 7 g_loss: 14.742986245588822 d_loss: [0.17562561 0.98674242]\n"
          ]
        },
        {
          "output_type": "stream",
          "name": "stderr",
          "text": [
            "\r  0%|          | 0/66 [00:00<?, ?it/s]"
          ]
        },
        {
          "output_type": "stream",
          "name": "stdout",
          "text": [
            "1/1 [==============================] - 0s 17ms/step\n"
          ]
        },
        {
          "output_type": "stream",
          "name": "stderr",
          "text": [
            "\r  2%|▏         | 1/66 [00:00<00:43,  1.50it/s]"
          ]
        },
        {
          "output_type": "stream",
          "name": "stdout",
          "text": [
            "1/1 [==============================] - 0s 18ms/step\n"
          ]
        },
        {
          "output_type": "stream",
          "name": "stderr",
          "text": [
            "\r  3%|▎         | 2/66 [00:01<00:42,  1.50it/s]"
          ]
        },
        {
          "output_type": "stream",
          "name": "stdout",
          "text": [
            "1/1 [==============================] - 0s 19ms/step\n"
          ]
        },
        {
          "output_type": "stream",
          "name": "stderr",
          "text": [
            "\r  5%|▍         | 3/66 [00:01<00:41,  1.52it/s]"
          ]
        },
        {
          "output_type": "stream",
          "name": "stdout",
          "text": [
            "1/1 [==============================] - 0s 19ms/step\n"
          ]
        },
        {
          "output_type": "stream",
          "name": "stderr",
          "text": [
            "\r  6%|▌         | 4/66 [00:02<00:39,  1.55it/s]"
          ]
        },
        {
          "output_type": "stream",
          "name": "stdout",
          "text": [
            "1/1 [==============================] - 0s 18ms/step\n"
          ]
        },
        {
          "output_type": "stream",
          "name": "stderr",
          "text": [
            "\r  8%|▊         | 5/66 [00:03<00:39,  1.53it/s]"
          ]
        },
        {
          "output_type": "stream",
          "name": "stdout",
          "text": [
            "1/1 [==============================] - 0s 18ms/step\n"
          ]
        },
        {
          "output_type": "stream",
          "name": "stderr",
          "text": [
            "\r  9%|▉         | 6/66 [00:03<00:39,  1.52it/s]"
          ]
        },
        {
          "output_type": "stream",
          "name": "stdout",
          "text": [
            "1/1 [==============================] - 0s 18ms/step\n"
          ]
        },
        {
          "output_type": "stream",
          "name": "stderr",
          "text": [
            "\r 11%|█         | 7/66 [00:04<00:38,  1.54it/s]"
          ]
        },
        {
          "output_type": "stream",
          "name": "stdout",
          "text": [
            "1/1 [==============================] - 0s 18ms/step\n"
          ]
        },
        {
          "output_type": "stream",
          "name": "stderr",
          "text": [
            "\r 12%|█▏        | 8/66 [00:05<00:37,  1.53it/s]"
          ]
        },
        {
          "output_type": "stream",
          "name": "stdout",
          "text": [
            "1/1 [==============================] - 0s 18ms/step\n"
          ]
        },
        {
          "output_type": "stream",
          "name": "stderr",
          "text": [
            "\r 14%|█▎        | 9/66 [00:05<00:37,  1.52it/s]"
          ]
        },
        {
          "output_type": "stream",
          "name": "stdout",
          "text": [
            "1/1 [==============================] - 0s 17ms/step\n"
          ]
        },
        {
          "output_type": "stream",
          "name": "stderr",
          "text": [
            "\r 15%|█▌        | 10/66 [00:06<00:38,  1.47it/s]"
          ]
        },
        {
          "output_type": "stream",
          "name": "stdout",
          "text": [
            "1/1 [==============================] - 0s 18ms/step\n"
          ]
        },
        {
          "output_type": "stream",
          "name": "stderr",
          "text": [
            "\r 17%|█▋        | 11/66 [00:07<00:36,  1.49it/s]"
          ]
        },
        {
          "output_type": "stream",
          "name": "stdout",
          "text": [
            "1/1 [==============================] - 0s 18ms/step\n"
          ]
        },
        {
          "output_type": "stream",
          "name": "stderr",
          "text": [
            "\r 18%|█▊        | 12/66 [00:07<00:35,  1.52it/s]"
          ]
        },
        {
          "output_type": "stream",
          "name": "stdout",
          "text": [
            "1/1 [==============================] - 0s 18ms/step\n"
          ]
        },
        {
          "output_type": "stream",
          "name": "stderr",
          "text": [
            "\r 20%|█▉        | 13/66 [00:08<00:34,  1.53it/s]"
          ]
        },
        {
          "output_type": "stream",
          "name": "stdout",
          "text": [
            "1/1 [==============================] - 0s 28ms/step\n"
          ]
        },
        {
          "output_type": "stream",
          "name": "stderr",
          "text": [
            "\r 21%|██        | 14/66 [00:09<00:34,  1.50it/s]"
          ]
        },
        {
          "output_type": "stream",
          "name": "stdout",
          "text": [
            "1/1 [==============================] - 0s 26ms/step\n"
          ]
        },
        {
          "output_type": "stream",
          "name": "stderr",
          "text": [
            "\r 23%|██▎       | 15/66 [00:10<00:36,  1.40it/s]"
          ]
        },
        {
          "output_type": "stream",
          "name": "stdout",
          "text": [
            "1/1 [==============================] - 0s 29ms/step\n"
          ]
        },
        {
          "output_type": "stream",
          "name": "stderr",
          "text": [
            "\r 24%|██▍       | 16/66 [00:10<00:37,  1.34it/s]"
          ]
        },
        {
          "output_type": "stream",
          "name": "stdout",
          "text": [
            "1/1 [==============================] - 0s 18ms/step\n"
          ]
        },
        {
          "output_type": "stream",
          "name": "stderr",
          "text": [
            "\r 26%|██▌       | 17/66 [00:11<00:35,  1.39it/s]"
          ]
        },
        {
          "output_type": "stream",
          "name": "stdout",
          "text": [
            "1/1 [==============================] - 0s 18ms/step\n"
          ]
        },
        {
          "output_type": "stream",
          "name": "stderr",
          "text": [
            "\r 27%|██▋       | 18/66 [00:12<00:33,  1.45it/s]"
          ]
        },
        {
          "output_type": "stream",
          "name": "stdout",
          "text": [
            "1/1 [==============================] - 0s 20ms/step\n"
          ]
        },
        {
          "output_type": "stream",
          "name": "stderr",
          "text": [
            "\r 29%|██▉       | 19/66 [00:12<00:31,  1.47it/s]"
          ]
        },
        {
          "output_type": "stream",
          "name": "stdout",
          "text": [
            "1/1 [==============================] - 0s 18ms/step\n"
          ]
        },
        {
          "output_type": "stream",
          "name": "stderr",
          "text": [
            "\r 30%|███       | 20/66 [00:13<00:31,  1.48it/s]"
          ]
        },
        {
          "output_type": "stream",
          "name": "stdout",
          "text": [
            "1/1 [==============================] - 0s 19ms/step\n"
          ]
        },
        {
          "output_type": "stream",
          "name": "stderr",
          "text": [
            "\r 32%|███▏      | 21/66 [00:14<00:30,  1.49it/s]"
          ]
        },
        {
          "output_type": "stream",
          "name": "stdout",
          "text": [
            "1/1 [==============================] - 0s 18ms/step\n"
          ]
        },
        {
          "output_type": "stream",
          "name": "stderr",
          "text": [
            "\r 33%|███▎      | 22/66 [00:14<00:28,  1.53it/s]"
          ]
        },
        {
          "output_type": "stream",
          "name": "stdout",
          "text": [
            "1/1 [==============================] - 0s 18ms/step\n"
          ]
        },
        {
          "output_type": "stream",
          "name": "stderr",
          "text": [
            "\r 35%|███▍      | 23/66 [00:15<00:28,  1.53it/s]"
          ]
        },
        {
          "output_type": "stream",
          "name": "stdout",
          "text": [
            "1/1 [==============================] - 0s 18ms/step\n"
          ]
        },
        {
          "output_type": "stream",
          "name": "stderr",
          "text": [
            "\r 36%|███▋      | 24/66 [00:16<00:27,  1.55it/s]"
          ]
        },
        {
          "output_type": "stream",
          "name": "stdout",
          "text": [
            "1/1 [==============================] - 0s 18ms/step\n"
          ]
        },
        {
          "output_type": "stream",
          "name": "stderr",
          "text": [
            "\r 38%|███▊      | 25/66 [00:16<00:26,  1.56it/s]"
          ]
        },
        {
          "output_type": "stream",
          "name": "stdout",
          "text": [
            "1/1 [==============================] - 0s 18ms/step\n"
          ]
        },
        {
          "output_type": "stream",
          "name": "stderr",
          "text": [
            "\r 39%|███▉      | 26/66 [00:17<00:25,  1.57it/s]"
          ]
        },
        {
          "output_type": "stream",
          "name": "stdout",
          "text": [
            "1/1 [==============================] - 0s 18ms/step\n"
          ]
        },
        {
          "output_type": "stream",
          "name": "stderr",
          "text": [
            "\r 41%|████      | 27/66 [00:17<00:24,  1.56it/s]"
          ]
        },
        {
          "output_type": "stream",
          "name": "stdout",
          "text": [
            "1/1 [==============================] - 0s 19ms/step\n"
          ]
        },
        {
          "output_type": "stream",
          "name": "stderr",
          "text": [
            "\r 42%|████▏     | 28/66 [00:18<00:24,  1.58it/s]"
          ]
        },
        {
          "output_type": "stream",
          "name": "stdout",
          "text": [
            "1/1 [==============================] - 0s 18ms/step\n"
          ]
        },
        {
          "output_type": "stream",
          "name": "stderr",
          "text": [
            "\r 44%|████▍     | 29/66 [00:19<00:23,  1.56it/s]"
          ]
        },
        {
          "output_type": "stream",
          "name": "stdout",
          "text": [
            "1/1 [==============================] - 0s 18ms/step\n"
          ]
        },
        {
          "output_type": "stream",
          "name": "stderr",
          "text": [
            "\r 45%|████▌     | 30/66 [00:19<00:23,  1.53it/s]"
          ]
        },
        {
          "output_type": "stream",
          "name": "stdout",
          "text": [
            "1/1 [==============================] - 0s 18ms/step\n"
          ]
        },
        {
          "output_type": "stream",
          "name": "stderr",
          "text": [
            "\r 47%|████▋     | 31/66 [00:20<00:22,  1.56it/s]"
          ]
        },
        {
          "output_type": "stream",
          "name": "stdout",
          "text": [
            "1/1 [==============================] - 0s 27ms/step\n"
          ]
        },
        {
          "output_type": "stream",
          "name": "stderr",
          "text": [
            "\r 48%|████▊     | 32/66 [00:21<00:22,  1.52it/s]"
          ]
        },
        {
          "output_type": "stream",
          "name": "stdout",
          "text": [
            "1/1 [==============================] - 0s 25ms/step\n"
          ]
        },
        {
          "output_type": "stream",
          "name": "stderr",
          "text": [
            "\r 50%|█████     | 33/66 [00:21<00:22,  1.45it/s]"
          ]
        },
        {
          "output_type": "stream",
          "name": "stdout",
          "text": [
            "1/1 [==============================] - 0s 28ms/step\n"
          ]
        },
        {
          "output_type": "stream",
          "name": "stderr",
          "text": [
            "\r 52%|█████▏    | 34/66 [00:22<00:22,  1.44it/s]"
          ]
        },
        {
          "output_type": "stream",
          "name": "stdout",
          "text": [
            "1/1 [==============================] - 0s 18ms/step\n"
          ]
        },
        {
          "output_type": "stream",
          "name": "stderr",
          "text": [
            "\r 53%|█████▎    | 35/66 [00:23<00:21,  1.47it/s]"
          ]
        },
        {
          "output_type": "stream",
          "name": "stdout",
          "text": [
            "1/1 [==============================] - 0s 17ms/step\n"
          ]
        },
        {
          "output_type": "stream",
          "name": "stderr",
          "text": [
            "\r 55%|█████▍    | 36/66 [00:24<00:20,  1.48it/s]"
          ]
        },
        {
          "output_type": "stream",
          "name": "stdout",
          "text": [
            "1/1 [==============================] - 0s 18ms/step\n"
          ]
        },
        {
          "output_type": "stream",
          "name": "stderr",
          "text": [
            "\r 56%|█████▌    | 37/66 [00:24<00:19,  1.47it/s]"
          ]
        },
        {
          "output_type": "stream",
          "name": "stdout",
          "text": [
            "1/1 [==============================] - 0s 18ms/step\n"
          ]
        },
        {
          "output_type": "stream",
          "name": "stderr",
          "text": [
            "\r 58%|█████▊    | 38/66 [00:25<00:18,  1.48it/s]"
          ]
        },
        {
          "output_type": "stream",
          "name": "stdout",
          "text": [
            "1/1 [==============================] - 0s 18ms/step\n"
          ]
        },
        {
          "output_type": "stream",
          "name": "stderr",
          "text": [
            "\r 59%|█████▉    | 39/66 [00:26<00:18,  1.50it/s]"
          ]
        },
        {
          "output_type": "stream",
          "name": "stdout",
          "text": [
            "1/1 [==============================] - 0s 18ms/step\n"
          ]
        },
        {
          "output_type": "stream",
          "name": "stderr",
          "text": [
            "\r 61%|██████    | 40/66 [00:26<00:17,  1.49it/s]"
          ]
        },
        {
          "output_type": "stream",
          "name": "stdout",
          "text": [
            "1/1 [==============================] - 0s 19ms/step\n"
          ]
        },
        {
          "output_type": "stream",
          "name": "stderr",
          "text": [
            "\r 62%|██████▏   | 41/66 [00:27<00:16,  1.50it/s]"
          ]
        },
        {
          "output_type": "stream",
          "name": "stdout",
          "text": [
            "1/1 [==============================] - 0s 18ms/step\n"
          ]
        },
        {
          "output_type": "stream",
          "name": "stderr",
          "text": [
            "\r 64%|██████▎   | 42/66 [00:28<00:16,  1.46it/s]"
          ]
        },
        {
          "output_type": "stream",
          "name": "stdout",
          "text": [
            "1/1 [==============================] - 0s 18ms/step\n"
          ]
        },
        {
          "output_type": "stream",
          "name": "stderr",
          "text": [
            "\r 65%|██████▌   | 43/66 [00:28<00:15,  1.51it/s]"
          ]
        },
        {
          "output_type": "stream",
          "name": "stdout",
          "text": [
            "1/1 [==============================] - 0s 19ms/step\n"
          ]
        },
        {
          "output_type": "stream",
          "name": "stderr",
          "text": [
            "\r 67%|██████▋   | 44/66 [00:29<00:14,  1.48it/s]"
          ]
        },
        {
          "output_type": "stream",
          "name": "stdout",
          "text": [
            "1/1 [==============================] - 0s 18ms/step\n"
          ]
        },
        {
          "output_type": "stream",
          "name": "stderr",
          "text": [
            "\r 68%|██████▊   | 45/66 [00:30<00:14,  1.49it/s]"
          ]
        },
        {
          "output_type": "stream",
          "name": "stdout",
          "text": [
            "1/1 [==============================] - 0s 17ms/step\n"
          ]
        },
        {
          "output_type": "stream",
          "name": "stderr",
          "text": [
            "\r 70%|██████▉   | 46/66 [00:30<00:13,  1.53it/s]"
          ]
        },
        {
          "output_type": "stream",
          "name": "stdout",
          "text": [
            "1/1 [==============================] - 0s 19ms/step\n"
          ]
        },
        {
          "output_type": "stream",
          "name": "stderr",
          "text": [
            "\r 71%|███████   | 47/66 [00:31<00:12,  1.54it/s]"
          ]
        },
        {
          "output_type": "stream",
          "name": "stdout",
          "text": [
            "1/1 [==============================] - 0s 19ms/step\n"
          ]
        },
        {
          "output_type": "stream",
          "name": "stderr",
          "text": [
            "\r 73%|███████▎  | 48/66 [00:31<00:11,  1.55it/s]"
          ]
        },
        {
          "output_type": "stream",
          "name": "stdout",
          "text": [
            "1/1 [==============================] - 0s 20ms/step\n"
          ]
        },
        {
          "output_type": "stream",
          "name": "stderr",
          "text": [
            "\r 74%|███████▍  | 49/66 [00:32<00:11,  1.50it/s]"
          ]
        },
        {
          "output_type": "stream",
          "name": "stdout",
          "text": [
            "1/1 [==============================] - 0s 41ms/step\n"
          ]
        },
        {
          "output_type": "stream",
          "name": "stderr",
          "text": [
            "\r 76%|███████▌  | 50/66 [00:33<00:11,  1.44it/s]"
          ]
        },
        {
          "output_type": "stream",
          "name": "stdout",
          "text": [
            "1/1 [==============================] - 0s 32ms/step\n"
          ]
        },
        {
          "output_type": "stream",
          "name": "stderr",
          "text": [
            "\r 77%|███████▋  | 51/66 [00:34<00:10,  1.43it/s]"
          ]
        },
        {
          "output_type": "stream",
          "name": "stdout",
          "text": [
            "1/1 [==============================] - 0s 19ms/step\n"
          ]
        },
        {
          "output_type": "stream",
          "name": "stderr",
          "text": [
            "\r 79%|███████▉  | 52/66 [00:34<00:10,  1.40it/s]"
          ]
        },
        {
          "output_type": "stream",
          "name": "stdout",
          "text": [
            "1/1 [==============================] - 0s 17ms/step\n"
          ]
        },
        {
          "output_type": "stream",
          "name": "stderr",
          "text": [
            "\r 80%|████████  | 53/66 [00:35<00:09,  1.43it/s]"
          ]
        },
        {
          "output_type": "stream",
          "name": "stdout",
          "text": [
            "1/1 [==============================] - 0s 18ms/step\n"
          ]
        },
        {
          "output_type": "stream",
          "name": "stderr",
          "text": [
            "\r 82%|████████▏ | 54/66 [00:36<00:08,  1.47it/s]"
          ]
        },
        {
          "output_type": "stream",
          "name": "stdout",
          "text": [
            "1/1 [==============================] - 0s 18ms/step\n"
          ]
        },
        {
          "output_type": "stream",
          "name": "stderr",
          "text": [
            "\r 83%|████████▎ | 55/66 [00:36<00:07,  1.47it/s]"
          ]
        },
        {
          "output_type": "stream",
          "name": "stdout",
          "text": [
            "1/1 [==============================] - 0s 18ms/step\n"
          ]
        },
        {
          "output_type": "stream",
          "name": "stderr",
          "text": [
            "\r 85%|████████▍ | 56/66 [00:37<00:06,  1.49it/s]"
          ]
        },
        {
          "output_type": "stream",
          "name": "stdout",
          "text": [
            "1/1 [==============================] - 0s 18ms/step\n"
          ]
        },
        {
          "output_type": "stream",
          "name": "stderr",
          "text": [
            "\r 86%|████████▋ | 57/66 [00:38<00:06,  1.50it/s]"
          ]
        },
        {
          "output_type": "stream",
          "name": "stdout",
          "text": [
            "1/1 [==============================] - 0s 18ms/step\n"
          ]
        },
        {
          "output_type": "stream",
          "name": "stderr",
          "text": [
            "\r 88%|████████▊ | 58/66 [00:38<00:05,  1.50it/s]"
          ]
        },
        {
          "output_type": "stream",
          "name": "stdout",
          "text": [
            "1/1 [==============================] - 0s 20ms/step\n"
          ]
        },
        {
          "output_type": "stream",
          "name": "stderr",
          "text": [
            "\r 89%|████████▉ | 59/66 [00:39<00:04,  1.49it/s]"
          ]
        },
        {
          "output_type": "stream",
          "name": "stdout",
          "text": [
            "1/1 [==============================] - 0s 19ms/step\n"
          ]
        },
        {
          "output_type": "stream",
          "name": "stderr",
          "text": [
            "\r 91%|█████████ | 60/66 [00:40<00:04,  1.50it/s]"
          ]
        },
        {
          "output_type": "stream",
          "name": "stdout",
          "text": [
            "1/1 [==============================] - 0s 18ms/step\n"
          ]
        },
        {
          "output_type": "stream",
          "name": "stderr",
          "text": [
            "\r 92%|█████████▏| 61/66 [00:40<00:03,  1.50it/s]"
          ]
        },
        {
          "output_type": "stream",
          "name": "stdout",
          "text": [
            "1/1 [==============================] - 0s 20ms/step\n"
          ]
        },
        {
          "output_type": "stream",
          "name": "stderr",
          "text": [
            "\r 94%|█████████▍| 62/66 [00:41<00:02,  1.53it/s]"
          ]
        },
        {
          "output_type": "stream",
          "name": "stdout",
          "text": [
            "1/1 [==============================] - 0s 19ms/step\n"
          ]
        },
        {
          "output_type": "stream",
          "name": "stderr",
          "text": [
            "\r 95%|█████████▌| 63/66 [00:42<00:01,  1.56it/s]"
          ]
        },
        {
          "output_type": "stream",
          "name": "stdout",
          "text": [
            "1/1 [==============================] - 0s 18ms/step\n"
          ]
        },
        {
          "output_type": "stream",
          "name": "stderr",
          "text": [
            "\r 97%|█████████▋| 64/66 [00:42<00:01,  1.57it/s]"
          ]
        },
        {
          "output_type": "stream",
          "name": "stdout",
          "text": [
            "1/1 [==============================] - 0s 18ms/step\n"
          ]
        },
        {
          "output_type": "stream",
          "name": "stderr",
          "text": [
            "\r 98%|█████████▊| 65/66 [00:43<00:00,  1.57it/s]"
          ]
        },
        {
          "output_type": "stream",
          "name": "stdout",
          "text": [
            "1/1 [==============================] - 0s 20ms/step\n"
          ]
        },
        {
          "output_type": "stream",
          "name": "stderr",
          "text": [
            "100%|██████████| 66/66 [00:44<00:00,  1.50it/s]\n"
          ]
        },
        {
          "output_type": "stream",
          "name": "stdout",
          "text": [
            "epoch: 8 g_loss: 14.190146561824914 d_loss: [0.07749832 0.99195076]\n"
          ]
        },
        {
          "output_type": "stream",
          "name": "stderr",
          "text": [
            "\r  0%|          | 0/66 [00:00<?, ?it/s]"
          ]
        },
        {
          "output_type": "stream",
          "name": "stdout",
          "text": [
            "1/1 [==============================] - 0s 20ms/step\n"
          ]
        },
        {
          "output_type": "stream",
          "name": "stderr",
          "text": [
            "\r  2%|▏         | 1/66 [00:00<00:43,  1.50it/s]"
          ]
        },
        {
          "output_type": "stream",
          "name": "stdout",
          "text": [
            "1/1 [==============================] - 0s 26ms/step\n"
          ]
        },
        {
          "output_type": "stream",
          "name": "stderr",
          "text": [
            "\r  3%|▎         | 2/66 [00:01<00:47,  1.36it/s]"
          ]
        },
        {
          "output_type": "stream",
          "name": "stdout",
          "text": [
            "1/1 [==============================] - 0s 30ms/step\n"
          ]
        },
        {
          "output_type": "stream",
          "name": "stderr",
          "text": [
            "\r  5%|▍         | 3/66 [00:02<00:47,  1.32it/s]"
          ]
        },
        {
          "output_type": "stream",
          "name": "stdout",
          "text": [
            "1/1 [==============================] - 0s 19ms/step\n"
          ]
        },
        {
          "output_type": "stream",
          "name": "stderr",
          "text": [
            "\r  6%|▌         | 4/66 [00:02<00:43,  1.41it/s]"
          ]
        },
        {
          "output_type": "stream",
          "name": "stdout",
          "text": [
            "1/1 [==============================] - 0s 18ms/step\n"
          ]
        },
        {
          "output_type": "stream",
          "name": "stderr",
          "text": [
            "\r  8%|▊         | 5/66 [00:03<00:41,  1.48it/s]"
          ]
        },
        {
          "output_type": "stream",
          "name": "stdout",
          "text": [
            "1/1 [==============================] - 0s 18ms/step\n"
          ]
        },
        {
          "output_type": "stream",
          "name": "stderr",
          "text": [
            "\r  9%|▉         | 6/66 [00:04<00:40,  1.49it/s]"
          ]
        },
        {
          "output_type": "stream",
          "name": "stdout",
          "text": [
            "1/1 [==============================] - 0s 19ms/step\n"
          ]
        },
        {
          "output_type": "stream",
          "name": "stderr",
          "text": [
            "\r 11%|█         | 7/66 [00:04<00:39,  1.50it/s]"
          ]
        },
        {
          "output_type": "stream",
          "name": "stdout",
          "text": [
            "1/1 [==============================] - 0s 18ms/step\n"
          ]
        },
        {
          "output_type": "stream",
          "name": "stderr",
          "text": [
            "\r 12%|█▏        | 8/66 [00:05<00:38,  1.50it/s]"
          ]
        },
        {
          "output_type": "stream",
          "name": "stdout",
          "text": [
            "1/1 [==============================] - 0s 18ms/step\n"
          ]
        },
        {
          "output_type": "stream",
          "name": "stderr",
          "text": [
            "\r 14%|█▎        | 9/66 [00:06<00:37,  1.51it/s]"
          ]
        },
        {
          "output_type": "stream",
          "name": "stdout",
          "text": [
            "1/1 [==============================] - 0s 19ms/step\n"
          ]
        },
        {
          "output_type": "stream",
          "name": "stderr",
          "text": [
            "\r 15%|█▌        | 10/66 [00:06<00:37,  1.50it/s]"
          ]
        },
        {
          "output_type": "stream",
          "name": "stdout",
          "text": [
            "1/1 [==============================] - 0s 18ms/step\n"
          ]
        },
        {
          "output_type": "stream",
          "name": "stderr",
          "text": [
            "\r 17%|█▋        | 11/66 [00:07<00:35,  1.53it/s]"
          ]
        },
        {
          "output_type": "stream",
          "name": "stdout",
          "text": [
            "1/1 [==============================] - 0s 18ms/step\n"
          ]
        },
        {
          "output_type": "stream",
          "name": "stderr",
          "text": [
            "\r 18%|█▊        | 12/66 [00:08<00:35,  1.53it/s]"
          ]
        },
        {
          "output_type": "stream",
          "name": "stdout",
          "text": [
            "1/1 [==============================] - 0s 17ms/step\n"
          ]
        },
        {
          "output_type": "stream",
          "name": "stderr",
          "text": [
            "\r 20%|█▉        | 13/66 [00:08<00:34,  1.53it/s]"
          ]
        },
        {
          "output_type": "stream",
          "name": "stdout",
          "text": [
            "1/1 [==============================] - 0s 19ms/step\n"
          ]
        },
        {
          "output_type": "stream",
          "name": "stderr",
          "text": [
            "\r 21%|██        | 14/66 [00:09<00:33,  1.55it/s]"
          ]
        },
        {
          "output_type": "stream",
          "name": "stdout",
          "text": [
            "1/1 [==============================] - 0s 19ms/step\n"
          ]
        },
        {
          "output_type": "stream",
          "name": "stderr",
          "text": [
            "\r 23%|██▎       | 15/66 [00:10<00:33,  1.54it/s]"
          ]
        },
        {
          "output_type": "stream",
          "name": "stdout",
          "text": [
            "1/1 [==============================] - 0s 20ms/step\n"
          ]
        },
        {
          "output_type": "stream",
          "name": "stderr",
          "text": [
            "\r 24%|██▍       | 16/66 [00:10<00:33,  1.51it/s]"
          ]
        },
        {
          "output_type": "stream",
          "name": "stdout",
          "text": [
            "1/1 [==============================] - 0s 18ms/step\n"
          ]
        },
        {
          "output_type": "stream",
          "name": "stderr",
          "text": [
            "\r 26%|██▌       | 17/66 [00:11<00:32,  1.52it/s]"
          ]
        },
        {
          "output_type": "stream",
          "name": "stdout",
          "text": [
            "1/1 [==============================] - 0s 18ms/step\n"
          ]
        },
        {
          "output_type": "stream",
          "name": "stderr",
          "text": [
            "\r 27%|██▋       | 18/66 [00:11<00:31,  1.54it/s]"
          ]
        },
        {
          "output_type": "stream",
          "name": "stdout",
          "text": [
            "1/1 [==============================] - 0s 26ms/step\n"
          ]
        },
        {
          "output_type": "stream",
          "name": "stderr",
          "text": [
            "\r 29%|██▉       | 19/66 [00:12<00:33,  1.41it/s]"
          ]
        },
        {
          "output_type": "stream",
          "name": "stdout",
          "text": [
            "1/1 [==============================] - 0s 25ms/step\n"
          ]
        },
        {
          "output_type": "stream",
          "name": "stderr",
          "text": [
            "\r 30%|███       | 20/66 [00:13<00:32,  1.42it/s]"
          ]
        },
        {
          "output_type": "stream",
          "name": "stdout",
          "text": [
            "1/1 [==============================] - 0s 28ms/step\n"
          ]
        },
        {
          "output_type": "stream",
          "name": "stderr",
          "text": [
            "\r 32%|███▏      | 21/66 [00:14<00:33,  1.35it/s]"
          ]
        },
        {
          "output_type": "stream",
          "name": "stdout",
          "text": [
            "1/1 [==============================] - 0s 18ms/step\n"
          ]
        },
        {
          "output_type": "stream",
          "name": "stderr",
          "text": [
            "\r 33%|███▎      | 22/66 [00:15<00:31,  1.39it/s]"
          ]
        },
        {
          "output_type": "stream",
          "name": "stdout",
          "text": [
            "1/1 [==============================] - 0s 17ms/step\n"
          ]
        },
        {
          "output_type": "stream",
          "name": "stderr",
          "text": [
            "\r 35%|███▍      | 23/66 [00:15<00:30,  1.43it/s]"
          ]
        },
        {
          "output_type": "stream",
          "name": "stdout",
          "text": [
            "1/1 [==============================] - 0s 18ms/step\n"
          ]
        },
        {
          "output_type": "stream",
          "name": "stderr",
          "text": [
            "\r 36%|███▋      | 24/66 [00:16<00:28,  1.46it/s]"
          ]
        },
        {
          "output_type": "stream",
          "name": "stdout",
          "text": [
            "1/1 [==============================] - 0s 18ms/step\n"
          ]
        },
        {
          "output_type": "stream",
          "name": "stderr",
          "text": [
            "\r 38%|███▊      | 25/66 [00:17<00:28,  1.46it/s]"
          ]
        },
        {
          "output_type": "stream",
          "name": "stdout",
          "text": [
            "1/1 [==============================] - 0s 18ms/step\n"
          ]
        },
        {
          "output_type": "stream",
          "name": "stderr",
          "text": [
            "\r 39%|███▉      | 26/66 [00:17<00:26,  1.51it/s]"
          ]
        },
        {
          "output_type": "stream",
          "name": "stdout",
          "text": [
            "1/1 [==============================] - 0s 17ms/step\n"
          ]
        },
        {
          "output_type": "stream",
          "name": "stderr",
          "text": [
            "\r 41%|████      | 27/66 [00:18<00:25,  1.51it/s]"
          ]
        },
        {
          "output_type": "stream",
          "name": "stdout",
          "text": [
            "1/1 [==============================] - 0s 17ms/step\n"
          ]
        },
        {
          "output_type": "stream",
          "name": "stderr",
          "text": [
            "\r 42%|████▏     | 28/66 [00:18<00:25,  1.51it/s]"
          ]
        },
        {
          "output_type": "stream",
          "name": "stdout",
          "text": [
            "1/1 [==============================] - 0s 17ms/step\n"
          ]
        },
        {
          "output_type": "stream",
          "name": "stderr",
          "text": [
            "\r 44%|████▍     | 29/66 [00:19<00:24,  1.52it/s]"
          ]
        },
        {
          "output_type": "stream",
          "name": "stdout",
          "text": [
            "1/1 [==============================] - 0s 18ms/step\n"
          ]
        },
        {
          "output_type": "stream",
          "name": "stderr",
          "text": [
            "\r 45%|████▌     | 30/66 [00:20<00:23,  1.53it/s]"
          ]
        },
        {
          "output_type": "stream",
          "name": "stdout",
          "text": [
            "1/1 [==============================] - 0s 17ms/step\n"
          ]
        },
        {
          "output_type": "stream",
          "name": "stderr",
          "text": [
            "\r 47%|████▋     | 31/66 [00:20<00:22,  1.53it/s]"
          ]
        },
        {
          "output_type": "stream",
          "name": "stdout",
          "text": [
            "1/1 [==============================] - 0s 18ms/step\n"
          ]
        },
        {
          "output_type": "stream",
          "name": "stderr",
          "text": [
            "\r 48%|████▊     | 32/66 [00:21<00:21,  1.56it/s]"
          ]
        },
        {
          "output_type": "stream",
          "name": "stdout",
          "text": [
            "1/1 [==============================] - 0s 18ms/step\n"
          ]
        },
        {
          "output_type": "stream",
          "name": "stderr",
          "text": [
            "\r 50%|█████     | 33/66 [00:22<00:21,  1.57it/s]"
          ]
        },
        {
          "output_type": "stream",
          "name": "stdout",
          "text": [
            "1/1 [==============================] - 0s 19ms/step\n"
          ]
        },
        {
          "output_type": "stream",
          "name": "stderr",
          "text": [
            "\r 52%|█████▏    | 34/66 [00:22<00:20,  1.55it/s]"
          ]
        },
        {
          "output_type": "stream",
          "name": "stdout",
          "text": [
            "1/1 [==============================] - 0s 18ms/step\n"
          ]
        },
        {
          "output_type": "stream",
          "name": "stderr",
          "text": [
            "\r 53%|█████▎    | 35/66 [00:23<00:19,  1.55it/s]"
          ]
        },
        {
          "output_type": "stream",
          "name": "stdout",
          "text": [
            "1/1 [==============================] - 0s 20ms/step\n"
          ]
        },
        {
          "output_type": "stream",
          "name": "stderr",
          "text": [
            "\r 55%|█████▍    | 36/66 [00:24<00:19,  1.54it/s]"
          ]
        },
        {
          "output_type": "stream",
          "name": "stdout",
          "text": [
            "1/1 [==============================] - 0s 28ms/step\n"
          ]
        },
        {
          "output_type": "stream",
          "name": "stderr",
          "text": [
            "\r 56%|█████▌    | 37/66 [00:24<00:19,  1.50it/s]"
          ]
        },
        {
          "output_type": "stream",
          "name": "stdout",
          "text": [
            "1/1 [==============================] - 0s 25ms/step\n"
          ]
        },
        {
          "output_type": "stream",
          "name": "stderr",
          "text": [
            "\r 58%|█████▊    | 38/66 [00:25<00:19,  1.43it/s]"
          ]
        },
        {
          "output_type": "stream",
          "name": "stdout",
          "text": [
            "1/1 [==============================] - 0s 31ms/step\n"
          ]
        },
        {
          "output_type": "stream",
          "name": "stderr",
          "text": [
            "\r 59%|█████▉    | 39/66 [00:26<00:18,  1.43it/s]"
          ]
        },
        {
          "output_type": "stream",
          "name": "stdout",
          "text": [
            "1/1 [==============================] - 0s 18ms/step\n"
          ]
        },
        {
          "output_type": "stream",
          "name": "stderr",
          "text": [
            "\r 61%|██████    | 40/66 [00:26<00:17,  1.48it/s]"
          ]
        },
        {
          "output_type": "stream",
          "name": "stdout",
          "text": [
            "1/1 [==============================] - 0s 18ms/step\n"
          ]
        },
        {
          "output_type": "stream",
          "name": "stderr",
          "text": [
            "\r 62%|██████▏   | 41/66 [00:27<00:16,  1.51it/s]"
          ]
        },
        {
          "output_type": "stream",
          "name": "stdout",
          "text": [
            "1/1 [==============================] - 0s 18ms/step\n"
          ]
        },
        {
          "output_type": "stream",
          "name": "stderr",
          "text": [
            "\r 64%|██████▎   | 42/66 [00:28<00:15,  1.53it/s]"
          ]
        },
        {
          "output_type": "stream",
          "name": "stdout",
          "text": [
            "1/1 [==============================] - 0s 18ms/step\n"
          ]
        },
        {
          "output_type": "stream",
          "name": "stderr",
          "text": [
            "\r 65%|██████▌   | 43/66 [00:28<00:15,  1.53it/s]"
          ]
        },
        {
          "output_type": "stream",
          "name": "stdout",
          "text": [
            "1/1 [==============================] - 0s 18ms/step\n"
          ]
        },
        {
          "output_type": "stream",
          "name": "stderr",
          "text": [
            "\r 67%|██████▋   | 44/66 [00:29<00:14,  1.53it/s]"
          ]
        },
        {
          "output_type": "stream",
          "name": "stdout",
          "text": [
            "1/1 [==============================] - 0s 18ms/step\n"
          ]
        },
        {
          "output_type": "stream",
          "name": "stderr",
          "text": [
            "\r 68%|██████▊   | 45/66 [00:30<00:13,  1.52it/s]"
          ]
        },
        {
          "output_type": "stream",
          "name": "stdout",
          "text": [
            "1/1 [==============================] - 0s 19ms/step\n"
          ]
        },
        {
          "output_type": "stream",
          "name": "stderr",
          "text": [
            "\r 70%|██████▉   | 46/66 [00:30<00:13,  1.46it/s]"
          ]
        },
        {
          "output_type": "stream",
          "name": "stdout",
          "text": [
            "1/1 [==============================] - 0s 17ms/step\n"
          ]
        },
        {
          "output_type": "stream",
          "name": "stderr",
          "text": [
            "\r 71%|███████   | 47/66 [00:31<00:12,  1.51it/s]"
          ]
        },
        {
          "output_type": "stream",
          "name": "stdout",
          "text": [
            "1/1 [==============================] - 0s 18ms/step\n"
          ]
        },
        {
          "output_type": "stream",
          "name": "stderr",
          "text": [
            "\r 73%|███████▎  | 48/66 [00:32<00:11,  1.54it/s]"
          ]
        },
        {
          "output_type": "stream",
          "name": "stdout",
          "text": [
            "1/1 [==============================] - 0s 18ms/step\n"
          ]
        },
        {
          "output_type": "stream",
          "name": "stderr",
          "text": [
            "\r 74%|███████▍  | 49/66 [00:32<00:11,  1.51it/s]"
          ]
        },
        {
          "output_type": "stream",
          "name": "stdout",
          "text": [
            "1/1 [==============================] - 0s 18ms/step\n"
          ]
        },
        {
          "output_type": "stream",
          "name": "stderr",
          "text": [
            "\r 76%|███████▌  | 50/66 [00:33<00:10,  1.52it/s]"
          ]
        },
        {
          "output_type": "stream",
          "name": "stdout",
          "text": [
            "1/1 [==============================] - 0s 19ms/step\n"
          ]
        },
        {
          "output_type": "stream",
          "name": "stderr",
          "text": [
            "\r 77%|███████▋  | 51/66 [00:34<00:09,  1.54it/s]"
          ]
        },
        {
          "output_type": "stream",
          "name": "stdout",
          "text": [
            "1/1 [==============================] - 0s 18ms/step\n"
          ]
        },
        {
          "output_type": "stream",
          "name": "stderr",
          "text": [
            "\r 79%|███████▉  | 52/66 [00:34<00:09,  1.54it/s]"
          ]
        },
        {
          "output_type": "stream",
          "name": "stdout",
          "text": [
            "1/1 [==============================] - 0s 17ms/step\n"
          ]
        },
        {
          "output_type": "stream",
          "name": "stderr",
          "text": [
            "\r 80%|████████  | 53/66 [00:35<00:08,  1.54it/s]"
          ]
        },
        {
          "output_type": "stream",
          "name": "stdout",
          "text": [
            "1/1 [==============================] - 0s 19ms/step\n"
          ]
        },
        {
          "output_type": "stream",
          "name": "stderr",
          "text": [
            "\r 82%|████████▏ | 54/66 [00:36<00:07,  1.54it/s]"
          ]
        },
        {
          "output_type": "stream",
          "name": "stdout",
          "text": [
            "1/1 [==============================] - 0s 25ms/step\n"
          ]
        },
        {
          "output_type": "stream",
          "name": "stderr",
          "text": [
            "\r 83%|████████▎ | 55/66 [00:36<00:07,  1.45it/s]"
          ]
        },
        {
          "output_type": "stream",
          "name": "stdout",
          "text": [
            "1/1 [==============================] - 0s 29ms/step\n"
          ]
        },
        {
          "output_type": "stream",
          "name": "stderr",
          "text": [
            "\r 85%|████████▍ | 56/66 [00:37<00:07,  1.41it/s]"
          ]
        },
        {
          "output_type": "stream",
          "name": "stdout",
          "text": [
            "1/1 [==============================] - 0s 27ms/step\n"
          ]
        },
        {
          "output_type": "stream",
          "name": "stderr",
          "text": [
            "\r 86%|████████▋ | 57/66 [00:38<00:06,  1.42it/s]"
          ]
        },
        {
          "output_type": "stream",
          "name": "stdout",
          "text": [
            "1/1 [==============================] - 0s 18ms/step\n"
          ]
        },
        {
          "output_type": "stream",
          "name": "stderr",
          "text": [
            "\r 88%|████████▊ | 58/66 [00:38<00:05,  1.45it/s]"
          ]
        },
        {
          "output_type": "stream",
          "name": "stdout",
          "text": [
            "1/1 [==============================] - 0s 18ms/step\n"
          ]
        },
        {
          "output_type": "stream",
          "name": "stderr",
          "text": [
            "\r 89%|████████▉ | 59/66 [00:39<00:04,  1.48it/s]"
          ]
        },
        {
          "output_type": "stream",
          "name": "stdout",
          "text": [
            "1/1 [==============================] - 0s 18ms/step\n"
          ]
        },
        {
          "output_type": "stream",
          "name": "stderr",
          "text": [
            "\r 91%|█████████ | 60/66 [00:40<00:04,  1.49it/s]"
          ]
        },
        {
          "output_type": "stream",
          "name": "stdout",
          "text": [
            "1/1 [==============================] - 0s 18ms/step\n"
          ]
        },
        {
          "output_type": "stream",
          "name": "stderr",
          "text": [
            "\r 92%|█████████▏| 61/66 [00:40<00:03,  1.51it/s]"
          ]
        },
        {
          "output_type": "stream",
          "name": "stdout",
          "text": [
            "1/1 [==============================] - 0s 18ms/step\n"
          ]
        },
        {
          "output_type": "stream",
          "name": "stderr",
          "text": [
            "\r 94%|█████████▍| 62/66 [00:41<00:02,  1.51it/s]"
          ]
        },
        {
          "output_type": "stream",
          "name": "stdout",
          "text": [
            "1/1 [==============================] - 0s 19ms/step\n"
          ]
        },
        {
          "output_type": "stream",
          "name": "stderr",
          "text": [
            "\r 95%|█████████▌| 63/66 [00:42<00:01,  1.52it/s]"
          ]
        },
        {
          "output_type": "stream",
          "name": "stdout",
          "text": [
            "1/1 [==============================] - 0s 18ms/step\n"
          ]
        },
        {
          "output_type": "stream",
          "name": "stderr",
          "text": [
            "\r 97%|█████████▋| 64/66 [00:42<00:01,  1.52it/s]"
          ]
        },
        {
          "output_type": "stream",
          "name": "stdout",
          "text": [
            "1/1 [==============================] - 0s 19ms/step\n"
          ]
        },
        {
          "output_type": "stream",
          "name": "stderr",
          "text": [
            "\r 98%|█████████▊| 65/66 [00:43<00:00,  1.55it/s]"
          ]
        },
        {
          "output_type": "stream",
          "name": "stdout",
          "text": [
            "1/1 [==============================] - 0s 17ms/step\n"
          ]
        },
        {
          "output_type": "stream",
          "name": "stderr",
          "text": [
            "100%|██████████| 66/66 [00:44<00:00,  1.50it/s]\n"
          ]
        },
        {
          "output_type": "stream",
          "name": "stdout",
          "text": [
            "epoch: 9 g_loss: 13.75797364206025 d_loss: [0.21925148 0.97964015]\n"
          ]
        },
        {
          "output_type": "stream",
          "name": "stderr",
          "text": [
            "\r  0%|          | 0/66 [00:00<?, ?it/s]"
          ]
        },
        {
          "output_type": "stream",
          "name": "stdout",
          "text": [
            "1/1 [==============================] - 0s 23ms/step\n"
          ]
        },
        {
          "output_type": "stream",
          "name": "stderr",
          "text": [
            "\r  2%|▏         | 1/66 [00:00<00:43,  1.49it/s]"
          ]
        },
        {
          "output_type": "stream",
          "name": "stdout",
          "text": [
            "1/1 [==============================] - 0s 18ms/step\n"
          ]
        },
        {
          "output_type": "stream",
          "name": "stderr",
          "text": [
            "\r  3%|▎         | 2/66 [00:01<00:41,  1.56it/s]"
          ]
        },
        {
          "output_type": "stream",
          "name": "stdout",
          "text": [
            "1/1 [==============================] - 0s 18ms/step\n"
          ]
        },
        {
          "output_type": "stream",
          "name": "stderr",
          "text": [
            "\r  5%|▍         | 3/66 [00:01<00:41,  1.52it/s]"
          ]
        },
        {
          "output_type": "stream",
          "name": "stdout",
          "text": [
            "1/1 [==============================] - 0s 19ms/step\n"
          ]
        },
        {
          "output_type": "stream",
          "name": "stderr",
          "text": [
            "\r  6%|▌         | 4/66 [00:02<00:39,  1.56it/s]"
          ]
        },
        {
          "output_type": "stream",
          "name": "stdout",
          "text": [
            "1/1 [==============================] - 0s 18ms/step\n"
          ]
        },
        {
          "output_type": "stream",
          "name": "stderr",
          "text": [
            "\r  8%|▊         | 5/66 [00:03<00:38,  1.58it/s]"
          ]
        },
        {
          "output_type": "stream",
          "name": "stdout",
          "text": [
            "1/1 [==============================] - 0s 18ms/step\n"
          ]
        },
        {
          "output_type": "stream",
          "name": "stderr",
          "text": [
            "\r  9%|▉         | 6/66 [00:03<00:38,  1.56it/s]"
          ]
        },
        {
          "output_type": "stream",
          "name": "stdout",
          "text": [
            "1/1 [==============================] - 0s 26ms/step\n"
          ]
        },
        {
          "output_type": "stream",
          "name": "stderr",
          "text": [
            "\r 11%|█         | 7/66 [00:04<00:40,  1.45it/s]"
          ]
        },
        {
          "output_type": "stream",
          "name": "stdout",
          "text": [
            "1/1 [==============================] - 0s 26ms/step\n"
          ]
        },
        {
          "output_type": "stream",
          "name": "stderr",
          "text": [
            "\r 12%|█▏        | 8/66 [00:05<00:40,  1.44it/s]"
          ]
        },
        {
          "output_type": "stream",
          "name": "stdout",
          "text": [
            "1/1 [==============================] - 0s 25ms/step\n"
          ]
        },
        {
          "output_type": "stream",
          "name": "stderr",
          "text": [
            "\r 14%|█▎        | 9/66 [00:06<00:41,  1.38it/s]"
          ]
        },
        {
          "output_type": "stream",
          "name": "stdout",
          "text": [
            "1/1 [==============================] - 0s 29ms/step\n"
          ]
        },
        {
          "output_type": "stream",
          "name": "stderr",
          "text": [
            "\r 15%|█▌        | 10/66 [00:06<00:38,  1.44it/s]"
          ]
        },
        {
          "output_type": "stream",
          "name": "stdout",
          "text": [
            "1/1 [==============================] - 0s 19ms/step\n"
          ]
        },
        {
          "output_type": "stream",
          "name": "stderr",
          "text": [
            "\r 17%|█▋        | 11/66 [00:07<00:37,  1.48it/s]"
          ]
        },
        {
          "output_type": "stream",
          "name": "stdout",
          "text": [
            "1/1 [==============================] - 0s 18ms/step\n"
          ]
        },
        {
          "output_type": "stream",
          "name": "stderr",
          "text": [
            "\r 18%|█▊        | 12/66 [00:08<00:36,  1.49it/s]"
          ]
        },
        {
          "output_type": "stream",
          "name": "stdout",
          "text": [
            "1/1 [==============================] - 0s 19ms/step\n"
          ]
        },
        {
          "output_type": "stream",
          "name": "stderr",
          "text": [
            "\r 20%|█▉        | 13/66 [00:08<00:35,  1.50it/s]"
          ]
        },
        {
          "output_type": "stream",
          "name": "stdout",
          "text": [
            "1/1 [==============================] - 0s 20ms/step\n"
          ]
        },
        {
          "output_type": "stream",
          "name": "stderr",
          "text": [
            "\r 21%|██        | 14/66 [00:09<00:34,  1.52it/s]"
          ]
        },
        {
          "output_type": "stream",
          "name": "stdout",
          "text": [
            "1/1 [==============================] - 0s 19ms/step\n"
          ]
        },
        {
          "output_type": "stream",
          "name": "stderr",
          "text": [
            "\r 23%|██▎       | 15/66 [00:09<00:33,  1.54it/s]"
          ]
        },
        {
          "output_type": "stream",
          "name": "stdout",
          "text": [
            "1/1 [==============================] - 0s 18ms/step\n"
          ]
        },
        {
          "output_type": "stream",
          "name": "stderr",
          "text": [
            "\r 24%|██▍       | 16/66 [00:10<00:32,  1.53it/s]"
          ]
        },
        {
          "output_type": "stream",
          "name": "stdout",
          "text": [
            "1/1 [==============================] - 0s 18ms/step\n"
          ]
        },
        {
          "output_type": "stream",
          "name": "stderr",
          "text": [
            "\r 26%|██▌       | 17/66 [00:11<00:32,  1.50it/s]"
          ]
        },
        {
          "output_type": "stream",
          "name": "stdout",
          "text": [
            "1/1 [==============================] - 0s 18ms/step\n"
          ]
        },
        {
          "output_type": "stream",
          "name": "stderr",
          "text": [
            "\r 27%|██▋       | 18/66 [00:11<00:31,  1.51it/s]"
          ]
        },
        {
          "output_type": "stream",
          "name": "stdout",
          "text": [
            "1/1 [==============================] - 0s 18ms/step\n"
          ]
        },
        {
          "output_type": "stream",
          "name": "stderr",
          "text": [
            "\r 29%|██▉       | 19/66 [00:12<00:31,  1.51it/s]"
          ]
        },
        {
          "output_type": "stream",
          "name": "stdout",
          "text": [
            "1/1 [==============================] - 0s 18ms/step\n"
          ]
        },
        {
          "output_type": "stream",
          "name": "stderr",
          "text": [
            "\r 30%|███       | 20/66 [00:13<00:30,  1.50it/s]"
          ]
        },
        {
          "output_type": "stream",
          "name": "stdout",
          "text": [
            "1/1 [==============================] - 0s 18ms/step\n"
          ]
        },
        {
          "output_type": "stream",
          "name": "stderr",
          "text": [
            "\r 32%|███▏      | 21/66 [00:13<00:29,  1.50it/s]"
          ]
        },
        {
          "output_type": "stream",
          "name": "stdout",
          "text": [
            "1/1 [==============================] - 0s 18ms/step\n"
          ]
        },
        {
          "output_type": "stream",
          "name": "stderr",
          "text": [
            "\r 33%|███▎      | 22/66 [00:14<00:29,  1.51it/s]"
          ]
        },
        {
          "output_type": "stream",
          "name": "stdout",
          "text": [
            "1/1 [==============================] - 0s 18ms/step\n"
          ]
        },
        {
          "output_type": "stream",
          "name": "stderr",
          "text": [
            "\r 35%|███▍      | 23/66 [00:15<00:28,  1.51it/s]"
          ]
        },
        {
          "output_type": "stream",
          "name": "stdout",
          "text": [
            "1/1 [==============================] - 0s 18ms/step\n"
          ]
        },
        {
          "output_type": "stream",
          "name": "stderr",
          "text": [
            "\r 36%|███▋      | 24/66 [00:15<00:27,  1.53it/s]"
          ]
        },
        {
          "output_type": "stream",
          "name": "stdout",
          "text": [
            "1/1 [==============================] - 0s 36ms/step\n"
          ]
        },
        {
          "output_type": "stream",
          "name": "stderr",
          "text": [
            "\r 38%|███▊      | 25/66 [00:16<00:28,  1.42it/s]"
          ]
        },
        {
          "output_type": "stream",
          "name": "stdout",
          "text": [
            "1/1 [==============================] - 0s 19ms/step\n"
          ]
        },
        {
          "output_type": "stream",
          "name": "stderr",
          "text": [
            "\r 39%|███▉      | 26/66 [00:17<00:27,  1.44it/s]"
          ]
        },
        {
          "output_type": "stream",
          "name": "stdout",
          "text": [
            "1/1 [==============================] - 0s 22ms/step\n"
          ]
        },
        {
          "output_type": "stream",
          "name": "stderr",
          "text": [
            "\r 41%|████      | 27/66 [00:18<00:26,  1.46it/s]"
          ]
        },
        {
          "output_type": "stream",
          "name": "stdout",
          "text": [
            "1/1 [==============================] - 0s 19ms/step\n"
          ]
        },
        {
          "output_type": "stream",
          "name": "stderr",
          "text": [
            "\r 42%|████▏     | 28/66 [00:18<00:25,  1.47it/s]"
          ]
        },
        {
          "output_type": "stream",
          "name": "stdout",
          "text": [
            "1/1 [==============================] - 0s 18ms/step\n"
          ]
        },
        {
          "output_type": "stream",
          "name": "stderr",
          "text": [
            "\r 44%|████▍     | 29/66 [00:19<00:24,  1.49it/s]"
          ]
        },
        {
          "output_type": "stream",
          "name": "stdout",
          "text": [
            "1/1 [==============================] - 0s 18ms/step\n"
          ]
        },
        {
          "output_type": "stream",
          "name": "stderr",
          "text": [
            "\r 45%|████▌     | 30/66 [00:20<00:23,  1.52it/s]"
          ]
        },
        {
          "output_type": "stream",
          "name": "stdout",
          "text": [
            "1/1 [==============================] - 0s 18ms/step\n"
          ]
        },
        {
          "output_type": "stream",
          "name": "stderr",
          "text": [
            "\r 47%|████▋     | 31/66 [00:20<00:23,  1.52it/s]"
          ]
        },
        {
          "output_type": "stream",
          "name": "stdout",
          "text": [
            "1/1 [==============================] - 0s 18ms/step\n"
          ]
        },
        {
          "output_type": "stream",
          "name": "stderr",
          "text": [
            "\r 48%|████▊     | 32/66 [00:21<00:22,  1.52it/s]"
          ]
        },
        {
          "output_type": "stream",
          "name": "stdout",
          "text": [
            "1/1 [==============================] - 0s 18ms/step\n"
          ]
        },
        {
          "output_type": "stream",
          "name": "stderr",
          "text": [
            "\r 50%|█████     | 33/66 [00:22<00:21,  1.52it/s]"
          ]
        },
        {
          "output_type": "stream",
          "name": "stdout",
          "text": [
            "1/1 [==============================] - 0s 18ms/step\n"
          ]
        },
        {
          "output_type": "stream",
          "name": "stderr",
          "text": [
            "\r 52%|█████▏    | 34/66 [00:22<00:21,  1.52it/s]"
          ]
        },
        {
          "output_type": "stream",
          "name": "stdout",
          "text": [
            "1/1 [==============================] - 0s 18ms/step\n"
          ]
        },
        {
          "output_type": "stream",
          "name": "stderr",
          "text": [
            "\r 53%|█████▎    | 35/66 [00:23<00:20,  1.52it/s]"
          ]
        },
        {
          "output_type": "stream",
          "name": "stdout",
          "text": [
            "1/1 [==============================] - 0s 19ms/step\n"
          ]
        },
        {
          "output_type": "stream",
          "name": "stderr",
          "text": [
            "\r 55%|█████▍    | 36/66 [00:24<00:19,  1.52it/s]"
          ]
        },
        {
          "output_type": "stream",
          "name": "stdout",
          "text": [
            "1/1 [==============================] - 0s 18ms/step\n"
          ]
        },
        {
          "output_type": "stream",
          "name": "stderr",
          "text": [
            "\r 56%|█████▌    | 37/66 [00:24<00:18,  1.53it/s]"
          ]
        },
        {
          "output_type": "stream",
          "name": "stdout",
          "text": [
            "1/1 [==============================] - 0s 18ms/step\n"
          ]
        },
        {
          "output_type": "stream",
          "name": "stderr",
          "text": [
            "\r 58%|█████▊    | 38/66 [00:25<00:18,  1.52it/s]"
          ]
        },
        {
          "output_type": "stream",
          "name": "stdout",
          "text": [
            "1/1 [==============================] - 0s 17ms/step\n"
          ]
        },
        {
          "output_type": "stream",
          "name": "stderr",
          "text": [
            "\r 59%|█████▉    | 39/66 [00:25<00:17,  1.51it/s]"
          ]
        },
        {
          "output_type": "stream",
          "name": "stdout",
          "text": [
            "1/1 [==============================] - 0s 18ms/step\n"
          ]
        },
        {
          "output_type": "stream",
          "name": "stderr",
          "text": [
            "\r 61%|██████    | 40/66 [00:26<00:17,  1.53it/s]"
          ]
        },
        {
          "output_type": "stream",
          "name": "stdout",
          "text": [
            "1/1 [==============================] - 0s 22ms/step\n"
          ]
        },
        {
          "output_type": "stream",
          "name": "stderr",
          "text": [
            "\r 62%|██████▏   | 41/66 [00:27<00:16,  1.49it/s]"
          ]
        },
        {
          "output_type": "stream",
          "name": "stdout",
          "text": [
            "1/1 [==============================] - 0s 25ms/step\n"
          ]
        },
        {
          "output_type": "stream",
          "name": "stderr",
          "text": [
            "\r 64%|██████▎   | 42/66 [00:28<00:16,  1.42it/s]"
          ]
        },
        {
          "output_type": "stream",
          "name": "stdout",
          "text": [
            "1/1 [==============================] - 0s 24ms/step\n"
          ]
        },
        {
          "output_type": "stream",
          "name": "stderr",
          "text": [
            "\r 65%|██████▌   | 43/66 [00:28<00:16,  1.40it/s]"
          ]
        },
        {
          "output_type": "stream",
          "name": "stdout",
          "text": [
            "1/1 [==============================] - 0s 19ms/step\n"
          ]
        },
        {
          "output_type": "stream",
          "name": "stderr",
          "text": [
            "\r 67%|██████▋   | 44/66 [00:29<00:15,  1.43it/s]"
          ]
        },
        {
          "output_type": "stream",
          "name": "stdout",
          "text": [
            "1/1 [==============================] - 0s 18ms/step\n"
          ]
        },
        {
          "output_type": "stream",
          "name": "stderr",
          "text": [
            "\r 68%|██████▊   | 45/66 [00:30<00:14,  1.46it/s]"
          ]
        },
        {
          "output_type": "stream",
          "name": "stdout",
          "text": [
            "1/1 [==============================] - 0s 18ms/step\n"
          ]
        },
        {
          "output_type": "stream",
          "name": "stderr",
          "text": [
            "\r 70%|██████▉   | 46/66 [00:30<00:13,  1.49it/s]"
          ]
        },
        {
          "output_type": "stream",
          "name": "stdout",
          "text": [
            "1/1 [==============================] - 0s 19ms/step\n"
          ]
        },
        {
          "output_type": "stream",
          "name": "stderr",
          "text": [
            "\r 71%|███████   | 47/66 [00:31<00:12,  1.49it/s]"
          ]
        },
        {
          "output_type": "stream",
          "name": "stdout",
          "text": [
            "1/1 [==============================] - 0s 18ms/step\n"
          ]
        },
        {
          "output_type": "stream",
          "name": "stderr",
          "text": [
            "\r 73%|███████▎  | 48/66 [00:32<00:12,  1.50it/s]"
          ]
        },
        {
          "output_type": "stream",
          "name": "stdout",
          "text": [
            "1/1 [==============================] - 0s 18ms/step\n"
          ]
        },
        {
          "output_type": "stream",
          "name": "stderr",
          "text": [
            "\r 74%|███████▍  | 49/66 [00:32<00:11,  1.51it/s]"
          ]
        },
        {
          "output_type": "stream",
          "name": "stdout",
          "text": [
            "1/1 [==============================] - 0s 22ms/step\n"
          ]
        },
        {
          "output_type": "stream",
          "name": "stderr",
          "text": [
            "\r 76%|███████▌  | 50/66 [00:33<00:10,  1.53it/s]"
          ]
        },
        {
          "output_type": "stream",
          "name": "stdout",
          "text": [
            "1/1 [==============================] - 0s 18ms/step\n"
          ]
        },
        {
          "output_type": "stream",
          "name": "stderr",
          "text": [
            "\r 77%|███████▋  | 51/66 [00:34<00:09,  1.53it/s]"
          ]
        },
        {
          "output_type": "stream",
          "name": "stdout",
          "text": [
            "1/1 [==============================] - 0s 17ms/step\n"
          ]
        },
        {
          "output_type": "stream",
          "name": "stderr",
          "text": [
            "\r 79%|███████▉  | 52/66 [00:34<00:09,  1.53it/s]"
          ]
        },
        {
          "output_type": "stream",
          "name": "stdout",
          "text": [
            "1/1 [==============================] - 0s 17ms/step\n"
          ]
        },
        {
          "output_type": "stream",
          "name": "stderr",
          "text": [
            "\r 80%|████████  | 53/66 [00:35<00:08,  1.52it/s]"
          ]
        },
        {
          "output_type": "stream",
          "name": "stdout",
          "text": [
            "1/1 [==============================] - 0s 18ms/step\n"
          ]
        },
        {
          "output_type": "stream",
          "name": "stderr",
          "text": [
            "\r 82%|████████▏ | 54/66 [00:36<00:07,  1.51it/s]"
          ]
        },
        {
          "output_type": "stream",
          "name": "stdout",
          "text": [
            "1/1 [==============================] - 0s 18ms/step\n"
          ]
        },
        {
          "output_type": "stream",
          "name": "stderr",
          "text": [
            "\r 83%|████████▎ | 55/66 [00:36<00:07,  1.48it/s]"
          ]
        },
        {
          "output_type": "stream",
          "name": "stdout",
          "text": [
            "1/1 [==============================] - 0s 18ms/step\n"
          ]
        },
        {
          "output_type": "stream",
          "name": "stderr",
          "text": [
            "\r 85%|████████▍ | 56/66 [00:37<00:06,  1.51it/s]"
          ]
        },
        {
          "output_type": "stream",
          "name": "stdout",
          "text": [
            "1/1 [==============================] - 0s 19ms/step\n"
          ]
        },
        {
          "output_type": "stream",
          "name": "stderr",
          "text": [
            "\r 86%|████████▋ | 57/66 [00:38<00:05,  1.51it/s]"
          ]
        },
        {
          "output_type": "stream",
          "name": "stdout",
          "text": [
            "1/1 [==============================] - 0s 18ms/step\n"
          ]
        },
        {
          "output_type": "stream",
          "name": "stderr",
          "text": [
            "\r 88%|████████▊ | 58/66 [00:38<00:05,  1.50it/s]"
          ]
        },
        {
          "output_type": "stream",
          "name": "stdout",
          "text": [
            "1/1 [==============================] - 0s 25ms/step\n"
          ]
        },
        {
          "output_type": "stream",
          "name": "stderr",
          "text": [
            "\r 89%|████████▉ | 59/66 [00:39<00:04,  1.48it/s]"
          ]
        },
        {
          "output_type": "stream",
          "name": "stdout",
          "text": [
            "1/1 [==============================] - 0s 24ms/step\n"
          ]
        },
        {
          "output_type": "stream",
          "name": "stderr",
          "text": [
            "\r 91%|█████████ | 60/66 [00:40<00:04,  1.47it/s]"
          ]
        },
        {
          "output_type": "stream",
          "name": "stdout",
          "text": [
            "1/1 [==============================] - 0s 27ms/step\n"
          ]
        },
        {
          "output_type": "stream",
          "name": "stderr",
          "text": [
            "\r 92%|█████████▏| 61/66 [00:40<00:03,  1.47it/s]"
          ]
        },
        {
          "output_type": "stream",
          "name": "stdout",
          "text": [
            "1/1 [==============================] - 0s 17ms/step\n"
          ]
        },
        {
          "output_type": "stream",
          "name": "stderr",
          "text": [
            "\r 94%|█████████▍| 62/66 [00:41<00:02,  1.50it/s]"
          ]
        },
        {
          "output_type": "stream",
          "name": "stdout",
          "text": [
            "1/1 [==============================] - 0s 18ms/step\n"
          ]
        },
        {
          "output_type": "stream",
          "name": "stderr",
          "text": [
            "\r 95%|█████████▌| 63/66 [00:42<00:01,  1.50it/s]"
          ]
        },
        {
          "output_type": "stream",
          "name": "stdout",
          "text": [
            "1/1 [==============================] - 0s 18ms/step\n"
          ]
        },
        {
          "output_type": "stream",
          "name": "stderr",
          "text": [
            "\r 97%|█████████▋| 64/66 [00:42<00:01,  1.50it/s]"
          ]
        },
        {
          "output_type": "stream",
          "name": "stdout",
          "text": [
            "1/1 [==============================] - 0s 18ms/step\n"
          ]
        },
        {
          "output_type": "stream",
          "name": "stderr",
          "text": [
            "\r 98%|█████████▊| 65/66 [00:43<00:00,  1.50it/s]"
          ]
        },
        {
          "output_type": "stream",
          "name": "stdout",
          "text": [
            "1/1 [==============================] - 0s 18ms/step\n"
          ]
        },
        {
          "output_type": "stream",
          "name": "stderr",
          "text": [
            "100%|██████████| 66/66 [00:44<00:00,  1.50it/s]\n",
            "/usr/local/lib/python3.10/dist-packages/keras/src/engine/training.py:3103: UserWarning: You are saving your model as an HDF5 file via `model.save()`. This file format is considered legacy. We recommend using instead the native Keras format, e.g. `model.save('my_model.keras')`.\n",
            "  saving_api.save_model(\n",
            "WARNING:tensorflow:Compiled the loaded model, but the compiled metrics have yet to be built. `model.compile_metrics` will be empty until you train or evaluate the model.\n"
          ]
        },
        {
          "output_type": "stream",
          "name": "stdout",
          "text": [
            "epoch: 10 g_loss: 13.327097907210842 d_loss: [2.81784301e-04 1.00000000e+00]\n"
          ]
        }
      ],
      "source": [
        "epochs = 10\n",
        "#Enumerate training over epochs\n",
        "for e in range(epochs):\n",
        "\n",
        "    fake_label = np.zeros((batch_size, 1)) # Assign a label of 0 to all fake (generated images)\n",
        "    real_label = np.ones((batch_size,1)) # Assign a label of 1 to all real images.\n",
        "\n",
        "    #Create empty lists to populate gen and disc losses.\n",
        "    g_losses = []\n",
        "    d_losses = []\n",
        "\n",
        "    #Enumerate training over batches.\n",
        "    for b in tqdm(range(len(train_hr_batches))):\n",
        "        lr_imgs = train_lr_batches[b] #Fetch a batch of LR images for training\n",
        "        hr_imgs = train_hr_batches[b] #Fetch a batch of HR images for training\n",
        "\n",
        "        fake_imgs = generator.predict_on_batch(lr_imgs) #Fake images\n",
        "\n",
        "        #First, train the discriminator on fake and real HR images.\n",
        "        discriminator.trainable = True\n",
        "        d_loss_gen = discriminator.train_on_batch(fake_imgs, fake_label)\n",
        "        d_loss_real = discriminator.train_on_batch(hr_imgs, real_label)\n",
        "\n",
        "        #Now, train the generator by fixing discriminator as non-trainable\n",
        "        discriminator.trainable = False\n",
        "\n",
        "        #Average the discriminator loss, just for reporting purposes.\n",
        "        d_loss = 0.5 * np.add(d_loss_gen, d_loss_real)\n",
        "\n",
        "        #Extract VGG features, to be used towards calculating loss\n",
        "        image_features = vgg.predict(hr_imgs)\n",
        "\n",
        "        #Train the generator via GAN.\n",
        "        #Remember that we have 2 losses, adversarial loss and content (VGG) loss\n",
        "        g_loss, _, _ = gan_model.train_on_batch([lr_imgs, hr_imgs], [real_label, image_features])\n",
        "\n",
        "        #Save losses to a list so we can average and report.\n",
        "        d_losses.append(d_loss)\n",
        "        g_losses.append(g_loss)\n",
        "\n",
        "    #Convert the list of losses to an array to make it easy to average\n",
        "    g_losses = np.array(g_losses)\n",
        "    d_losses = np.array(d_losses)\n",
        "\n",
        "    #Calculate the average losses for generator and discriminator\n",
        "    g_loss = np.sum(g_losses, axis=0) / len(g_losses)\n",
        "    d_loss = np.sum(d_losses, axis=0) / len(d_losses)\n",
        "\n",
        "    #Report the progress during training.\n",
        "    print(\"epoch:\", e+1 ,\"g_loss:\", g_loss, \"d_loss:\", d_loss)\n",
        "\n",
        "    if (e+1) % 10 == 0: #Change the frequency for model saving, if needed\n",
        "        #Save the generator after every n epochs (Usually 10 epochs)\n",
        "        generator.save(\"/kaggle/working/saved_model/gen_e_\"+ str(e+1) +\".h5\")"
      ]
    },
    {
      "cell_type": "code",
      "execution_count": null,
      "metadata": {
        "id": "ogs9Xzb8fKJG"
      },
      "outputs": [],
      "source": [
        "from keras.models import load_model\n",
        "from numpy.random import randint\n",
        "\n",
        "generator = load_model('/kaggle/working/saved_model/gen_e_10.h5', compile=False)"
      ]
    },
    {
      "cell_type": "code",
      "execution_count": null,
      "metadata": {
        "id": "-sRovKbjfSaF",
        "colab": {
          "base_uri": "https://localhost:8080/"
        },
        "outputId": "4e4b8961-8390-4d9a-8399-fdad3da95fdf"
      },
      "outputs": [
        {
          "output_type": "stream",
          "name": "stdout",
          "text": [
            "1/1 [==============================] - 1s 1s/step\n"
          ]
        }
      ],
      "source": [
        "[X1, X2] = [lr_test, hr_test]\n",
        "# select random example\n",
        "ix = randint(0, len(X1), 1)\n",
        "src_image, tar_image = X1[ix], X2[ix]\n",
        "\n",
        "# generate image from source\n",
        "gen_image = generator.predict(src_image)"
      ]
    },
    {
      "cell_type": "code",
      "execution_count": null,
      "metadata": {
        "id": "qC4u7phgfYBE",
        "colab": {
          "base_uri": "https://localhost:8080/",
          "height": 363
        },
        "outputId": "fcfdf87c-3b3b-45d7-c564-d1c2355ceaae"
      },
      "outputs": [
        {
          "output_type": "display_data",
          "data": {
            "text/plain": [
              "<Figure size 1600x800 with 2 Axes>"
            ],
            "image/png": "[encoded data removed]"
          },
          "metadata": {}
        }
      ],
      "source": [
        "plt.figure(figsize=(16, 8))\n",
        "plt.subplot(231)\n",
        "plt.title('LR Image')\n",
        "plt.imshow(src_image[0,:,:,:])\n",
        "plt.subplot(232)\n",
        "\n",
        "plt.title('Superresolution')\n",
        "plt.imshow(tar_image[0,:,:,:])\n",
        "\n",
        "plt.show()"
      ]
    },
    {
      "cell_type": "code",
      "execution_count": null,
      "metadata": {
        "id": "En121Qr78LP6",
        "colab": {
          "base_uri": "https://localhost:8080/",
          "height": 1000
        },
        "outputId": "dd4a01e3-2ebb-4eea-ffc9-a7e692c4da2f"
      },
      "outputs": [
        {
          "output_type": "stream",
          "name": "stderr",
          "text": [
            "<ipython-input-23-21f79b6edfc2>:7: UserWarning: \n",
            "\n",
            "`distplot` is a deprecated function and will be removed in seaborn v0.14.0.\n",
            "\n",
            "Please adapt your code to use either `displot` (a figure-level function with\n",
            "similar flexibility) or `histplot` (an axes-level function for histograms).\n",
            "\n",
            "For a guide to updating your code to use the new functions, please see\n",
            "https://gist.github.com/mwaskom/de44147ed2974457ad6372750bbe5751\n",
            "\n",
            "  sns.distplot(source, label='Real Images', hist=True, color='#fc0328', ax=axs)\n",
            "<ipython-input-23-21f79b6edfc2>:8: UserWarning: \n",
            "\n",
            "`distplot` is a deprecated function and will be removed in seaborn v0.14.0.\n",
            "\n",
            "Please adapt your code to use either `displot` (a figure-level function with\n",
            "similar flexibility) or `histplot` (an axes-level function for histograms).\n",
            "\n",
            "For a guide to updating your code to use the new functions, please see\n",
            "https://gist.github.com/mwaskom/de44147ed2974457ad6372750bbe5751\n",
            "\n",
            "  sns.distplot(generated, label='Generated Images', hist=True, color='#0c06c7', ax=axs)\n"
          ]
        },
        {
          "output_type": "display_data",
          "data": {
            "text/plain": [
              "<Figure size 1800x1000 with 1 Axes>"
            ],
            "image/png": "[encoded data removed]"
          },
          "metadata": {}
        }
      ],
      "source": [
        "import seaborn as sns\n",
        "fig, axs = plt.subplots(ncols=1, nrows=1, figsize=(18,10))\n",
        "\n",
        "source = src_image.reshape(1, -1)\n",
        "generated = tar_image.reshape(1, -1)\n",
        "\n",
        "sns.distplot(source, label='Real Images', hist=True, color='#fc0328', ax=axs)\n",
        "sns.distplot(generated, label='Generated Images', hist=True, color='#0c06c7', ax=axs)\n",
        "\n",
        "# sns.histplot(source, label='Real Images',  color='#fc0328', ax=axs)\n",
        "# sns.histplot(generated, label='Generated Images', color='#0c06c7', ax=axs)\n",
        "\n",
        "axs.legend(loc='upper right', prop={'size': 12})\n",
        "\n",
        "plt.show()\n",
        "\n"
      ]
    },
    {
      "cell_type": "code",
      "execution_count": null,
      "metadata": {
        "id": "QgNZeO-MEZa5"
      },
      "outputs": [],
      "source": [
        "from keras.applications import VGG16\n",
        "from keras.applications.inception_v3 import InceptionV3,preprocess_input\n",
        "from scipy.linalg import sqrtm"
      ]
    },
    {
      "cell_type": "code",
      "execution_count": null,
      "metadata": {
        "id": "6xcknsa8j66L",
        "colab": {
          "base_uri": "https://localhost:8080/"
        },
        "outputId": "e9c0e130-1306-4f48-8ce8-64ee80df5797"
      },
      "outputs": [
        {
          "output_type": "stream",
          "name": "stdout",
          "text": [
            "Downloading data from https://storage.googleapis.com/tensorflow/keras-applications/inception_v3/inception_v3_weights_tf_dim_ordering_tf_kernels_notop.h5\n",
            "87910968/87910968 [==============================] - 3s 0us/step\n",
            "9/9 [==============================] - 4s 191ms/step\n",
            "9/9 [==============================] - 0s 30ms/step\n",
            "FID score: 2.5497529210462694e+85\n"
          ]
        }
      ],
      "source": [
        "# prompt: Generate FID Score for the above code\n",
        "import tensorflow as tf\n",
        "import numpy as np\n",
        "from scipy import linalg\n",
        "from keras import backend as K\n",
        "\n",
        "def calculate_fid(model, images1, images2):\n",
        "  # Calculate the activations of the pool_3 layer for both sets of images\n",
        "  act1 = model.predict(images1)\n",
        "  act2 = model.predict(images2)\n",
        "\n",
        "  # Calculate the mean and covariance matrix for each set of activations\n",
        "  mu1, sigma1 = act1.mean(axis=0), np.cov(act1, rowvar=False)\n",
        "  mu2, sigma2 = act2.mean(axis=0), np.cov(act2, rowvar=False)\n",
        "\n",
        "  # Calculate the FID score\n",
        "  ssdiff = np.sum((mu1 - mu2)**2.0)\n",
        "  covmean = sqrtm(sigma1.dot(sigma2))\n",
        "  if np.iscomplexobj(covmean):\n",
        "    covmean = covmean.real\n",
        "  fid = ssdiff + np.trace(sigma1 + sigma2 - 2.0 * covmean)\n",
        "\n",
        "  return -1*fid\n",
        "\n",
        "# Load the InceptionV3 model\n",
        "inception_model = InceptionV3(include_top=False, pooling='avg', input_shape=(128, 128, 3))\n",
        "\n",
        "# Preprocess the images\n",
        "images1 = preprocess_input(lr_test)\n",
        "images2 = preprocess_input(hr_test)\n",
        "\n",
        "images1 = tf.image.resize(lr_test, size=(128, 128), method=tf.image.ResizeMethod.BILINEAR)\n",
        "images2 = tf.image.resize(hr_test, size=(128, 128), method=tf.image.ResizeMethod.BILINEAR)\n",
        "# Calculate the FID score\n",
        "fid = calculate_fid(inception_model, images1, images2)\n",
        "\n",
        "print(\"FID score:\", fid)\n"
      ]
    },
    {
      "cell_type": "code",
      "execution_count": null,
      "metadata": {
        "id": "qSTg8JdYlRlg",
        "colab": {
          "base_uri": "https://localhost:8080/"
        },
        "outputId": "12c1e4b3-a962-4144-bd0c-26f51abdfee3"
      },
      "outputs": [
        {
          "output_type": "stream",
          "name": "stdout",
          "text": [
            "9/9 [==============================] - 1s 31ms/step\n",
            "9/9 [==============================] - 1s 31ms/step\n",
            "(0.9999996291088828, 0.9999990513618038)\n"
          ]
        }
      ],
      "source": [
        "# prompt: Generate Inception Score for the lr_test and hr_test\n",
        "\n",
        "import numpy as np\n",
        "def calculate_inception_score(images, n_split=10):\n",
        "    # Load the InceptionV3 model\n",
        "    inception_model = InceptionV3(include_top=False, pooling='avg', input_shape=(128, 128, 3))\n",
        "\n",
        "    # Preprocess the images\n",
        "    images = preprocess_input(images)\n",
        "\n",
        "    # Calculate the activations of the pool_3 layer for the images\n",
        "    activations = inception_model.predict(images)\n",
        "\n",
        "    # Calculate the mean and covariance matrix for the activations\n",
        "    mu = np.mean(activations, axis=0)\n",
        "    sigma = np.cov(activations, rowvar=False)\n",
        "\n",
        "    # Calculate the KL divergence between the activations and a normal distribution\n",
        "    p_y = np.exp(np.random.multivariate_normal(mu, sigma, n_split))\n",
        "    kl_d = np.mean(np.log(p_y) - np.log(np.mean(p_y, axis=0)))\n",
        "\n",
        "    # Calculate the Inception Score\n",
        "    is_score = np.exp(kl_d)\n",
        "\n",
        "    return is_score\n",
        "\n",
        "# Calculate the Inception Score for the LR and HR images\n",
        "lr_is_score = calculate_inception_score(images1)\n",
        "hr_is_score = calculate_inception_score(images2)\n",
        "\n",
        "print((lr_is_score,hr_is_score))\n",
        "# print(\"HR Inception Score:\", hr_is_score)\n"
      ]
    }
  ],
  "metadata": {
    "accelerator": "GPU",
    "colab": {
      "gpuType": "T4",
      "provenance": []
    },
    "kernelspec": {
      "display_name": "Python 3",
      "name": "python3"
    },
    "language_info": {
      "name": "python"
    }
  },
  "nbformat": 4,
  "nbformat_minor": 0
}